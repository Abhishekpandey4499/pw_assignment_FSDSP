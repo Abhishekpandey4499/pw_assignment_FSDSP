{
 "cells": [
  {
   "cell_type": "markdown",
   "id": "d1577e74-9558-439b-a07a-bea36400e943",
   "metadata": {},
   "source": [
    "Assignment - 1: Oops"
   ]
  },
  {
   "cell_type": "code",
   "execution_count": null,
   "id": "9d544397-5fa9-4863-a9a8-177ed5cf0dab",
   "metadata": {},
   "outputs": [],
   "source": []
  },
  {
   "cell_type": "markdown",
   "id": "17d30d6c-4902-4927-b80d-007c7f4e1844",
   "metadata": {},
   "source": [
    "Problem 1: Bank Account Create a class representing a bank account with attributes like account number, account holder name, and balance. Implement methods to deposit and withdraw money from the account."
   ]
  },
  {
   "cell_type": "code",
   "execution_count": 4,
   "id": "b0c8fb81-9111-42b4-ae07-a1ed81b34cef",
   "metadata": {},
   "outputs": [
    {
     "name": "stdout",
     "output_type": "stream",
     "text": [
      "Balance after account creation :  0\n",
      "Balance after depositing money :  1000\n",
      "Balance after withdrawing money :  500\n"
     ]
    }
   ],
   "source": [
    "class BankAccount:\n",
    "    def __init__(self, account_number, account_holder, balance=0):\n",
    "        self.account_number = account_number\n",
    "        self.account_holder = account_holder\n",
    "        self.balance = balance\n",
    "\n",
    "    def deposit(self, amount):\n",
    "        self.balance += amount\n",
    "\n",
    "    def withdraw(self, amount):\n",
    "        if self.balance >= amount:\n",
    "            self.balance -= amount\n",
    "        else:\n",
    "            print(\"Insufficient balance\")\n",
    "# initialising account using constructor\n",
    "account = BankAccount(\"123456789\", \"PWSKILLS\")\n",
    "# display balance\n",
    "print(\"Balance after account creation : \" , account.balance)\n",
    "account.deposit(1000)\n",
    "# display balance\n",
    "print(\"Balance after depositing money : \" , account.balance)\n",
    "\n",
    "account.withdraw(500)\n",
    "# display balance\n",
    "print(\"Balance after withdrawing money : \" , account.balance)"
   ]
  },
  {
   "cell_type": "code",
   "execution_count": null,
   "id": "5f639da2-6df5-4c5d-a1da-0e47a7aa6e66",
   "metadata": {},
   "outputs": [],
   "source": []
  },
  {
   "cell_type": "code",
   "execution_count": null,
   "id": "7c25b839-7b05-43ad-afe5-0870ad46dee2",
   "metadata": {},
   "outputs": [],
   "source": []
  },
  {
   "cell_type": "markdown",
   "id": "d61d5b2d-19d0-4123-8479-8ff8274cdc89",
   "metadata": {},
   "source": [
    "Problem 2: Employee Management - Create a class representing an employee with attributes like employee ID, name, and salary. Implement methods to calculate the yearly bonus and display employee details."
   ]
  },
  {
   "cell_type": "code",
   "execution_count": 5,
   "id": "58b873da-7a0d-434d-9cc5-560792aee2e8",
   "metadata": {},
   "outputs": [
    {
     "name": "stdout",
     "output_type": "stream",
     "text": [
      "Employee ID: 1\n",
      "Name: PWSKILLS\n",
      "Salary: 10000\n",
      "Yearly Bonus: 1000.0\n"
     ]
    }
   ],
   "source": [
    "class Employee:\n",
    "    def __init__(self, employee_id, name, salary):\n",
    "        self.employee_id = employee_id\n",
    "        self.name = name\n",
    "        self.salary = salary\n",
    "\n",
    "    def calculate_bonus(self, bonus_percentage):\n",
    "        return (bonus_percentage / 100) * self.salary\n",
    "\n",
    "    def display_details(self):\n",
    "        print(f\"Employee ID: {self.employee_id}\")\n",
    "        print(f\"Name: {self.name}\")\n",
    "        print(f\"Salary: {self.salary}\")\n",
    "\n",
    "# initialising employee using constructor\n",
    "employee = Employee(1, \"PWSKILLS\", 10000)\n",
    "bonus = employee.calculate_bonus(10)\n",
    "employee.display_details()\n",
    "print(f\"Yearly Bonus: {bonus}\")"
   ]
  },
  {
   "cell_type": "code",
   "execution_count": null,
   "id": "8962057b-d02b-422c-9e88-0913e9fbe211",
   "metadata": {},
   "outputs": [],
   "source": []
  },
  {
   "cell_type": "code",
   "execution_count": null,
   "id": "d1c1888e-0b60-4291-b12e-9b53968fd9e8",
   "metadata": {},
   "outputs": [],
   "source": []
  },
  {
   "cell_type": "markdown",
   "id": "2bdcf305-d77b-4417-830b-dda01d7f570f",
   "metadata": {},
   "source": [
    "Problem 3: Vehicle Rental Create a class representing a vehicle rental system. Implement methods to rent a vehicle, return a vehicle, and display available vehicles."
   ]
  },
  {
   "cell_type": "code",
   "execution_count": 6,
   "id": "ba677251-7182-498a-8708-54256baab125",
   "metadata": {},
   "outputs": [
    {
     "name": "stdout",
     "output_type": "stream",
     "text": [
      "Available vehicles : \n",
      "Vehicle ID: 1, Model: BMW\n",
      "Vehicle ID: 2, Model: SUV\n",
      "\n",
      "Available vehicles after renting : \n",
      "Vehicle ID: 2, Model: SUV\n"
     ]
    }
   ],
   "source": [
    "# vehicle rental system class\n",
    "class VehicleRental:\n",
    "    def __init__(self):\n",
    "        self.available_vehicles = []\n",
    "\n",
    "    def rent_vehicle(self, vehicle):\n",
    "        self.available_vehicles.remove(vehicle)\n",
    "\n",
    "    def return_vehicle(self, vehicle):\n",
    "        self.available_vehicles.append(vehicle)\n",
    "\n",
    "    def display_available_vehicles(self):\n",
    "        for vehicle in self.available_vehicles:\n",
    "            print(vehicle)\n",
    "\n",
    "# Car details class\n",
    "class Vehicle:\n",
    "    def __init__(self, vehicle_id, model):\n",
    "        self.vehicle_id = vehicle_id\n",
    "        self.model = model\n",
    "\n",
    "    def __str__(self):\n",
    "        return f\"Vehicle ID: {self.vehicle_id}, Model: {self.model}\"\n",
    "\n",
    "# initialising system\n",
    "rental_system = VehicleRental()\n",
    "\n",
    "# defining vehicles \n",
    "car1 = Vehicle(1, \"BMW\")\n",
    "car2 = Vehicle(2, \"SUV\")\n",
    "\n",
    "# adding vehicles to available list in rental system\n",
    "rental_system.available_vehicles.extend([car1, car2])\n",
    "\n",
    "# display available vehicles\n",
    "print(\"Available vehicles : \")\n",
    "rental_system.display_available_vehicles()\n",
    "\n",
    "# rent a vehicle\n",
    "rental_system.rent_vehicle(car1)\n",
    "\n",
    "# display vailable vihicles\n",
    "print(\"\\nAvailable vehicles after renting : \")\n",
    "rental_system.display_available_vehicles()"
   ]
  },
  {
   "cell_type": "code",
   "execution_count": null,
   "id": "7fa73f27-ac9e-4a29-93c4-621576508dc6",
   "metadata": {},
   "outputs": [],
   "source": []
  },
  {
   "cell_type": "code",
   "execution_count": null,
   "id": "7fac400c-1f06-40dc-9da3-7c98b20b68a6",
   "metadata": {},
   "outputs": [],
   "source": []
  },
  {
   "cell_type": "markdown",
   "id": "ca35a2b0-6bc8-4bd9-a990-ab9ea6ec36d0",
   "metadata": {},
   "source": [
    "Problem 4: Library Catalog Create classes representing a library and a book. Implement methods to add books to the library, borrow books, and display available books."
   ]
  },
  {
   "cell_type": "code",
   "execution_count": 7,
   "id": "7ce6f10f-6beb-4fd4-9768-7346a84ebd88",
   "metadata": {},
   "outputs": [
    {
     "name": "stdout",
     "output_type": "stream",
     "text": [
      "Available books before borrowing :\n",
      "Title: Python , Author: abhishek\n",
      "Title: Data Science , Author: sudh\n",
      "\n",
      "Available books after borrowing :\n",
      "Title: Data Science , Author: sudh\n"
     ]
    }
   ],
   "source": [
    "# making librarry class\n",
    "class Library:\n",
    "    def __init__(self):\n",
    "        self.books = []\n",
    "\n",
    "    # method to add book to the list of books\n",
    "    def add_book(self, book):\n",
    "        self.books.append(book)\n",
    "\n",
    "    # method to borrow book i.e. removing from books list\n",
    "    def borrow_book(self, book):\n",
    "        if book in self.books:\n",
    "            self.books.remove(book)\n",
    "        else:\n",
    "            print(\"Book not available\")\n",
    "\n",
    "    # method to show available books to borrow\n",
    "    def display_available_books(self):\n",
    "        for book in self.books:\n",
    "            print(book)\n",
    "\n",
    "# making book class to have book details in object\n",
    "class Book:\n",
    "    def __init__(self, title, author):\n",
    "        self.title = title\n",
    "        self.author = author\n",
    "\n",
    "    def __str__(self):\n",
    "        return f\"Title: {self.title}, Author: {self.author}\"\n",
    "\n",
    "# initialising library using constructor\n",
    "library = Library()\n",
    "\n",
    "# initialising books using constructor\n",
    "book1 = Book(\"Python \", \"abhishek\")\n",
    "book2 = Book(\"Data Science \", \"sudh\")\n",
    "\n",
    "# adding books tot he list of books in library\n",
    "library.add_book(book1)\n",
    "library.add_book(book2)\n",
    "\n",
    "# display available books\n",
    "print(\"Available books before borrowing :\")\n",
    "library.display_available_books()\n",
    "\n",
    "# borrow a book\n",
    "library.borrow_book(book1)\n",
    "\n",
    "# display available books\n",
    "print(\"\\nAvailable books after borrowing :\")\n",
    "library.display_available_books()"
   ]
  },
  {
   "cell_type": "code",
   "execution_count": null,
   "id": "6b5b1b40-a5dc-40b8-bf9a-242c80cfbfab",
   "metadata": {},
   "outputs": [],
   "source": []
  },
  {
   "cell_type": "code",
   "execution_count": null,
   "id": "a74fa964-442a-4fd5-bfaf-30d5b327fa7c",
   "metadata": {},
   "outputs": [],
   "source": []
  },
  {
   "cell_type": "markdown",
   "id": "8615e61c-96e0-413b-8ed7-40e79ef13265",
   "metadata": {},
   "source": [
    "Problem 5: Product Inventory Create classes representing a product and an inventory system. Implement methods to add products to the inventory, update product quantity, and display available products."
   ]
  },
  {
   "cell_type": "code",
   "execution_count": 11,
   "id": "379bc802-ce6c-494d-b231-bb19d8cb89a0",
   "metadata": {},
   "outputs": [
    {
     "name": "stdout",
     "output_type": "stream",
     "text": [
      "Available products : \n",
      "Product: Name: TV, Price: 10000, Quantity: 15\n",
      "Product: Name: AC, Price: 40000, Quantity: 20\n",
      "\n",
      "Available products after updating quantity: \n",
      "Product: Name: TV, Price: 10000, Quantity: 5\n",
      "Product: Name: AC, Price: 40000, Quantity: 20\n"
     ]
    }
   ],
   "source": [
    "class Inventory:\n",
    "    def __init__(self):\n",
    "        self.products = {}\n",
    "\n",
    "    def add_product(self, product, quantity):\n",
    "        if product in self.products:\n",
    "            self.products[product] += quantity\n",
    "        else:\n",
    "            self.products[product] = quantity\n",
    "\n",
    "    def update_product_quantity(self, product, new_quantity):\n",
    "        if product in self.products:\n",
    "            self.products[product] = new_quantity\n",
    "        else:\n",
    "            print(\"Product not found\")\n",
    "\n",
    "    def display_available_products(self):\n",
    "        for product, quantity in self.products.items():\n",
    "            print(f\"Product: {product}, Quantity: {quantity}\")\n",
    "\n",
    "class Product:\n",
    "    def __init__(self, name, price):\n",
    "        self.name = name\n",
    "        self.price = price\n",
    "\n",
    "    def __str__(self):\n",
    "        return f\"Name: {self.name}, Price: {self.price}\"\n",
    "\n",
    "inventory = Inventory()\n",
    "product1 = Product(\"TV\", 10000)\n",
    "product2 = Product(\"AC\", 40000)\n",
    "\n",
    "inventory.add_product(product1, 15)\n",
    "inventory.add_product(product2, 20)\n",
    "\n",
    "# display available products\n",
    "print(\"Available products : \")\n",
    "\n",
    "inventory.display_available_products()\n",
    "\n",
    "inventory.update_product_quantity(product1, 5)\n",
    "\n",
    "# display available products\n",
    "print(\"\\nAvailable products after updating quantity: \")\n",
    "inventory.display_available_products()"
   ]
  },
  {
   "cell_type": "code",
   "execution_count": null,
   "id": "a7c34a1f-e02d-4bb3-a63a-793e790fa9b0",
   "metadata": {},
   "outputs": [],
   "source": []
  },
  {
   "cell_type": "code",
   "execution_count": null,
   "id": "dd8f7113-4038-4563-b8b4-6fb9735995a3",
   "metadata": {},
   "outputs": [],
   "source": []
  },
  {
   "cell_type": "markdown",
   "id": "87aba58c-266d-49b7-be93-1aea940eb7a1",
   "metadata": {},
   "source": [
    "Problem 6: Shape Calculation Create a class representing a shape with attributes like length, width, and height. Implement methods to calculate the area and perimeter of the shape."
   ]
  },
  {
   "cell_type": "code",
   "execution_count": 12,
   "id": "77461272-1e15-44e4-bf72-7eb09647bf7e",
   "metadata": {},
   "outputs": [
    {
     "name": "stdout",
     "output_type": "stream",
     "text": [
      "Rectangle Area: 40\n",
      "Rectangle Perimeter: 26\n",
      "\n",
      "Triangle Area: 24.0\n",
      "Triangle Perimeter: 24\n"
     ]
    }
   ],
   "source": [
    "class Shape:\n",
    "    def __init__(self, length, width, height):\n",
    "        self.length = length\n",
    "        self.width = width\n",
    "        self.height = height\n",
    "\n",
    "# using inheritence to extend the shape defination with area and perimeter\n",
    "class Rectangle(Shape):\n",
    "    def area(self):\n",
    "        return self.length * self.width\n",
    "    \n",
    "    def perimeter(self):\n",
    "        return 2 * (self.length + self.width)\n",
    "\n",
    "# using inheritence to extend the shape defination with area and perimeter\n",
    "class Triangle(Shape):\n",
    "    def area(self):\n",
    "        # Using Heron's formula to calculate the area of a triangle\n",
    "        s = (self.length + self.width + self.height) / 2\n",
    "        return (s * (s - self.length) * (s - self.width) * (s - self.height)) ** 0.5\n",
    "    \n",
    "    def perimeter(self):\n",
    "        return self.length + self.width + self.height\n",
    "\n",
    "rectangle = Rectangle(8, 5, 0)\n",
    "triangle = Triangle(6, 8, 10)\n",
    "\n",
    "print(\"Rectangle Area:\", rectangle.area())\n",
    "print(\"Rectangle Perimeter:\", rectangle.perimeter())\n",
    "print(\"\\nTriangle Area:\", triangle.area())\n",
    "print(\"Triangle Perimeter:\", triangle.perimeter())"
   ]
  },
  {
   "cell_type": "code",
   "execution_count": null,
   "id": "79df9edc-28b3-4644-b146-5340a0ed9e2b",
   "metadata": {},
   "outputs": [],
   "source": []
  },
  {
   "cell_type": "code",
   "execution_count": null,
   "id": "8f64b637-97b4-474b-89c5-30af2556e953",
   "metadata": {},
   "outputs": [],
   "source": []
  },
  {
   "cell_type": "markdown",
   "id": "11c25555-9f4f-48c0-b9bc-368542d9063f",
   "metadata": {},
   "source": [
    "Problem 7: Student Management - Create a class representing a student with attributes like student ID, name, and grades. Implement methods to calculate the average grade and display student details."
   ]
  },
  {
   "cell_type": "code",
   "execution_count": 13,
   "id": "3c6a98cf-1685-4713-9886-a4abf09f4cac",
   "metadata": {},
   "outputs": [
    {
     "name": "stdout",
     "output_type": "stream",
     "text": [
      "Student ID: 7\n",
      "Name: ABHISHEK\n",
      "Average Grade: 81.66666666666667\n"
     ]
    }
   ],
   "source": [
    "class Student:\n",
    "    def __init__(self, student_id, name, grades=[]):\n",
    "        self.student_id = student_id\n",
    "        self.name = name\n",
    "        self.grades = grades\n",
    "\n",
    "    def calculate_average_grade(self):\n",
    "        if len(self.grades) > 0:\n",
    "            return sum(self.grades) / len(self.grades)\n",
    "        else:\n",
    "            return 0\n",
    "\n",
    "    def display_details(self):\n",
    "        print(f\"Student ID: {self.student_id}\")\n",
    "        print(f\"Name: {self.name}\")\n",
    "        print(f\"Average Grade: {self.calculate_average_grade()}\")\n",
    "\n",
    "    def add_grade(self, grade):\n",
    "        self.grades.append(grade)\n",
    "\n",
    "# initialising student using constructor\n",
    "student = Student(7, \"ABHISHEK\")\n",
    "\n",
    "# adding grades \n",
    "student.add_grade(90)\n",
    "student.add_grade(85)\n",
    "student.add_grade(70)\n",
    "\n",
    "# display student details\n",
    "student.display_details()"
   ]
  },
  {
   "cell_type": "code",
   "execution_count": null,
   "id": "9cf821fd-bc8a-4a33-85a5-078b7c8a544a",
   "metadata": {},
   "outputs": [],
   "source": []
  },
  {
   "cell_type": "code",
   "execution_count": null,
   "id": "52dcb026-a00d-494c-915b-796a324125f0",
   "metadata": {},
   "outputs": [],
   "source": []
  },
  {
   "cell_type": "markdown",
   "id": "84cf0440-da94-489d-b827-c9c4ab885b92",
   "metadata": {},
   "source": [
    "Problem 8: Email Management - Create a class representing an email with attributes like sender, recipient, and subject. Implement methods to send an email and display email details."
   ]
  },
  {
   "cell_type": "code",
   "execution_count": 30,
   "id": "a3a2e969-47d8-410e-8bd6-2294e042b873",
   "metadata": {},
   "outputs": [
    {
     "name": "stdout",
     "output_type": "stream",
     "text": [
      "Email sent successfully!\n",
      "Email sent successfully!\n",
      "\n",
      "Your sent mails : \n",
      "\n",
      "Email 1:\n",
      "Sender: pwskills@gmail.com\n",
      "Recipient: akpandey@gmail.com\n",
      "Subject: Hello\n",
      "Message: This is an invitation mail for an online class.\n",
      "\n",
      "Email 2:\n",
      "Sender: sudh@gmail.com\n",
      "Recipient: abhishek@gmail.com\n",
      "Subject: Thank you\n",
      "Message: Class is over, you can leave now\n"
     ]
    }
   ],
   "source": [
    "class Email:\n",
    "    # sent mails list\n",
    "    sent_emails = []\n",
    "\n",
    "    def __init__(self, sender, recipient, subject, message):\n",
    "        self.sender = sender\n",
    "        self.recipient = recipient\n",
    "        self.subject = subject\n",
    "        self.message = message\n",
    "\n",
    "    # send email method, adding mail to sent items \n",
    "    def send_email(self):\n",
    "        Email.sent_emails.append(self)\n",
    "        print(\"Email sent successfully!\")\n",
    "\n",
    "    # method to display email\n",
    "    def display_details(self):\n",
    "        print(f\"Sender: {self.sender}\")\n",
    "        print(f\"Recipient: {self.recipient}\")\n",
    "        print(f\"Subject: {self.subject}\")\n",
    "        print(f\"Message: {self.message}\")\n",
    "\n",
    "    @classmethod\n",
    "    def get_sent_emails(cls):\n",
    "        return cls.sent_emails\n",
    "\n",
    "email1 = Email(\"pwskills@gmail.com\", \"akpandey@gmail.com\", \"Hello\", \"This is an invitation mail for an online class.\")\n",
    "email1.send_email()\n",
    "\n",
    "email2 = Email(\"sudh@gmail.com\", \"abhishek@gmail.com\", \"Thank you\", \"Class is over, you can leave now\")\n",
    "email2.send_email()\n",
    "\n",
    "sent_emails = Email.get_sent_emails()\n",
    "\n",
    "# display sent mails \n",
    "print(\"\\nYour sent mails : \")\n",
    "for index, email in enumerate(sent_emails, start=1):\n",
    "    print(f\"\\nEmail {index}:\")\n",
    "    email.display_details()"
   ]
  },
  {
   "cell_type": "code",
   "execution_count": null,
   "id": "2c4b5dcf-3d57-433b-83bd-f1f7063d724c",
   "metadata": {},
   "outputs": [],
   "source": []
  },
  {
   "cell_type": "code",
   "execution_count": null,
   "id": "975bd4a8-e8c6-4e8d-bcc2-f742ebd3fd78",
   "metadata": {},
   "outputs": [],
   "source": []
  },
  {
   "cell_type": "markdown",
   "id": "a544b864-3b67-42e6-9c53-b8457d7b1ac0",
   "metadata": {},
   "source": [
    "Problem 9: Social Media Profile - Create a class representing a social media profile with attributes like username and posts. Implement methods to add posts, display posts, and search for posts by keyword."
   ]
  },
  {
   "cell_type": "code",
   "execution_count": 33,
   "id": "7ee8a1d5-f28a-4719-bfc5-5a7816c4197c",
   "metadata": {},
   "outputs": [
    {
     "name": "stdout",
     "output_type": "stream",
     "text": [
      "\n",
      "Posts : \n",
      "Hello pwskills!\n",
      "data science\n",
      "by sudh sir\n",
      "\n",
      "Search Results for 'sudh'\n",
      "by sudh sir\n"
     ]
    }
   ],
   "source": [
    "class SocialMediaProfile:\n",
    "    def __init__(self, username, posts=[]):\n",
    "        self.username = username\n",
    "        self.posts = posts\n",
    "\n",
    "    def add_post(self, post):\n",
    "        self.posts.append(post)\n",
    "\n",
    "    def display_posts(self):\n",
    "        for post in self.posts:\n",
    "            print(post)\n",
    "\n",
    "    def search_posts(self, keyword):\n",
    "        matching_posts = [post for post in self.posts if keyword in post]\n",
    "        return matching_posts\n",
    "\n",
    "# example\n",
    "profile = SocialMediaProfile(\"user123\")\n",
    "\n",
    "profile.add_post(\"Hello pwskills!\")\n",
    "profile.add_post(\"data science\")\n",
    "profile.add_post(\"by sudh sir\")\n",
    "\n",
    "# display posts\n",
    "print(\"\\nPosts : \")\n",
    "profile.display_posts()\n",
    "\n",
    "# searching for post\n",
    "keyword = \"sudh\"\n",
    "results = profile.search_posts(keyword)\n",
    "\n",
    "print(f\"\\nSearch Results for '{keyword}'\")\n",
    "for result in results:\n",
    "    print(result)"
   ]
  },
  {
   "cell_type": "code",
   "execution_count": null,
   "id": "6abd04a9-0193-497d-af59-0bffa64ec57d",
   "metadata": {},
   "outputs": [],
   "source": []
  },
  {
   "cell_type": "code",
   "execution_count": null,
   "id": "d97d13ff-b3f6-46b7-92bc-dbea3c7e7c35",
   "metadata": {},
   "outputs": [],
   "source": []
  },
  {
   "cell_type": "markdown",
   "id": "6387ffb1-9f96-4d5b-b722-961f0a8f2d25",
   "metadata": {},
   "source": [
    "Problem 10: ToDo List - Create a class representing a ToDo list with attributes like tasks and due dates. Implement methods to add tasks, mark tasks as completed, and display pending tasks."
   ]
  },
  {
   "cell_type": "code",
   "execution_count": 37,
   "id": "08b8b89e-534a-4863-a0ea-d88bb6a1d813",
   "metadata": {},
   "outputs": [
    {
     "name": "stdout",
     "output_type": "stream",
     "text": [
      "Task: phython, Due Date: 2023-07-12\n",
      "Task: basic, Due Date: 2023-07-30\n",
      "Task: function, Due Date: 2023-08-06\n",
      "Task: test, Due Date: 2023-08-15\n",
      "Task: OOP, Due Date: 2023-06-12\n",
      "\n",
      "Pending tasks after completing one task\n",
      "Task: test, Due Date: 2023-08-15\n",
      "Task: OOP, Due Date: 2023-06-12\n"
     ]
    }
   ],
   "source": [
    "class ToDoList:\n",
    "    def __init__(self):\n",
    "        self.tasks = []\n",
    "\n",
    "    def add_task(self, task, due_date):\n",
    "        self.tasks.append({\"task\": task, \"due_date\": due_date, \"completed\": False})\n",
    "\n",
    "    def mark_task_as_completed(self, task):\n",
    "        for t in self.tasks:\n",
    "            if t[\"task\"] == task:\n",
    "                t[\"completed\"] = True\n",
    "\n",
    "    def display_pending_tasks(self):\n",
    "        pending_tasks = [task for task in self.tasks if not task[\"completed\"]]\n",
    "        for task in pending_tasks:\n",
    "            print(f\"Task: {task['task']}, Due Date: {task['due_date']}\")\n",
    "\n",
    "# example\n",
    "to_do_list = ToDoList()\n",
    "\n",
    "# adding todo tasks \n",
    "to_do_list.add_task(\"phython\", \"2023-07-12\")\n",
    "to_do_list.add_task(\"basic\", \"2023-07-30\")\n",
    "to_do_list.add_task(\"function\", \"2023-08-06\")\n",
    "to_do_list.add_task(\"test\", \"2023-08-15\")\n",
    "to_do_list.add_task(\"OOP\", \"2023-06-12\")\n",
    "\n",
    "# display the pending tasks\n",
    "to_do_list.display_pending_tasks()\n",
    "\n",
    "# marking task as completed\n",
    "to_do_list.mark_task_as_completed(\"phython\")\n",
    "to_do_list.mark_task_as_completed(\"basic\")\n",
    "to_do_list.mark_task_as_completed(\"function\")\n",
    "\n",
    "# display the pending tasks\n",
    "print(\"\\nPending tasks after completing one task\")\n",
    "to_do_list.display_pending_tasks()"
   ]
  },
  {
   "cell_type": "code",
   "execution_count": null,
   "id": "9f33760e-dbe1-47df-b440-f1ad36f10815",
   "metadata": {},
   "outputs": [],
   "source": []
  },
  {
   "cell_type": "code",
   "execution_count": null,
   "id": "baec5f4e-9725-48ce-9afe-d475d7cca469",
   "metadata": {},
   "outputs": [],
   "source": []
  }
 ],
 "metadata": {
  "kernelspec": {
   "display_name": "Python 3 (ipykernel)",
   "language": "python",
   "name": "python3"
  },
  "language_info": {
   "codemirror_mode": {
    "name": "ipython",
    "version": 3
   },
   "file_extension": ".py",
   "mimetype": "text/x-python",
   "name": "python",
   "nbconvert_exporter": "python",
   "pygments_lexer": "ipython3",
   "version": "3.10.8"
  }
 },
 "nbformat": 4,
 "nbformat_minor": 5
}
