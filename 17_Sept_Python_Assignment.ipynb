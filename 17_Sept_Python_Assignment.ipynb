{
 "cells": [
  {
   "cell_type": "markdown",
   "id": "e68640fa-ae35-4ddc-b81d-f96d278c9eca",
   "metadata": {},
   "source": [
    "Python assignment 17th Sept FSDS Pro"
   ]
  },
  {
   "cell_type": "code",
   "execution_count": null,
   "id": "eb123414-faf4-4b38-bff3-a792f14f4bcb",
   "metadata": {},
   "outputs": [],
   "source": []
  },
  {
   "cell_type": "markdown",
   "id": "4c944a2a-7457-4c06-8010-e4c14e4fec52",
   "metadata": {},
   "source": [
    "For Loop "
   ]
  },
  {
   "cell_type": "markdown",
   "id": "aeaff7de-5942-4bfa-b2b0-adc83c97630a",
   "metadata": {},
   "source": [
    "1. Write a Python program to print numbers from 1 to 10 using a for loop.\n"
   ]
  },
  {
   "cell_type": "code",
   "execution_count": null,
   "id": "5b6acf82-2960-4ae0-ad26-e37f1ce73937",
   "metadata": {},
   "outputs": [
    {
     "name": "stdout",
     "output_type": "stream",
     "text": [
      "1\n",
      "2\n",
      "3\n",
      "4\n",
      "5\n",
      "6\n",
      "7\n",
      "8\n",
      "9\n",
      "10\n"
     ]
    }
   ],
   "source": [
    "for i in range(0,10):\n",
    "    print(i+1)"
   ]
  },
  {
   "cell_type": "code",
   "execution_count": null,
   "id": "7539502c-7f08-4a7c-ac0c-3c333e36ed64",
   "metadata": {},
   "outputs": [],
   "source": []
  },
  {
   "cell_type": "markdown",
   "id": "23a12354-35d4-4a2b-a8e9-9f1348c7eb8c",
   "metadata": {},
   "source": [
    "2. Explain the difference between a for loop and a while loop in Python."
   ]
  },
  {
   "cell_type": "raw",
   "id": "f31f2583-4f1d-4b4b-bccd-377c373b12a0",
   "metadata": {},
   "source": [
    "Answer:\n",
    "For loop is used when the number of iterations is already known and it is used to iterate over a sequence of items.\n",
    "And while loop is used when the number of iterations is unknown and it is used to repeatedly execute a block of statements while a condition is true."
   ]
  },
  {
   "cell_type": "code",
   "execution_count": null,
   "id": "dc6c30b3-6b2d-436b-807c-2874d61202c9",
   "metadata": {},
   "outputs": [],
   "source": []
  },
  {
   "cell_type": "markdown",
   "id": "579467a9-7569-4097-8bcd-b74e781fd8c3",
   "metadata": {},
   "source": [
    "3. Write a Python program to calculate the sum of all numbers from 1 to 100 using a for loop."
   ]
  },
  {
   "cell_type": "code",
   "execution_count": 1,
   "id": "f4d4c5f5-0216-4e00-901c-055ca247501a",
   "metadata": {},
   "outputs": [
    {
     "name": "stdout",
     "output_type": "stream",
     "text": [
      "Answer is: 5050\n"
     ]
    }
   ],
   "source": [
    "#sample input\n",
    "s=0\n",
    "for i in range(1,101):\n",
    "    s+=i\n",
    "print(\"Answer is: \"+ str(s))"
   ]
  },
  {
   "cell_type": "code",
   "execution_count": null,
   "id": "a6070390-1413-4dbf-936a-3223db38ee6d",
   "metadata": {},
   "outputs": [],
   "source": []
  },
  {
   "cell_type": "markdown",
   "id": "02a94d11-c842-4012-afa3-9680a4f8f01a",
   "metadata": {},
   "source": [
    "4. How do you iterate through a list using a for loop in Python?"
   ]
  },
  {
   "cell_type": "code",
   "execution_count": 1,
   "id": "f4b92894-a993-4f6a-bf4a-ae502eb198ef",
   "metadata": {},
   "outputs": [
    {
     "name": "stdout",
     "output_type": "stream",
     "text": [
      "1\n",
      "2\n",
      "3\n",
      "4\n",
      "5\n"
     ]
    }
   ],
   "source": [
    "#sample list\n",
    "my_list = [1, 2, 3, 4, 5]\n",
    "\n",
    "for item in my_list:\n",
    "    print(item)"
   ]
  },
  {
   "cell_type": "code",
   "execution_count": null,
   "id": "f7b474ea-68cb-4bff-a560-4d8b1785c841",
   "metadata": {},
   "outputs": [],
   "source": []
  },
  {
   "cell_type": "markdown",
   "id": "9f8eebd6-c3ff-44fa-afb0-c8ddd8901fe0",
   "metadata": {},
   "source": [
    "5. Write a Python program to find the product of all elements in a list using a for loop."
   ]
  },
  {
   "cell_type": "code",
   "execution_count": 1,
   "id": "c0ae991b-026d-4383-999b-be1375d6c694",
   "metadata": {},
   "outputs": [
    {
     "name": "stdout",
     "output_type": "stream",
     "text": [
      "Product is: 224640\n"
     ]
    }
   ],
   "source": [
    "#sample input\n",
    "l1=[3,4,5,6,78,8]\n",
    "prod=1\n",
    "for a in l1:\n",
    "    prod*=a\n",
    "print(\"Product is: \"+ str(prod))    "
   ]
  },
  {
   "cell_type": "code",
   "execution_count": null,
   "id": "9c431152-6e0a-4ee4-8e7f-210eca36c80b",
   "metadata": {},
   "outputs": [],
   "source": []
  },
  {
   "cell_type": "markdown",
   "id": "f6114fff-7a47-4250-8d54-cd0606a1f548",
   "metadata": {},
   "source": [
    "6. Create a Python program that prints all even numbers from 1 to 20 using a for loop."
   ]
  },
  {
   "cell_type": "code",
   "execution_count": 2,
   "id": "ad2a667f-545c-464e-88cd-127ae41bb2d8",
   "metadata": {},
   "outputs": [
    {
     "name": "stdout",
     "output_type": "stream",
     "text": [
      "2\n",
      "4\n",
      "6\n",
      "8\n",
      "10\n",
      "12\n",
      "14\n",
      "16\n",
      "18\n",
      "20\n"
     ]
    }
   ],
   "source": [
    "for a in range(2, 21):\n",
    "    if a%2==0:\n",
    "        print(a)"
   ]
  },
  {
   "cell_type": "code",
   "execution_count": null,
   "id": "84780401-6a47-4b14-9e55-ba63b81426f0",
   "metadata": {},
   "outputs": [],
   "source": []
  },
  {
   "cell_type": "markdown",
   "id": "2a08fa29-e619-4f5c-a5a1-0a457999a9cb",
   "metadata": {},
   "source": [
    "7. Write a Python program that calculates the factorial of a number using a for loop."
   ]
  },
  {
   "cell_type": "code",
   "execution_count": 5,
   "id": "fc872173-e688-4968-bf78-4078fffe0a99",
   "metadata": {},
   "outputs": [
    {
     "name": "stdin",
     "output_type": "stream",
     "text": [
      " 5\n"
     ]
    },
    {
     "name": "stdout",
     "output_type": "stream",
     "text": [
      "Factorial is: 120\n"
     ]
    }
   ],
   "source": [
    "#taking input\n",
    "num=int(input())\n",
    "prod=1\n",
    "for a in range(2,num+1):\n",
    "    prod=prod*a\n",
    "print(\"Factorial is: \"+str(prod))"
   ]
  },
  {
   "cell_type": "code",
   "execution_count": null,
   "id": "f292f8a6-4b83-41a2-8c58-746cd88893bb",
   "metadata": {},
   "outputs": [],
   "source": []
  },
  {
   "cell_type": "markdown",
   "id": "af63bfe6-797f-4734-8689-0f5be84f7938",
   "metadata": {},
   "source": [
    "8. How can you iterate through the characters of a string using a for loop in Python?"
   ]
  },
  {
   "cell_type": "code",
   "execution_count": 2,
   "id": "c03c49e7-1ce0-4845-99f9-edef328f7edd",
   "metadata": {},
   "outputs": [
    {
     "name": "stdout",
     "output_type": "stream",
     "text": [
      "H\n",
      "e\n",
      "l\n",
      "l\n",
      "o\n"
     ]
    }
   ],
   "source": [
    "#sample input\n",
    "my_string = \"Hello\"\n",
    "\n",
    "for char in my_string:\n",
    "    print(char)"
   ]
  },
  {
   "cell_type": "code",
   "execution_count": null,
   "id": "aca2f8ba-a556-4d8c-9a93-60faf563021d",
   "metadata": {},
   "outputs": [],
   "source": []
  },
  {
   "cell_type": "markdown",
   "id": "0633a65a-f76e-4f57-b143-00ce41e7e741",
   "metadata": {},
   "source": [
    "9. Write a Python program to find the largest number in a list using a for loop."
   ]
  },
  {
   "cell_type": "code",
   "execution_count": 7,
   "id": "ec9b21bd-d3a5-4024-9690-8b5d22eb5631",
   "metadata": {},
   "outputs": [
    {
     "name": "stdout",
     "output_type": "stream",
     "text": [
      "largest is: 9\n"
     ]
    }
   ],
   "source": [
    "#sample list\n",
    "l1=[2,4,6,7,4,9,6,5,8,3]\n",
    "lar=l1[0]\n",
    "for a in l1:\n",
    "    if lar<a:\n",
    "        lar=a\n",
    "print(\"largest is: \"+ str(lar))    "
   ]
  },
  {
   "cell_type": "code",
   "execution_count": null,
   "id": "b682f134-9b3d-47e1-863a-310374302633",
   "metadata": {},
   "outputs": [],
   "source": []
  },
  {
   "cell_type": "markdown",
   "id": "03509d13-1f6b-48f1-b751-75874cb7cb6b",
   "metadata": {},
   "source": [
    "10. Create a Python program that prints the Fibonacci sequence up to a specified limit using a for loop."
   ]
  },
  {
   "cell_type": "code",
   "execution_count": 9,
   "id": "258f1bd9-e9db-4e58-9a30-e8f58a682ac9",
   "metadata": {},
   "outputs": [
    {
     "name": "stdin",
     "output_type": "stream",
     "text": [
      " 6\n"
     ]
    },
    {
     "name": "stdout",
     "output_type": "stream",
     "text": [
      "0\n",
      "1\n",
      "1\n",
      "2\n",
      "3\n",
      "5\n"
     ]
    }
   ],
   "source": [
    "#taking input\n",
    "limit=int(input())\n",
    "first=0\n",
    "second=1\n",
    "print(first)\n",
    "print(second)\n",
    "for x in range(2,limit):\n",
    "    third=first+second\n",
    "    print(third)\n",
    "    first,second=second,third"
   ]
  },
  {
   "cell_type": "code",
   "execution_count": null,
   "id": "0ac8b94a-2cef-4845-a72c-a6fd8a238ed0",
   "metadata": {},
   "outputs": [],
   "source": []
  },
  {
   "cell_type": "markdown",
   "id": "8a156cb3-a519-4e37-841b-ccd825bed312",
   "metadata": {},
   "source": [
    "11. Write a Python program to count the number of vowels in a given string using a for loop."
   ]
  },
  {
   "cell_type": "code",
   "execution_count": 1,
   "id": "6654e5ce-f585-4e61-a85e-39287a81bfb7",
   "metadata": {},
   "outputs": [
    {
     "name": "stdin",
     "output_type": "stream",
     "text": [
      " my name is\n"
     ]
    },
    {
     "name": "stdout",
     "output_type": "stream",
     "text": [
      "total vowels are:3\n"
     ]
    }
   ],
   "source": [
    "#taking input\n",
    "s=input()\n",
    "vowels=\"aeiouAEIOU\"\n",
    "count=0\n",
    "for char in s:\n",
    "    if char in vowels:\n",
    "        count+=1\n",
    "print(\"total vowels are:\"+ str(count))"
   ]
  },
  {
   "cell_type": "code",
   "execution_count": null,
   "id": "8dd1d26a-b58b-4048-8142-a3bcc5497e3e",
   "metadata": {},
   "outputs": [],
   "source": []
  },
  {
   "cell_type": "markdown",
   "id": "66fbf5ed-ba3f-4365-bb2c-8ff8e11b71b9",
   "metadata": {},
   "source": [
    "12. Create a Python program that generates a multiplication table for a given number using a for loop."
   ]
  },
  {
   "cell_type": "code",
   "execution_count": 4,
   "id": "bd3e2ede-a48b-4f5f-8f82-f4a267c0ca0a",
   "metadata": {},
   "outputs": [
    {
     "name": "stdin",
     "output_type": "stream",
     "text": [
      " 4\n"
     ]
    },
    {
     "name": "stdout",
     "output_type": "stream",
     "text": [
      "4 x 1 = 4\n",
      "4 x 2 = 8\n",
      "4 x 3 = 12\n",
      "4 x 4 = 16\n",
      "4 x 5 = 20\n",
      "4 x 6 = 24\n",
      "4 x 7 = 28\n",
      "4 x 8 = 32\n",
      "4 x 9 = 36\n",
      "4 x 10 = 40\n"
     ]
    }
   ],
   "source": [
    "#taking input\n",
    "num=int(input())\n",
    "for a in range(1,11):\n",
    "        res=num*a\n",
    "        print(f\"{num} x {a} = {res}\")\n"
   ]
  },
  {
   "cell_type": "code",
   "execution_count": null,
   "id": "3cfc405b-14f4-4141-a603-dd06c1631ccf",
   "metadata": {},
   "outputs": [],
   "source": []
  },
  {
   "cell_type": "markdown",
   "id": "f5fcd6db-6830-446f-b86d-a069190fcb16",
   "metadata": {},
   "source": [
    "13. Write a Python program to reverse a list using a for loop."
   ]
  },
  {
   "cell_type": "code",
   "execution_count": 6,
   "id": "78615a2a-8fb8-4e28-a7ac-b0280c8ff0b1",
   "metadata": {},
   "outputs": [
    {
     "name": "stdout",
     "output_type": "stream",
     "text": [
      "[9, 8, 7, 6, 5, 4, 3, 2, 1]\n"
     ]
    }
   ],
   "source": [
    "#sample list\n",
    "l1=[1,2,3,4,5,6,7,8,9]\n",
    "rev=[]\n",
    "for i in range(len(l1)):\n",
    "    rev.append(l1[len(l1)-i-1])\n",
    "print(rev)"
   ]
  },
  {
   "cell_type": "code",
   "execution_count": null,
   "id": "89aa4a69-00c9-423c-8d6b-185e54ff5a0a",
   "metadata": {},
   "outputs": [],
   "source": []
  },
  {
   "cell_type": "markdown",
   "id": "b4aa8969-09bf-4369-ad56-5466a814eeec",
   "metadata": {},
   "source": [
    "14. Write a Python program to find the common elements between two lists using a for loop."
   ]
  },
  {
   "cell_type": "code",
   "execution_count": 7,
   "id": "3a2e7c25-c923-4504-8751-6e1557ee13dd",
   "metadata": {},
   "outputs": [
    {
     "name": "stdout",
     "output_type": "stream",
     "text": [
      "[5, 6]\n"
     ]
    }
   ],
   "source": [
    "#sample list\n",
    "l1=[2,3,4,5,6]\n",
    "l2=[5,6,7,8,9]\n",
    "l=[]\n",
    "for i in l1:\n",
    "    for a in l2:\n",
    "        if a==i:\n",
    "            l.append(a)\n",
    "print(l)           "
   ]
  },
  {
   "cell_type": "code",
   "execution_count": null,
   "id": "6dd1321e-de0d-4f46-9642-30d3caf40867",
   "metadata": {},
   "outputs": [],
   "source": []
  },
  {
   "cell_type": "markdown",
   "id": "fe83275b-e4e9-4724-b8c8-dc3d64aabf1f",
   "metadata": {},
   "source": [
    "15. Explain how to use a for loop to iterate through the keys and values of a dictionary in Python."
   ]
  },
  {
   "cell_type": "code",
   "execution_count": 3,
   "id": "9fcba9a4-fc4b-475e-b305-6082e219deee",
   "metadata": {},
   "outputs": [
    {
     "name": "stdout",
     "output_type": "stream",
     "text": [
      "Key: course, Value: data science\n",
      "Key: fees, Value: 20000\n",
      "Key: platform, Value: pwskills\n"
     ]
    }
   ],
   "source": [
    "#sample input\n",
    "my_dict = {\"course\": \"data science\", \"fees\": 20000, \"platform\": \"pwskills\"}\n",
    "\n",
    "# Iterate through keys and values using a for loop\n",
    "for key, value in my_dict.items():\n",
    "    print(f\"Key: {key}, Value: {value}\")"
   ]
  },
  {
   "cell_type": "code",
   "execution_count": null,
   "id": "503f3679-b168-44cc-b01f-c6863487b5ee",
   "metadata": {},
   "outputs": [],
   "source": []
  },
  {
   "cell_type": "markdown",
   "id": "4a08251f-7b93-49ef-ad50-260bd9be643b",
   "metadata": {},
   "source": [
    "16. Write a Python program to find the GCD (Greatest Common Divisor) of two numbers using a for loop."
   ]
  },
  {
   "cell_type": "code",
   "execution_count": 8,
   "id": "f750e2a3-4ae3-4326-91ee-9268622041a8",
   "metadata": {},
   "outputs": [
    {
     "name": "stdin",
     "output_type": "stream",
     "text": [
      " 84\n",
      " 36\n"
     ]
    },
    {
     "name": "stdout",
     "output_type": "stream",
     "text": [
      "12\n"
     ]
    }
   ],
   "source": [
    "#taking input\n",
    "a=int(input())\n",
    "b=int(input())\n",
    "while b:\n",
    "    a, b = b, a % b\n",
    "print(a)"
   ]
  },
  {
   "cell_type": "code",
   "execution_count": null,
   "id": "9fc21b46-4f74-4204-b0ea-e9d110e31c56",
   "metadata": {},
   "outputs": [],
   "source": []
  },
  {
   "cell_type": "markdown",
   "id": "be76545a-c685-462b-a253-e17c8a958359",
   "metadata": {},
   "source": [
    "17. Create a Python program that checks if a string is a palindrome using a for loop"
   ]
  },
  {
   "cell_type": "code",
   "execution_count": 3,
   "id": "826f8100-b1c6-496a-9c60-a7c6f1ff634e",
   "metadata": {},
   "outputs": [
    {
     "name": "stdin",
     "output_type": "stream",
     "text": [
      " hello\n"
     ]
    },
    {
     "name": "stdout",
     "output_type": "stream",
     "text": [
      "Not Palindrome\n"
     ]
    }
   ],
   "source": [
    "#taking input\n",
    "s1=input()\n",
    "s2=s1[::-1]\n",
    "l=len(s1)\n",
    "c=0\n",
    "for i in range(0,l):\n",
    "    if s1[i]==s2[i]:\n",
    "        c+=1\n",
    "if l==c:\n",
    "    print(\"Palindrome\")\n",
    "else:\n",
    "    print(\"Not Palindrome\")"
   ]
  },
  {
   "cell_type": "code",
   "execution_count": null,
   "id": "1fea437c-fab7-463d-8a49-9506a5c1d6e6",
   "metadata": {},
   "outputs": [],
   "source": []
  },
  {
   "cell_type": "markdown",
   "id": "061a8eee-2567-4071-8216-45e3bfcb8bf5",
   "metadata": {},
   "source": [
    "18. Write a Python program to remove duplicates from a list using a for loop."
   ]
  },
  {
   "cell_type": "code",
   "execution_count": 4,
   "id": "051415ae-127f-4be3-8124-1803e643e6d5",
   "metadata": {},
   "outputs": [
    {
     "name": "stdout",
     "output_type": "stream",
     "text": [
      "[7, 8, 9, 0, 6, 54, 3, 4, 5]\n"
     ]
    }
   ],
   "source": [
    "#sample input\n",
    "l1=[7,8,9,0,8,7,6,0,54,3,4,4,5,5,5,5,8]\n",
    "l=[]\n",
    "for i in l1:\n",
    "    if i not in l:\n",
    "        l.append(i)\n",
    "print(l)"
   ]
  },
  {
   "cell_type": "code",
   "execution_count": null,
   "id": "0c416410-f29d-4833-a54d-4348f7c499b7",
   "metadata": {},
   "outputs": [],
   "source": []
  },
  {
   "cell_type": "markdown",
   "id": "3ccce7f3-b2fc-4580-b97a-3bcb61f389e4",
   "metadata": {},
   "source": [
    "19. Create a Python program that counts the number of words in a sentence using a for loop."
   ]
  },
  {
   "cell_type": "code",
   "execution_count": 7,
   "id": "19fd30fe-e6e6-41e2-8c41-cec21325b4f8",
   "metadata": {},
   "outputs": [
    {
     "name": "stdin",
     "output_type": "stream",
     "text": [
      " hllo my nam is\n"
     ]
    },
    {
     "name": "stdout",
     "output_type": "stream",
     "text": [
      "4\n"
     ]
    }
   ],
   "source": [
    "#taking input\n",
    "s=input()\n",
    "c=1\n",
    "for i in s:\n",
    "    if i==\" \":\n",
    "        c+=1\n",
    "print(c)"
   ]
  },
  {
   "cell_type": "code",
   "execution_count": null,
   "id": "fc2288a4-b5f0-4b1e-8095-6b1e35b38152",
   "metadata": {},
   "outputs": [],
   "source": []
  },
  {
   "cell_type": "markdown",
   "id": "54ade0b0-eac4-4553-abd5-cf5b6abd0219",
   "metadata": {},
   "source": [
    "20. Write a Python program to find the sum of all odd numbers from 1 to 50 using a for loop.\n"
   ]
  },
  {
   "cell_type": "code",
   "execution_count": 8,
   "id": "be9a0db8-a1b0-4644-8c2c-b7828bcfd8f7",
   "metadata": {},
   "outputs": [
    {
     "name": "stdout",
     "output_type": "stream",
     "text": [
      "625\n"
     ]
    }
   ],
   "source": [
    "#taking input\n",
    "s=0\n",
    "for i in range(1,51):\n",
    "    if i%2!=0:\n",
    "        s+=i\n",
    "print(s)"
   ]
  },
  {
   "cell_type": "code",
   "execution_count": null,
   "id": "0f9ea334-b5d2-459e-90df-a88f6ea32c68",
   "metadata": {},
   "outputs": [],
   "source": []
  },
  {
   "cell_type": "markdown",
   "id": "7852566f-197a-4a3b-9286-914286f02fa3",
   "metadata": {},
   "source": [
    "21. Write a Python program that checks if a given year is a leap year using a for loop."
   ]
  },
  {
   "cell_type": "code",
   "execution_count": 11,
   "id": "170cbc71-ebee-4260-92d3-b3c8d124dcc2",
   "metadata": {},
   "outputs": [
    {
     "name": "stdin",
     "output_type": "stream",
     "text": [
      " 2012\n"
     ]
    },
    {
     "name": "stdout",
     "output_type": "stream",
     "text": [
      "Leap year\n"
     ]
    }
   ],
   "source": [
    "#taking input\n",
    "year=int(input())\n",
    "if (year % 4 == 0 and year % 100 != 0) or (year % 400 == 0):\n",
    "    print(\"Leap year\")\n",
    "else:\n",
    "    print(\"Not Leap year\")"
   ]
  },
  {
   "cell_type": "code",
   "execution_count": null,
   "id": "3986830b-8852-4eab-9763-f7e446ddd008",
   "metadata": {},
   "outputs": [],
   "source": []
  },
  {
   "cell_type": "markdown",
   "id": "903d6ded-9f1b-45f9-a71c-6ab95008861c",
   "metadata": {},
   "source": [
    "22. \n",
    "Create a Python program that calculates the square root of a number using a for loop."
   ]
  },
  {
   "cell_type": "code",
   "execution_count": 5,
   "id": "29df6ced-861c-4057-9941-1f9358e72f8d",
   "metadata": {},
   "outputs": [
    {
     "name": "stdin",
     "output_type": "stream",
     "text": [
      " 36\n"
     ]
    },
    {
     "name": "stdout",
     "output_type": "stream",
     "text": [
      "Square root of 36 is approximately 6.0\n"
     ]
    }
   ],
   "source": [
    "#taking input\n",
    "number = int(input())\n",
    "# Initialize an approximation for the square root\n",
    "sqrt_approximation = number / 2.0\n",
    "# Specify the number of iterations for refining the approximation\n",
    "iterations = 10\n",
    "# Use a for loop to refine the square root approximation\n",
    "for _ in range(iterations):\n",
    "    sqrt_approximation = 0.5 * (sqrt_approximation + (number / sqrt_approximation))\n",
    "print(\"Square root of\", number, \"is approximately\", sqrt_approximation)"
   ]
  },
  {
   "cell_type": "code",
   "execution_count": null,
   "id": "96b62e10-242e-4bb0-8959-24546b27e95b",
   "metadata": {},
   "outputs": [],
   "source": []
  },
  {
   "cell_type": "markdown",
   "id": "a3786e0d-c5b1-415f-bad0-c02e811ab12c",
   "metadata": {},
   "source": [
    "23. Write a Python program to find the LCM (Least Common Multiple) of two numbers using a for loop."
   ]
  },
  {
   "cell_type": "code",
   "execution_count": 12,
   "id": "f2b34bf5-b9d4-48fe-a422-1f42ef8ab139",
   "metadata": {},
   "outputs": [
    {
     "name": "stdin",
     "output_type": "stream",
     "text": [
      " 4\n",
      " 5\n"
     ]
    },
    {
     "name": "stdout",
     "output_type": "stream",
     "text": [
      "20.0\n"
     ]
    }
   ],
   "source": [
    "#taking input\n",
    "x=int(input())\n",
    "y=int(input())\n",
    "if x > y:\n",
    "    x, y = y, x\n",
    "for i in range(1,x+1):\n",
    "    if x%i == 0 and y%i == 0:\n",
    "        gcd = i\n",
    "lcm = (x*y)/gcd\n",
    "print(lcm)"
   ]
  },
  {
   "cell_type": "code",
   "execution_count": null,
   "id": "a2cbdf37-4ebd-4936-8a49-eab1c070f759",
   "metadata": {},
   "outputs": [],
   "source": []
  },
  {
   "cell_type": "code",
   "execution_count": null,
   "id": "e39f6c50-60b9-4c37-9aa6-7bb3838c4a80",
   "metadata": {},
   "outputs": [],
   "source": []
  },
  {
   "cell_type": "markdown",
   "id": "69eb190d-717d-4437-88fd-57c3dc9b9071",
   "metadata": {},
   "source": [
    "If else :"
   ]
  },
  {
   "cell_type": "code",
   "execution_count": null,
   "id": "734ad15c-496b-40b6-acc8-acfe8fe8a9ee",
   "metadata": {},
   "outputs": [],
   "source": []
  },
  {
   "cell_type": "markdown",
   "id": "044b5926-7a14-4baa-90dc-26626d32cd95",
   "metadata": {},
   "source": [
    "1.Write a Python program to check if a number is positive, negative, or zero using an if-else statement."
   ]
  },
  {
   "cell_type": "code",
   "execution_count": 2,
   "id": "6e30a907-4a76-4cfa-85bc-5ca10972a88c",
   "metadata": {},
   "outputs": [
    {
     "name": "stdin",
     "output_type": "stream",
     "text": [
      " 45\n"
     ]
    },
    {
     "name": "stdout",
     "output_type": "stream",
     "text": [
      "positive\n"
     ]
    }
   ],
   "source": [
    "#taking input\n",
    "x=int(input())\n",
    "if x==0:\n",
    "    print(\"zero\")\n",
    "elif x>0:\n",
    "    print(\"positive\")\n",
    "else:\n",
    "    print(\"negative\")"
   ]
  },
  {
   "cell_type": "code",
   "execution_count": null,
   "id": "a7f1b729-5969-49d4-a6ef-59680391f3f1",
   "metadata": {},
   "outputs": [],
   "source": []
  },
  {
   "cell_type": "markdown",
   "id": "e920f5f9-8de9-4e61-b9cc-6e83f4aeee4f",
   "metadata": {},
   "source": [
    "2.Create a Python program that checks if a given number is even or odd using an if-else statement.\n"
   ]
  },
  {
   "cell_type": "code",
   "execution_count": 3,
   "id": "f77540ab-b879-4d1f-95f2-a8e874712215",
   "metadata": {},
   "outputs": [
    {
     "name": "stdin",
     "output_type": "stream",
     "text": [
      " 467\n"
     ]
    },
    {
     "name": "stdout",
     "output_type": "stream",
     "text": [
      "odd\n"
     ]
    }
   ],
   "source": [
    "#taking input\n",
    "x=int(input())\n",
    "if x%2==0:\n",
    "    print(\"even\")\n",
    "else:\n",
    "    print(\"odd\")"
   ]
  },
  {
   "cell_type": "code",
   "execution_count": null,
   "id": "477f76fd-9b79-4303-8dea-056b2c157bcd",
   "metadata": {},
   "outputs": [],
   "source": []
  },
  {
   "cell_type": "markdown",
   "id": "eb3ab531-5665-47bd-912e-ebb10d585160",
   "metadata": {},
   "source": [
    "3. How can you use nested if-else statements in Python, and provide an example?\n"
   ]
  },
  {
   "cell_type": "markdown",
   "id": "e5e00462-2d03-4349-a089-f3645279bf4b",
   "metadata": {},
   "source": [
    "Nested if-else statements in Python involve using one if-else statement inside another. This allows for more complex decision-making based on multiple conditions.\n",
    "Example:\n",
    "      We use nested if-else statements to check the score against multiple ranges and assign the appropriate grade."
   ]
  },
  {
   "cell_type": "code",
   "execution_count": 6,
   "id": "8b9a88a4-7a15-4070-a4b1-7f825507da59",
   "metadata": {},
   "outputs": [
    {
     "name": "stdout",
     "output_type": "stream",
     "text": [
      "B\n"
     ]
    }
   ],
   "source": [
    "#Example\n",
    "#sample input\n",
    "score = 87\n",
    "if score >= 90:\n",
    "    grade = 'A'\n",
    "else:\n",
    "    if score >= 80:\n",
    "        grade = 'B'\n",
    "    else:\n",
    "        if score >= 70:\n",
    "            grade = 'C'\n",
    "        else:\n",
    "            grade = 'D'\n",
    "print(grade)"
   ]
  },
  {
   "cell_type": "code",
   "execution_count": null,
   "id": "7d84c120-91d4-4df2-a659-114bd17792e7",
   "metadata": {},
   "outputs": [],
   "source": []
  },
  {
   "cell_type": "markdown",
   "id": "aa5e3f9d-a4dc-4f53-951a-5d1a9a14bb19",
   "metadata": {},
   "source": [
    "4. Write a Python program to determine the largest of three numbers using if-else.\n"
   ]
  },
  {
   "cell_type": "code",
   "execution_count": 1,
   "id": "6fbb8566-bc34-4f45-9324-c4fc7ebb9d3e",
   "metadata": {},
   "outputs": [
    {
     "name": "stdin",
     "output_type": "stream",
     "text": [
      " 4\n",
      " 5\n",
      " 6\n"
     ]
    },
    {
     "name": "stdout",
     "output_type": "stream",
     "text": [
      "6 is greater\n"
     ]
    }
   ],
   "source": [
    "#taking input\n",
    "x=int(input())\n",
    "y=int(input())\n",
    "z=int(input())\n",
    "if x>y:\n",
    "    if x>z:\n",
    "        print(f\"{x} is greater\")\n",
    "    else:\n",
    "        print(f\"{z} is greater\")\n",
    "else:\n",
    "    if y>z:\n",
    "        print(f\"{y} is greater\")\n",
    "    else:\n",
    "        print(f\"{z} is greater\")"
   ]
  },
  {
   "cell_type": "code",
   "execution_count": null,
   "id": "a46e70a1-021d-451c-ad27-fa9582f480e8",
   "metadata": {},
   "outputs": [],
   "source": []
  },
  {
   "cell_type": "markdown",
   "id": "bfb3c6c9-205b-4776-966b-8f879d9a3f2c",
   "metadata": {},
   "source": [
    "5.Write a Python program that calculates the absolute value of a number using if-else."
   ]
  },
  {
   "cell_type": "code",
   "execution_count": 3,
   "id": "a243e7f4-664b-4b7d-b194-7a94b08bd72a",
   "metadata": {},
   "outputs": [
    {
     "name": "stdin",
     "output_type": "stream",
     "text": [
      " -8\n"
     ]
    },
    {
     "name": "stdout",
     "output_type": "stream",
     "text": [
      "8\n"
     ]
    }
   ],
   "source": [
    "#taking input\n",
    "num=int(input())\n",
    "if num>=0:\n",
    "    print(num)\n",
    "else:\n",
    "    num*=-1\n",
    "    print(num)"
   ]
  },
  {
   "cell_type": "code",
   "execution_count": null,
   "id": "67d39de5-4bc4-4999-87bd-27949d3d33c7",
   "metadata": {},
   "outputs": [],
   "source": []
  },
  {
   "cell_type": "markdown",
   "id": "f3133c29-c392-4ea1-8d69-bd7a3ba43b36",
   "metadata": {},
   "source": [
    "6.Create a Python program that checks if a given character is a vowel or consonant using if-else.\n"
   ]
  },
  {
   "cell_type": "code",
   "execution_count": 5,
   "id": "4407e184-1701-4531-8546-00277ee67d3b",
   "metadata": {},
   "outputs": [
    {
     "name": "stdin",
     "output_type": "stream",
     "text": [
      " t\n"
     ]
    },
    {
     "name": "stdout",
     "output_type": "stream",
     "text": [
      "constant\n"
     ]
    }
   ],
   "source": [
    "#taking input\n",
    "i=input()\n",
    "if i == 'a' or i == 'e' or i == 'i' or i == 'o' or i == 'u':\n",
    "    print(\"vowel\")\n",
    "else:\n",
    "    print(\"constant\")"
   ]
  },
  {
   "cell_type": "code",
   "execution_count": null,
   "id": "4040af14-24a1-4c3e-b335-0c5cdae5810f",
   "metadata": {},
   "outputs": [],
   "source": []
  },
  {
   "cell_type": "markdown",
   "id": "47609a14-0a1b-45c5-bc9e-e511c5523d63",
   "metadata": {},
   "source": [
    "7.Write a Python program to determine if a user is eligible to vote based on their age using if-else.\n"
   ]
  },
  {
   "cell_type": "code",
   "execution_count": 6,
   "id": "50ba4448-6996-40bb-b2da-f3f312e623c6",
   "metadata": {},
   "outputs": [
    {
     "name": "stdin",
     "output_type": "stream",
     "text": [
      " 45\n"
     ]
    },
    {
     "name": "stdout",
     "output_type": "stream",
     "text": [
      "eligible to vote\n"
     ]
    }
   ],
   "source": [
    "#taking input\n",
    "x=int(input())\n",
    "if x>=18:\n",
    "    print(\"eligible to vote\")\n",
    "else:\n",
    "    print(\"not eligible to vote\")"
   ]
  },
  {
   "cell_type": "code",
   "execution_count": null,
   "id": "110253f5-4e99-4ed8-b483-873d28a22afb",
   "metadata": {},
   "outputs": [],
   "source": []
  },
  {
   "cell_type": "markdown",
   "id": "fcff5082-4e5c-4e65-8819-45ed857016bd",
   "metadata": {},
   "source": [
    "8.Create a Python program that calculates the discount amount based on the purchase amount using if-else."
   ]
  },
  {
   "cell_type": "code",
   "execution_count": 7,
   "id": "86aa2fcc-317e-4a5d-a1c3-2c94420eadfb",
   "metadata": {},
   "outputs": [
    {
     "name": "stdin",
     "output_type": "stream",
     "text": [
      " 60000\n"
     ]
    },
    {
     "name": "stdout",
     "output_type": "stream",
     "text": [
      "The discounted price is: 42000.0\n"
     ]
    }
   ],
   "source": [
    "#taking input\n",
    "amt=float(input())\n",
    "# Calculate the discounted price based on different purchase amounts using elif statements\n",
    "if amt>=50000:\n",
    "    discount= 0.30  #30% discount for purchases of 50000 or more\n",
    "elif amt>= 30000:\n",
    "    discount= 0.15  #15% discount for purchases between 30000 and 50000\n",
    "elif amt>=10000:\n",
    "    discount= 0.05   #15% discount for purchases between 10000 and 30000\n",
    "else:\n",
    "    discount=0.0   # No discount for purchases less than 10000\n",
    "# Calculate the discounted price\n",
    "d_price= amt*discount\n",
    "price=amt-d_price\n",
    "# Print result\n",
    "print(\"The discounted price is: \"+str(price))"
   ]
  },
  {
   "cell_type": "code",
   "execution_count": null,
   "id": "d441830d-5559-4253-93c6-17762539dd80",
   "metadata": {},
   "outputs": [],
   "source": []
  },
  {
   "cell_type": "markdown",
   "id": "1629a16d-ea60-4c89-8332-6ff61e7ef314",
   "metadata": {},
   "source": [
    "9.Write a Python program to check if a number is within a specified range using if-else.\n"
   ]
  },
  {
   "cell_type": "code",
   "execution_count": 8,
   "id": "3369de5e-134d-46c6-b231-e16518d75cb2",
   "metadata": {},
   "outputs": [
    {
     "name": "stdin",
     "output_type": "stream",
     "text": [
      " 34\n",
      " 67\n",
      " 55\n"
     ]
    },
    {
     "name": "stdout",
     "output_type": "stream",
     "text": [
      "True\n"
     ]
    }
   ],
   "source": [
    "#taking input\n",
    "lower_limit=int(input())\n",
    "upper_limit=int(input())\n",
    "num=int(input())\n",
    "if num>=lower_limit and num<=upper_limit:\n",
    "    print(\"True\")\n",
    "else:\n",
    "    print(\"False\")"
   ]
  },
  {
   "cell_type": "code",
   "execution_count": null,
   "id": "d34ea6bc-e67e-472e-8011-bb0a80fe95af",
   "metadata": {},
   "outputs": [],
   "source": []
  },
  {
   "cell_type": "markdown",
   "id": "61d04278-a32d-4659-beb8-bae86d5d3da1",
   "metadata": {},
   "source": [
    "10.Create a Python program that determines the grade of a student based on their score using if-else"
   ]
  },
  {
   "cell_type": "code",
   "execution_count": 9,
   "id": "6dac6794-e05d-48cf-8e20-b1c6f69fd61e",
   "metadata": {},
   "outputs": [
    {
     "name": "stdin",
     "output_type": "stream",
     "text": [
      " 87\n"
     ]
    },
    {
     "name": "stdout",
     "output_type": "stream",
     "text": [
      "B\n"
     ]
    }
   ],
   "source": [
    "#taking input\n",
    "score=int(input())\n",
    "if score >= 90:\n",
    "    grade = 'A'\n",
    "else:\n",
    "    if score >= 80:\n",
    "        grade = 'B'\n",
    "    else:\n",
    "        if score >= 70:\n",
    "            grade = 'C'\n",
    "        else:\n",
    "            grade = 'D'\n",
    "print(grade)"
   ]
  },
  {
   "cell_type": "code",
   "execution_count": null,
   "id": "a623b88c-9556-4126-9a35-a044045b5b78",
   "metadata": {},
   "outputs": [],
   "source": []
  },
  {
   "cell_type": "markdown",
   "id": "c9430085-2a9e-412c-9f61-eb63c66f08c5",
   "metadata": {},
   "source": [
    "11.Write a Python program to check if a string is empty or not using if-else.\n"
   ]
  },
  {
   "cell_type": "code",
   "execution_count": 10,
   "id": "590667b8-7eae-412c-976e-aed1b2d65a3a",
   "metadata": {},
   "outputs": [
    {
     "name": "stdin",
     "output_type": "stream",
     "text": [
      " \n"
     ]
    },
    {
     "name": "stdout",
     "output_type": "stream",
     "text": [
      "s1 is empty.\n"
     ]
    }
   ],
   "source": [
    "#taking input\n",
    "s1=input()\n",
    "if not s1:\n",
    "    print(\"s1 is empty.\")\n",
    "else:\n",
    "    print(\"s1 is not empty.\")"
   ]
  },
  {
   "cell_type": "code",
   "execution_count": null,
   "id": "fd477525-9b63-48e0-9507-dab73b4f3e33",
   "metadata": {},
   "outputs": [],
   "source": []
  },
  {
   "cell_type": "markdown",
   "id": "308a2101-c3b1-4fc0-b49f-2ce11dbc41da",
   "metadata": {},
   "source": [
    "12.Create a Python program that identifies the type of a triangle (e.g., equilateral, isosceles, or scalene) based on input values using if-else.\n"
   ]
  },
  {
   "cell_type": "code",
   "execution_count": 11,
   "id": "c99da05a-6087-4dc6-8721-3281ae0fbc90",
   "metadata": {},
   "outputs": [
    {
     "name": "stdin",
     "output_type": "stream",
     "text": [
      "Enter the length of side 1:  6\n",
      "Enter the length of side 2:  7\n",
      "Enter the length of side 3:  7\n"
     ]
    },
    {
     "name": "stdout",
     "output_type": "stream",
     "text": [
      "isosceles triangle\n"
     ]
    }
   ],
   "source": [
    "#taking input\n",
    "s1 = float(input(\"Enter the length of side 1: \"))\n",
    "s2 = float(input(\"Enter the length of side 2: \"))\n",
    "s3 = float(input(\"Enter the length of side 3: \"))\n",
    "# Check the type of triangle based on side lengths\n",
    "if s1==s2==s3:\n",
    "    t= \"equilateral triangle\"\n",
    "elif s1**2==s2**2+s3**2 or s2**2==s1**2+s3**2 or s3**2==s1**2+s2**2:\n",
    "    t=\"right triangle\"\n",
    "elif s1==s2 or s2==s3 or s1==s3:\n",
    "    t= \"isosceles triangle\"\n",
    "else:\n",
    "    t=\"scalene triangle\"\n",
    "print(t)"
   ]
  },
  {
   "cell_type": "code",
   "execution_count": null,
   "id": "08910417-c7e0-4b5b-8042-3103992fd96e",
   "metadata": {},
   "outputs": [],
   "source": []
  },
  {
   "cell_type": "markdown",
   "id": "ca7e036f-016e-4c0b-b4cc-e0cf8c5c12cc",
   "metadata": {},
   "source": [
    "13.Write a Python program to determine the day of the week based on a user-provided number using if-else."
   ]
  },
  {
   "cell_type": "code",
   "execution_count": 12,
   "id": "37db0473-ee80-4061-92f3-2af7daf9c9f2",
   "metadata": {},
   "outputs": [
    {
     "name": "stdin",
     "output_type": "stream",
     "text": [
      " 6\n"
     ]
    },
    {
     "name": "stdout",
     "output_type": "stream",
     "text": [
      "Saturday\n"
     ]
    }
   ],
   "source": [
    "#taking input\n",
    "x=int(input())\n",
    "l1=[\"Monday\", \"Tuesday\", \"Wednesday\", \"Thursday\", \"Friday\", \"Saturday\", \"Sunday\"]\n",
    "if 1<= x <=7:\n",
    "    print(l1[x-1])\n",
    "else:\n",
    "    print(\"invalid number\")"
   ]
  },
  {
   "cell_type": "code",
   "execution_count": null,
   "id": "47444004-3569-473b-b41d-b970e23ebb0a",
   "metadata": {},
   "outputs": [],
   "source": []
  },
  {
   "cell_type": "markdown",
   "id": "43ae6e24-fa7d-4e41-a6cd-74d4bb10c471",
   "metadata": {},
   "source": [
    "14.Create a Python program that checks if a given year is a leap year using both if-else and a function."
   ]
  },
  {
   "cell_type": "code",
   "execution_count": 13,
   "id": "5200d9cc-5b10-4762-82dc-4dda42d6d80d",
   "metadata": {},
   "outputs": [
    {
     "name": "stdin",
     "output_type": "stream",
     "text": [
      " 2020\n"
     ]
    },
    {
     "name": "stdout",
     "output_type": "stream",
     "text": [
      "Given Year is a leap Year\n"
     ]
    }
   ],
   "source": [
    "#taking input\n",
    "x=int(input())\n",
    "if((x % 400 == 0) or (x % 100 != 0) and (x % 4 == 0)):\n",
    "    print(\"Given Year is a leap Year\")  \n",
    "else:  \n",
    "    print (\"Given Year is not a leap Year\") "
   ]
  },
  {
   "cell_type": "code",
   "execution_count": null,
   "id": "477927c2-c4b9-40d7-a650-2a092b6ef0e6",
   "metadata": {},
   "outputs": [],
   "source": []
  },
  {
   "cell_type": "markdown",
   "id": "b8ec6d2f-efcc-4bce-8180-1e96b8d4ffcc",
   "metadata": {},
   "source": [
    "15.How do you use the \"assert\" statement in Python to add debugging checks within if-else blocks?\n"
   ]
  },
  {
   "cell_type": "code",
   "execution_count": 6,
   "id": "6289ddd8-226b-438b-a13e-df5cb1cdcae2",
   "metadata": {},
   "outputs": [
    {
     "name": "stdin",
     "output_type": "stream",
     "text": [
      "Enter a number:  56\n"
     ]
    },
    {
     "name": "stdout",
     "output_type": "stream",
     "text": [
      "You entered a positive number: 56\n"
     ]
    }
   ],
   "source": [
    "#taking input\n",
    "number = int(input(\"Enter a number: \"))\n",
    "# Ensure that the number is positive\n",
    "assert number >= 0, \"Number must be positive.\"\n",
    "# If the assertion passes, continue with the program\n",
    "print(\"You entered a positive number:\", number)"
   ]
  },
  {
   "cell_type": "code",
   "execution_count": null,
   "id": "9d16e277-e92e-4310-9f30-67949975120c",
   "metadata": {},
   "outputs": [],
   "source": []
  },
  {
   "cell_type": "markdown",
   "id": "a9b9e2bf-3103-457a-9fe9-c4c2f0cc4cf1",
   "metadata": {},
   "source": [
    "16.Create a Python program that determines the eligibility of a person for a senior citizen discount based on age using if-else."
   ]
  },
  {
   "cell_type": "code",
   "execution_count": 1,
   "id": "27c15c76-d364-4157-a0a4-a19e5c510aa2",
   "metadata": {},
   "outputs": [
    {
     "name": "stdin",
     "output_type": "stream",
     "text": [
      " 45\n"
     ]
    },
    {
     "name": "stdout",
     "output_type": "stream",
     "text": [
      "Not eligible\n"
     ]
    }
   ],
   "source": [
    "#taking input\n",
    "age=int(input())\n",
    "if age>=60:\n",
    "    print(\"eligible\")\n",
    "else:\n",
    "    print(\"Not eligible\")"
   ]
  },
  {
   "cell_type": "code",
   "execution_count": null,
   "id": "0e950ec8-4b33-4d9f-a6bd-1050c7664372",
   "metadata": {},
   "outputs": [],
   "source": []
  },
  {
   "cell_type": "markdown",
   "id": "8f05d53b-379b-434f-a109-282a6b7b4134",
   "metadata": {},
   "source": [
    "17.Write a Python program to categorize a given character as uppercase, lowercase, or neither using if-else."
   ]
  },
  {
   "cell_type": "code",
   "execution_count": 3,
   "id": "1d909d2b-55f0-46e6-8dea-db7a17a22330",
   "metadata": {},
   "outputs": [
    {
     "name": "stdin",
     "output_type": "stream",
     "text": [
      " A\n"
     ]
    },
    {
     "name": "stdout",
     "output_type": "stream",
     "text": [
      "A is an uppercase letter.\n"
     ]
    }
   ],
   "source": [
    "#taking input\n",
    "s1=input()\n",
    "if s1.islower():\n",
    "    print(f\"{s1} is a lowercase letter.\")\n",
    "elif s1.isupper():\n",
    "    print(f\"{s1} is an uppercase letter.\")\n",
    "else:\n",
    "    print(f\"{s1} is neither lowercase nor lowercase.\")"
   ]
  },
  {
   "cell_type": "code",
   "execution_count": null,
   "id": "f93942dc-d0fd-42cc-a594-7f9473309f18",
   "metadata": {},
   "outputs": [],
   "source": []
  },
  {
   "cell_type": "markdown",
   "id": "67cfde9d-2a91-43a0-b0a9-4fa0d1ffde9a",
   "metadata": {},
   "source": [
    "18.Write a Python program to determine the roots of a quadratic equation using if-else.\n"
   ]
  },
  {
   "cell_type": "code",
   "execution_count": 4,
   "id": "01cca0be-0e98-41a8-a445-4ccfaf138dbf",
   "metadata": {},
   "outputs": [
    {
     "name": "stdin",
     "output_type": "stream",
     "text": [
      "Enter coefficient a:  8\n",
      "Enter coefficient b:  5\n",
      "Enter coefficient c:  9\n"
     ]
    },
    {
     "name": "stdout",
     "output_type": "stream",
     "text": [
      "The roots are complex: -0.3125 + 1.0135796712641785i and -0.3125 - 1.0135796712641785i\n"
     ]
    }
   ],
   "source": [
    "import math\n",
    "#Input coefficients a,b,c\n",
    "a = float(input(\"Enter coefficient a: \"))\n",
    "b = float(input(\"Enter coefficient b: \"))\n",
    "c = float(input(\"Enter coefficient c: \"))\n",
    "# Calculate the discriminant\n",
    "dis= b**2 - 4*a*c\n",
    "# Check the discriminant to determine the type and number of roots\n",
    "if dis> 0:\n",
    "    # Two real and distinct roots\n",
    "    r1 = (-b + math.sqrt(dis)) / (2*a)\n",
    "    r2 = (-b - math.sqrt(dis)) / (2*a)\n",
    "    print(f\"The roots are real and distinct: {r1} and {r2}\")\n",
    "elif dis== 0:\n",
    "    # One real root (repeated)\n",
    "    r3= -b / (2*a)\n",
    "    print(f\"The root is real and repeated: {r3}\")\n",
    "else:\n",
    "    # Complex roots\n",
    "    realpart = -b / (2*a)\n",
    "    imag_part = math.sqrt(abs(dis)) / (2*a)\n",
    "    print(f\"The roots are complex: {realpart} + {imag_part}i and {realpart} - {imag_part}i\")"
   ]
  },
  {
   "cell_type": "code",
   "execution_count": null,
   "id": "c44d3de9-58e2-4d67-b849-a27f88101f0a",
   "metadata": {},
   "outputs": [],
   "source": []
  },
  {
   "cell_type": "markdown",
   "id": "7450f825-b7f9-4f15-9a5c-63e4532fd28c",
   "metadata": {},
   "source": [
    "19.Create a Python program that checks if a given year is a century year or not using if-else.\n"
   ]
  },
  {
   "cell_type": "code",
   "execution_count": 5,
   "id": "8459e357-b145-44da-952d-06741ab6fa58",
   "metadata": {},
   "outputs": [
    {
     "name": "stdin",
     "output_type": "stream",
     "text": [
      " 3000\n"
     ]
    },
    {
     "name": "stdout",
     "output_type": "stream",
     "text": [
      "3000 is a century year\n"
     ]
    }
   ],
   "source": [
    "#taking input\n",
    "year=int(input())\n",
    "if year % 100 == 0:\n",
    "    print(f\"{year} is a century year\")\n",
    "else:\n",
    "    print(f\"{year} is not a century year\")"
   ]
  },
  {
   "cell_type": "code",
   "execution_count": null,
   "id": "f5311087-ce3d-43c8-80ee-dac7fe6f5e55",
   "metadata": {},
   "outputs": [],
   "source": []
  },
  {
   "cell_type": "markdown",
   "id": "87e7ed55-2565-409a-9f57-390f5586c05b",
   "metadata": {},
   "source": [
    "20.Write a Python program to determine if a given number is a perfect square using if-else.\n"
   ]
  },
  {
   "cell_type": "code",
   "execution_count": 6,
   "id": "d60df73c-cd36-49f3-a831-cdc2c892d41e",
   "metadata": {},
   "outputs": [
    {
     "name": "stdin",
     "output_type": "stream",
     "text": [
      " 36\n"
     ]
    },
    {
     "name": "stdout",
     "output_type": "stream",
     "text": [
      "The number is a perfect square\n"
     ]
    }
   ],
   "source": [
    "#taking input\n",
    "import math  \n",
    "num =int(input())  \n",
    "sqrt_num = math.sqrt(num)  \n",
    "if sqrt_num.is_integer():  \n",
    "    print(\"The number is a perfect square\")  \n",
    "else:  \n",
    "    print(\"The number is not a perfect square\")  "
   ]
  },
  {
   "cell_type": "code",
   "execution_count": null,
   "id": "195d0a7c-4f63-4ddd-927e-5bb2614b029c",
   "metadata": {},
   "outputs": [],
   "source": []
  },
  {
   "cell_type": "markdown",
   "id": "25b9755c-a9b9-4121-927c-47b2f0c2690d",
   "metadata": {},
   "source": [
    "21. Explain the purpose of the \"continue\" and \"break\" statements within if-else loops.\n"
   ]
  },
  {
   "cell_type": "markdown",
   "id": "56d4bf91-1282-4106-a42e-5c85cf36da88",
   "metadata": {},
   "source": [
    "Continue Statement:\n",
    "The \"continue\" statement is used to skip the rest of the loop body for the current iteration and move to the next iteration. This is particularly useful when you want to skip certain iterations based on a specific condition."
   ]
  },
  {
   "cell_type": "code",
   "execution_count": 7,
   "id": "749948f7-5a2e-4cc2-88ee-d11624068a6d",
   "metadata": {},
   "outputs": [
    {
     "name": "stdout",
     "output_type": "stream",
     "text": [
      "1\n",
      "3\n",
      "5\n",
      "7\n",
      "9\n"
     ]
    }
   ],
   "source": [
    "for i in range(1, 11):\n",
    "    if i % 2 == 0:\n",
    "        continue\n",
    "    print(i)"
   ]
  },
  {
   "cell_type": "markdown",
   "id": "6fe71b00-fe49-4e51-b741-852864135864",
   "metadata": {},
   "source": [
    "Break Statement:\n",
    "The \"break\" statement is used to exit the loop prematurely. When the \"break\" statement is encountered, it immediately terminates the loop, regardless of whether all iterations have completed."
   ]
  },
  {
   "cell_type": "code",
   "execution_count": 8,
   "id": "3faa6609-913c-4490-b1a3-d6a2e45e39ae",
   "metadata": {},
   "outputs": [
    {
     "name": "stdout",
     "output_type": "stream",
     "text": [
      "1\n",
      "2\n",
      "3\n",
      "4\n"
     ]
    }
   ],
   "source": [
    "for i in range(1, 11):\n",
    "    if i == 5:\n",
    "        break\n",
    "    print(i)"
   ]
  },
  {
   "cell_type": "code",
   "execution_count": null,
   "id": "4403b135-931d-4e71-ae60-562a4dcab7af",
   "metadata": {},
   "outputs": [],
   "source": []
  },
  {
   "cell_type": "markdown",
   "id": "3b89f0b9-b03e-4bbe-a895-456ff30aef30",
   "metadata": {},
   "source": [
    "22. Create a Python program that calculates the BMI (Body Mass Index) of a person based on their weight and height using if-else.\n"
   ]
  },
  {
   "cell_type": "code",
   "execution_count": 9,
   "id": "599af8c4-1ae9-4451-852e-1134e3ea8fca",
   "metadata": {},
   "outputs": [
    {
     "name": "stdin",
     "output_type": "stream",
     "text": [
      " 1.78\n",
      " 79\n"
     ]
    },
    {
     "name": "stdout",
     "output_type": "stream",
     "text": [
      "Overweight\n"
     ]
    }
   ],
   "source": [
    "#taking input\n",
    "h=float(input())\n",
    "w=float(input())\n",
    "bmi=w/(h**2)\n",
    "if bmi < 18.5:\n",
    "        print(\"Underweight\")\n",
    "elif bmi < 24.9:\n",
    "    print(\"Normal weight\")\n",
    "elif bmi < 29.9:\n",
    "    print(\"Overweight\")\n",
    "else:\n",
    "    print(\"Obese\")"
   ]
  },
  {
   "cell_type": "code",
   "execution_count": null,
   "id": "0137bb61-8666-495b-abcd-d3bb39558ea6",
   "metadata": {},
   "outputs": [],
   "source": []
  },
  {
   "cell_type": "markdown",
   "id": "204fefe8-5a2b-411b-8726-6a7f9f1ff804",
   "metadata": {},
   "source": [
    "23. How can you use the \"filter()\" function with if-else statements to filter elements from a list?\n"
   ]
  },
  {
   "cell_type": "markdown",
   "id": "af7690a4-3862-4c6d-819e-295eaa4513e9",
   "metadata": {},
   "source": [
    "The filter() function in Python is used to construct an iterator from elements of an iterable for which a function returns true. However, using if-else directly within the filter() function is not the typical approach. Instead, you provide a function that returns a boolean (True or False) based on your filtering criteria."
   ]
  },
  {
   "cell_type": "code",
   "execution_count": 10,
   "id": "a56e3f6c-9163-4019-a2e7-f71a99501044",
   "metadata": {},
   "outputs": [
    {
     "name": "stdout",
     "output_type": "stream",
     "text": [
      "Even numbers: [2, 4, 6, 8, 10]\n"
     ]
    }
   ],
   "source": [
    "def is_even(num):\n",
    "    return num % 2 == 0\n",
    "numbers=[1, 2, 3, 4, 5, 6, 7, 8, 9, 10]\n",
    "even_numbers = filter(is_even, numbers)\n",
    "even_numbers_list = list(even_numbers)\n",
    "print(\"Even numbers:\", even_numbers_list)"
   ]
  },
  {
   "cell_type": "code",
   "execution_count": null,
   "id": "9cad83a5-4650-454d-b454-cf83cfa76745",
   "metadata": {},
   "outputs": [],
   "source": []
  },
  {
   "cell_type": "markdown",
   "id": "9d4c393d-c0b8-4a38-a6e4-ded4a080ad76",
   "metadata": {},
   "source": [
    "24. Write a Python program to determine if a given number is prime or not using if-else."
   ]
  },
  {
   "cell_type": "code",
   "execution_count": 22,
   "id": "b93d1fcb-f7e7-44da-8ecb-76439d694799",
   "metadata": {},
   "outputs": [
    {
     "name": "stdin",
     "output_type": "stream",
     "text": [
      " 29\n"
     ]
    },
    {
     "name": "stdout",
     "output_type": "stream",
     "text": [
      "29 is a prime number\n"
     ]
    }
   ],
   "source": [
    "#taking input\n",
    "n=int(input())\n",
    "if n > 1:\n",
    "\tfor i in range(2, int(n/2)+1):\n",
    "\t\tif (n % i) == 0:\n",
    "\t\t\tprint(str(n)+ \" is not a prime number\")\n",
    "\telse:\n",
    "\t\tprint(str(n)+ \" is a prime number\")\n",
    "else:\n",
    "\tprint(str(n)+ \" is not a prime number\")"
   ]
  },
  {
   "cell_type": "code",
   "execution_count": null,
   "id": "63791ce0-3887-4062-88b4-06b2cd1b2bbd",
   "metadata": {},
   "outputs": [],
   "source": []
  },
  {
   "cell_type": "code",
   "execution_count": null,
   "id": "7827a1a0-b08f-4e4d-812f-6f5f85f63f9a",
   "metadata": {},
   "outputs": [],
   "source": []
  },
  {
   "cell_type": "markdown",
   "id": "eef636c8-3bd6-485a-9641-71426d0ff051",
   "metadata": {},
   "source": [
    "MAP:\n",
    "    "
   ]
  },
  {
   "cell_type": "code",
   "execution_count": null,
   "id": "ccfa6642-ccf0-44b8-b60b-f838c9c68a65",
   "metadata": {},
   "outputs": [],
   "source": []
  },
  {
   "cell_type": "markdown",
   "id": "bc0498e7-09d5-41cf-ad57-4ad5f70e5495",
   "metadata": {},
   "source": [
    "1. Explain the purpose of the `map()` function in Python and provide an example of how it can be used to apply a function to each element of an iterable.\n"
   ]
  },
  {
   "cell_type": "raw",
   "id": "7a97451e-c032-49b0-a3c9-40b1f9466fe7",
   "metadata": {},
   "source": [
    "The map() function is used in Python to apply a given function to each item in an iterable (e.g., a list) and returns an iterator containing the results."
   ]
  },
  {
   "cell_type": "code",
   "execution_count": 7,
   "id": "74f25328-1a8e-4500-b1b9-66a7b5121db5",
   "metadata": {},
   "outputs": [
    {
     "name": "stdout",
     "output_type": "stream",
     "text": [
      "[1, 4, 9, 16, 25]\n"
     ]
    }
   ],
   "source": [
    "#EXAMPLE\n",
    "# Define a function to square a number\n",
    "def square(x):\n",
    "    return x ** 2\n",
    "# Create a list of numbers\n",
    "numbers = [1, 2, 3, 4, 5]\n",
    "# Use map() to apply the square function to each element in the list\n",
    "squared_numbers = map(square, numbers)\n",
    "# Convert the result to a list (if needed)\n",
    "squared_numbers_list = list(squared_numbers)\n",
    "print(squared_numbers_list)  # Output: [1, 4, 9, 16, 25]"
   ]
  },
  {
   "cell_type": "code",
   "execution_count": null,
   "id": "196eac6c-2ce9-4f14-9405-64a3e3f7c826",
   "metadata": {},
   "outputs": [],
   "source": []
  },
  {
   "cell_type": "markdown",
   "id": "64d7fcc3-5625-4ba9-9390-2baf909db33f",
   "metadata": {},
   "source": [
    "2.Write a Python program that uses the `map()` function to square each element of a list of numbers."
   ]
  },
  {
   "cell_type": "code",
   "execution_count": 8,
   "id": "ee5540ec-bc72-42fc-bd12-6b6b240ba70c",
   "metadata": {},
   "outputs": [
    {
     "name": "stdout",
     "output_type": "stream",
     "text": [
      "[1, 4, 9, 16, 25]\n"
     ]
    }
   ],
   "source": [
    "# Define a function to square a number\n",
    "def square(x):\n",
    "    return x ** 2\n",
    "# Create a list of numbers\n",
    "numbers = [1, 2, 3, 4, 5]\n",
    "# Use map() to apply the square function to each element in the list\n",
    "squared_numbers = map(square, numbers)\n",
    "# Convert the result to a list (if needed)\n",
    "squared_numbers_list = list(squared_numbers)\n",
    "print(squared_numbers_list)  # Output: [1, 4, 9, 16, 25]"
   ]
  },
  {
   "cell_type": "code",
   "execution_count": null,
   "id": "93524efe-67b8-4b80-9fa1-04fa7ab2cb88",
   "metadata": {},
   "outputs": [],
   "source": []
  },
  {
   "cell_type": "markdown",
   "id": "b718ed69-7c28-4e78-92a2-e622ce35909e",
   "metadata": {},
   "source": [
    "3. How does the `map()` function differ from a list comprehension in Python, and when would you choose one over the other?\n"
   ]
  },
  {
   "cell_type": "raw",
   "id": "b415fa23-4460-4b2c-b84b-103b2c0af166",
   "metadata": {},
   "source": [
    "The map() function and list comprehensions are both used for transforming and applying operations to elements in an iterable. However, they differ in syntax and usage:"
   ]
  },
  {
   "cell_type": "raw",
   "id": "818f10cf-e796-45be-9915-2003fec8633e",
   "metadata": {},
   "source": [
    "map(): The map() function applies a specified function to each element of an iterable and returns an iterator. It requires defining a separate function for the transformation."
   ]
  },
  {
   "cell_type": "raw",
   "id": "a9cd9afb-5877-43ee-90a8-37d27883f35c",
   "metadata": {},
   "source": [
    "List Comprehension: List comprehensions provide a concise way to create new lists by applying an expression to each element in an iterable. They are written within square brackets [...] and often require less code than map()."
   ]
  },
  {
   "cell_type": "code",
   "execution_count": null,
   "id": "dc0aa7ff-2c57-4626-a2a8-b5963e90e23e",
   "metadata": {},
   "outputs": [],
   "source": []
  },
  {
   "cell_type": "markdown",
   "id": "c04f004a-709d-4a9b-a567-558b9057fe91",
   "metadata": {},
   "source": [
    "4. Create a Python program that uses the `map()` function to convert a list of names to uppercase.\n"
   ]
  },
  {
   "cell_type": "code",
   "execution_count": 9,
   "id": "66080d45-d9a8-455f-a086-9ae1db6d202f",
   "metadata": {},
   "outputs": [
    {
     "name": "stdout",
     "output_type": "stream",
     "text": [
      "['HELLO', 'NY', 'NAME', 'IS']\n"
     ]
    }
   ],
   "source": [
    "#to convert a name to uppercase\n",
    "def uppercase(name):\n",
    "    return name.upper()\n",
    "names = [\"hello\", \"ny\", \"name\", \"is\"]\n",
    "# Use map() to convert each name to uppercase\n",
    "uppercase_names = map(uppercase, names)\n",
    "uppercase_names_list = list(uppercase_names)\n",
    "\n",
    "print(uppercase_names_list) "
   ]
  },
  {
   "cell_type": "code",
   "execution_count": null,
   "id": "740cd93b-be0e-46db-9253-bde2d0cd3677",
   "metadata": {},
   "outputs": [],
   "source": []
  },
  {
   "cell_type": "markdown",
   "id": "f2a2f4b4-320c-4602-a6e4-0c1e8601f492",
   "metadata": {},
   "source": [
    "5.Write a Python program that uses the `map()` function to calculate the length of each word in a list of strings.\n"
   ]
  },
  {
   "cell_type": "code",
   "execution_count": 10,
   "id": "17b90026-026b-459b-90ec-35c710e701c5",
   "metadata": {},
   "outputs": [
    {
     "name": "stdout",
     "output_type": "stream",
     "text": [
      "[5, 2, 4, 2]\n"
     ]
    }
   ],
   "source": [
    "#to calculate the length of a word\n",
    "def word_length(word):\n",
    "    return len(word)\n",
    "words =  [\"hello\", \"ny\", \"name\", \"is\"]\n",
    "\n",
    "word_lengths = map(word_length, words)\n",
    "word_lengths_list = list(word_lengths)\n",
    "print(word_lengths_list)"
   ]
  },
  {
   "cell_type": "code",
   "execution_count": null,
   "id": "8c93c983-2fbe-4215-aa37-56868d7f5b77",
   "metadata": {},
   "outputs": [],
   "source": []
  },
  {
   "cell_type": "markdown",
   "id": "3470f0ee-40dd-48c0-9e6a-e86ae87fb636",
   "metadata": {},
   "source": [
    "6. How can you use the `map()` function to apply a custom function to elements of multiple lists simultaneously in Python?\n"
   ]
  },
  {
   "cell_type": "raw",
   "id": "2d257220-c18c-419a-9b41-5b2550f4f240",
   "metadata": {},
   "source": [
    "To apply a custom function to elements of multiple lists simultaneously, you can pass multiple iterables to the map() function, and the custom function should accept corresponding elements from each iterable. Here's an example:"
   ]
  },
  {
   "cell_type": "code",
   "execution_count": 11,
   "id": "62833157-bffc-400e-98a4-747f327dbfee",
   "metadata": {},
   "outputs": [
    {
     "name": "stdout",
     "output_type": "stream",
     "text": [
      "[11, 22, 33, 44]\n"
     ]
    }
   ],
   "source": [
    "# to calculate the sum of corresponding elements from two lists\n",
    "def add_lists(x, y):\n",
    "    return x + y\n",
    "list1 = [1, 2, 3, 4]\n",
    "list2 = [10, 20, 30, 40]\n",
    "# Use map() to apply add_lists to corresponding elements of list1 and list2\n",
    "result = map(add_lists, list1, list2)\n",
    "result_list = list(result)\n",
    "\n",
    "print(result_list)"
   ]
  },
  {
   "cell_type": "code",
   "execution_count": null,
   "id": "75d8391d-1f27-4016-a4c0-037bfee92350",
   "metadata": {},
   "outputs": [],
   "source": []
  },
  {
   "cell_type": "markdown",
   "id": "5a09ba8e-e5b5-451f-8d8d-8d5a5002d7b5",
   "metadata": {},
   "source": [
    "7.Create a Python program that uses `map()` to convert a list of temperatures from Celsius to Fahrenheit.\n"
   ]
  },
  {
   "cell_type": "code",
   "execution_count": 12,
   "id": "e98ecbd6-0756-480f-b0ad-2f074f3aeb0b",
   "metadata": {},
   "outputs": [
    {
     "name": "stdout",
     "output_type": "stream",
     "text": [
      "[32.0, 77.0, 212.0]\n"
     ]
    }
   ],
   "source": [
    "def celsius_to_fahrenheit(celsius):\n",
    "    return (celsius * 9/5) + 32\n",
    "celsius_temperatures = [0, 25, 100]\n",
    "\n",
    "# Use map() to convert the temperatures to Fahrenheit\n",
    "fahrenheit_temperatures = map(celsius_to_fahrenheit, celsius_temperatures)\n",
    "fahrenheit_temperatures_list = list(fahrenheit_temperatures)\n",
    "\n",
    "print(fahrenheit_temperatures_list)"
   ]
  },
  {
   "cell_type": "code",
   "execution_count": null,
   "id": "016c7985-331c-4112-af77-0c91b38f7ba7",
   "metadata": {},
   "outputs": [],
   "source": []
  },
  {
   "cell_type": "markdown",
   "id": "223db239-7b3e-4216-b70d-2b2daab8dc7f",
   "metadata": {},
   "source": [
    "8.Write a Python program that uses the `map()` function to round each element of a list of floating-point numbers to the nearest integer.\n"
   ]
  },
  {
   "cell_type": "code",
   "execution_count": 14,
   "id": "04b0e32e-8759-405a-8d0f-71b86d325fb5",
   "metadata": {},
   "outputs": [
    {
     "name": "stdout",
     "output_type": "stream",
     "text": [
      "[1, 3, 3, 5]\n"
     ]
    }
   ],
   "source": [
    "def round_to_integer(number):\n",
    "    return round(number)\n",
    "float_numbers = [1.4, 2.7, 3.1, 4.9]\n",
    "# Use map() to round each element to the nearest integer\n",
    "rounded_numbers = map(round_to_integer, float_numbers)\n",
    "rounded_numbers_list = list(rounded_numbers)\n",
    "\n",
    "print(rounded_numbers_list)"
   ]
  },
  {
   "cell_type": "code",
   "execution_count": null,
   "id": "16717300-2c0f-45dc-80c0-5045ad1d6fd9",
   "metadata": {},
   "outputs": [],
   "source": []
  },
  {
   "cell_type": "code",
   "execution_count": null,
   "id": "aba81326-89a5-4dac-ab5c-f973ff4249a6",
   "metadata": {},
   "outputs": [],
   "source": []
  },
  {
   "cell_type": "markdown",
   "id": "692fd3b7-5be7-436a-beee-8b982653301d",
   "metadata": {},
   "source": [
    "Reduce :-"
   ]
  },
  {
   "cell_type": "code",
   "execution_count": null,
   "id": "125859ea-65b4-4381-b0c4-0c6070c004ea",
   "metadata": {},
   "outputs": [],
   "source": []
  },
  {
   "cell_type": "markdown",
   "id": "fd5c3aae-07bc-4228-9be0-ab2d351c9d75",
   "metadata": {},
   "source": [
    "1. What is the `reduce()` function in Python, and what module should you import to use it? Provide an example of its basic usage.\n"
   ]
  },
  {
   "cell_type": "raw",
   "id": "4fde02bd-7205-46dc-9d2b-93e955d4bb24",
   "metadata": {},
   "source": [
    "The reduce() function is part of the functools module in Python. It's used for aggregating the elements of an iterable (e.g., a list) by applying a binary function cumulatively from left to right."
   ]
  },
  {
   "cell_type": "code",
   "execution_count": 2,
   "id": "426408e7-4d8a-4605-a6c0-35e833e93c1a",
   "metadata": {},
   "outputs": [
    {
     "name": "stdout",
     "output_type": "stream",
     "text": [
      "15\n"
     ]
    }
   ],
   "source": [
    "#EXAMPLE\n",
    "from functools import reduce\n",
    "def add(x, y):\n",
    "    return x + y\n",
    "# Create a list \n",
    "numbers = [1, 2, 3, 4, 5]\n",
    "# Use reduce() to find the sum of all elements \n",
    "result = reduce(add, numbers)\n",
    "print(result) "
   ]
  },
  {
   "cell_type": "code",
   "execution_count": null,
   "id": "17da405c-08a1-47c6-8acc-c8fdcb60e803",
   "metadata": {},
   "outputs": [],
   "source": []
  },
  {
   "cell_type": "markdown",
   "id": "e5f30a21-cf1e-4184-b75f-da3ec0e0d937",
   "metadata": {},
   "source": [
    "2.Write a Python program that uses the `reduce()` function to find the product of all elements in a list.\n"
   ]
  },
  {
   "cell_type": "code",
   "execution_count": 3,
   "id": "79d48615-9c43-4ffe-bee2-24d7f10b18d4",
   "metadata": {},
   "outputs": [
    {
     "name": "stdout",
     "output_type": "stream",
     "text": [
      "120\n"
     ]
    }
   ],
   "source": [
    "from functools import reduce\n",
    "def multiply(x, y):\n",
    "    return x * y\n",
    "# Create a list \n",
    "numbers = [1, 2, 3, 4, 5]\n",
    "# Use reduce() to find the product of all elements\n",
    "product = reduce(multiply, numbers)\n",
    "print(product)"
   ]
  },
  {
   "cell_type": "code",
   "execution_count": null,
   "id": "83cdffc1-eae2-4594-9c38-d2527062fc86",
   "metadata": {},
   "outputs": [],
   "source": []
  },
  {
   "cell_type": "markdown",
   "id": "16704f05-2a19-4ab8-94ab-7238d61f478a",
   "metadata": {},
   "source": [
    "3.Create a Python program that uses `reduce()` to find the maximum element in a list of numbers.\n"
   ]
  },
  {
   "cell_type": "code",
   "execution_count": 4,
   "id": "d3aac6ec-b1b9-4f70-8193-0c170224dae3",
   "metadata": {},
   "outputs": [
    {
     "name": "stdout",
     "output_type": "stream",
     "text": [
      "24\n"
     ]
    }
   ],
   "source": [
    "from functools import reduce\n",
    "def max_of_two(x, y):\n",
    "    return x if x > y else y\n",
    "# Create a list \n",
    "numbers = [12, 5, 24, 9, 15, 3, 8]\n",
    "# Use reduce() to find the maximum element\n",
    "maximum = reduce(max_of_two, numbers)\n",
    "print(maximum)"
   ]
  },
  {
   "cell_type": "code",
   "execution_count": null,
   "id": "716378d6-e768-4c3e-81cd-b948f80a2596",
   "metadata": {},
   "outputs": [],
   "source": []
  },
  {
   "cell_type": "markdown",
   "id": "4aaa7fa7-0406-435e-bc49-5f95ec0c4154",
   "metadata": {},
   "source": [
    "4.How can you use the `reduce()` function to concatenate a list of strings into a single string?\n"
   ]
  },
  {
   "cell_type": "raw",
   "id": "635905c3-568b-4bac-8545-ffae8810f920",
   "metadata": {},
   "source": [
    "We can use reduce() to concatenate a list of strings into a single string by defining a binary function that concatenates two strings together."
   ]
  },
  {
   "cell_type": "code",
   "execution_count": 4,
   "id": "d0bc395b-4a7b-4e86-8d95-65e3c50d5b8f",
   "metadata": {},
   "outputs": [
    {
     "name": "stdout",
     "output_type": "stream",
     "text": [
      "Hello World!\n"
     ]
    }
   ],
   "source": [
    "from functools import reduce\n",
    "def concatenate_strings(x, y):\n",
    "    return x + y\n",
    "# Create a list\n",
    "words = [\"Hello\", \" \", \"World\", \"!\"]\n",
    "# Use reduce() to concatenate the list of strings into a single string\n",
    "result = reduce(concatenate_strings, words)\n",
    "print(result) "
   ]
  },
  {
   "cell_type": "code",
   "execution_count": null,
   "id": "ff21fe55-6f0e-4ae9-8588-fa7f19f4a40a",
   "metadata": {},
   "outputs": [],
   "source": []
  },
  {
   "cell_type": "markdown",
   "id": "2b3064d7-431f-4cf6-b87b-1cd469827f65",
   "metadata": {},
   "source": [
    "5.Write a Python program that calculates the factorial of a number using the `reduce()` function."
   ]
  },
  {
   "cell_type": "code",
   "execution_count": 5,
   "id": "65df1bd4-4a1b-4382-ab07-f1e5d0f35bf7",
   "metadata": {},
   "outputs": [
    {
     "name": "stdin",
     "output_type": "stream",
     "text": [
      " 9\n"
     ]
    },
    {
     "name": "stdout",
     "output_type": "stream",
     "text": [
      "362880\n"
     ]
    }
   ],
   "source": [
    "from functools import reduce\n",
    "def factorial(x, y):\n",
    "    return x * y\n",
    "#taking input\n",
    "n =int(input())\n",
    "# Use reduce() to calculate the factorial of n\n",
    "result = reduce(factorial, range(1, n + 1))\n",
    "print(result)"
   ]
  },
  {
   "cell_type": "code",
   "execution_count": null,
   "id": "3b1921cf-7ca6-4771-9b44-5381efbdcc6c",
   "metadata": {},
   "outputs": [],
   "source": []
  },
  {
   "cell_type": "markdown",
   "id": "90a190a4-d079-417e-85ad-33f4bc09568a",
   "metadata": {},
   "source": [
    "6.create a Python program that uses `reduce()` to find the GCD (Greatest Common Divisor) of a list of numbers.\n"
   ]
  },
  {
   "cell_type": "code",
   "execution_count": 6,
   "id": "1a4fe144-a977-4be5-a8c8-dbe06b4c41fa",
   "metadata": {},
   "outputs": [
    {
     "name": "stdout",
     "output_type": "stream",
     "text": [
      "12\n"
     ]
    }
   ],
   "source": [
    "from functools import reduce\n",
    "import math\n",
    "def gcd(x, y):\n",
    "    return math.gcd(x, y)\n",
    "# Create a list\n",
    "numbers = [24, 36, 48, 60]\n",
    "# Use reduce() to find the GCD of the list of numbers\n",
    "result = reduce(gcd, numbers)\n",
    "print(result) "
   ]
  },
  {
   "cell_type": "code",
   "execution_count": null,
   "id": "cffd886e-06b4-4dce-b514-d2214125a258",
   "metadata": {},
   "outputs": [],
   "source": []
  },
  {
   "cell_type": "markdown",
   "id": "8a50c476-b58c-4ffd-a5c7-d974308b3fd0",
   "metadata": {},
   "source": [
    "7.Write a Python program that uses the `reduce()` function to find the sum of the digits of a given number.\n"
   ]
  },
  {
   "cell_type": "code",
   "execution_count": 8,
   "id": "9384f54d-d60e-49ca-8e93-14156167597a",
   "metadata": {},
   "outputs": [
    {
     "name": "stdin",
     "output_type": "stream",
     "text": [
      " 42\n"
     ]
    },
    {
     "name": "stdout",
     "output_type": "stream",
     "text": [
      "Sum of Digits: 6\n"
     ]
    }
   ],
   "source": [
    "from functools import reduce\n",
    "def sum_digits(x, y):\n",
    "    return x + y\n",
    "#taking input\n",
    "number =int(input())\n",
    "# Convert the number to a string to iterate through its digits\n",
    "number_str = str(number)\n",
    "# Initialize digit_sum as an integer\n",
    "digit_sum = 0\n",
    "# Use reduce() to find the sum of the digits of the number\n",
    "digit_sum = reduce(sum_digits, [digit_sum, *map(int, number_str)])\n",
    "print(\"Sum of Digits:\", digit_sum) "
   ]
  },
  {
   "cell_type": "code",
   "execution_count": null,
   "id": "5e6dbd58-2a40-4910-b190-0c7c43c61aad",
   "metadata": {},
   "outputs": [],
   "source": []
  },
  {
   "cell_type": "code",
   "execution_count": null,
   "id": "8872a795-7396-46a6-a3e7-936a4aa71924",
   "metadata": {},
   "outputs": [],
   "source": []
  },
  {
   "cell_type": "markdown",
   "id": "3c4c3548-33f8-4927-a2b6-c433031cfb99",
   "metadata": {},
   "source": [
    "Filter :-\n"
   ]
  },
  {
   "cell_type": "code",
   "execution_count": null,
   "id": "353ed2ae-39be-44c2-b10b-206d5509b330",
   "metadata": {},
   "outputs": [],
   "source": []
  },
  {
   "cell_type": "markdown",
   "id": "01f5fbac-ff62-47c5-9e2d-969bbf7a9b0d",
   "metadata": {},
   "source": [
    "1. Explain the purpose of the `filter()` function in Python and provide an example of how it can be used to filter elements from an iterable."
   ]
  },
  {
   "cell_type": "raw",
   "id": "1ab1dedc-e60d-431a-a372-9f189be4ca6f",
   "metadata": {},
   "source": [
    "The filter() function in Python is used to filter elements from an iterable (e.g., a list) based on a specified function's criteria. It returns an iterator that contains only the elements for which the function returns True."
   ]
  },
  {
   "cell_type": "code",
   "execution_count": 9,
   "id": "aa3ff908-2513-435a-a66c-ea637b4247bd",
   "metadata": {},
   "outputs": [
    {
     "name": "stdout",
     "output_type": "stream",
     "text": [
      "[2, 4, 6, 8, 10]\n"
     ]
    }
   ],
   "source": [
    "#EXAMPLE\n",
    "# Define a function to check if a number is even\n",
    "def is_even(x):\n",
    "    return x % 2 == 0\n",
    "# Create a list\n",
    "numbers = [1, 2, 3, 4, 5, 6, 7, 8, 9, 10]\n",
    "# Use filter() to select only the even numbers\n",
    "even_numbers = filter(is_even, numbers)\n",
    "# Convert the result to a list (if needed)\n",
    "even_numbers_list = list(even_numbers)\n",
    "\n",
    "print(even_numbers_list)"
   ]
  },
  {
   "cell_type": "code",
   "execution_count": null,
   "id": "d9738469-bb6e-4654-b559-a08f4bbe7782",
   "metadata": {},
   "outputs": [],
   "source": []
  },
  {
   "cell_type": "markdown",
   "id": "16030194-428d-4da3-a1d9-921926033f97",
   "metadata": {},
   "source": [
    "2.Write a Python program that uses the `filter()` function to select even numbers from a list of integers.\n"
   ]
  },
  {
   "cell_type": "code",
   "execution_count": 10,
   "id": "e827aa41-8df0-4714-9cbf-270698308b6e",
   "metadata": {},
   "outputs": [
    {
     "name": "stdout",
     "output_type": "stream",
     "text": [
      "[2, 4, 6, 8, 10]\n"
     ]
    }
   ],
   "source": [
    "def is_even(x):\n",
    "    return x % 2 == 0\n",
    "# Create a list\n",
    "numbers = [1, 2, 3, 4, 5, 6, 7, 8, 9, 10]\n",
    "even_numbers = filter(is_even, numbers)\n",
    "even_numbers_list = list(even_numbers)\n",
    "\n",
    "print(even_numbers_list)"
   ]
  },
  {
   "cell_type": "code",
   "execution_count": null,
   "id": "344622a8-8626-4101-948f-372395ed54e2",
   "metadata": {},
   "outputs": [],
   "source": []
  },
  {
   "cell_type": "markdown",
   "id": "c5b35fcb-7d84-450c-9e90-330b6a07cb08",
   "metadata": {},
   "source": [
    "3.Create a Python program that uses the `filter()` function to select names that start with a specific letter from a list of strings.\n"
   ]
  },
  {
   "cell_type": "code",
   "execution_count": 11,
   "id": "928dccd8-f474-4e18-88ed-98ed51ade2ed",
   "metadata": {},
   "outputs": [
    {
     "name": "stdout",
     "output_type": "stream",
     "text": [
      "['pandey', 'pwskills']\n"
     ]
    }
   ],
   "source": [
    "def starts_with_letter(letter):\n",
    "    return lambda name: name.startswith(letter)\n",
    "# Create a list\n",
    "names = [\"abhishek\", \"kumar\", \"pandey\", \"pwskills\", \"data science\"]\n",
    "letter_to_filter = \"p\"\n",
    "\n",
    "filtered_names = filter(starts_with_letter(letter_to_filter), names)\n",
    "filtered_names_list = list(filtered_names)\n",
    "\n",
    "print(filtered_names_list)"
   ]
  },
  {
   "cell_type": "code",
   "execution_count": null,
   "id": "03bb2a02-aee4-4cae-a140-aa1a00abb12d",
   "metadata": {},
   "outputs": [],
   "source": []
  },
  {
   "cell_type": "markdown",
   "id": "0a11fd8f-f3d3-4b4c-af6b-6fe9219f5112",
   "metadata": {},
   "source": [
    "4.Write a Python program that uses the `filter()` function to select prime numbers from a list of integers.\n"
   ]
  },
  {
   "cell_type": "code",
   "execution_count": 12,
   "id": "329d89f7-43d3-4fef-b7e0-4f768abcb9a0",
   "metadata": {},
   "outputs": [
    {
     "name": "stdout",
     "output_type": "stream",
     "text": [
      "[2, 3, 7, 5, 2, 7, 5, 2]\n"
     ]
    }
   ],
   "source": [
    "def is_prime(n):\n",
    "    if n <= 1:\n",
    "        return False\n",
    "    elif n <= 3:\n",
    "        return True\n",
    "    elif n % 2 == 0 or n % 3 == 0:\n",
    "        return False\n",
    "    i = 5\n",
    "    while i * i <= n:\n",
    "        if n % i == 0 or n % (i + 2) == 0:\n",
    "            return False\n",
    "        i += 6\n",
    "    return True\n",
    "# Create a list\n",
    "numbers = [2,6,9,4,3,7,1,1,5,2,6,7,95,5,2,4]\n",
    "\n",
    "prime_numbers = filter(is_prime, numbers)\n",
    "prime_numbers_list = list(prime_numbers)\n",
    "\n",
    "print(prime_numbers_list) "
   ]
  },
  {
   "cell_type": "code",
   "execution_count": null,
   "id": "597c33a4-6f5f-4782-bfb4-6795a8a1e654",
   "metadata": {},
   "outputs": [],
   "source": []
  },
  {
   "cell_type": "markdown",
   "id": "b57e5860-c28c-440d-9483-3ee49fc28da4",
   "metadata": {},
   "source": [
    "5.How can you use the `filter()` function to remove None values from a list in Python?\n"
   ]
  },
  {
   "cell_type": "code",
   "execution_count": 13,
   "id": "6d8c2e0a-a9c8-42b4-8c13-c3a3901a4a5d",
   "metadata": {},
   "outputs": [
    {
     "name": "stdout",
     "output_type": "stream",
     "text": [
      "[133, 42, 73, 4, 895]\n"
     ]
    }
   ],
   "source": [
    "def remove_none(value):\n",
    "    return value is not None\n",
    "# Create a list\n",
    "my_list = [133, None, 42, 73, None, 4, 895]\n",
    "\n",
    "filtered_list = filter(remove_none, my_list)\n",
    "filtered_list = list(filtered_list)\n",
    "\n",
    "print(filtered_list)"
   ]
  },
  {
   "cell_type": "code",
   "execution_count": null,
   "id": "f0b155ca-7c37-4352-a7a5-8622618786f2",
   "metadata": {},
   "outputs": [],
   "source": []
  },
  {
   "cell_type": "markdown",
   "id": "f5601757-d0f7-4ccd-acf7-78146f0ea26b",
   "metadata": {},
   "source": [
    "6.Create a Python program that uses `filter()` to select words longer than a certain length from a list of strings.\n"
   ]
  },
  {
   "cell_type": "code",
   "execution_count": 15,
   "id": "2ca5b11e-9b55-479e-bf29-e50aa2633738",
   "metadata": {},
   "outputs": [
    {
     "name": "stdout",
     "output_type": "stream",
     "text": [
      "['abhishek', 'pwskills', 'data science']\n"
     ]
    }
   ],
   "source": [
    "def is_long_word(word, length):\n",
    "    return len(word) > length\n",
    "# Create a list\n",
    "words = [\"abhishek\", \"kumar\", \"pandey\", \"pwskills\", \"data science\"]\n",
    "min_length = 7\n",
    "\n",
    "long_words = filter(lambda word: is_long_word(word, min_length), words)\n",
    "long_words_list = list(long_words)\n",
    "\n",
    "print(long_words_list)"
   ]
  },
  {
   "cell_type": "code",
   "execution_count": null,
   "id": "b5115870-2bb1-4d01-846a-82f47583927d",
   "metadata": {},
   "outputs": [],
   "source": []
  },
  {
   "cell_type": "markdown",
   "id": "4a2515b4-94f1-41c9-a7c6-f028a3cb0f9a",
   "metadata": {},
   "source": [
    "7.Write a Python program that uses the `filter()` function to select elements greater than a specified threshold from a list of values.\n"
   ]
  },
  {
   "cell_type": "code",
   "execution_count": 16,
   "id": "37d2fe5b-dfd5-4fa0-9de1-31942e077a57",
   "metadata": {},
   "outputs": [
    {
     "name": "stdout",
     "output_type": "stream",
     "text": [
      "[67, 44, 43, 91, 51, 64, 95, 49]\n"
     ]
    }
   ],
   "source": [
    "def is_greater_than_threshold(value, threshold):\n",
    "    return value > threshold\n",
    "\n",
    "values = [2,67,9,44,43,7,91,1,51,2,64,7,95,5,2,49]\n",
    "threshold_value = 20\n",
    "\n",
    "filtered_values = filter(lambda value: is_greater_than_threshold(value, threshold_value), values)\n",
    "filtered_values_list = list(filtered_values)\n",
    "\n",
    "print(filtered_values_list)"
   ]
  },
  {
   "cell_type": "code",
   "execution_count": null,
   "id": "ba79a6c1-3818-4a3b-8efe-372098e9ebd3",
   "metadata": {},
   "outputs": [],
   "source": []
  },
  {
   "cell_type": "code",
   "execution_count": null,
   "id": "515b5496-8082-411e-83e7-570ca219610e",
   "metadata": {},
   "outputs": [],
   "source": []
  },
  {
   "cell_type": "markdown",
   "id": "30380373-7549-433e-aac1-2254dfd3beda",
   "metadata": {},
   "source": [
    "Recursion:-"
   ]
  },
  {
   "cell_type": "code",
   "execution_count": null,
   "id": "27b639ae-7a63-4e51-b6b3-fabda5a54112",
   "metadata": {},
   "outputs": [],
   "source": []
  },
  {
   "cell_type": "markdown",
   "id": "fe77b243-686c-4313-bad0-ed0f59127330",
   "metadata": {},
   "source": [
    "1. Explain the concept of recursion in Python. How does it differ from iteration?\n"
   ]
  },
  {
   "cell_type": "raw",
   "id": "517aa4c8-9133-46e0-a116-63223327cb8f",
   "metadata": {},
   "source": [
    "Recursion is a programming technique in which a function calls itself to solve a problem. It breaks a problem into smaller, similar subproblems and solves them recursively. Each recursive call reduces the problem until it reaches a base case where no further recursion is needed."
   ]
  },
  {
   "cell_type": "raw",
   "id": "bb86c225-8719-4a85-9ab8-1cef7544138d",
   "metadata": {},
   "source": [
    "Iteration, on the other hand, involves using loops (e.g., for or while loops) to repeatedly execute a set of statements until a condition is met. Recursion and iteration can often be used interchangeably, but recursion is particularly suited for problems with a recursive structure."
   ]
  },
  {
   "cell_type": "code",
   "execution_count": null,
   "id": "8ff28f1b-5467-4829-800f-536c7c5f04fd",
   "metadata": {},
   "outputs": [],
   "source": []
  },
  {
   "cell_type": "markdown",
   "id": "6accd95d-f02e-4bdf-85fe-de217a361c75",
   "metadata": {},
   "source": [
    "2. Write a Python program to calculate the factorial of a number using recursion."
   ]
  },
  {
   "cell_type": "code",
   "execution_count": 17,
   "id": "0d725dd7-3c1d-4623-86db-909e52425f31",
   "metadata": {},
   "outputs": [
    {
     "name": "stdin",
     "output_type": "stream",
     "text": [
      " 9\n"
     ]
    },
    {
     "name": "stdout",
     "output_type": "stream",
     "text": [
      "Factorial: 362880\n"
     ]
    }
   ],
   "source": [
    "def factorial(n):\n",
    "    if n == 0:\n",
    "        return 1\n",
    "    else:\n",
    "        return n * factorial(n - 1)\n",
    "#taking input\n",
    "n= int(input())\n",
    "result = factorial(n)\n",
    "print(\"Factorial:\", result) "
   ]
  },
  {
   "cell_type": "code",
   "execution_count": null,
   "id": "b43c101a-ca85-4361-bd5a-60f2e7d639ca",
   "metadata": {},
   "outputs": [],
   "source": []
  },
  {
   "cell_type": "markdown",
   "id": "ec22e2b6-4ddc-477c-8c25-2b8f0c3f06a8",
   "metadata": {},
   "source": [
    "3. Create a recursive Python function to find the nth Fibonacci number."
   ]
  },
  {
   "cell_type": "code",
   "execution_count": 18,
   "id": "8ba75133-e072-435e-b5ad-43efd3f29d8e",
   "metadata": {},
   "outputs": [
    {
     "name": "stdin",
     "output_type": "stream",
     "text": [
      " 8\n"
     ]
    },
    {
     "name": "stdout",
     "output_type": "stream",
     "text": [
      "Fibonacci: 21\n"
     ]
    }
   ],
   "source": [
    "def fibonacci(n):\n",
    "    if n <= 0:\n",
    "        return 0\n",
    "    elif n == 1:\n",
    "        return 1\n",
    "    else:\n",
    "        return fibonacci(n - 1) + fibonacci(n - 2)\n",
    "#taking input\n",
    "n= int(input())\n",
    "result = fibonacci(n)\n",
    "print(\"Fibonacci:\", result)"
   ]
  },
  {
   "cell_type": "code",
   "execution_count": null,
   "id": "f1646988-9e9a-4e59-8476-0ce6d5f32a3d",
   "metadata": {},
   "outputs": [],
   "source": []
  },
  {
   "cell_type": "markdown",
   "id": "8a77d748-383b-40ef-8012-e08a5062bd7e",
   "metadata": {},
   "source": [
    "4. Write a recursive Python function to calculate the sum of all elements in a list."
   ]
  },
  {
   "cell_type": "code",
   "execution_count": 19,
   "id": "3200a3ec-bd09-450f-b2c8-b6d736ad2ee3",
   "metadata": {},
   "outputs": [
    {
     "name": "stdout",
     "output_type": "stream",
     "text": [
      "Sum: 45\n"
     ]
    }
   ],
   "source": [
    "def sum_list(lst):\n",
    "    if not lst:\n",
    "        return 0\n",
    "    else:\n",
    "        return lst[0] + sum_list(lst[1:])\n",
    "#create a list\n",
    "numbers = [1, 2, 3, 4, 5, 6, 7, 8, 9]\n",
    "result = sum_list(numbers)\n",
    "print(\"Sum:\", result)"
   ]
  },
  {
   "cell_type": "code",
   "execution_count": null,
   "id": "6b62e8af-ef23-41e7-ba07-e5899ecb623b",
   "metadata": {},
   "outputs": [],
   "source": []
  },
  {
   "cell_type": "markdown",
   "id": "9ec2be29-08e9-4aaf-ab6f-7a31ae8fec26",
   "metadata": {},
   "source": [
    "5. How can you prevent a recursive function from running indefinitely, causing a stack overflow error?"
   ]
  },
  {
   "cell_type": "raw",
   "id": "92e228ca-dda3-49a4-adef-92c4adabbfe8",
   "metadata": {},
   "source": [
    "to prevent infinite recursion, ensure that your recursive function has one or more base cases that stop the recursion. A base case is a condition where the function returns a result without making another recursive call."
   ]
  },
  {
   "cell_type": "code",
   "execution_count": null,
   "id": "15294fa4-0ed3-4b0a-84d7-4dfa742c38f8",
   "metadata": {},
   "outputs": [],
   "source": []
  },
  {
   "cell_type": "markdown",
   "id": "d5457e50-1857-478f-8ece-1381ea5acc30",
   "metadata": {},
   "source": [
    "6. Create a recursive Python function to find the greatest common divisor (GCD) of two numbers using the Euclidean algorithm."
   ]
  },
  {
   "cell_type": "code",
   "execution_count": 20,
   "id": "a5b3dbaa-9964-43fb-bfda-5deaf686f2d2",
   "metadata": {},
   "outputs": [
    {
     "name": "stdin",
     "output_type": "stream",
     "text": [
      " 72\n",
      " 108\n"
     ]
    },
    {
     "name": "stdout",
     "output_type": "stream",
     "text": [
      "GCD: 36\n"
     ]
    }
   ],
   "source": [
    "def gcd(a, b):\n",
    "    if b == 0:\n",
    "        return a\n",
    "    else:\n",
    "        return gcd(b, a % b)\n",
    "#taking input\n",
    "n1= int(input())\n",
    "n2= int(input())\n",
    "result = gcd(n1, n2)\n",
    "print(\"GCD:\", result)"
   ]
  },
  {
   "cell_type": "code",
   "execution_count": null,
   "id": "f6e9a468-ccd0-4187-a328-58a90b86ce69",
   "metadata": {},
   "outputs": [],
   "source": []
  },
  {
   "cell_type": "markdown",
   "id": "2f813907-451a-4076-946d-af71d0ff22af",
   "metadata": {},
   "source": [
    "7. Write a recursive Python function to reverse a string."
   ]
  },
  {
   "cell_type": "code",
   "execution_count": 21,
   "id": "b5b4fc67-f485-425d-be54-38915fa3affb",
   "metadata": {},
   "outputs": [
    {
     "name": "stdin",
     "output_type": "stream",
     "text": [
      " pwskills\n"
     ]
    },
    {
     "name": "stdout",
     "output_type": "stream",
     "text": [
      "Reversed: sllikswp\n"
     ]
    }
   ],
   "source": [
    "def reverse_string(s):\n",
    "    if len(s) <= 1:\n",
    "        return s\n",
    "    else:\n",
    "        return reverse_string(s[1:]) + s[0]\n",
    "#taking input\n",
    "s=input()\n",
    "result = reverse_string(s)\n",
    "print(\"Reversed:\", result)"
   ]
  },
  {
   "cell_type": "code",
   "execution_count": null,
   "id": "03c44035-3ad4-48a5-ba72-845d69e74fa0",
   "metadata": {},
   "outputs": [],
   "source": []
  },
  {
   "cell_type": "markdown",
   "id": "164f93b1-fe1e-48a0-ab97-c6068b50e3ff",
   "metadata": {},
   "source": [
    "8. Create a recursive Python function to calculate the power of a number (x^n)."
   ]
  },
  {
   "cell_type": "code",
   "execution_count": 22,
   "id": "f33daeff-c938-405f-aed1-c08278eb033e",
   "metadata": {},
   "outputs": [
    {
     "name": "stdin",
     "output_type": "stream",
     "text": [
      " 2\n",
      " 4\n"
     ]
    },
    {
     "name": "stdout",
     "output_type": "stream",
     "text": [
      "Power: 16\n"
     ]
    }
   ],
   "source": [
    "def power(x, n):\n",
    "    if n == 0:\n",
    "        return 1\n",
    "    else:\n",
    "        return x * power(x, n - 1)\n",
    "#taking input\n",
    "n1= int(input())\n",
    "n2= int(input())\n",
    "result = power(n1,n2)\n",
    "print(\"Power:\", result) "
   ]
  },
  {
   "cell_type": "code",
   "execution_count": null,
   "id": "eb5f2bb7-a8bf-44cd-953b-5d22a1d3e8c0",
   "metadata": {},
   "outputs": [],
   "source": []
  },
  {
   "cell_type": "markdown",
   "id": "1b951c58-af53-45a8-baba-a84140bbc169",
   "metadata": {},
   "source": [
    "9. Write a recursive Python function to find all permutations of a given string."
   ]
  },
  {
   "cell_type": "code",
   "execution_count": 23,
   "id": "48b4a51f-a8bc-4d42-bc6c-478383e86467",
   "metadata": {},
   "outputs": [
    {
     "name": "stdin",
     "output_type": "stream",
     "text": [
      " abcde\n"
     ]
    },
    {
     "name": "stdout",
     "output_type": "stream",
     "text": [
      "Permutations: ['abcde', 'abced', 'abdce', 'abdec', 'abecd', 'abedc', 'acbde', 'acbed', 'acdbe', 'acdeb', 'acebd', 'acedb', 'adbce', 'adbec', 'adcbe', 'adceb', 'adebc', 'adecb', 'aebcd', 'aebdc', 'aecbd', 'aecdb', 'aedbc', 'aedcb', 'bacde', 'baced', 'badce', 'badec', 'baecd', 'baedc', 'bcade', 'bcaed', 'bcdae', 'bcdea', 'bcead', 'bceda', 'bdace', 'bdaec', 'bdcae', 'bdcea', 'bdeac', 'bdeca', 'beacd', 'beadc', 'becad', 'becda', 'bedac', 'bedca', 'cabde', 'cabed', 'cadbe', 'cadeb', 'caebd', 'caedb', 'cbade', 'cbaed', 'cbdae', 'cbdea', 'cbead', 'cbeda', 'cdabe', 'cdaeb', 'cdbae', 'cdbea', 'cdeab', 'cdeba', 'ceabd', 'ceadb', 'cebad', 'cebda', 'cedab', 'cedba', 'dabce', 'dabec', 'dacbe', 'daceb', 'daebc', 'daecb', 'dbace', 'dbaec', 'dbcae', 'dbcea', 'dbeac', 'dbeca', 'dcabe', 'dcaeb', 'dcbae', 'dcbea', 'dceab', 'dceba', 'deabc', 'deacb', 'debac', 'debca', 'decab', 'decba', 'eabcd', 'eabdc', 'eacbd', 'eacdb', 'eadbc', 'eadcb', 'ebacd', 'ebadc', 'ebcad', 'ebcda', 'ebdac', 'ebdca', 'ecabd', 'ecadb', 'ecbad', 'ecbda', 'ecdab', 'ecdba', 'edabc', 'edacb', 'edbac', 'edbca', 'edcab', 'edcba']\n"
     ]
    }
   ],
   "source": [
    "def find_permutations(s):\n",
    "    #If there's only one permutation.\n",
    "    if len(s) == 1:\n",
    "        return [s]\n",
    "\n",
    "    permutations = []\n",
    "\n",
    "    # Iterate over each character in the string.\n",
    "    for i in range(len(s)):\n",
    "        # Choose the current character as the first character.\n",
    "        first_char = s[i]\n",
    "\n",
    "        # Exclude the current character and find permutations of the remaining substring.\n",
    "        remaining_chars = s[:i] + s[i+1:]\n",
    "        sub_permutations = find_permutations(remaining_chars)\n",
    "\n",
    "        # Add the current character to each permutation of the remaining substring.\n",
    "        for sub_permutation in sub_permutations:\n",
    "            permutations.append(first_char + sub_permutation)\n",
    "\n",
    "    return permutations\n",
    "#taking input\n",
    "s=input()\n",
    "result = find_permutations(s)\n",
    "print(\"Permutations:\", result)"
   ]
  },
  {
   "cell_type": "code",
   "execution_count": null,
   "id": "06e55c0d-8018-41a7-9c67-52f90ebbd12e",
   "metadata": {},
   "outputs": [],
   "source": []
  },
  {
   "cell_type": "markdown",
   "id": "b1b0c27a-b81e-4219-bddd-5a04e77ea53e",
   "metadata": {},
   "source": [
    "10. Write a recursive Python function to check if a string is a palindrome."
   ]
  },
  {
   "cell_type": "code",
   "execution_count": 24,
   "id": "62fb8a5f-6303-4b82-9bfe-8830c3ef4e2c",
   "metadata": {},
   "outputs": [
    {
     "name": "stdin",
     "output_type": "stream",
     "text": [
      " hello\n"
     ]
    },
    {
     "name": "stdout",
     "output_type": "stream",
     "text": [
      "Is Palindrome: False\n"
     ]
    }
   ],
   "source": [
    "def is_palindrome(s):\n",
    "    s = s.lower()\n",
    "    if len(s) <= 1:\n",
    "        return True\n",
    "    elif s[0] != s[-1]:\n",
    "        return False\n",
    "    else:\n",
    "        return is_palindrome(s[1:-1])\n",
    "#taking input\n",
    "s=input()\n",
    "result = is_palindrome(s)\n",
    "print(\"Is Palindrome:\", result)"
   ]
  },
  {
   "cell_type": "code",
   "execution_count": null,
   "id": "a78af514-d654-451a-bc4a-64ddadb77226",
   "metadata": {},
   "outputs": [],
   "source": []
  },
  {
   "cell_type": "markdown",
   "id": "ebb89ddf-d090-49c5-98b2-aa72d8d4b46b",
   "metadata": {},
   "source": [
    "11. Create a recursive Python function to generate all possible combinations of a list of elements."
   ]
  },
  {
   "cell_type": "code",
   "execution_count": 26,
   "id": "121622c8-e29b-4173-8fb2-7694e9d13545",
   "metadata": {},
   "outputs": [
    {
     "name": "stdout",
     "output_type": "stream",
     "text": [
      "Combinations: [[], [1], [2], [1, 2], [3], [1, 3], [2, 3], [1, 2, 3]]\n"
     ]
    }
   ],
   "source": [
    "def generate_combinations(elements):\n",
    "    if len(elements) == 0:\n",
    "        return [[]] \n",
    "    first_element = elements[0]\n",
    "    rest_elements = elements[1:]\n",
    "    # Recursively generate combinations without the first element.\n",
    "    combinations_without_first = generate_combinations(rest_elements)\n",
    "    # Combine the first element with each combination without it.\n",
    "    combinations_with_first = []\n",
    "    for combination in combinations_without_first:\n",
    "        combinations_with_first.append(combination) \n",
    "        combinations_with_first.append([first_element] + combination)  \n",
    "\n",
    "    return combinations_with_first\n",
    "#create list\n",
    "elements = [1, 2, 3]\n",
    "result = generate_combinations(elements)\n",
    "print(\"Combinations:\", result)"
   ]
  },
  {
   "cell_type": "code",
   "execution_count": null,
   "id": "cabfd204-a1b9-450d-bb2f-4d390ff3c03a",
   "metadata": {},
   "outputs": [],
   "source": []
  },
  {
   "cell_type": "code",
   "execution_count": null,
   "id": "0930c9aa-0dc9-4937-884a-d542d607b67b",
   "metadata": {},
   "outputs": [],
   "source": []
  },
  {
   "cell_type": "markdown",
   "id": "0f77b59e-2564-4cb6-b2a9-6e98ed0613b0",
   "metadata": {},
   "source": [
    "Basics of Functions:"
   ]
  },
  {
   "cell_type": "code",
   "execution_count": null,
   "id": "a8b007d4-a91e-4f5c-a503-ae1bc920fea0",
   "metadata": {},
   "outputs": [],
   "source": []
  },
  {
   "cell_type": "code",
   "execution_count": null,
   "id": "9d05cc3a-6645-4810-b0e2-4a4aed3e553e",
   "metadata": {},
   "outputs": [],
   "source": []
  },
  {
   "cell_type": "markdown",
   "id": "493843fb-8abc-4a04-8b27-19cb269d5bfb",
   "metadata": {},
   "source": [
    "1. What is a function in Python, and why is it used?"
   ]
  },
  {
   "cell_type": "raw",
   "id": "29683971-8ab9-4045-bae5-a0f66c8d5535",
   "metadata": {},
   "source": [
    "A function in Python is a reusable block of code that performs a specific task or a set of related tasks. Functions are used to organize and modularize code, making it more readable, maintainable, and reusable."
   ]
  },
  {
   "cell_type": "raw",
   "id": "11ea7aa3-cab0-40a3-96d0-e85d74c0310e",
   "metadata": {},
   "source": [
    "Functions allow you to break down complex problems into smaller, manageable parts, and they promote code reuse by enabling you to call the same function multiple times with different inputs."
   ]
  },
  {
   "cell_type": "code",
   "execution_count": null,
   "id": "43515b37-9173-43d5-9738-7f73ea23684c",
   "metadata": {},
   "outputs": [],
   "source": []
  },
  {
   "cell_type": "markdown",
   "id": "a0f7d444-bb37-46ae-a553-0e0648a7cbbb",
   "metadata": {},
   "source": [
    "2. How do you define a function in Python? Provide an example."
   ]
  },
  {
   "cell_type": "raw",
   "id": "c73a5431-dc6c-4558-9eed-9aaaa5d7c2c7",
   "metadata": {},
   "source": [
    "We can define a function in Python using the def keyword, followed by the function name, parentheses for parameters, a colon, and an indented block of code."
   ]
  },
  {
   "cell_type": "code",
   "execution_count": 28,
   "id": "3c532aff-d6b9-4c68-8ac3-d0d3ea189333",
   "metadata": {},
   "outputs": [
    {
     "name": "stdin",
     "output_type": "stream",
     "text": [
      " 4\n"
     ]
    },
    {
     "name": "stdout",
     "output_type": "stream",
     "text": [
      "Factorial: 24\n"
     ]
    }
   ],
   "source": [
    "#EXAMPLE: FACTORIAL\n",
    "def factorial(n):\n",
    "    if n == 0:\n",
    "        return 1\n",
    "    else:\n",
    "        return n * factorial(n - 1)\n",
    "#taking input\n",
    "n= int(input())\n",
    "result = factorial(n)\n",
    "print(\"Factorial:\", result) "
   ]
  },
  {
   "cell_type": "code",
   "execution_count": null,
   "id": "5154ae6c-63eb-494e-803e-cb3eeac7a814",
   "metadata": {},
   "outputs": [],
   "source": []
  },
  {
   "cell_type": "markdown",
   "id": "00df6414-4526-499a-9a5b-3f96b3a55fb8",
   "metadata": {},
   "source": [
    "3. Explain the difference between a function definition and a function call."
   ]
  },
  {
   "cell_type": "markdown",
   "id": "1cdf071d-c0b0-4cc1-b1c9-179d4456af0f",
   "metadata": {},
   "source": [
    "Function Definition: This is where you define the function, specifying its name, parameters, and the code it will execute when called. The function definition typically appears at the top of your script or module."
   ]
  },
  {
   "cell_type": "raw",
   "id": "d2cb51e3-9ba3-464f-9a58-965656fa918e",
   "metadata": {},
   "source": [
    "Function Call: This is when you actually invoke or use the function you've defined. During a function call, you provide the necessary arguments (if any) that match the function's parameters. The function's code is executed with these arguments, and it may return a result."
   ]
  },
  {
   "cell_type": "code",
   "execution_count": 30,
   "id": "1cbd2d5f-7e41-4972-b23e-967b7ca8d06b",
   "metadata": {},
   "outputs": [
    {
     "name": "stdout",
     "output_type": "stream",
     "text": [
      "HELLO PWSKILLS!\n"
     ]
    }
   ],
   "source": [
    "#EXAMPLE:\n",
    "# Function Definition\n",
    "def greet(name):\n",
    "    print(f\"{name}!\")\n",
    "\n",
    "# Function Call\n",
    "greet(\"HELLO PWSKILLS\") "
   ]
  },
  {
   "cell_type": "code",
   "execution_count": null,
   "id": "6d5a729a-5272-4b6c-b57c-afd497baa41d",
   "metadata": {},
   "outputs": [],
   "source": []
  },
  {
   "cell_type": "markdown",
   "id": "666df6ff-e821-49cb-883f-c165ffa72a5a",
   "metadata": {},
   "source": [
    "4. Write a Python program that defines a function to calculate the sum of two numbers and then calls the function."
   ]
  },
  {
   "cell_type": "code",
   "execution_count": 31,
   "id": "6f0246a7-314c-44de-86e2-4bfd9a22348b",
   "metadata": {},
   "outputs": [
    {
     "name": "stdin",
     "output_type": "stream",
     "text": [
      " 55\n",
      " 45\n"
     ]
    },
    {
     "name": "stdout",
     "output_type": "stream",
     "text": [
      "Sum: 100\n"
     ]
    }
   ],
   "source": [
    "def calculate_sum(a, b):\n",
    "    return a + b\n",
    "#taking input\n",
    "n1= int(input())\n",
    "n2= int(input())\n",
    "result = calculate_sum(n1,n2)\n",
    "print(\"Sum:\", result)"
   ]
  },
  {
   "cell_type": "code",
   "execution_count": null,
   "id": "48bca447-b51b-45e9-be97-05b446dab757",
   "metadata": {},
   "outputs": [],
   "source": []
  },
  {
   "cell_type": "markdown",
   "id": "73476486-f38b-4db8-ac6d-118ed9b30710",
   "metadata": {},
   "source": [
    "5. What is a function signature, and what information does it typically include?"
   ]
  },
  {
   "cell_type": "raw",
   "id": "ae060846-efd2-4beb-bb68-ce284e6795f2",
   "metadata": {},
   "source": [
    "A function signature is a part of the function definition that specifies the function's name, its parameters (including their names and types), and optionally, the return type. It is a concise summary of a function's interface.\n",
    "\n",
    "A typical function signature includes:\n",
    "->Function name\n",
    "->Parameters (names and types)\n",
    "->Return type (if any)\n",
    "\n",
    "For example, in the function def calculate_sum(a, b):, the function signature is calculate_sum(a, b)."
   ]
  },
  {
   "cell_type": "code",
   "execution_count": null,
   "id": "a6359ae7-4c7f-495d-b4bc-3d9c9e4dea50",
   "metadata": {},
   "outputs": [],
   "source": []
  },
  {
   "cell_type": "markdown",
   "id": "774740cd-8c6b-4b6d-9304-08722a387b45",
   "metadata": {},
   "source": [
    "6. Create a Python function that takes two arguments and returns their product."
   ]
  },
  {
   "cell_type": "code",
   "execution_count": 33,
   "id": "e6453bc3-f48d-45c5-a9f2-5a71b1e2f8fb",
   "metadata": {
    "tags": []
   },
   "outputs": [
    {
     "name": "stdin",
     "output_type": "stream",
     "text": [
      " 44\n",
      " 10\n"
     ]
    },
    {
     "name": "stdout",
     "output_type": "stream",
     "text": [
      "Product: 440\n"
     ]
    }
   ],
   "source": [
    "def calculate_product(x, y):\n",
    "    return x * y\n",
    "#taking input\n",
    "n1= int(input())\n",
    "n2= int(input())\n",
    "result = calculate_product(n1,n2)\n",
    "print(\"Product:\", result)"
   ]
  },
  {
   "cell_type": "code",
   "execution_count": null,
   "id": "025c56d1-c3fe-4e2c-875b-4c909cb8097e",
   "metadata": {},
   "outputs": [],
   "source": []
  },
  {
   "cell_type": "code",
   "execution_count": null,
   "id": "d3a28f7d-f34c-423b-9a8a-e0575b338123",
   "metadata": {},
   "outputs": [],
   "source": []
  },
  {
   "cell_type": "markdown",
   "id": "9628fe76-abe3-4bfa-bd06-f790859c0013",
   "metadata": {},
   "source": [
    "Function Parameters and Arguments:"
   ]
  },
  {
   "cell_type": "code",
   "execution_count": null,
   "id": "36f447ac-387e-4062-8859-af20c77e45a0",
   "metadata": {},
   "outputs": [],
   "source": []
  },
  {
   "cell_type": "markdown",
   "id": "dbd6f282-982b-4a3e-b1f8-4a6c3f385256",
   "metadata": {},
   "source": [
    "1. Explain the concepts of formal parameters and actual arguments in Python functions."
   ]
  },
  {
   "cell_type": "raw",
   "id": "ceaacb0e-cf3f-4c9f-b0bd-5260d0feb83c",
   "metadata": {},
   "source": [
    "Formal Parameters: These are placeholders in the function definition. When you define a function, you specify formal parameters inside the parentheses. Formal parameters are like variables that represent the values you expect to receive when the function is called. They act as names for the input data.\n",
    "\n",
    "def add(a, b):              # Here, a and b are formal parameters.\n",
    "    return a + b"
   ]
  },
  {
   "cell_type": "raw",
   "id": "0af840c2-a2ba-4c13-9ec6-1506a6adfb3b",
   "metadata": {},
   "source": [
    "Actual Arguments (Arguments): These are the actual values or expressions passed to a function when it is called. They supply the values for the formal parameters. Actual arguments can be variables, literals, or expressions.\n",
    "\n",
    "result = add(2, 3)          # Here, 2 and 3 are actual arguments."
   ]
  },
  {
   "cell_type": "code",
   "execution_count": null,
   "id": "1bcbdf4a-87c9-4050-90bf-955b2441334b",
   "metadata": {},
   "outputs": [],
   "source": []
  },
  {
   "cell_type": "markdown",
   "id": "dc5a7e56-71e8-4930-bc9d-9db60060a37f",
   "metadata": {},
   "source": [
    "2. Write a Python program that defines a function with default argument values."
   ]
  },
  {
   "cell_type": "code",
   "execution_count": 34,
   "id": "5e5575da-7fc4-4271-b773-64280f51a03d",
   "metadata": {},
   "outputs": [
    {
     "name": "stdout",
     "output_type": "stream",
     "text": [
      "Hello, pwskills!\n",
      "Hello, Abhishek!\n"
     ]
    }
   ],
   "source": [
    "def greet(name=\"pwskills\"):\n",
    "    print(f\"Hello, {name}!\")\n",
    "\n",
    "greet()             \n",
    "greet(\"Abhishek\")"
   ]
  },
  {
   "cell_type": "code",
   "execution_count": null,
   "id": "5f86bb7c-e4d8-4575-85fb-82b066d7e6cc",
   "metadata": {},
   "outputs": [],
   "source": []
  },
  {
   "cell_type": "markdown",
   "id": "c0d539e1-d65a-47c4-af33-aebecbacb8a0",
   "metadata": {},
   "source": [
    "3. How do you use keyword arguments in Python function calls? Provide an example."
   ]
  },
  {
   "cell_type": "code",
   "execution_count": 35,
   "id": "62a69248-5257-475f-82c8-683f43cdfaa9",
   "metadata": {},
   "outputs": [
    {
     "name": "stdout",
     "output_type": "stream",
     "text": [
      "110.0\n"
     ]
    }
   ],
   "source": [
    "def calculate_total(price, tax_rate):\n",
    "    total = price + (price * tax_rate)\n",
    "    return total\n",
    "# Using keyword arguments\n",
    "result = calculate_total(price=100, tax_rate=0.10)\n",
    "print(result)"
   ]
  },
  {
   "cell_type": "code",
   "execution_count": null,
   "id": "23b96719-33ce-4674-95db-983b32aee354",
   "metadata": {},
   "outputs": [],
   "source": []
  },
  {
   "cell_type": "markdown",
   "id": "d36ca4d1-49df-40be-a0cc-b09715878b53",
   "metadata": {},
   "source": [
    "4. Create a Python function that accepts a variable number of arguments and calculates their sum."
   ]
  },
  {
   "cell_type": "code",
   "execution_count": 36,
   "id": "d150727d-f156-438e-ae86-22f77b700181",
   "metadata": {},
   "outputs": [
    {
     "name": "stdout",
     "output_type": "stream",
     "text": [
      "15\n"
     ]
    }
   ],
   "source": [
    "def calculate_sum(*args):\n",
    "    total = sum(args)\n",
    "    return total\n",
    "\n",
    "result = calculate_sum(1, 2, 3, 4, 5)\n",
    "print(result)"
   ]
  },
  {
   "cell_type": "code",
   "execution_count": null,
   "id": "e188200a-3119-4d43-a958-5085d3c3f51a",
   "metadata": {},
   "outputs": [],
   "source": []
  },
  {
   "cell_type": "markdown",
   "id": "50f75adc-6adf-40de-98bf-f5ab297b753d",
   "metadata": {},
   "source": [
    "5. What is the purpose of the `*args` and `**kwargs` syntax in function parameter lists?"
   ]
  },
  {
   "cell_type": "raw",
   "id": "b98a547a-4c10-4899-a898-e4d121fea4eb",
   "metadata": {
    "tags": []
   },
   "source": [
    "*args: This syntax is used to accept a variable number of positional arguments. It allows you to pass any number of arguments to a function, which are collected into a tuple. This is useful when you don't know in advance how many arguments will be passed."
   ]
  },
  {
   "cell_type": "raw",
   "id": "7c640785-558c-49f6-8ad5-320fabfe1449",
   "metadata": {},
   "source": [
    "**kwargs: This syntax is used to accept a variable number of keyword arguments (keyword-value pairs). It collects these arguments into a dictionary. It's helpful when you want to allow arbitrary keyword arguments in your function."
   ]
  },
  {
   "cell_type": "code",
   "execution_count": 37,
   "id": "805f28ca-bd58-4bdc-af3b-0c82d1bfdbe6",
   "metadata": {},
   "outputs": [
    {
     "name": "stdout",
     "output_type": "stream",
     "text": [
      "arg1: value1\n",
      "args: (2, 3)\n",
      "kwarg1: custom\n",
      "kwargs: {'key1': 'value1', 'key2': 'value2'}\n"
     ]
    }
   ],
   "source": [
    "def example_function(arg1, *args, kwarg1=\"default\", **kwargs):\n",
    "    # arg1 is a regular parameter\n",
    "    # *args collects positional arguments into a tuple\n",
    "    # kwarg1 has a default value\n",
    "    # **kwargs collects keyword arguments into a dictionary\n",
    "    print(f\"arg1: {arg1}\")\n",
    "    print(f\"args: {args}\")\n",
    "    print(f\"kwarg1: {kwarg1}\")\n",
    "    print(f\"kwargs: {kwargs}\")\n",
    "\n",
    "example_function(\"value1\", 2, 3, kwarg1=\"custom\", key1=\"value1\", key2=\"value2\")"
   ]
  },
  {
   "cell_type": "code",
   "execution_count": null,
   "id": "6fb06d55-ae10-4523-9cee-af252a1a6d35",
   "metadata": {},
   "outputs": [],
   "source": []
  },
  {
   "cell_type": "code",
   "execution_count": null,
   "id": "fae047d9-ef5d-4007-936e-b08d4a97a3dd",
   "metadata": {},
   "outputs": [],
   "source": []
  },
  {
   "cell_type": "markdown",
   "id": "5a8364c1-e7f8-4a8d-9ee9-09a71071bcc5",
   "metadata": {},
   "source": [
    "Return Values and Scoping:"
   ]
  },
  {
   "cell_type": "code",
   "execution_count": null,
   "id": "f693ef97-ad46-4693-82b4-5e5712ecb33a",
   "metadata": {},
   "outputs": [],
   "source": []
  },
  {
   "cell_type": "markdown",
   "id": "c8dc8788-5cd8-42ac-a229-c59c46519b47",
   "metadata": {},
   "source": [
    "1. Describe the role of the `return` statement in Python functions and provide examples."
   ]
  },
  {
   "cell_type": "raw",
   "id": "37e3cbe7-8101-4629-88bf-d6353159589e",
   "metadata": {},
   "source": [
    "The return statement is used in Python functions to specify the value that the function should return when it is called. It allows a function to produce an output or result that can be used in other parts of the program."
   ]
  },
  {
   "cell_type": "code",
   "execution_count": 38,
   "id": "cb67e0f3-9692-442d-9322-f651fc6f780d",
   "metadata": {},
   "outputs": [
    {
     "name": "stdin",
     "output_type": "stream",
     "text": [
      " 5\n",
      " 7\n"
     ]
    },
    {
     "name": "stdout",
     "output_type": "stream",
     "text": [
      "12\n"
     ]
    }
   ],
   "source": [
    "# Examples\n",
    "def add(a, b):\n",
    "    return a + b\n",
    "#taking input\n",
    "n1= int(input())\n",
    "n2= int(input())\n",
    "result = add(n1,n2)  \n",
    "print(result)      "
   ]
  },
  {
   "cell_type": "code",
   "execution_count": null,
   "id": "a3ce643b-eda6-4773-85ca-9e125a3eea31",
   "metadata": {},
   "outputs": [],
   "source": []
  },
  {
   "cell_type": "markdown",
   "id": "346eb90e-cda7-47ac-bf33-672cea29cfcf",
   "metadata": {},
   "source": [
    "2. Explain the concept of variable scope in Python, including local and global variables."
   ]
  },
  {
   "cell_type": "raw",
   "id": "1f3b4401-9ed9-47c0-b179-528722715868",
   "metadata": {},
   "source": [
    "Variable Scope: Variable scope refers to the area or context in which a variable is defined and can be accessed. In Python, there are two main types of variable scope:"
   ]
  },
  {
   "cell_type": "raw",
   "id": "b4a8a89b-1278-49a3-8c7b-846c25cf081b",
   "metadata": {},
   "source": [
    "Local Variables: Variables defined within a function have local scope. They are accessible only within that function and are destroyed when the function exits."
   ]
  },
  {
   "cell_type": "raw",
   "id": "32f11622-b04d-4875-bd3c-9634bc2bdce9",
   "metadata": {},
   "source": [
    "Global Variables: Variables defined outside of any function, at the module level, have global scope. They can be accessed from anywhere in the module, including within functions."
   ]
  },
  {
   "cell_type": "code",
   "execution_count": null,
   "id": "6feef66d-4c4d-4456-8a17-80962f4792fe",
   "metadata": {},
   "outputs": [],
   "source": []
  },
  {
   "cell_type": "markdown",
   "id": "9fe1dbdc-f58c-4ee2-a6c2-d2ca4527bb12",
   "metadata": {},
   "source": [
    "3. Write a Python program that demonstrates the use of global variables within functions."
   ]
  },
  {
   "cell_type": "code",
   "execution_count": 39,
   "id": "ef78d06f-41aa-4590-8133-c46119b88dfe",
   "metadata": {},
   "outputs": [
    {
     "name": "stdout",
     "output_type": "stream",
     "text": [
      "50\n"
     ]
    }
   ],
   "source": [
    "# Global variable\n",
    "global_var = 10\n",
    "def multiply_by_global(number):\n",
    "    \"\"\"This function multiplies a number by a global variable.\"\"\"\n",
    "    return number * global_var\n",
    "\n",
    "result = multiply_by_global(5)\n",
    "print(result)"
   ]
  },
  {
   "cell_type": "code",
   "execution_count": null,
   "id": "05b53988-4e3a-4e8e-bff0-94f79ee456d3",
   "metadata": {},
   "outputs": [],
   "source": []
  },
  {
   "cell_type": "markdown",
   "id": "acc05c41-6982-4abb-86dd-d3a7f3bafaa1",
   "metadata": {},
   "source": [
    "4. Create a Python function that calculates the factorial of a number and returns it."
   ]
  },
  {
   "cell_type": "code",
   "execution_count": 40,
   "id": "2237abac-7aa1-41bc-a2e8-62b777dc0226",
   "metadata": {},
   "outputs": [
    {
     "name": "stdin",
     "output_type": "stream",
     "text": [
      " 6\n"
     ]
    },
    {
     "name": "stdout",
     "output_type": "stream",
     "text": [
      "Factorial: 720\n"
     ]
    }
   ],
   "source": [
    "def factorial(n):\n",
    "    if n == 0:\n",
    "        return 1\n",
    "    else:\n",
    "        return n * factorial(n - 1)\n",
    "#taking input\n",
    "n1= int(input())\n",
    "result = factorial(n1)\n",
    "print(\"Factorial:\", result)"
   ]
  },
  {
   "cell_type": "code",
   "execution_count": null,
   "id": "0b731919-9933-4117-a691-2fa79065ca8b",
   "metadata": {},
   "outputs": [],
   "source": []
  },
  {
   "cell_type": "markdown",
   "id": "cdab0b60-6afb-4293-beaf-1579e91bb55e",
   "metadata": {},
   "source": [
    "5. How can you access variables defined outside a function from within the function?\n"
   ]
  },
  {
   "cell_type": "raw",
   "id": "4a51e368-3345-448c-94e9-30a1d53a8255",
   "metadata": {},
   "source": [
    "To access variables defined outside a function from within the function, you can declare them as global within the function using the global keyword. This allows you to modify global variables from within a function."
   ]
  },
  {
   "cell_type": "code",
   "execution_count": 41,
   "id": "dd8266ae-4bf9-423a-9372-10afc4247fac",
   "metadata": {},
   "outputs": [
    {
     "name": "stdout",
     "output_type": "stream",
     "text": [
      "20\n"
     ]
    }
   ],
   "source": [
    "global_var = 10\n",
    "\n",
    "def modify_global():\n",
    "    global global_var\n",
    "    global_var = 20\n",
    "\n",
    "modify_global()\n",
    "print(global_var)"
   ]
  },
  {
   "cell_type": "code",
   "execution_count": null,
   "id": "7db4453b-7b1f-4d0a-abe8-568cca57338a",
   "metadata": {},
   "outputs": [],
   "source": []
  },
  {
   "cell_type": "code",
   "execution_count": null,
   "id": "9ff0d832-0dee-49de-b873-616ec06fbf0c",
   "metadata": {},
   "outputs": [],
   "source": []
  },
  {
   "cell_type": "markdown",
   "id": "e1dfa54f-dbd4-4fa8-afa0-5e2c158662c5",
   "metadata": {},
   "source": [
    "Lambda Functions and Higher-Order Functions:\n"
   ]
  },
  {
   "cell_type": "code",
   "execution_count": null,
   "id": "5afe6869-c7ca-46ee-8ed9-01569092b019",
   "metadata": {},
   "outputs": [],
   "source": []
  },
  {
   "cell_type": "markdown",
   "id": "9211f295-5d22-4d2e-aceb-822dfaada481",
   "metadata": {},
   "source": [
    "1. What are lambda functions in Python, and when are they typically used?"
   ]
  },
  {
   "cell_type": "raw",
   "id": "c80fe583-e003-4143-a79f-10a3973680a4",
   "metadata": {},
   "source": [
    "Lambda functions, also known as anonymous functions or lambda expressions, are small, unnamed functions in Python. They are typically used for short, simple operations where a full function definition is unnecessary or would be less readable. Lambda functions are defined using the lambda keyword."
   ]
  },
  {
   "cell_type": "raw",
   "id": "05b26e70-562d-4374-8830-ba1028262e70",
   "metadata": {},
   "source": [
    "Lambda functions are often used when you need to pass a simple function as an argument to another function, like in map(), filter(), or sort()."
   ]
  },
  {
   "cell_type": "code",
   "execution_count": null,
   "id": "a90783a4-06b4-4722-92c9-c81820064af0",
   "metadata": {},
   "outputs": [],
   "source": []
  },
  {
   "cell_type": "markdown",
   "id": "9ccbb61b-ecb0-4d7f-b376-b785fd6548be",
   "metadata": {},
   "source": [
    "2. Write a Python program that uses lambda functions to sort a list of tuples based on the second element."
   ]
  },
  {
   "cell_type": "code",
   "execution_count": 42,
   "id": "8afaf22f-b314-4247-8661-cc54f8415247",
   "metadata": {},
   "outputs": [
    {
     "name": "stdout",
     "output_type": "stream",
     "text": [
      "[('is', 22), ('data science', 47), ('hello', 56), ('name', 63), ('pwskills', 75), ('my', 89)]\n"
     ]
    }
   ],
   "source": [
    "# List of tuples\n",
    "grades = [(\"hello\", 56), (\"pwskills\", 75), (\"my\", 89), (\"name\", 63),(\"is\", 22), (\"data science\",47)]\n",
    "\n",
    "# Sort the list of tuples based on the second element (the grades)\n",
    "sorted_grades = sorted(grades, key=lambda x: x[1])\n",
    "\n",
    "print(sorted_grades)"
   ]
  },
  {
   "cell_type": "code",
   "execution_count": null,
   "id": "db7b061a-e784-41ab-8501-8c85cf8af5fa",
   "metadata": {},
   "outputs": [],
   "source": []
  },
  {
   "cell_type": "markdown",
   "id": "d4761ac4-f276-4045-87bc-f99549f8f5cf",
   "metadata": {},
   "source": [
    "3. Explain the concept of higher-order functions in Python, and provide an example."
   ]
  },
  {
   "cell_type": "raw",
   "id": "f956fe08-4b51-441d-af46-a6f69ee71ff5",
   "metadata": {},
   "source": [
    "Higher-order functions are functions that can take one or more functions as arguments and/or return functions as results. They treat functions as first-class citizens, allowing you to work with them just like any other data type."
   ]
  },
  {
   "cell_type": "raw",
   "id": "ed10f6b8-3906-471e-abb7-ab19255e0f8f",
   "metadata": {},
   "source": [
    "Python supports higher-order functions, and they are often used for functional programming tasks, such as mapping, filtering, and reducing data."
   ]
  },
  {
   "cell_type": "code",
   "execution_count": 43,
   "id": "985f3b6d-3996-42d1-bc3c-48f0441b895c",
   "metadata": {},
   "outputs": [
    {
     "name": "stdout",
     "output_type": "stream",
     "text": [
      "[1, 4, 9, 16, 25]\n"
     ]
    }
   ],
   "source": [
    "def square(x):\n",
    "    return x ** 2\n",
    "#create list\n",
    "numbers = [1, 2, 3, 4, 5]\n",
    "# Using map() as a higher-order function to apply the square function to each element\n",
    "squared_numbers = list(map(square, numbers))\n",
    "\n",
    "print(squared_numbers)"
   ]
  },
  {
   "cell_type": "code",
   "execution_count": null,
   "id": "e5158bb5-73ef-4f3d-9c88-5e52aa342c34",
   "metadata": {},
   "outputs": [],
   "source": []
  },
  {
   "cell_type": "markdown",
   "id": "1664b256-d930-4f56-910a-13360d2ba7a0",
   "metadata": {},
   "source": [
    "4. Create a Python function that takes a list of numbers and a function as arguments, applying the function to each element in the list.\n"
   ]
  },
  {
   "cell_type": "code",
   "execution_count": 44,
   "id": "9643ff2b-dc42-4daf-a553-c05c4cc2c6f4",
   "metadata": {},
   "outputs": [
    {
     "name": "stdout",
     "output_type": "stream",
     "text": [
      "[2, 4, 6, 8, 10]\n"
     ]
    }
   ],
   "source": [
    "def apply_function_to_list(numbers, func):\n",
    "    \"\"\"Applies the given function to each element in the list.\"\"\"\n",
    "    result = []\n",
    "    for num in numbers:\n",
    "        result.append(func(num))\n",
    "    return result\n",
    "\n",
    "def double(x):\n",
    "    return x * 2\n",
    "#create list\n",
    "numbers = [1, 2, 3, 4, 5]\n",
    "\n",
    "doubled_numbers = apply_function_to_list(numbers, double)\n",
    "\n",
    "print(doubled_numbers)"
   ]
  },
  {
   "cell_type": "code",
   "execution_count": null,
   "id": "8579087d-d965-423b-9753-5bc4eb0f98e3",
   "metadata": {},
   "outputs": [],
   "source": []
  },
  {
   "cell_type": "code",
   "execution_count": null,
   "id": "da979d68-e2d4-4d64-8760-d5b3f42ac01c",
   "metadata": {},
   "outputs": [],
   "source": []
  },
  {
   "cell_type": "markdown",
   "id": "05897052-d3ae-4e2b-af3a-082ddffec7dd",
   "metadata": {},
   "source": [
    "Built-in Functions:\n"
   ]
  },
  {
   "cell_type": "code",
   "execution_count": null,
   "id": "ab415ac9-173c-4d08-9735-ac564227a55b",
   "metadata": {},
   "outputs": [],
   "source": []
  },
  {
   "cell_type": "markdown",
   "id": "326e4456-063d-4bad-98b6-73f6ef25c80c",
   "metadata": {},
   "source": [
    "1. Describe the role of built-in functions like `len()`, `max()`, and `min()` in Python."
   ]
  },
  {
   "cell_type": "raw",
   "id": "cf828b04-587c-4135-be00-96475c59d035",
   "metadata": {},
   "source": [
    "len(): This function is used to determine the length or the number of elements in an iterable, such as a list, tuple, or string. It returns an integer representing the length.\n",
    "\n",
    "Example:\n",
    "\n",
    "my_list = [1, 2, 3, 4, 5]\n",
    "length = len(my_list)"
   ]
  },
  {
   "cell_type": "raw",
   "id": "4d249993-12c7-4422-bfd6-a9999e54d17e",
   "metadata": {},
   "source": [
    "max(): This function is used to find the maximum value from an iterable or a set of arguments. It returns the largest element.\n",
    "\n",
    "Example:\n",
    "\n",
    "numbers = [4, 7, 2, 9, 1]\n",
    "maximum = max(numbers) "
   ]
  },
  {
   "cell_type": "raw",
   "id": "7c94ad1f-a127-41f4-ac5d-8fa99581e0f5",
   "metadata": {},
   "source": [
    "min(): Similar to max(), the min() function finds the minimum value from an iterable or a set of arguments and returns the smallest element.\n",
    "\n",
    "Example:\n",
    "\n",
    "numbers = [4, 7, 2, 9, 1]\n",
    "minimum = min(numbers)"
   ]
  },
  {
   "cell_type": "code",
   "execution_count": null,
   "id": "0a92d5ed-a313-4693-aef4-4199307a7f82",
   "metadata": {},
   "outputs": [],
   "source": []
  },
  {
   "cell_type": "markdown",
   "id": "23e0cdd7-b256-4ae7-beff-edba78590630",
   "metadata": {},
   "source": [
    "2. Write a Python program that uses the `map()` function to apply a function to each element of a list."
   ]
  },
  {
   "cell_type": "code",
   "execution_count": 45,
   "id": "74302397-9c46-4e30-93b4-ac55e56cf9c1",
   "metadata": {},
   "outputs": [
    {
     "name": "stdout",
     "output_type": "stream",
     "text": [
      "[1, 4, 9, 16, 25]\n"
     ]
    }
   ],
   "source": [
    "def square(x):\n",
    "    return x ** 2\n",
    "# Create list\n",
    "numbers = [1, 2, 3, 4, 5]\n",
    "# Use map() to apply the square function to each element in the list\n",
    "squared_numbers = list(map(square, numbers))\n",
    "\n",
    "print(squared_numbers)"
   ]
  },
  {
   "cell_type": "code",
   "execution_count": null,
   "id": "bf181147-9d1b-4519-88b2-025f811031cd",
   "metadata": {},
   "outputs": [],
   "source": []
  },
  {
   "cell_type": "markdown",
   "id": "cc510f81-1c92-44b7-a7f4-7805e12fbf37",
   "metadata": {},
   "source": [
    "3. How does the `filter()` function work in Python, and when would you use it?"
   ]
  },
  {
   "cell_type": "raw",
   "id": "9171da60-01a3-4026-a644-ef25d537948a",
   "metadata": {},
   "source": [
    "The filter() function is used to filter elements from an iterable (e.g., a list) based on a given function's criteria. It returns a new iterable containing only the elements for which the function returns True."
   ]
  },
  {
   "cell_type": "code",
   "execution_count": null,
   "id": "51cc0517-ae60-4b05-a747-17b56ec565d3",
   "metadata": {},
   "outputs": [],
   "source": [
    "we would use the filter() function when you want to select specific elements from a collection based on a condition."
   ]
  },
  {
   "cell_type": "code",
   "execution_count": 46,
   "id": "6ec77e57-798a-43cd-8cf8-3111e8a38c1a",
   "metadata": {},
   "outputs": [
    {
     "name": "stdout",
     "output_type": "stream",
     "text": [
      "[2, 4, 6, 8, 10]\n"
     ]
    }
   ],
   "source": [
    "# Define a function to check if a number is even\n",
    "def is_even(x):\n",
    "    return x % 2 == 0\n",
    "# Create a list \n",
    "numbers = [1, 2, 3, 4, 5, 6, 7, 8, 9, 10]\n",
    "# Use filter() to select only the even numbers\n",
    "even_numbers = list(filter(is_even, numbers))\n",
    "\n",
    "print(even_numbers) "
   ]
  },
  {
   "cell_type": "code",
   "execution_count": null,
   "id": "cb31b227-e5d6-4b51-bd0e-1315b744b546",
   "metadata": {},
   "outputs": [],
   "source": []
  },
  {
   "cell_type": "markdown",
   "id": "503fca22-d5ae-4e0f-bfd5-b6dd4a5e9af5",
   "metadata": {},
   "source": [
    "4. Create a Python program that uses the `reduce()` function to find the product of all elements in a list.\n"
   ]
  },
  {
   "cell_type": "code",
   "execution_count": 47,
   "id": "5d31f4b1-618d-4bea-93ef-8ea1ac547d6e",
   "metadata": {},
   "outputs": [
    {
     "name": "stdout",
     "output_type": "stream",
     "text": [
      "120\n"
     ]
    }
   ],
   "source": [
    "from functools import reduce\n",
    "def multiply(x, y):\n",
    "    return x * y\n",
    "# Create a list\n",
    "numbers = [1, 2, 3, 4, 5]\n",
    "# Use reduce() to find the product of all elements in the list\n",
    "product = reduce(multiply, numbers)\n",
    "\n",
    "print(product)  "
   ]
  },
  {
   "cell_type": "code",
   "execution_count": null,
   "id": "c044cfc5-42fe-4baf-881e-ed54e2134f82",
   "metadata": {},
   "outputs": [],
   "source": []
  },
  {
   "cell_type": "code",
   "execution_count": null,
   "id": "66fd47a8-f826-41d9-803a-15b19774be67",
   "metadata": {},
   "outputs": [],
   "source": []
  },
  {
   "cell_type": "markdown",
   "id": "0c2abf89-622f-466f-b3bf-252d7af1e957",
   "metadata": {},
   "source": [
    "Function Documentation and Best Practices:"
   ]
  },
  {
   "cell_type": "code",
   "execution_count": null,
   "id": "d2009541-ef51-4a2b-b113-32bb5abdedbb",
   "metadata": {},
   "outputs": [],
   "source": []
  },
  {
   "cell_type": "markdown",
   "id": "63a7fb7c-9ff4-463a-9f80-0d21a0ea4658",
   "metadata": {},
   "source": [
    "1. Explain the purpose of docstrings in Python functions and how to write them.\n"
   ]
  },
  {
   "cell_type": "markdown",
   "id": "fad09637-a071-499b-b6a6-b907ed4c621c",
   "metadata": {},
   "source": [
    "ANSWER:\n",
    "\n",
    "Docstrings in Python are used to provide documentation and descriptions for functions, classes, modules, and methods. They serve as a way to describe the purpose, usage, and important details of the code we've written. Properly written docstrings can be invaluable for other developers (including your future self) who may need to use or maintain your code.\n",
    "\n",
    "Purpose of Docstrings:\n",
    "\n",
    "-->Documentation: Docstrings provide a clear and human-readable way to document the purpose and functionality of your code. They act as a form of inline documentation, making it easier for others (and yourself) to understand the code's intent.\n",
    "\n",
    "-->Usage Information: Docstrings explain how to use functions or classes, including the expected input arguments, return values, and any side effects. This helps users of your code know how to interact with it correctly.\n",
    "\n",
    "-->Automatic Generation: Many tools and libraries in the Python ecosystem can automatically generate documentation from docstrings. This is particularly useful for creating API documentation and user manuals.\n",
    "\n",
    "-->Code Exploration: Integrated development environments (IDEs) and code editors often display docstrings as tooltips or inline help, making it convenient to explore and understand your code while writing it.\n",
    "\n",
    "How to Write Docstrings:\n",
    "\n",
    "Docstrings are enclosed in triple quotes (either single or double) and are placed immediately following the function, class, or module definition. There are different conventions for writing docstrings in Python, but the most widely used one are given as follows:\n",
    "\n",
    "-->One-Line Summary: Provide a concise, one-line summary of what the function, class, or module does. This should be a brief and clear description.\n",
    "\n",
    "      def my_function(arg1, arg2):\n",
    "          \"\"\"This function calculates the sum of two numbers.\"\"\"\n",
    "          return arg1 + arg2\n",
    "    \n",
    "-->Detailed Description: After the one-line summary, you can include a more detailed description of the functionality. Explain any assumptions, limitations, and usage examples here.\n",
    "\n",
    "      def my_function(arg1, arg2):\n",
    "          \"\"\"\n",
    "          This function calculates the sum of two numbers.\n",
    "\n",
    "          Args:\n",
    "              arg1 (int): The first number.\n",
    "              arg2 (int): The second number.\n",
    "\n",
    "          Returns:\n",
    "              int: The sum of arg1 and arg2.\n",
    "          \"\"\"\n",
    "          return arg1 + arg2\n",
    "          \n",
    "-->Arguments and Return Values: List and describe the input arguments and their types, as well as the type of value returned by the function. This section helps users understand how to use the function correctly.\n",
    "\n",
    "-->Additional Sections: Depending on the complexity of your code, you can include additional sections in your docstring, such as examples, notes, or references to related functions or classes."
   ]
  },
  {
   "cell_type": "code",
   "execution_count": null,
   "id": "0def7ac9-a440-452b-9aa3-b35b05b35f93",
   "metadata": {},
   "outputs": [],
   "source": []
  },
  {
   "cell_type": "markdown",
   "id": "a0b03848-3138-458e-8c8f-6077794643f6",
   "metadata": {},
   "source": [
    "2. Describe some best practices for naming functions and variables in Python, including naming conventions and guidelines.\n"
   ]
  },
  {
   "cell_type": "markdown",
   "id": "db3d0770-5248-4b65-bd54-9624f616e550",
   "metadata": {},
   "source": [
    "ANSWER:\n",
    "\n",
    "Guidelines and conventions for naming functions and variables in Python, including naming conventions are given as follows :-\n",
    "\n",
    "1. Descriptive and Meaningful Names:\n",
    "\n",
    "  -->Choose names that clearly convey the purpose and functionality of the variable or function.\n",
    "  \n",
    "  -->Avoid vague or cryptic names, and instead opt for descriptive names that make the code more understandable.\n",
    "\n",
    "2. Maintain Consistency:\n",
    "\n",
    "  -->Keep a consistent naming style throughout your codebase. Mixing styles, like using camelCase for one function and snake_case for another, can lead to confusion.\n",
    "\n",
    "3. Avoid Python Reserved Words:\n",
    "\n",
    "  -->Never use Python's reserved words (e.g., if, for, while, def, class, import, etc.) as variable or function names.\n",
    "\n",
    "4. Use Underscores for Multi-Word Names:\n",
    "\n",
    "  -->When naming variables or functions with multiple words, separate them with underscores (e.g., word_count).\n",
    "\n",
    "5. Contextual Names:\n",
    "\n",
    "  -->Variables should typically be named after nouns (e.g., customer_name), while functions should be named after verbs (e.g., calculate_total). Contextual naming can make code more self-explanatory.\n",
    "\n",
    "6. Avoid One-Letter Variable Names:\n",
    "\n",
    "  -->Except for loop counters (e.g., i, j, k), avoid using single-letter variable names. Longer, descriptive names are preferred.\n",
    "\n",
    "7. Document Your Code: \n",
    "  \n",
    "  -->Include docstrings for functions and comments where necessary to provide additional context and explanation, especially when the code's purpose isn't immediately obvious from the names.\n",
    "\n",
    "8. Variable and Function Naming Rules:\n",
    "\n",
    "  -->Variable and function names must:\n",
    "     \n",
    "      *Start with a letter or underscore (e.g., _my_variable, my_variable).\n",
    "      *Consist of letters, numbers, and underscores (e.g., my_variable_123).\n",
    "      *Be case-sensitive, treating names with different cases as distinct (e.g., my_var and My_Var are different).\n",
    "\n",
    "9. Module Names in Lowercase:\n",
    "\n",
    "  -->Use all lowercase letters with underscores between words when naming Python module files (e.g., my_module.py).\n",
    "\n",
    "10. Constants in UPPERCASE:\n",
    "\n",
    "  -->Constants should be named in all capital letters with underscores separating words (e.g., MAX_VALUE).\n",
    "\n",
    "\n",
    "11. Private Attributes and Methods:\n",
    "\n",
    "  -->Use a single leading underscore (e.g., _private_variable) to indicate that an attribute or method is intended for internal use within a module or class."
   ]
  },
  {
   "cell_type": "code",
   "execution_count": null,
   "id": "f3438d2b-ffb6-4081-8714-ffa091bc5346",
   "metadata": {},
   "outputs": [],
   "source": []
  }
 ],
 "metadata": {
  "kernelspec": {
   "display_name": "Python 3 (ipykernel)",
   "language": "python",
   "name": "python3"
  },
  "language_info": {
   "codemirror_mode": {
    "name": "ipython",
    "version": 3
   },
   "file_extension": ".py",
   "mimetype": "text/x-python",
   "name": "python",
   "nbconvert_exporter": "python",
   "pygments_lexer": "ipython3",
   "version": "3.10.8"
  }
 },
 "nbformat": 4,
 "nbformat_minor": 5
}
