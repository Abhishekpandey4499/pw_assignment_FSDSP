{
 "cells": [
  {
   "cell_type": "markdown",
   "metadata": {},
   "source": [
    "## **String Based Assignment Problem**"
   ]
  },
  {
   "cell_type": "markdown",
   "metadata": {},
   "source": [
    "### 1. Write a program to reverse a string.\n"
   ]
  },
  {
   "cell_type": "code",
   "execution_count": 15,
   "metadata": {},
   "outputs": [
    {
     "name": "stdout",
     "output_type": "stream",
     "text": [
      "Reverse string is: sllikswp\n"
     ]
    }
   ],
   "source": [
    "#Question- 1\n",
    "s1=input()           #take input\n",
    "s1=s1[::-1]          #reversing\n",
    "print(\"Reverse string is: \" + s1)"
   ]
  },
  {
   "cell_type": "markdown",
   "metadata": {},
   "source": [
    "### 2. Check if a string is a palindrome.\n"
   ]
  },
  {
   "cell_type": "code",
   "execution_count": 6,
   "metadata": {},
   "outputs": [
    {
     "name": "stdout",
     "output_type": "stream",
     "text": [
      "Palindrome\n"
     ]
    }
   ],
   "source": [
    "#Questions- 2\n",
    "s1=input()               #take input\n",
    "s2= s1[::-1]             #reversing\n",
    "if s1==s2:               #checking palindrome or not\n",
    "    print(\"Palindrome\")\n",
    "else:\n",
    "    print(\"Not Palindrome\")"
   ]
  },
  {
   "cell_type": "markdown",
   "metadata": {},
   "source": [
    "### 3. Convert a string to uppercase.\n"
   ]
  },
  {
   "cell_type": "code",
   "execution_count": 7,
   "metadata": {},
   "outputs": [
    {
     "name": "stdout",
     "output_type": "stream",
     "text": [
      "PWSKILLS\n"
     ]
    }
   ],
   "source": [
    "#Question- 3\n",
    "s1= input()             #take input\n",
    "s1=s1.upper()           #convert in uppercase\n",
    "print(s1)               #print"
   ]
  },
  {
   "cell_type": "markdown",
   "metadata": {},
   "source": [
    "### 4. Convert a string to lowercase.\n"
   ]
  },
  {
   "cell_type": "code",
   "execution_count": 8,
   "metadata": {},
   "outputs": [
    {
     "name": "stdout",
     "output_type": "stream",
     "text": [
      "pwskills\n"
     ]
    }
   ],
   "source": [
    "#Question- 4\n",
    "s1= input()               #take input\n",
    "s1= s1.lower()            #convert in lowercase\n",
    "print(s1)                 #print"
   ]
  },
  {
   "cell_type": "markdown",
   "metadata": {},
   "source": [
    "### 5. Count the number of vowels in a string.\n"
   ]
  },
  {
   "cell_type": "code",
   "execution_count": 9,
   "metadata": {},
   "outputs": [
    {
     "name": "stdout",
     "output_type": "stream",
     "text": [
      "Total vowels are :1\n"
     ]
    }
   ],
   "source": [
    "#Question- 5\n",
    "s1 = input('Enter the string :')                                        #taking string\n",
    "count = 0                                                               #create a variable that count total vowels\n",
    "s1 = s1.lower()                                                         #converting string in lowercase\n",
    "for i in s1:                                                            #counting vowels\n",
    "    if i == 'a' or i == 'e' or i == 'i' or i == 'o' or i == 'u':\n",
    "        count+=1\n",
    "if count == 0:                                                          #print vowel according its value\n",
    "    print('No vowels found')\n",
    "else:\n",
    "    print('Total vowels are :' + str(count))"
   ]
  },
  {
   "cell_type": "markdown",
   "metadata": {},
   "source": [
    "### 6. Count the number of consonants in a string.\n"
   ]
  },
  {
   "cell_type": "code",
   "execution_count": 10,
   "metadata": {},
   "outputs": [
    {
     "name": "stdout",
     "output_type": "stream",
     "text": [
      "Total consonants are :7\n"
     ]
    }
   ],
   "source": [
    "#Question- 6\n",
    "s1 = input('Enter the string :')                                        #taking string\n",
    "length= len(s1)\n",
    "count = 0                                                               #create a variable that count total vowels\n",
    "s1 = s1.lower()                                                         #converting string in lowercase\n",
    "for i in s1:                                                            #counting vowels\n",
    "    if i == 'a' or i == 'e' or i == 'i' or i == 'o' or i == 'u':\n",
    "        count+=1\n",
    "print('Total consonants are :' + str(length-count))                     #print result"
   ]
  },
  {
   "cell_type": "markdown",
   "metadata": {},
   "source": [
    "### 7. Remove all whitespaces from a string.\n"
   ]
  },
  {
   "cell_type": "code",
   "execution_count": 11,
   "metadata": {},
   "outputs": [
    {
     "name": "stdout",
     "output_type": "stream",
     "text": [
      "After removing spaces: hellomynameis\n"
     ]
    }
   ],
   "source": [
    "#Question- 7\n",
    "s1= input(\"Enter the string: \")                                    #taking input\n",
    "s1= s1.replace(\" \",\"\")                                             #removing spaces\n",
    "print(\"After removing spaces: \" + s1)                              #print without spaces"
   ]
  },
  {
   "cell_type": "markdown",
   "metadata": {},
   "source": [
    "### 8. Find the length of a string without using the `len()` function.\n"
   ]
  },
  {
   "cell_type": "code",
   "execution_count": 12,
   "metadata": {},
   "outputs": [
    {
     "name": "stdout",
     "output_type": "stream",
     "text": [
      "8\n"
     ]
    }
   ],
   "source": [
    "#Question- 8\n",
    "s1= input(\"Enter the string: \")\n",
    "count = 0\n",
    "for c in s1:\n",
    "    count+=1\n",
    "print(count)"
   ]
  },
  {
   "cell_type": "markdown",
   "metadata": {},
   "source": [
    "### 9. Check if a string contains a specific word.\n"
   ]
  },
  {
   "cell_type": "code",
   "execution_count": 13,
   "metadata": {},
   "outputs": [
    {
     "name": "stdout",
     "output_type": "stream",
     "text": [
      "string found\n"
     ]
    }
   ],
   "source": [
    "#Question- 9\n",
    "s1= input(\"Enter the string: \")                      #take input\n",
    "s2 =input(\"Enter string to search\")                  #take string to search\n",
    "if s2 in s1:                                         #checking string is present or not\n",
    "    print(\"string found\")\n",
    "else:\n",
    "    print(\"string not found\")"
   ]
  },
  {
   "cell_type": "markdown",
   "metadata": {},
   "source": [
    "### 10. Replace a word in a string with another word.\n"
   ]
  },
  {
   "cell_type": "code",
   "execution_count": 14,
   "metadata": {},
   "outputs": [
    {
     "name": "stdout",
     "output_type": "stream",
     "text": [
      "hello my name is\n"
     ]
    }
   ],
   "source": [
    "#Question- 10\n",
    "s1= input(\"Enter the string: \")                               #take input\n",
    "s2= input(\"Enter the old string: \")                           #take old string\n",
    "s3= input(\"Enter the new string: \")                           #take new string\n",
    "\n",
    "s1= s1.replace(s2,s3)                                         #replaceing\n",
    "print(s1)                        "
   ]
  },
  {
   "cell_type": "markdown",
   "metadata": {},
   "source": [
    "### 11. Count the occurrences of a word in a string.\n"
   ]
  },
  {
   "cell_type": "code",
   "execution_count": 16,
   "metadata": {},
   "outputs": [
    {
     "name": "stdout",
     "output_type": "stream",
     "text": [
      "string appear 4 times\n"
     ]
    }
   ],
   "source": [
    "#Question- 11\n",
    "s1= input(\"Enter the string: \")                           #take input\n",
    "s2= input(\"Enter string to search: \")                     #take string to search\n",
    "count=0                                                   #intialize count \n",
    "s1= s1.split()                                            #it convert a string into a list \n",
    "print(\"string appear \" + str(s1.count(s2)) + \" times\")    #print using count function\n"
   ]
  },
  {
   "cell_type": "markdown",
   "metadata": {},
   "source": [
    "### 12. Find the first occurrence of a word in a string.\n"
   ]
  },
  {
   "cell_type": "code",
   "execution_count": 17,
   "metadata": {},
   "outputs": [
    {
     "name": "stdout",
     "output_type": "stream",
     "text": [
      "Found at: 9\n"
     ]
    }
   ],
   "source": [
    "#Question- 12\n",
    "s1= input(\"Enter the string: \")                           #take input\n",
    "s2= input(\"Enter string to search: \")                     #take string to search\n",
    "i= s1.find(s2)                                            #index of the first occurrence of the string\n",
    "if i== -1:\n",
    "    print(\"Not found\")\n",
    "else:\n",
    "    print(\"Found at: \" + str(i))"
   ]
  },
  {
   "cell_type": "markdown",
   "metadata": {},
   "source": [
    "### 13. Find the last occurrence of a word in a string.\n"
   ]
  },
  {
   "cell_type": "code",
   "execution_count": 18,
   "metadata": {},
   "outputs": [
    {
     "name": "stdout",
     "output_type": "stream",
     "text": [
      "Found at: 9\n"
     ]
    }
   ],
   "source": [
    "#Question- 13\n",
    "s1= input(\"Enter the string: \")                           #take input\n",
    "s2= input(\"Enter string to search: \")                     #take string to search\n",
    "i= s1.rfind(s2)                                           #index of the first occurrence of the string from last\n",
    "if i== -1:\n",
    "    print(\"Not found\")\n",
    "else:\n",
    "    print(\"Found at: \" + str(i))"
   ]
  },
  {
   "cell_type": "markdown",
   "metadata": {},
   "source": [
    "### 14. Split a string into a list of words.\n"
   ]
  },
  {
   "cell_type": "code",
   "execution_count": 19,
   "metadata": {},
   "outputs": [
    {
     "name": "stdout",
     "output_type": "stream",
     "text": [
      "['hello', 'my', 'name', 'is']\n"
     ]
    }
   ],
   "source": [
    "#Question- 14\n",
    "s1= input(\"Enter the string: \")                           #take input\n",
    "s1= s1.split()                                            #split\n",
    "print(s1)"
   ]
  },
  {
   "cell_type": "markdown",
   "metadata": {},
   "source": [
    "### 15. Join a list of words into a string.\n"
   ]
  },
  {
   "cell_type": "code",
   "execution_count": 20,
   "metadata": {},
   "outputs": [
    {
     "name": "stdout",
     "output_type": "stream",
     "text": [
      "my name is hello\n"
     ]
    }
   ],
   "source": [
    "#Question- 15\n",
    "l1= [\"my\" , \"name\" , \"is\", \"hello\"]                  #list \n",
    "s1=\" \".join(l1)                                      #convert it into string using join function\n",
    "print(s1)"
   ]
  },
  {
   "cell_type": "markdown",
   "metadata": {},
   "source": [
    "### 16. Convert a string where words are separated by spaces to one where words are separated by underscores.\n"
   ]
  },
  {
   "cell_type": "code",
   "execution_count": 21,
   "metadata": {},
   "outputs": [
    {
     "name": "stdout",
     "output_type": "stream",
     "text": [
      "hello_my_name_is\n"
     ]
    }
   ],
   "source": [
    "#Question- 16\n",
    "s1=input()                        #take input\n",
    "s1= s1.replace(\" \", \"_\")          #replace space with underscore\n",
    "print(s1)"
   ]
  },
  {
   "cell_type": "markdown",
   "metadata": {},
   "source": [
    "### 17. Check if a string starts with a specific word or phrase.\n"
   ]
  },
  {
   "cell_type": "code",
   "execution_count": 22,
   "metadata": {},
   "outputs": [
    {
     "name": "stdout",
     "output_type": "stream",
     "text": [
      "The text starts with the prefix.\n"
     ]
    }
   ],
   "source": [
    "#Question- 17\n",
    "s1=\"Hello, world!\"           \n",
    "s2=\"Hello\"\n",
    "a=s1.startswith(s2)      #startswith() method to check if the text starts with the specified prefix\n",
    "if a:\n",
    "    print(\"The text starts with the prefix.\")\n",
    "else:\n",
    "    print(\"The text does not start with the prefix.\")"
   ]
  },
  {
   "cell_type": "markdown",
   "metadata": {},
   "source": [
    "### 18. Check if a string ends with a specific word or phrase.\n"
   ]
  },
  {
   "cell_type": "code",
   "execution_count": 23,
   "metadata": {},
   "outputs": [
    {
     "name": "stdout",
     "output_type": "stream",
     "text": [
      "The text does not end with the prefix.\n"
     ]
    }
   ],
   "source": [
    "#Question- 18\n",
    "s1=\"Hello, pwskills!\"\n",
    "s2=\"Hello\"\n",
    "a=s1.endswith(s2)        #endswith() method to check if the text ends with the specified suffix\n",
    "if a:\n",
    "    print(\"The text ends with the prefix.\")\n",
    "else:\n",
    "    print(\"The text does not end with the prefix.\")"
   ]
  },
  {
   "cell_type": "markdown",
   "metadata": {},
   "source": [
    "### 19. Convert a string to title case (e.g., \"hello world\" to \"Hello World\").\n"
   ]
  },
  {
   "cell_type": "code",
   "execution_count": 25,
   "metadata": {},
   "outputs": [
    {
     "name": "stdout",
     "output_type": "stream",
     "text": [
      "Hello Pwskills\n"
     ]
    }
   ],
   "source": [
    "#Questoin- 19\n",
    "s1=\"hello pwskills\"\n",
    "s2=s1.title()          #title() method to convert the text to title case\n",
    "print(s2)"
   ]
  },
  {
   "cell_type": "markdown",
   "metadata": {},
   "source": [
    "### 20. Find the longest word in a string.\n"
   ]
  },
  {
   "cell_type": "code",
   "execution_count": 28,
   "metadata": {},
   "outputs": [
    {
     "name": "stdout",
     "output_type": "stream",
     "text": [
      "longest is: abhishek\n"
     ]
    }
   ],
   "source": [
    "#Question-20\n",
    "s1=\"hello my name is abhishek pandey\"\n",
    "a=s1.split()        #Use the split() method to split the text into a list of words\n",
    "length=0\n",
    "res=''\n",
    "for i in a:\n",
    "    if len(i)>length:   #check if the length of the current word\n",
    "        length=len(i)\n",
    "        res=i\n",
    "print(\"longest is: \"+res)"
   ]
  },
  {
   "cell_type": "markdown",
   "metadata": {},
   "source": [
    "### 21. Find the shortest word in a string.\n"
   ]
  },
  {
   "cell_type": "code",
   "execution_count": 29,
   "metadata": {},
   "outputs": [
    {
     "name": "stdout",
     "output_type": "stream",
     "text": [
      "shortest word is: my\n"
     ]
    }
   ],
   "source": [
    "#Question-21\n",
    "s1=\"hello my name is abhishek pandey\"\n",
    "a=s1.split()        #Use the split() method to split the text into a list of words\n",
    "length=float('inf')\n",
    "res=''\n",
    "for i in a:\n",
    "    if len(i)<length:   #check if the length of the current word\n",
    "        length=len(i)\n",
    "        res=i\n",
    "print(\"shortest word is: \"+res)"
   ]
  },
  {
   "cell_type": "markdown",
   "metadata": {},
   "source": [
    "### 22. Reverse the order of words in a string.\n"
   ]
  },
  {
   "cell_type": "code",
   "execution_count": 30,
   "metadata": {},
   "outputs": [
    {
     "name": "stdout",
     "output_type": "stream",
     "text": [
      "pandey abhishek is name my hello\n"
     ]
    }
   ],
   "source": [
    "#Question-22\n",
    "s1=\"hello my name is abhishek pandey\"\n",
    "s = s1.split()[::-1]            # reversing words in a given string\n",
    "l = []\n",
    "for i in s:\n",
    "    l.append(i)\n",
    "print(\" \".join(l))"
   ]
  },
  {
   "cell_type": "markdown",
   "metadata": {},
   "source": [
    "### 23. Check if a string is alphanumeric.\n"
   ]
  },
  {
   "cell_type": "code",
   "execution_count": 31,
   "metadata": {},
   "outputs": [
    {
     "name": "stdout",
     "output_type": "stream",
     "text": [
      "The string is not alphanumeric.\n"
     ]
    }
   ],
   "source": [
    "#Question-23\n",
    "s1=\"hello my name is abhishek pandey\"\n",
    "a=0\n",
    "for i in s1:\n",
    "    if i.isalnum():   # Check if the character is a alphanumeric using the isalnum()\n",
    "        a+=1\n",
    "if a==1:\n",
    "    print(\"The string is alphanumeric.\")\n",
    "else:\n",
    "    print(\"The string is not alphanumeric.\")"
   ]
  },
  {
   "cell_type": "markdown",
   "metadata": {},
   "source": [
    "### 24. Extract all digits from a string.\n"
   ]
  },
  {
   "cell_type": "code",
   "execution_count": 32,
   "metadata": {},
   "outputs": [
    {
     "name": "stdout",
     "output_type": "stream",
     "text": [
      "12345678\n"
     ]
    }
   ],
   "source": [
    "#Question-24\n",
    "s1='p1w2s3k4i5l6l7ls8'\n",
    "s2=''\n",
    "for i in s1:\n",
    "    if i.isdigit():  # Check if the character is a digit using the isdigit()\n",
    "        s2+=i\n",
    "print(s2)"
   ]
  },
  {
   "cell_type": "markdown",
   "metadata": {},
   "source": [
    "### 25. Extract all alphabets from a string.\n"
   ]
  },
  {
   "cell_type": "code",
   "execution_count": 33,
   "metadata": {},
   "outputs": [
    {
     "name": "stdout",
     "output_type": "stream",
     "text": [
      "pwskillls\n"
     ]
    }
   ],
   "source": [
    "#Question-25\n",
    "s1='p1w2s3k4i5l6l7ls8'\n",
    "s2=''\n",
    "for i in s1:\n",
    "    if i.isalpha():  # Check if the character is a alphabet using the isalpha()\n",
    "        s2+=i\n",
    "print(s2)"
   ]
  },
  {
   "cell_type": "markdown",
   "metadata": {},
   "source": [
    "### 26. Count the number of uppercase letters in a string.\n"
   ]
  },
  {
   "cell_type": "code",
   "execution_count": 34,
   "metadata": {},
   "outputs": [
    {
     "name": "stdout",
     "output_type": "stream",
     "text": [
      "the number of uppercase letter is: 4\n"
     ]
    }
   ],
   "source": [
    "#Question-26\n",
    "s1='P1w2s3K4i5l6L7lS8'\n",
    "a=0\n",
    "for i in s1:\n",
    "    if i.isupper():  # Check if the character is in uppercase using the isupper()\n",
    "        a+=1\n",
    "print(\"the number of uppercase letter is: \"+ str(a))"
   ]
  },
  {
   "cell_type": "markdown",
   "metadata": {},
   "source": [
    "### 27. Count the number of lowercase letters in a string.\n"
   ]
  },
  {
   "cell_type": "code",
   "execution_count": 35,
   "metadata": {},
   "outputs": [
    {
     "name": "stdout",
     "output_type": "stream",
     "text": [
      "the number of lowercase letter is: 5\n"
     ]
    }
   ],
   "source": [
    "#Question-27\n",
    "s1='P1w2s3K4i5l6L7lS8'\n",
    "a=0\n",
    "for i in s1:\n",
    "    if i.islower():  # Check if the character is in lowercase using the islower()\n",
    "        a+=1\n",
    "print(\"the number of lowercase letter is: \"+ str(a))\n"
   ]
  },
  {
   "cell_type": "markdown",
   "metadata": {},
   "source": [
    "### 28. Swap the case of each character in a string.\n"
   ]
  },
  {
   "cell_type": "code",
   "execution_count": 36,
   "metadata": {},
   "outputs": [
    {
     "name": "stdout",
     "output_type": "stream",
     "text": [
      "PwSKiLLs\n"
     ]
    }
   ],
   "source": [
    "#Question-28\n",
    "s1=\"pWskIllS\"\n",
    "s2=s1.swapcase()  #swapcase() converts uppercase to lowercase and vice versa\n",
    "print(s2)\n"
   ]
  },
  {
   "cell_type": "markdown",
   "metadata": {},
   "source": [
    "### 29. Remove a specific word from a string.\n"
   ]
  },
  {
   "cell_type": "code",
   "execution_count": 37,
   "metadata": {},
   "outputs": [
    {
     "name": "stdout",
     "output_type": "stream",
     "text": [
      "hello my name is pandey \n"
     ]
    }
   ],
   "source": [
    "#Question-29\n",
    "s1=\"hello my name is abhishek pandey\"\n",
    "s2=\"abhishek\"\n",
    "a=s1.split()\n",
    "res=''\n",
    "for i in a:\n",
    "    if i!=s2:\n",
    "        res+=i+\" \"\n",
    "print(res)"
   ]
  },
  {
   "cell_type": "markdown",
   "metadata": {},
   "source": [
    "### 30. Check if a string is a valid email address.\n"
   ]
  },
  {
   "cell_type": "code",
   "execution_count": 38,
   "metadata": {},
   "outputs": [
    {
     "name": "stdout",
     "output_type": "stream",
     "text": [
      "The string is a valid email address.\n"
     ]
    }
   ],
   "source": [
    "#Question- 30\n",
    "import re             #import the regular expression module\n",
    "s1=\"example@email.com\"\n",
    "pattern = r'^[a-zA-Z0-9._%+-]+@[a-zA-Z0-9.-]+\\.[a-zA-Z]{2,}$'\n",
    "if re.match(pattern, s1):     #use the .match() method to check if the string matches the pattern\n",
    "    print(\"The string is a valid email address.\")\n",
    "else:\n",
    "    print(\"The string is not a valid email address.\")\n",
    "    print(\"Invalid email address.\")\n"
   ]
  },
  {
   "cell_type": "markdown",
   "metadata": {},
   "source": [
    "### 31. Extract the username from an email address string.\n"
   ]
  },
  {
   "cell_type": "code",
   "execution_count": 39,
   "metadata": {},
   "outputs": [
    {
     "name": "stdout",
     "output_type": "stream",
     "text": [
      "Username: akpandey.51466\n"
     ]
    }
   ],
   "source": [
    "#Question= 31\n",
    "email = input(\"Enter an email address: \")       #taking an email address\n",
    "username = email.split('@')[0]                  #split the email address at the @ and extract the username   \n",
    "\n",
    "print(\"Username:\", username)"
   ]
  },
  {
   "cell_type": "markdown",
   "metadata": {},
   "source": [
    "### 32. Extract the domain name from an email address string.\n"
   ]
  },
  {
   "cell_type": "code",
   "execution_count": 40,
   "metadata": {},
   "outputs": [
    {
     "name": "stdout",
     "output_type": "stream",
     "text": [
      "Domain: gmail.com\n"
     ]
    }
   ],
   "source": [
    "#Question= 32\n",
    "email = input(\"Enter an email address: \")       #taking an email address\n",
    "domain = email.split('@')[1]                 #split the email address at the @ and extract the domain name  \n",
    "\n",
    "print(\"Domain:\", domain)\n"
   ]
  },
  {
   "cell_type": "markdown",
   "metadata": {},
   "source": [
    "### 33. Replace multiple spaces in a string with a single space.\n"
   ]
  },
  {
   "cell_type": "code",
   "execution_count": 41,
   "metadata": {},
   "outputs": [
    {
     "name": "stdout",
     "output_type": "stream",
     "text": [
      "New String:  asd ad ejejsh jbahj jhbj\n"
     ]
    }
   ],
   "source": [
    "#Question= 33\n",
    "string = input(\"Enter a string: \")    #taking a string\n",
    "import re\n",
    "new_string = re.sub(' +', ' ', string)\n",
    "\n",
    "print(\"New String: \", new_string)\n"
   ]
  },
  {
   "cell_type": "markdown",
   "metadata": {},
   "source": [
    "### 34. Check if a string is a valid URL.\n"
   ]
  },
  {
   "cell_type": "code",
   "execution_count": 42,
   "metadata": {},
   "outputs": [
    {
     "name": "stdout",
     "output_type": "stream",
     "text": [
      "Invalid URL.\n"
     ]
    }
   ],
   "source": [
    "#Question= 34\n",
    "import re\n",
    "url = input(\"Enter a URL: \")    #taking input\n",
    "pattern = r'^(http|https)://[a-zA-Z0-9.-]+\\.[a-zA-Z]{2,}'\n",
    "\n",
    "if re.match(pattern, url):\n",
    "    print(\"Valid URL.\")\n",
    "else:\n",
    "    print(\"Invalid URL.\")\n"
   ]
  },
  {
   "cell_type": "markdown",
   "metadata": {},
   "source": [
    "### 35. Extract the protocol (http or https) from a URL string.\n"
   ]
  },
  {
   "cell_type": "code",
   "execution_count": 43,
   "metadata": {},
   "outputs": [
    {
     "name": "stdout",
     "output_type": "stream",
     "text": [
      "Protocol: https\n"
     ]
    }
   ],
   "source": [
    "#Question= 35\n",
    "url = input(\"Enter a URL: \")    #taking input\n",
    "protocol = url.split('://')[0]\n",
    "\n",
    "print(\"Protocol:\", protocol)"
   ]
  },
  {
   "cell_type": "markdown",
   "metadata": {},
   "source": [
    "### 36. Find the frequency of each character in a string.\n"
   ]
  },
  {
   "cell_type": "code",
   "execution_count": 44,
   "metadata": {},
   "outputs": [
    {
     "name": "stdout",
     "output_type": "stream",
     "text": [
      "Character frequencies: {'h': 1, 'e': 2, 'l': 2, 'o': 1, ' ': 3, 'm': 2, 'y': 1, 'n': 1, 'a': 1, 'i': 1, 's': 1}\n"
     ]
    }
   ],
   "source": [
    "#Question= 36\n",
    "string = input(\"Enter a string: \")      #taking input\n",
    "\n",
    "char_frequency = {}\n",
    "\n",
    "for char in string:\n",
    "    if char in char_frequency:\n",
    "        char_frequency[char] += 1\n",
    "    else:\n",
    "        char_frequency[char] = 1\n",
    "\n",
    "print(\"Character frequencies:\", char_frequency)\n"
   ]
  },
  {
   "cell_type": "markdown",
   "metadata": {},
   "source": [
    "### 37. Remove all punctuation from a string.\n"
   ]
  },
  {
   "cell_type": "code",
   "execution_count": 45,
   "metadata": {},
   "outputs": [
    {
     "name": "stdout",
     "output_type": "stream",
     "text": [
      "String without punctuation: hi name is \n"
     ]
    }
   ],
   "source": [
    "#Question= 37\n",
    "import string\n",
    "s1 = input(\"Enter a string: \")    #taking input\n",
    "\n",
    "s2 = ''.join(char for char in s1 if char not in string.punctuation)\n",
    "\n",
    "print(\"String without punctuation:\", s2)\n"
   ]
  },
  {
   "cell_type": "markdown",
   "metadata": {},
   "source": [
    "### 38. Check if a string contains only digits.\n"
   ]
  },
  {
   "cell_type": "code",
   "execution_count": 46,
   "metadata": {},
   "outputs": [
    {
     "name": "stdout",
     "output_type": "stream",
     "text": [
      "String does not contain only digits.\n"
     ]
    }
   ],
   "source": [
    "#Question= 38\n",
    "string = input(\"Enter a string: \")   #taking input\n",
    "# Check if the string contains only digits\n",
    "if string.isdigit():\n",
    "    print(\"String contains only digits.\")\n",
    "else:\n",
    "    print(\"String does not contain only digits.\")\n"
   ]
  },
  {
   "cell_type": "markdown",
   "metadata": {},
   "source": [
    "### 39. Check if a string contains only alphabets.\n"
   ]
  },
  {
   "cell_type": "code",
   "execution_count": 47,
   "metadata": {},
   "outputs": [
    {
     "name": "stdout",
     "output_type": "stream",
     "text": [
      "String contains only alphabets.\n"
     ]
    }
   ],
   "source": [
    "#Question= 39\n",
    "string = input(\"Enter a string: \")       #taking input\n",
    "# Check if the string contains only alphabets\n",
    "if string.isalpha():\n",
    "    print(\"String contains only alphabets.\")\n",
    "else:\n",
    "    print(\"String does not contain only alphabets.\")\n"
   ]
  },
  {
   "cell_type": "markdown",
   "metadata": {},
   "source": [
    "### 40. Convert a string to a list of characters.\n"
   ]
  },
  {
   "cell_type": "code",
   "execution_count": 48,
   "metadata": {},
   "outputs": [
    {
     "name": "stdout",
     "output_type": "stream",
     "text": [
      "List of characters: ['h', 'e', 'l', 'l', 'o', ' ', 'm', 'y', ' ', 'n', 'a', 'm', 'e', ' ', 'i', 's']\n"
     ]
    }
   ],
   "source": [
    "#Question= 40\n",
    "string = input(\"Enter a string: \")    #taking input\n",
    "# Convert the string to a list of characters\n",
    "char_list = list(string)\n",
    "print(\"List of characters:\", char_list)\n"
   ]
  },
  {
   "cell_type": "markdown",
   "metadata": {},
   "source": [
    "### 41. Check if two strings are anagrams.\n"
   ]
  },
  {
   "cell_type": "code",
   "execution_count": 49,
   "metadata": {},
   "outputs": [
    {
     "name": "stdout",
     "output_type": "stream",
     "text": [
      "The strings are anagrams.\n"
     ]
    }
   ],
   "source": [
    "#Question= 41\n",
    "s1 = input(\"Enter string1: \")       #taking input s1\n",
    "s2 = input(\"Enter string2: \")       #taking input s2\n",
    "\n",
    "# Remove spaces and convert to lowercase for comparison\n",
    "s1 = s1.replace(\" \", \"\").lower()\n",
    "s2 = s2.replace(\" \", \"\").lower()\n",
    "\n",
    "# Check if the sorted characters of both strings are the same\n",
    "if sorted(s1) == sorted(s2):\n",
    "    print(\"The strings are anagrams.\")\n",
    "else:\n",
    "    print(\"The strings are not anagrams.\")\n",
    "    print(\"The strings are not anagrams.\")\n"
   ]
  },
  {
   "cell_type": "markdown",
   "metadata": {},
   "source": [
    "### 42. Encode a string using a Caesar cipher.\n"
   ]
  },
  {
   "cell_type": "code",
   "execution_count": 50,
   "metadata": {},
   "outputs": [
    {
     "name": "stdout",
     "output_type": "stream",
     "text": [
      "Encoded string: lipps qc reqi mw\n"
     ]
    }
   ],
   "source": [
    "#Question= 42\n",
    "string = input(\"Enter a string: \")                #taking input\n",
    "shift = int(input(\"Enter the shift value: \"))\n",
    "result = \"\"                                       # Initialize an empty result string\n",
    "\n",
    "for char in string:\n",
    "    if char.isalpha():\n",
    "        if char.isupper():\n",
    "            offset = ord('A')\n",
    "        else:\n",
    "            offset = ord('a')\n",
    "\n",
    "        encoded_char = chr(((ord(char) - offset + shift) % 26) + offset)\n",
    "        result += encoded_char\n",
    "    else:\n",
    "        result += char\n",
    "\n",
    "print(\"Encoded string:\", result)\n"
   ]
  },
  {
   "cell_type": "markdown",
   "metadata": {},
   "source": [
    "### 43. Decode a Caesar cipher encoded string.\n"
   ]
  },
  {
   "cell_type": "code",
   "execution_count": 51,
   "metadata": {},
   "outputs": [
    {
     "name": "stdout",
     "output_type": "stream",
     "text": [
      "Decoded string: owofjdw\n"
     ]
    }
   ],
   "source": [
    "#Question= 43\n",
    "# Input an encoded string and the shift value\n",
    "encoded_string = input(\"Enter the encoded string: \")\n",
    "shift = int(input(\"Enter the shift value: \"))\n",
    "\n",
    "# Initialize an empty result string\n",
    "result = \"\"\n",
    "\n",
    "# Iterate through each character in the encoded string\n",
    "for char in encoded_string:\n",
    "    if char.isalpha():\n",
    "        # Determine whether the character is uppercase or lowercase\n",
    "        if char.isupper():\n",
    "            offset = ord('A')\n",
    "        else:\n",
    "            offset = ord('a')\n",
    "        \n",
    "        # Apply Caesar cipher shift in reverse to decode\n",
    "        decoded_char = chr(((ord(char) - offset - shift) % 26) + offset)\n",
    "        result += decoded_char\n",
    "    else:\n",
    "        result += char\n",
    "\n",
    "print(\"Decoded string:\", result)"
   ]
  },
  {
   "cell_type": "markdown",
   "metadata": {},
   "source": [
    "### 44. Find the most frequent word in a string.\n"
   ]
  },
  {
   "cell_type": "code",
   "execution_count": 52,
   "metadata": {},
   "outputs": [
    {
     "name": "stdout",
     "output_type": "stream",
     "text": [
      "Most frequent word: hello\n"
     ]
    }
   ],
   "source": [
    "#Question= 44\n",
    "string = input(\"Enter a string: \")        #taking input\n",
    "words = string.split()                    # Split the string into words\n",
    "word_freq = {}\n",
    "\n",
    "for word in words:\n",
    "    word = word.lower()                    # Convert to lowercase for case-insensitive comparison\n",
    "    if word in word_freq:\n",
    "        word_freq[word] += 1\n",
    "    else:\n",
    "        word_freq[word] = 1\n",
    "\n",
    "most_frequent_word = max(word_freq, key=word_freq.get)\n",
    "\n",
    "print(\"Most frequent word:\", most_frequent_word)\n"
   ]
  },
  {
   "cell_type": "markdown",
   "metadata": {},
   "source": [
    "### 45. Find all unique words in a string.\n"
   ]
  },
  {
   "cell_type": "code",
   "execution_count": 53,
   "metadata": {},
   "outputs": [
    {
     "name": "stdout",
     "output_type": "stream",
     "text": [
      "Unique words: {'arg'}\n"
     ]
    }
   ],
   "source": [
    "#Question= 45\n",
    "string = input(\"Enter a string: \")         #taking input\n",
    "words = string.split()                     #Split the string into words\n",
    "\n",
    "# Create a set to store unique words\n",
    "unique_words = set(words)\n",
    "\n",
    "print(\"Unique words:\", unique_words)"
   ]
  },
  {
   "cell_type": "markdown",
   "metadata": {},
   "source": [
    "### 46. Count the number of syllables in a string.\n"
   ]
  },
  {
   "cell_type": "code",
   "execution_count": 55,
   "metadata": {},
   "outputs": [
    {
     "name": "stdout",
     "output_type": "stream",
     "text": [
      "Number of syllables: 2\n"
     ]
    }
   ],
   "source": [
    "#Question= 46\n",
    "string = input(\"Enter a string: \")            #taking input\n",
    "\n",
    "def count_syllables(word):\n",
    "    vowels = \"AEIOUaeiou\"\n",
    "    count = 0\n",
    "    prev_char = None\n",
    "\n",
    "    for char in word:\n",
    "        if char in vowels and prev_char not in vowels:\n",
    "            count += 1\n",
    "        prev_char = char\n",
    "\n",
    "    return count\n",
    "\n",
    "words = string.split()\n",
    "syllable_count = sum(count_syllables(word) for word in words)\n",
    "\n",
    "print(\"Number of syllables:\", syllable_count)\n"
   ]
  },
  {
   "cell_type": "markdown",
   "metadata": {},
   "source": [
    "### 47. Check if a string contains any special characters.\n"
   ]
  },
  {
   "cell_type": "code",
   "execution_count": 56,
   "metadata": {},
   "outputs": [
    {
     "name": "stdout",
     "output_type": "stream",
     "text": [
      "The string contains special characters.\n"
     ]
    }
   ],
   "source": [
    "#Question= 47\n",
    "import string\n",
    "string_to_check = input(\"Enter a string: \")             #taking input\n",
    "\n",
    "def contains_special_characters(input_string):\n",
    "    special_characters = set(string.punctuation)\n",
    "    for char in input_string:\n",
    "        if char in special_characters:\n",
    "            return True\n",
    "    return False\n",
    "\n",
    "if contains_special_characters(string_to_check):\n",
    "    print(\"The string contains special characters.\")\n",
    "else:\n",
    "    print(\"The string does not contain special characters.\")\n"
   ]
  },
  {
   "cell_type": "markdown",
   "metadata": {},
   "source": [
    "### 48. Remove the nth word from a string.\n"
   ]
  },
  {
   "cell_type": "code",
   "execution_count": 57,
   "metadata": {},
   "outputs": [
    {
     "name": "stdout",
     "output_type": "stream",
     "text": [
      "hello name is\n"
     ]
    }
   ],
   "source": [
    "#Question= 48\n",
    "def remove_nth_word(sentence, n):\n",
    "    words = sentence.split()\n",
    "    if 0 < n <= len(words):\n",
    "        del words[n - 1]\n",
    "        return ' '.join(words)\n",
    "    else:\n",
    "        return \"Invalid index\"\n",
    "\n",
    "s1= input(\"Enter a string: \")          #taking input\n",
    "n = int(input(\"Enter the position: \"))\n",
    "result = remove_nth_word(s1, n)\n",
    "print(result)\n"
   ]
  },
  {
   "cell_type": "markdown",
   "metadata": {},
   "source": [
    "### 49. Insert a word at the nth position in a string.\n"
   ]
  },
  {
   "cell_type": "code",
   "execution_count": 58,
   "metadata": {},
   "outputs": [
    {
     "name": "stdout",
     "output_type": "stream",
     "text": [
      "hello my my name\n"
     ]
    }
   ],
   "source": [
    "#Question= 49              \n",
    "def insert_word(sentence, word, n):\n",
    "    words = sentence.split()\n",
    "    if 0 <= n <= len(words):\n",
    "        words.insert(n, word)\n",
    "        return ' '.join(words)\n",
    "    else:\n",
    "        return \"Invalid index\"\n",
    "\n",
    "# Example usage:\n",
    "s1= input(\"Enter a string: \")          #taking input\n",
    "n = int(input(\"Enter the position: \"))\n",
    "word_to_insert =input(\"Enter a string: \") \n",
    "result = insert_word(s1, word_to_insert, n)\n",
    "print(result)\n"
   ]
  },
  {
   "cell_type": "markdown",
   "metadata": {},
   "source": [
    "### 50. Convert a CSV string to a list of lists.\n"
   ]
  },
  {
   "cell_type": "code",
   "execution_count": 59,
   "metadata": {},
   "outputs": [
    {
     "name": "stdout",
     "output_type": "stream",
     "text": [
      "List of lists from CSV string:\n",
      "['hello my name is']\n"
     ]
    }
   ],
   "source": [
    "#Question= 50\n",
    "# Input a CSV string\n",
    "csv_string = input(\"Enter a CSV string: \")\n",
    "\n",
    "# Split the CSV string into rows\n",
    "rows = csv_string.split('\\n')\n",
    "\n",
    "# Initialize an empty list to store the list of lists\n",
    "csv_list = []\n",
    "\n",
    "# Iterate through the rows and split each row into columns\n",
    "for row in rows:\n",
    "    columns = row.split(',')\n",
    "    csv_list.append(columns)\n",
    "\n",
    "print(\"List of lists from CSV string:\")\n",
    "for row in csv_list:\n",
    "    print(row)\n"
   ]
  },
  {
   "cell_type": "markdown",
   "metadata": {},
   "source": [
    "## **List-Based Practice Problems:**"
   ]
  },
  {
   "cell_type": "markdown",
   "metadata": {},
   "source": [
    "### 1. Create a list with integers from 1 to 10.\n"
   ]
  },
  {
   "cell_type": "code",
   "execution_count": 65,
   "metadata": {},
   "outputs": [
    {
     "name": "stdout",
     "output_type": "stream",
     "text": [
      "[1, 2, 3, 4, 5, 6, 7, 8, 9, 10]\n"
     ]
    }
   ],
   "source": [
    "#Question= 1\n",
    "l1 = list(range(1, 11))\n",
    "print(l1)"
   ]
  },
  {
   "cell_type": "markdown",
   "metadata": {},
   "source": [
    "### 2. Find the length of a list without using the `len()` function.\n"
   ]
  },
  {
   "cell_type": "code",
   "execution_count": 66,
   "metadata": {},
   "outputs": [
    {
     "name": "stdout",
     "output_type": "stream",
     "text": [
      "Length of the list: 5\n"
     ]
    }
   ],
   "source": [
    "#Question= 2\n",
    "l1= [1, 2, 3, 4, 5]\n",
    "count = 0\n",
    "for _ in l1:\n",
    "    count += 1\n",
    "print(\"Length of the list:\", count)\n"
   ]
  },
  {
   "cell_type": "markdown",
   "metadata": {},
   "source": [
    "### 3. Append an element to the end of a list.\n"
   ]
  },
  {
   "cell_type": "code",
   "execution_count": 67,
   "metadata": {},
   "outputs": [
    {
     "name": "stdout",
     "output_type": "stream",
     "text": [
      "Updated list: [1, 2, 3, 4]\n"
     ]
    }
   ],
   "source": [
    "#Question= 3\n",
    "l1 = [1, 2, 3]\n",
    "l1.append(4)                            # Append an element to the end of the list\n",
    "print(\"Updated list:\", l1)\n"
   ]
  },
  {
   "cell_type": "markdown",
   "metadata": {},
   "source": [
    "### 4. Insert an element at a specific index in a list.\n"
   ]
  },
  {
   "cell_type": "code",
   "execution_count": 69,
   "metadata": {},
   "outputs": [
    {
     "name": "stdout",
     "output_type": "stream",
     "text": [
      "Updated list: [1, 4, 2, 3]\n"
     ]
    }
   ],
   "source": [
    "#Question= 4\n",
    "l1 = [1, 2, 3]\n",
    "# Insert an element at index 1\n",
    "l1.insert(1, 4)\n",
    "print(\"Updated list:\", l1)\n"
   ]
  },
  {
   "cell_type": "markdown",
   "metadata": {},
   "source": [
    "### 5. Remove an element from a list by its value.\n"
   ]
  },
  {
   "cell_type": "code",
   "execution_count": 70,
   "metadata": {},
   "outputs": [
    {
     "name": "stdout",
     "output_type": "stream",
     "text": [
      "Updated list: [1, 2, 4, 5]\n"
     ]
    }
   ],
   "source": [
    "#Question= 5\n",
    "l1 = [1, 2, 3, 4, 5]\n",
    "# Remove the element with value 3\n",
    "l1.remove(3)\n",
    "print(\"Updated list:\", l1)\n"
   ]
  },
  {
   "cell_type": "markdown",
   "metadata": {},
   "source": [
    "### 6. Remove an element from a list by its index.\n"
   ]
  },
  {
   "cell_type": "code",
   "execution_count": 71,
   "metadata": {},
   "outputs": [
    {
     "name": "stdout",
     "output_type": "stream",
     "text": [
      "Updated list: [1, 2, 4, 5]\n"
     ]
    }
   ],
   "source": [
    "#Question= 6\n",
    "l1 = [1, 2, 3, 4, 5]\n",
    "# Remove the element at index 2\n",
    "del l1[2]\n",
    "print(\"Updated list:\", l1)\n"
   ]
  },
  {
   "cell_type": "markdown",
   "metadata": {},
   "source": [
    "### 7. Check if an element exists in a list.\n"
   ]
  },
  {
   "cell_type": "code",
   "execution_count": 72,
   "metadata": {},
   "outputs": [
    {
     "name": "stdout",
     "output_type": "stream",
     "text": [
      "3 exists in the list.\n"
     ]
    }
   ],
   "source": [
    "#Question= 7\n",
    "l1 = [1, 2, 3, 4, 5]\n",
    "# Check if an element exists in the list\n",
    "element = 3\n",
    "if element in l1:\n",
    "    print(f\"{element} exists in the list.\")\n",
    "else:\n",
    "    print(f\"{element} does not exist in the list.\")\n"
   ]
  },
  {
   "cell_type": "markdown",
   "metadata": {},
   "source": [
    "### 8. Find the index of the first occurrence of an element in a list.\n"
   ]
  },
  {
   "cell_type": "code",
   "execution_count": 73,
   "metadata": {},
   "outputs": [
    {
     "name": "stdout",
     "output_type": "stream",
     "text": [
      "The first occurrence of 3 is at index 2.\n"
     ]
    }
   ],
   "source": [
    "#Question= 8\n",
    "l1 = [1, 2, 3, 4, 5, 3]\n",
    "# Find the index of the first occurrence of 3\n",
    "element = 3\n",
    "index = l1.index(element)\n",
    "print(f\"The first occurrence of {element} is at index {index}.\")"
   ]
  },
  {
   "cell_type": "markdown",
   "metadata": {},
   "source": [
    "### 9. Count the occurrences of an element in a list.\n"
   ]
  },
  {
   "cell_type": "code",
   "execution_count": 74,
   "metadata": {},
   "outputs": [
    {
     "name": "stdout",
     "output_type": "stream",
     "text": [
      "3 appears 2 times in the list.\n"
     ]
    }
   ],
   "source": [
    "#Question= 9\n",
    "l1 = [1, 2, 3, 4, 5, 3]\n",
    "# Count the occurrences of 3 in the list\n",
    "element = 3\n",
    "count = l1.count(element)\n",
    "print(f\"{element} appears {count} times in the list.\")\n"
   ]
  },
  {
   "cell_type": "markdown",
   "metadata": {},
   "source": [
    "### 10. Reverse the order of elements in a list.\n"
   ]
  },
  {
   "cell_type": "code",
   "execution_count": 75,
   "metadata": {},
   "outputs": [
    {
     "name": "stdout",
     "output_type": "stream",
     "text": [
      "Reversed list: [5, 4, 3, 2, 1]\n"
     ]
    }
   ],
   "source": [
    "#Question= 10\n",
    "l1 = [1, 2, 3, 4, 5]\n",
    "# Reverse the list in-place\n",
    "l1.reverse()\n",
    "print(\"Reversed list:\", l1)\n"
   ]
  },
  {
   "cell_type": "markdown",
   "metadata": {},
   "source": [
    "### 11. Sort a list in ascending order.\n"
   ]
  },
  {
   "cell_type": "code",
   "execution_count": 76,
   "metadata": {},
   "outputs": [
    {
     "name": "stdout",
     "output_type": "stream",
     "text": [
      "Sorted list in ascending order: [1, 2, 3, 4, 5]\n"
     ]
    }
   ],
   "source": [
    "#Question= 11\n",
    "l1 = [5, 1, 3, 2, 4]\n",
    "# Sort the list in ascending order\n",
    "l1.sort()\n",
    "print(\"Sorted list in ascending order:\", l1)\n"
   ]
  },
  {
   "cell_type": "markdown",
   "metadata": {},
   "source": [
    "### 12. Sort a list in descending order.\n"
   ]
  },
  {
   "cell_type": "code",
   "execution_count": 77,
   "metadata": {},
   "outputs": [
    {
     "name": "stdout",
     "output_type": "stream",
     "text": [
      "Sorted list in descending order: [5, 4, 3, 2, 1]\n"
     ]
    }
   ],
   "source": [
    "#Question= 12\n",
    "l1 = [5, 1, 3, 2, 4]\n",
    "# Sort the list in descending order\n",
    "l1.sort(reverse=True)\n",
    "print(\"Sorted list in descending order:\", l1)\n"
   ]
  },
  {
   "cell_type": "markdown",
   "metadata": {},
   "source": [
    "### 13. Create a list of even numbers from 1 to 20.\n"
   ]
  },
  {
   "cell_type": "code",
   "execution_count": null,
   "metadata": {},
   "outputs": [
    {
     "name": "stdout",
     "output_type": "stream",
     "text": [
      "List of even numbers: [2, 4, 6, 8, 10, 12, 14, 16, 18, 20]\n"
     ]
    }
   ],
   "source": [
    "#Question= 13\n",
    "even_numbers = [num for num in range(1, 21) if num % 2 == 0]\n",
    "print(\"List of even numbers:\", even_numbers)\n"
   ]
  },
  {
   "cell_type": "markdown",
   "metadata": {},
   "source": [
    "### 14. Create a list of odd numbers from 1 to 20.\n"
   ]
  },
  {
   "cell_type": "code",
   "execution_count": 78,
   "metadata": {},
   "outputs": [
    {
     "name": "stdout",
     "output_type": "stream",
     "text": [
      "List of odd numbers: [1, 3, 5, 7, 9, 11, 13, 15, 17, 19]\n"
     ]
    }
   ],
   "source": [
    "#Question= 14\n",
    "odd_numbers = [num for num in range(1, 21) if num % 2 != 0]\n",
    "print(\"List of odd numbers:\", odd_numbers)"
   ]
  },
  {
   "cell_type": "markdown",
   "metadata": {},
   "source": [
    "### 15. Find the sum of all elements in a list.\n"
   ]
  },
  {
   "cell_type": "code",
   "execution_count": 79,
   "metadata": {},
   "outputs": [
    {
     "name": "stdout",
     "output_type": "stream",
     "text": [
      "Sum of elements in the list: 15\n"
     ]
    }
   ],
   "source": [
    "#Question= 15\n",
    "l1 = [1, 2, 3, 4, 5]\n",
    "# Calculate the sum of elements in the list\n",
    "sum_of_elements = sum(l1)\n",
    "print(\"Sum of elements in the list:\", sum_of_elements)\n"
   ]
  },
  {
   "cell_type": "markdown",
   "metadata": {},
   "source": [
    "### 16. Find the maximum value in a list.\n"
   ]
  },
  {
   "cell_type": "code",
   "execution_count": 80,
   "metadata": {},
   "outputs": [
    {
     "name": "stdout",
     "output_type": "stream",
     "text": [
      "Maximum value in the list: 5\n"
     ]
    }
   ],
   "source": [
    "#Question= 16\n",
    "l1= [1, 3, 5, 2, 4]\n",
    "# Find the maximum value in the list\n",
    "max_value = max(l1)\n",
    "print(\"Maximum value in the list:\", max_value)"
   ]
  },
  {
   "cell_type": "markdown",
   "metadata": {},
   "source": [
    "### 17. Find the minimum value in a list.\n"
   ]
  },
  {
   "cell_type": "code",
   "execution_count": 81,
   "metadata": {},
   "outputs": [
    {
     "name": "stdout",
     "output_type": "stream",
     "text": [
      "Minimum value in the list: 1\n"
     ]
    }
   ],
   "source": [
    "#Question= 17\n",
    "l1 = [1, 3, 5, 2, 4]\n",
    "# Find the minimum value in the list\n",
    "min_value = min(l1)\n",
    "print(\"Minimum value in the list:\", min_value)\n"
   ]
  },
  {
   "cell_type": "markdown",
   "metadata": {},
   "source": [
    "### 18. Create a list of squares of numbers from 1 to 10.\n"
   ]
  },
  {
   "cell_type": "code",
   "execution_count": null,
   "metadata": {},
   "outputs": [
    {
     "name": "stdout",
     "output_type": "stream",
     "text": [
      "List of squares: [1, 4, 9, 16, 25, 36, 49, 64, 81, 100]\n"
     ]
    }
   ],
   "source": [
    "#Question= 18\n",
    "squares = [num ** 2 for num in range(1, 11)]\n",
    "print(\"List of squares:\", squares)\n"
   ]
  },
  {
   "cell_type": "markdown",
   "metadata": {},
   "source": [
    "### 19. Create a list of random numbers.\n"
   ]
  },
  {
   "cell_type": "code",
   "execution_count": null,
   "metadata": {},
   "outputs": [
    {
     "name": "stdout",
     "output_type": "stream",
     "text": [
      "List of random numbers: [53, 60, 23, 72, 15]\n"
     ]
    }
   ],
   "source": [
    "#Question= 19\n",
    "import random\n",
    "# Create a list of 5 random numbers between 1 and 100\n",
    "random_numbers = [random.randint(1, 100) for _ in range(5)]\n",
    "print(\"List of random numbers:\", random_numbers)\n"
   ]
  },
  {
   "cell_type": "markdown",
   "metadata": {},
   "source": [
    "### 20. Remove duplicates from a list.\n"
   ]
  },
  {
   "cell_type": "code",
   "execution_count": null,
   "metadata": {},
   "outputs": [
    {
     "name": "stdout",
     "output_type": "stream",
     "text": [
      "List with duplicates removed: [1, 2, 3, 4, 5]\n"
     ]
    }
   ],
   "source": [
    "#Question= 20\n",
    "# Create a list with duplicates\n",
    "l1 = [1, 2, 2, 3, 4, 4, 5]\n",
    "# Remove duplicates while preserving the order\n",
    "unique_list = list(set(l1))\n",
    "print(\"List with duplicates removed:\", unique_list)\n"
   ]
  },
  {
   "cell_type": "markdown",
   "metadata": {},
   "source": [
    "### 21. Find the common elements between two lists.\n"
   ]
  },
  {
   "cell_type": "code",
   "execution_count": 82,
   "metadata": {},
   "outputs": [
    {
     "name": "stdout",
     "output_type": "stream",
     "text": [
      "Common elements between the two lists: [3, 4, 5]\n"
     ]
    }
   ],
   "source": [
    "#Question= 21\n",
    "list1 = [1, 2, 3, 4, 5]\n",
    "list2 = [3, 4, 5, 6, 7]\n",
    "# Find the common elements between the two lists\n",
    "common_elements = list(set(list1) & set(list2))\n",
    "print(\"Common elements between the two lists:\", common_elements)"
   ]
  },
  {
   "cell_type": "markdown",
   "metadata": {},
   "source": [
    "### 22. Find the difference between two lists.\n"
   ]
  },
  {
   "cell_type": "code",
   "execution_count": 83,
   "metadata": {},
   "outputs": [
    {
     "name": "stdout",
     "output_type": "stream",
     "text": [
      "Difference between list1 and list2: [1, 2]\n"
     ]
    }
   ],
   "source": [
    "#Question= 22\n",
    "list1 = [1, 2, 3, 4, 5]\n",
    "list2 = [3, 4, 5, 6, 7]\n",
    "\n",
    "# Find the difference between list1 and list2\n",
    "difference = list(set(list1) - set(list2))\n",
    "\n",
    "print(\"Difference between list1 and list2:\", difference)\n"
   ]
  },
  {
   "cell_type": "markdown",
   "metadata": {},
   "source": [
    "### 23. Merge two lists.\n"
   ]
  },
  {
   "cell_type": "code",
   "execution_count": 84,
   "metadata": {},
   "outputs": [
    {
     "name": "stdout",
     "output_type": "stream",
     "text": [
      "Merged list: [1, 2, 3, 4, 5, 6]\n"
     ]
    }
   ],
   "source": [
    "#Question= 23\n",
    "list1 = [1, 2, 3]\n",
    "list2 = [4, 5, 6]\n",
    "\n",
    "# Merge the two lists\n",
    "merged_list = list1 + list2\n",
    "\n",
    "print(\"Merged list:\", merged_list)\n"
   ]
  },
  {
   "cell_type": "markdown",
   "metadata": {},
   "source": [
    "### 24. Multiply all elements in a list by 2.\n"
   ]
  },
  {
   "cell_type": "code",
   "execution_count": 85,
   "metadata": {},
   "outputs": [
    {
     "name": "stdout",
     "output_type": "stream",
     "text": [
      "List with elements multiplied by 2: [2, 4, 6, 8, 10]\n"
     ]
    }
   ],
   "source": [
    "#Question= 24\n",
    "l1 = [1, 2, 3, 4, 5]\n",
    "\n",
    "# Multiply all elements by 2 using list comprehension\n",
    "multiplied_list = [x * 2 for x in l1]\n",
    "\n",
    "print(\"List with elements multiplied by 2:\", multiplied_list)\n"
   ]
  },
  {
   "cell_type": "markdown",
   "metadata": {},
   "source": [
    "### 25. Filter out all even numbers from a list.\n"
   ]
  },
  {
   "cell_type": "code",
   "execution_count": 86,
   "metadata": {},
   "outputs": [
    {
     "name": "stdout",
     "output_type": "stream",
     "text": [
      "List with even numbers filtered out: [1, 3, 5]\n"
     ]
    }
   ],
   "source": [
    "#Question= 25\n",
    "l1 = [1, 2, 3, 4, 5, 6]\n",
    "\n",
    "# Filter out even numbers using list comprehension\n",
    "filtered_list = [x for x in l1 if x % 2 != 0]\n",
    "\n",
    "print(\"List with even numbers filtered out:\", filtered_list)\n"
   ]
  },
  {
   "cell_type": "markdown",
   "metadata": {},
   "source": [
    "### 26. Convert a list of strings to a list of integers.\n"
   ]
  },
  {
   "cell_type": "code",
   "execution_count": null,
   "metadata": {},
   "outputs": [
    {
     "name": "stdout",
     "output_type": "stream",
     "text": [
      "List of integers: [1, 2, 3, 4, 5]\n"
     ]
    }
   ],
   "source": [
    "#Question= 26\n",
    "string_list = [\"1\", \"2\", \"3\", \"4\", \"5\"]\n",
    "\n",
    "# Convert the list of strings to a list of integers\n",
    "int_list = [int(x) for x in string_list]\n",
    "\n",
    "print(\"List of integers:\", int_list)\n"
   ]
  },
  {
   "cell_type": "markdown",
   "metadata": {},
   "source": [
    "### 27. Convert a list of integers to a list of strings.\n"
   ]
  },
  {
   "cell_type": "code",
   "execution_count": 88,
   "metadata": {},
   "outputs": [
    {
     "name": "stdout",
     "output_type": "stream",
     "text": [
      "List of strings: ['1', '2', '3', '4', '5']\n"
     ]
    }
   ],
   "source": [
    "#Question= 27\n",
    "int_list = [1, 2, 3, 4, 5]\n",
    "\n",
    "# Convert the list of integers to a list of strings\n",
    "string_list = [str(x) for x in int_list]\n",
    "\n",
    "print(\"List of strings:\", string_list)\n"
   ]
  },
  {
   "cell_type": "markdown",
   "metadata": {},
   "source": [
    "### 28. Flatten a nested list.\n"
   ]
  },
  {
   "cell_type": "code",
   "execution_count": 87,
   "metadata": {},
   "outputs": [
    {
     "name": "stdout",
     "output_type": "stream",
     "text": [
      "Flattened list: [1, 2, 3, 4, 5, 6]\n"
     ]
    }
   ],
   "source": [
    "#Question= 28\n",
    "nested_list = [[1, 2], [3, 4], [5, 6]]\n",
    "\n",
    "# Flatten the nested list using list comprehension\n",
    "flattened_list = [x for sublist in nested_list for x in sublist]\n",
    "\n",
    "print(\"Flattened list:\", flattened_list)\n"
   ]
  },
  {
   "cell_type": "markdown",
   "metadata": {},
   "source": [
    "### 29. Create a list of the first 10 Fibonacci numbers.\n"
   ]
  },
  {
   "cell_type": "code",
   "execution_count": null,
   "metadata": {},
   "outputs": [
    {
     "name": "stdout",
     "output_type": "stream",
     "text": [
      "List of the first 10 Fibonacci numbers: [0, 1, 1, 2, 3, 5, 8, 13, 21, 34]\n"
     ]
    }
   ],
   "source": [
    "#Question= 29\n",
    "fibonacci_list = [0, 1]\n",
    "\n",
    "# Generate the next 8 Fibonacci numbers\n",
    "for i in range(2, 10):\n",
    "    next_fibonacci = fibonacci_list[i-1] + fibonacci_list[i-2]\n",
    "    fibonacci_list.append(next_fibonacci)\n",
    "\n",
    "print(\"List of the first 10 Fibonacci numbers:\", fibonacci_list)\n"
   ]
  },
  {
   "cell_type": "markdown",
   "metadata": {},
   "source": [
    "### 30. Check if a list is sorted.\n"
   ]
  },
  {
   "cell_type": "code",
   "execution_count": 89,
   "metadata": {},
   "outputs": [
    {
     "name": "stdout",
     "output_type": "stream",
     "text": [
      "The list is sorted.\n"
     ]
    }
   ],
   "source": [
    "#Question= 30\n",
    "l1 = [1, 2, 3, 4, 5]\n",
    "\n",
    "# Check if the list is sorted in ascending order\n",
    "is_sorted = all(l1[i] <= l1[i + 1] for i in range(len(l1) - 1))\n",
    "\n",
    "if is_sorted:\n",
    "    print(\"The list is sorted.\")\n",
    "else:\n",
    "    print(\"The list is not sorted.\")\n"
   ]
  },
  {
   "cell_type": "markdown",
   "metadata": {},
   "source": [
    "### 31. Rotate a list to the left by `n` positions.\n"
   ]
  },
  {
   "cell_type": "code",
   "execution_count": 90,
   "metadata": {},
   "outputs": [
    {
     "name": "stdout",
     "output_type": "stream",
     "text": [
      "Rotated list to the left by 2 positions: [3, 4, 5, 1, 2]\n"
     ]
    }
   ],
   "source": [
    "#Question= 31\n",
    "l1 = [1, 2, 3, 4, 5]\n",
    "\n",
    "# Rotate the list to the left by 2 positions\n",
    "n = 2\n",
    "rotated_list = l1[n:] + l1[:n]\n",
    "\n",
    "print(\"Rotated list to the left by\", n, \"positions:\", rotated_list)\n"
   ]
  },
  {
   "cell_type": "markdown",
   "metadata": {},
   "source": [
    "### 32. Rotate a list to the right by `n` positions.\n"
   ]
  },
  {
   "cell_type": "code",
   "execution_count": 91,
   "metadata": {},
   "outputs": [
    {
     "name": "stdout",
     "output_type": "stream",
     "text": [
      "Rotated list to the right by 2 positions: [4, 5, 1, 2, 3]\n"
     ]
    }
   ],
   "source": [
    "#Question= 32\n",
    "l1 = [1, 2, 3, 4, 5]\n",
    "\n",
    "# Rotate the list to the right by 2 positions\n",
    "n = 2\n",
    "rotated_list = l1[-n:] + l1[:-n]\n",
    "\n",
    "print(\"Rotated list to the right by\", n, \"positions:\", rotated_list)\n"
   ]
  },
  {
   "cell_type": "markdown",
   "metadata": {},
   "source": [
    "### 33. Create a list of prime numbers up to 50.\n"
   ]
  },
  {
   "cell_type": "code",
   "execution_count": null,
   "metadata": {},
   "outputs": [
    {
     "name": "stdout",
     "output_type": "stream",
     "text": [
      "List of prime numbers up to 50: [2, 3, 5, 7, 11, 13, 17, 19, 23, 29, 31, 37, 41, 43, 47]\n"
     ]
    }
   ],
   "source": [
    "#Question= 33\n",
    "def is_prime(num):\n",
    "    if num < 2:\n",
    "        return False\n",
    "    for i in range(2, int(num**0.5) + 1):\n",
    "        if num % i == 0:\n",
    "            return False\n",
    "    return True\n",
    "\n",
    "# Create a list of prime numbers up to 50\n",
    "prime_list = [num for num in range(2, 51) if is_prime(num)]\n",
    "print(\"List of prime numbers up to 50:\", prime_list)\n"
   ]
  },
  {
   "cell_type": "markdown",
   "metadata": {},
   "source": [
    "### 34. Split a list into chunks of size `n`.\n"
   ]
  },
  {
   "cell_type": "code",
   "execution_count": null,
   "metadata": {},
   "outputs": [
    {
     "name": "stdout",
     "output_type": "stream",
     "text": [
      "List split into chunks: [[1, 2, 3], [4, 5, 6], [7, 8, 9]]\n"
     ]
    }
   ],
   "source": [
    "#Question= 34\n",
    "def chunk_list(input_list, chunk_size):\n",
    "    return [input_list[i:i+chunk_size] for i in range(0, len(input_list), chunk_size)]\n",
    "\n",
    "# Create a list\n",
    "my_list = [1, 2, 3, 4, 5, 6, 7, 8, 9]\n",
    "\n",
    "# Split the list into chunks of size 3\n",
    "chunked_list = chunk_list(my_list, 3)\n",
    "\n",
    "print(\"List split into chunks:\", chunked_list)\n"
   ]
  },
  {
   "cell_type": "markdown",
   "metadata": {},
   "source": [
    "### 35. Find the second largest number in a list.\n"
   ]
  },
  {
   "cell_type": "code",
   "execution_count": null,
   "metadata": {},
   "outputs": [
    {
     "name": "stdout",
     "output_type": "stream",
     "text": [
      "Second largest number in the list: 8\n"
     ]
    }
   ],
   "source": [
    "#Question= 35\n",
    "my_list = [5, 2, 8, 1, 9, 6]\n",
    "\n",
    "# Find the second largest number\n",
    "sorted_list = sorted(my_list)\n",
    "second_largest = sorted_list[-2]\n",
    "\n",
    "print(\"Second largest number in the list:\", second_largest)\n"
   ]
  },
  {
   "cell_type": "markdown",
   "metadata": {},
   "source": [
    "### 36. Replace every element in a list with its square.\n"
   ]
  },
  {
   "cell_type": "code",
   "execution_count": null,
   "metadata": {},
   "outputs": [
    {
     "name": "stdout",
     "output_type": "stream",
     "text": [
      "List with elements squared: [1, 4, 9, 16, 25]\n"
     ]
    }
   ],
   "source": [
    "#Question= 36\n",
    "my_list = [1, 2, 3, 4, 5]\n",
    "\n",
    "# Replace every element with its square using list comprehension\n",
    "squared_list = [x**2 for x in my_list]\n",
    "\n",
    "print(\"List with elements squared:\", squared_list)\n"
   ]
  },
  {
   "cell_type": "markdown",
   "metadata": {},
   "source": [
    "### 37. Convert a list to a dictionary where list elements become keys and their indices become values.\n"
   ]
  },
  {
   "cell_type": "code",
   "execution_count": null,
   "metadata": {},
   "outputs": [
    {
     "name": "stdout",
     "output_type": "stream",
     "text": [
      "Dictionary from the list: {'apple': 0, 'banana': 1, 'cherry': 2}\n"
     ]
    }
   ],
   "source": [
    "#Question= 37\n",
    "my_list = [\"apple\", \"banana\", \"cherry\"]\n",
    "\n",
    "# Convert the list to a dictionary\n",
    "my_dict = {element: index for index, element in enumerate(my_list)}\n",
    "\n",
    "print(\"Dictionary from the list:\", my_dict)\n"
   ]
  },
  {
   "cell_type": "markdown",
   "metadata": {},
   "source": [
    "### 38. Shuffle the elements of a list randomly.\n"
   ]
  },
  {
   "cell_type": "code",
   "execution_count": null,
   "metadata": {},
   "outputs": [
    {
     "name": "stdout",
     "output_type": "stream",
     "text": [
      "Shuffled list: [4, 3, 5, 1, 2]\n"
     ]
    }
   ],
   "source": [
    "#Question= 38\n",
    "import random\n",
    "\n",
    "# Create a list\n",
    "my_list = [1, 2, 3, 4, 5]\n",
    "\n",
    "# Shuffle the list randomly\n",
    "random.shuffle(my_list)\n",
    "\n",
    "print(\"Shuffled list:\", my_list)\n"
   ]
  },
  {
   "cell_type": "markdown",
   "metadata": {},
   "source": [
    "### 39. Create a list of the first 10 factorial numbers.\n"
   ]
  },
  {
   "cell_type": "code",
   "execution_count": 92,
   "metadata": {},
   "outputs": [
    {
     "name": "stdout",
     "output_type": "stream",
     "text": [
      "List of the first 10 factorial numbers: [1, 1, 2, 6, 24, 120, 720, 5040, 40320, 362880]\n"
     ]
    }
   ],
   "source": [
    "#Question= 39\n",
    "import math\n",
    "\n",
    "# Create a list of the first 10 factorial numbers\n",
    "factorial_list = [math.factorial(n) for n in range(10)]\n",
    "print(\"List of the first 10 factorial numbers:\", factorial_list)\n"
   ]
  },
  {
   "cell_type": "markdown",
   "metadata": {},
   "source": [
    "### 40. Check if two lists have at least one element in common.\n"
   ]
  },
  {
   "cell_type": "code",
   "execution_count": 93,
   "metadata": {},
   "outputs": [
    {
     "name": "stdout",
     "output_type": "stream",
     "text": [
      "The two lists have at least one common element.\n"
     ]
    }
   ],
   "source": [
    "#Question= 40\n",
    "list1 = [1, 2, 3, 4, 5]\n",
    "list2 = [4, 5, 6, 7, 8]\n",
    "\n",
    "# Check if the two lists have at least one element in common\n",
    "have_common_elements = any(item in list1 for item in list2)\n",
    "\n",
    "if have_common_elements:\n",
    "    print(\"The two lists have at least one common element.\")\n",
    "else:\n",
    "    print(\"The two lists do not have any common elements.\")\n"
   ]
  },
  {
   "cell_type": "markdown",
   "metadata": {},
   "source": [
    "### 41. Remove all elements from a list.\n"
   ]
  },
  {
   "cell_type": "code",
   "execution_count": 96,
   "metadata": {},
   "outputs": [
    {
     "name": "stdout",
     "output_type": "stream",
     "text": [
      "List after removing all elements: []\n"
     ]
    }
   ],
   "source": [
    "#Question= 41\n",
    "my_list = [1, 2, 3, 4, 5]\n",
    "# Remove all elements from the list\n",
    "my_list.clear()\n",
    "print(\"List after removing all elements:\", my_list)\n"
   ]
  },
  {
   "cell_type": "markdown",
   "metadata": {},
   "source": [
    "### 42. Replace negative numbers in a list with 0.\n"
   ]
  },
  {
   "cell_type": "code",
   "execution_count": 97,
   "metadata": {},
   "outputs": [
    {
     "name": "stdout",
     "output_type": "stream",
     "text": [
      "List with negative numbers replaced: [1, 0, 3, 0, 5]\n"
     ]
    }
   ],
   "source": [
    "#Question= 42\n",
    "my_list = [1, -2, 3, -4, 5]\n",
    "# Replace negative numbers with 0 using list comprehension\n",
    "updated_list = [x if x >= 0 else 0 for x in my_list]\n",
    "print(\"List with negative numbers replaced:\", updated_list)\n"
   ]
  },
  {
   "cell_type": "markdown",
   "metadata": {},
   "source": [
    "### 43. Convert a string into a list of words.\n"
   ]
  },
  {
   "cell_type": "code",
   "execution_count": 98,
   "metadata": {},
   "outputs": [
    {
     "name": "stdout",
     "output_type": "stream",
     "text": [
      "List of words from the string: ['Hello,', 'world!', 'This', 'is', 'a', 'sample', 'string.']\n"
     ]
    }
   ],
   "source": [
    "#Question= 43\n",
    "my_string = \"Hello, world! This is a sample string.\"\n",
    "# Convert the string into a list of words\n",
    "word_list = my_string.split()\n",
    "print(\"List of words from the string:\", word_list)\n"
   ]
  },
  {
   "cell_type": "markdown",
   "metadata": {},
   "source": [
    "### 44. Convert a list of words into a string.\n"
   ]
  },
  {
   "cell_type": "code",
   "execution_count": 99,
   "metadata": {},
   "outputs": [
    {
     "name": "stdout",
     "output_type": "stream",
     "text": [
      "String from the list of words: Hello, world! This is a sample string.\n"
     ]
    }
   ],
   "source": [
    "#Question= 44\n",
    "word_list = [\"Hello,\", \"world!\", \"This\", \"is\", \"a\", \"sample\", \"string.\"]\n",
    "# Convert the list of words into a string\n",
    "my_string = \" \".join(word_list)\n",
    "print(\"String from the list of words:\", my_string)\n"
   ]
  },
  {
   "cell_type": "markdown",
   "metadata": {},
   "source": [
    "### 45. Create a list of the first `n` powers of 2.\n"
   ]
  },
  {
   "cell_type": "code",
   "execution_count": 100,
   "metadata": {},
   "outputs": [
    {
     "name": "stdout",
     "output_type": "stream",
     "text": [
      "List of the first 5 powers of 2: [1, 2, 4, 8, 16]\n"
     ]
    }
   ],
   "source": [
    "#Question= 45\n",
    "n = 5\n",
    "power_of_2_list = [2**i for i in range(n)]\n",
    "print(\"List of the first\", n, \"powers of 2:\", power_of_2_list)\n"
   ]
  },
  {
   "cell_type": "markdown",
   "metadata": {},
   "source": [
    "### 46. Find the longest string in a list of strings.\n"
   ]
  },
  {
   "cell_type": "code",
   "execution_count": 101,
   "metadata": {},
   "outputs": [
    {
     "name": "stdout",
     "output_type": "stream",
     "text": [
      "Longest string in the list: banana\n"
     ]
    }
   ],
   "source": [
    "#Question= 46\n",
    "string_list = [\"apple\", \"banana\", \"cherry\", \"date\", \"fig\"]\n",
    "# Find the longest string\n",
    "longest_string = max(string_list, key=len)\n",
    "print(\"Longest string in the list:\", longest_string)\n"
   ]
  },
  {
   "cell_type": "markdown",
   "metadata": {},
   "source": [
    "### 47. Find the shortest string in a list of strings.\n"
   ]
  },
  {
   "cell_type": "code",
   "execution_count": 102,
   "metadata": {},
   "outputs": [
    {
     "name": "stdout",
     "output_type": "stream",
     "text": [
      "Shortest string in the list: fig\n"
     ]
    }
   ],
   "source": [
    "#Question= 47\n",
    "string_list = [\"apple\", \"banana\", \"cherry\", \"date\", \"fig\"]\n",
    "# Find the shortest string\n",
    "shortest_string = min(string_list, key=len)\n",
    "print(\"Shortest string in the list:\", shortest_string)\n"
   ]
  },
  {
   "cell_type": "markdown",
   "metadata": {},
   "source": [
    "### 48. Create a list of the first `n` triangular numbers.\n"
   ]
  },
  {
   "cell_type": "code",
   "execution_count": 103,
   "metadata": {},
   "outputs": [
    {
     "name": "stdout",
     "output_type": "stream",
     "text": [
      "List of the first 5 triangular numbers: [1, 3, 6, 10, 15]\n"
     ]
    }
   ],
   "source": [
    "#Question= 48\n",
    "n = 5\n",
    "triangular_numbers = [n * (n + 1) // 2 for n in range(1, n + 1)]\n",
    "print(\"List of the first\", n, \"triangular numbers:\", triangular_numbers)\n"
   ]
  },
  {
   "cell_type": "markdown",
   "metadata": {},
   "source": [
    "### 49. Check if a list contains another list as a subsequence.\n"
   ]
  },
  {
   "cell_type": "code",
   "execution_count": 104,
   "metadata": {},
   "outputs": [
    {
     "name": "stdout",
     "output_type": "stream",
     "text": [
      "list2 is a subsequence of list1.\n"
     ]
    }
   ],
   "source": [
    "#Question= 49\n",
    "list1 = [1, 2, 3, 4, 5]\n",
    "list2 = [2, 3, 4]\n",
    "# Check if list2 is a subsequence of list1\n",
    "is_subsequence = all(item in list1 for item in list2)\n",
    "if is_subsequence:\n",
    "    print(\"list2 is a subsequence of list1.\")\n",
    "else:\n",
    "    print(\"list2 is not a subsequence of list1.\")\n"
   ]
  },
  {
   "cell_type": "markdown",
   "metadata": {},
   "source": [
    "### 50. Swap two elements in a list by their indices.\n"
   ]
  },
  {
   "cell_type": "code",
   "execution_count": 95,
   "metadata": {},
   "outputs": [
    {
     "name": "stdout",
     "output_type": "stream",
     "text": [
      "List after swapping elements: [1, 4, 3, 2, 5]\n"
     ]
    }
   ],
   "source": [
    "#Question= 50\n",
    "my_list = [1, 2, 3, 4, 5]\n",
    "# Swap elements at indices 1 and 3\n",
    "index1, index2 = 1, 3\n",
    "my_list[index1], my_list[index2] = my_list[index2], my_list[index1]\n",
    "print(\"List after swapping elements:\", my_list)"
   ]
  },
  {
   "cell_type": "markdown",
   "metadata": {},
   "source": [
    "## **Tuple-Based Practice Problems:**"
   ]
  },
  {
   "cell_type": "markdown",
   "metadata": {},
   "source": [
    "### 1. Create a tuple with integers from 1 to 5.\n"
   ]
  },
  {
   "cell_type": "code",
   "execution_count": 139,
   "metadata": {},
   "outputs": [
    {
     "name": "stdout",
     "output_type": "stream",
     "text": [
      "Tuple: (1, 2, 3, 4, 5)\n"
     ]
    }
   ],
   "source": [
    "#Question= 1\n",
    "my_tuple = (1, 2, 3, 4, 5)\n",
    "print(\"Tuple:\", my_tuple)"
   ]
  },
  {
   "cell_type": "markdown",
   "metadata": {},
   "source": [
    "### 2. Access the third element of a tuple.\n"
   ]
  },
  {
   "cell_type": "code",
   "execution_count": null,
   "metadata": {},
   "outputs": [
    {
     "name": "stdout",
     "output_type": "stream",
     "text": [
      "Third element of the tuple: 3\n"
     ]
    }
   ],
   "source": [
    "#Question= 2\n",
    "my_tuple = (1, 2, 3, 4, 5)\n",
    "third_element = my_tuple[2]\n",
    "print(\"Third element of the tuple:\", third_element)\n"
   ]
  },
  {
   "cell_type": "markdown",
   "metadata": {},
   "source": [
    "### 3. Find the length of a tuple without using the `len()` function.\n"
   ]
  },
  {
   "cell_type": "code",
   "execution_count": 140,
   "metadata": {},
   "outputs": [
    {
     "name": "stdout",
     "output_type": "stream",
     "text": [
      "Length of the tuple: 5\n"
     ]
    }
   ],
   "source": [
    "#Question= 3\n",
    "my_tuple = (1, 2, 3, 4, 5)\n",
    "length = sum(1 for _ in my_tuple)\n",
    "print(\"Length of the tuple:\", length)\n"
   ]
  },
  {
   "cell_type": "markdown",
   "metadata": {},
   "source": [
    "### 4. Count the occurrences of an element in a tuple.\n"
   ]
  },
  {
   "cell_type": "code",
   "execution_count": 107,
   "metadata": {},
   "outputs": [
    {
     "name": "stdout",
     "output_type": "stream",
     "text": [
      "Occurrences of 2 in the tuple: 3\n"
     ]
    }
   ],
   "source": [
    "#Question= 4\n",
    "my_tuple = (1, 2, 2, 3, 2, 4, 5)\n",
    "element_to_count = 2\n",
    "count = my_tuple.count(element_to_count)\n",
    "print(\"Occurrences of\", element_to_count, \"in the tuple:\", count)\n"
   ]
  },
  {
   "cell_type": "markdown",
   "metadata": {},
   "source": [
    "### 5. Find the index of the first occurrence of an element in a tuple.\n"
   ]
  },
  {
   "cell_type": "code",
   "execution_count": 108,
   "metadata": {},
   "outputs": [
    {
     "name": "stdout",
     "output_type": "stream",
     "text": [
      "Index of the first occurrence of 2 in the tuple: 1\n"
     ]
    }
   ],
   "source": [
    "#Question= 5\n",
    "my_tuple = (1, 2, 2, 3, 2, 4, 5)\n",
    "element_to_find = 2\n",
    "index = my_tuple.index(element_to_find)\n",
    "print(\"Index of the first occurrence of\", element_to_find, \"in the tuple:\", index)\n"
   ]
  },
  {
   "cell_type": "markdown",
   "metadata": {},
   "source": [
    "### 6. Check if an element exists in a tuple.\n"
   ]
  },
  {
   "cell_type": "code",
   "execution_count": 109,
   "metadata": {},
   "outputs": [
    {
     "name": "stdout",
     "output_type": "stream",
     "text": [
      "3 exists in the tuple.\n"
     ]
    }
   ],
   "source": [
    "#Question= 6\n",
    "my_tuple = (1, 2, 3, 4, 5)\n",
    "element_to_check = 3\n",
    "exists = element_to_check in my_tuple\n",
    "if exists:\n",
    "    print(element_to_check, \"exists in the tuple.\")\n",
    "else:\n",
    "    print(element_to_check, \"does not exist in the tuple.\")\n"
   ]
  },
  {
   "cell_type": "markdown",
   "metadata": {},
   "source": [
    "### 7. Convert a tuple to a list.\n"
   ]
  },
  {
   "cell_type": "code",
   "execution_count": 110,
   "metadata": {},
   "outputs": [
    {
     "name": "stdout",
     "output_type": "stream",
     "text": [
      "Converted list: [1, 2, 3, 4, 5]\n"
     ]
    }
   ],
   "source": [
    "#Question= 7\n",
    "my_tuple = (1, 2, 3, 4, 5)\n",
    "my_list = list(my_tuple)\n",
    "print(\"Converted list:\", my_list)\n"
   ]
  },
  {
   "cell_type": "markdown",
   "metadata": {},
   "source": [
    "### 8. Convert a list to a tuple.\n"
   ]
  },
  {
   "cell_type": "code",
   "execution_count": 111,
   "metadata": {},
   "outputs": [
    {
     "name": "stdout",
     "output_type": "stream",
     "text": [
      "Converted tuple: (1, 2, 3, 4, 5)\n"
     ]
    }
   ],
   "source": [
    "#Question= 8\n",
    "my_list = [1, 2, 3, 4, 5]\n",
    "my_tuple = tuple(my_list)\n",
    "print(\"Converted tuple:\", my_tuple)\n"
   ]
  },
  {
   "cell_type": "markdown",
   "metadata": {},
   "source": [
    "### 9. Unpack the elements of a tuple into variables.\n"
   ]
  },
  {
   "cell_type": "code",
   "execution_count": 112,
   "metadata": {},
   "outputs": [
    {
     "name": "stdout",
     "output_type": "stream",
     "text": [
      "Unpacked variables: 1 2 3\n"
     ]
    }
   ],
   "source": [
    "#Question= 9\n",
    "my_tuple = (1, 2, 3)\n",
    "a, b, c = my_tuple\n",
    "print(\"Unpacked variables:\", a, b, c)\n"
   ]
  },
  {
   "cell_type": "markdown",
   "metadata": {},
   "source": [
    "### 10. Create a tuple of even numbers from 1 to 10.\n"
   ]
  },
  {
   "cell_type": "code",
   "execution_count": 113,
   "metadata": {},
   "outputs": [
    {
     "name": "stdout",
     "output_type": "stream",
     "text": [
      "Tuple of even numbers: (2, 4, 6, 8, 10)\n"
     ]
    }
   ],
   "source": [
    "#Question= 10\n",
    "even_numbers = tuple(range(2, 11, 2))\n",
    "print(\"Tuple of even numbers:\", even_numbers)\n"
   ]
  },
  {
   "cell_type": "markdown",
   "metadata": {},
   "source": [
    "### 11. Create a tuple of odd numbers from 1 to 10.\n"
   ]
  },
  {
   "cell_type": "code",
   "execution_count": 114,
   "metadata": {},
   "outputs": [
    {
     "name": "stdout",
     "output_type": "stream",
     "text": [
      "Tuple of odd numbers: (1, 3, 5, 7, 9)\n"
     ]
    }
   ],
   "source": [
    "#Question= 11\n",
    "odd_numbers = tuple(range(1, 11, 2))\n",
    "print(\"Tuple of odd numbers:\", odd_numbers)"
   ]
  },
  {
   "cell_type": "markdown",
   "metadata": {},
   "source": [
    "### 12. Concatenate two tuples.\n"
   ]
  },
  {
   "cell_type": "code",
   "execution_count": null,
   "metadata": {},
   "outputs": [
    {
     "name": "stdout",
     "output_type": "stream",
     "text": [
      "Concatenated tuple: (1, 2, 3, 4, 5, 6)\n"
     ]
    }
   ],
   "source": [
    "#Question= 12\n",
    "tuple1 = (1, 2, 3)\n",
    "tuple2 = (4, 5, 6)\n",
    "concatenated_tuple = tuple1 + tuple2\n",
    "print(\"Concatenated tuple:\", concatenated_tuple)"
   ]
  },
  {
   "cell_type": "markdown",
   "metadata": {},
   "source": [
    "### 13. Repeat a tuple three times.\n"
   ]
  },
  {
   "cell_type": "code",
   "execution_count": 115,
   "metadata": {},
   "outputs": [
    {
     "name": "stdout",
     "output_type": "stream",
     "text": [
      "Repeated tuple: (1, 2, 3, 1, 2, 3, 1, 2, 3)\n"
     ]
    }
   ],
   "source": [
    "#Question= 13\n",
    "my_tuple = (1, 2, 3)\n",
    "repeated_tuple = my_tuple * 3\n",
    "print(\"Repeated tuple:\", repeated_tuple)"
   ]
  },
  {
   "cell_type": "markdown",
   "metadata": {},
   "source": [
    "### 14. Check if a tuple is empty.\n"
   ]
  },
  {
   "cell_type": "code",
   "execution_count": 116,
   "metadata": {},
   "outputs": [
    {
     "name": "stdout",
     "output_type": "stream",
     "text": [
      "The tuple is empty.\n"
     ]
    }
   ],
   "source": [
    "#Question= 14\n",
    "empty_tuple = ()\n",
    "if not empty_tuple:\n",
    "    print(\"The tuple is empty.\")\n",
    "else:\n",
    "    print(\"The tuple is not empty.\")"
   ]
  },
  {
   "cell_type": "markdown",
   "metadata": {},
   "source": [
    "### 15. Create a nested tuple.\n"
   ]
  },
  {
   "cell_type": "code",
   "execution_count": 117,
   "metadata": {},
   "outputs": [
    {
     "name": "stdout",
     "output_type": "stream",
     "text": [
      "Nested tuple: ((1, 2), (3, 4), (5, 6))\n"
     ]
    }
   ],
   "source": [
    "#Question= 15\n",
    "nested_tuple = ((1, 2), (3, 4), (5, 6))\n",
    "print(\"Nested tuple:\", nested_tuple)"
   ]
  },
  {
   "cell_type": "markdown",
   "metadata": {},
   "source": [
    "### 16. Access the first element of a nested tuple.\n"
   ]
  },
  {
   "cell_type": "code",
   "execution_count": null,
   "metadata": {},
   "outputs": [
    {
     "name": "stdout",
     "output_type": "stream",
     "text": [
      "First element of the nested tuple: (1, 2)\n"
     ]
    }
   ],
   "source": [
    "#Question= 16\n",
    "nested_tuple = ((1, 2), (3, 4), (5, 6))\n",
    "first_element = nested_tuple[0]\n",
    "print(\"First element of the nested tuple:\", first_element)"
   ]
  },
  {
   "cell_type": "markdown",
   "metadata": {},
   "source": [
    "### 17. Create a tuple with a single element.\n"
   ]
  },
  {
   "cell_type": "code",
   "execution_count": 118,
   "metadata": {},
   "outputs": [
    {
     "name": "stdout",
     "output_type": "stream",
     "text": [
      "Tuple with a single element: (42,)\n"
     ]
    }
   ],
   "source": [
    "#Question= 17\n",
    "single_element_tuple = (42,)\n",
    "print(\"Tuple with a single element:\", single_element_tuple)"
   ]
  },
  {
   "cell_type": "markdown",
   "metadata": {},
   "source": [
    "### 18. Compare two tuples.\n"
   ]
  },
  {
   "cell_type": "code",
   "execution_count": 119,
   "metadata": {},
   "outputs": [
    {
     "name": "stdout",
     "output_type": "stream",
     "text": [
      "The tuples are equal.\n"
     ]
    }
   ],
   "source": [
    "#Question= 18\n",
    "tuple1 = (1, 2, 3)\n",
    "tuple2 = (1, 2, 3)\n",
    "if tuple1 == tuple2:\n",
    "    print(\"The tuples are equal.\")\n",
    "else:\n",
    "    print(\"The tuples are not equal.\")"
   ]
  },
  {
   "cell_type": "markdown",
   "metadata": {},
   "source": [
    "### 19. Delete a tuple.\n"
   ]
  },
  {
   "cell_type": "code",
   "execution_count": 121,
   "metadata": {},
   "outputs": [],
   "source": [
    "#Question= 19\n",
    "my_tuple = (1, 2, 3)\n",
    "del my_tuple                      # Attempting to access the tuple after deletion will result in an error"
   ]
  },
  {
   "cell_type": "markdown",
   "metadata": {},
   "source": [
    "### 20. Slice a tuple.\n"
   ]
  },
  {
   "cell_type": "code",
   "execution_count": 122,
   "metadata": {},
   "outputs": [
    {
     "name": "stdout",
     "output_type": "stream",
     "text": [
      "Sliced tuple: (2, 3, 4)\n"
     ]
    }
   ],
   "source": [
    "#Question= 20\n",
    "my_tuple = (1, 2, 3, 4, 5)\n",
    "sliced_tuple = my_tuple[1:4]\n",
    "print(\"Sliced tuple:\", sliced_tuple)\n"
   ]
  },
  {
   "cell_type": "markdown",
   "metadata": {},
   "source": [
    "### 21. Find the maximum value in a tuple.\n"
   ]
  },
  {
   "cell_type": "code",
   "execution_count": null,
   "metadata": {},
   "outputs": [
    {
     "name": "stdout",
     "output_type": "stream",
     "text": [
      "Maximum value in the tuple: 9\n"
     ]
    }
   ],
   "source": [
    "#Question= 21\n",
    "my_tuple = (4, 7, 2, 9, 1)\n",
    "max_value = max(my_tuple)\n",
    "print(\"Maximum value in the tuple:\", max_value)"
   ]
  },
  {
   "cell_type": "markdown",
   "metadata": {},
   "source": [
    "### 22. Find the minimum value in a tuple.\n"
   ]
  },
  {
   "cell_type": "code",
   "execution_count": null,
   "metadata": {},
   "outputs": [
    {
     "name": "stdout",
     "output_type": "stream",
     "text": [
      "Minimum value in the tuple: 1\n"
     ]
    }
   ],
   "source": [
    "#Question= 22\n",
    "my_tuple = (4, 7, 2, 9, 1)\n",
    "min_value = min(my_tuple)\n",
    "print(\"Minimum value in the tuple:\", min_value)"
   ]
  },
  {
   "cell_type": "markdown",
   "metadata": {},
   "source": [
    "### 23. Convert a string to a tuple of characters.\n"
   ]
  },
  {
   "cell_type": "code",
   "execution_count": null,
   "metadata": {},
   "outputs": [
    {
     "name": "stdout",
     "output_type": "stream",
     "text": [
      "Tuple of characters: ('P', 'y', 't', 'h', 'o', 'n')\n"
     ]
    }
   ],
   "source": [
    "#Question= 23\n",
    "my_string = \"Python\"\n",
    "char_tuple = tuple(my_string)\n",
    "print(\"Tuple of characters:\", char_tuple)"
   ]
  },
  {
   "cell_type": "markdown",
   "metadata": {},
   "source": [
    "### 24. Convert a tuple of characters to a string.\n"
   ]
  },
  {
   "cell_type": "code",
   "execution_count": 123,
   "metadata": {},
   "outputs": [
    {
     "name": "stdout",
     "output_type": "stream",
     "text": [
      "String: Python\n"
     ]
    }
   ],
   "source": [
    "#Question= 24\n",
    "char_tuple = ('P', 'y', 't', 'h', 'o', 'n')\n",
    "my_string = ''.join(char_tuple)\n",
    "print(\"String:\", my_string)"
   ]
  },
  {
   "cell_type": "markdown",
   "metadata": {},
   "source": [
    "### 25. Create a tuple from multiple data types.\n"
   ]
  },
  {
   "cell_type": "code",
   "execution_count": 124,
   "metadata": {},
   "outputs": [
    {
     "name": "stdout",
     "output_type": "stream",
     "text": [
      "Mixed tuple: (42, 'hello', 3.14, True)\n"
     ]
    }
   ],
   "source": [
    "#Question= 25\n",
    "mixed_tuple = (42, \"hello\", 3.14, True)\n",
    "print(\"Mixed tuple:\", mixed_tuple)"
   ]
  },
  {
   "cell_type": "markdown",
   "metadata": {},
   "source": [
    "### 26. Check if two tuples are identical.\n"
   ]
  },
  {
   "cell_type": "code",
   "execution_count": 125,
   "metadata": {},
   "outputs": [
    {
     "name": "stdout",
     "output_type": "stream",
     "text": [
      "The tuples are identical.\n"
     ]
    }
   ],
   "source": [
    "#Question= 26\n",
    "tuple1 = (1, 2, 3)\n",
    "tuple2 = (1, 2, 3)\n",
    "if tuple1 == tuple2:\n",
    "    print(\"The tuples are identical.\")\n",
    "else:\n",
    "    print(\"The tuples are not identical.\")"
   ]
  },
  {
   "cell_type": "markdown",
   "metadata": {},
   "source": [
    "### 27. Sort the elements of a tuple.\n"
   ]
  },
  {
   "cell_type": "code",
   "execution_count": 126,
   "metadata": {},
   "outputs": [
    {
     "name": "stdout",
     "output_type": "stream",
     "text": [
      "Sorted tuple: (1, 2, 3, 4, 9)\n"
     ]
    }
   ],
   "source": [
    "#Question= 27\n",
    "my_tuple = (4, 1, 3, 9, 2)\n",
    "sorted_tuple = tuple(sorted(my_tuple))\n",
    "print(\"Sorted tuple:\", sorted_tuple)"
   ]
  },
  {
   "cell_type": "markdown",
   "metadata": {},
   "source": [
    "### 28. Convert a tuple of integers to a tuple of strings.\n"
   ]
  },
  {
   "cell_type": "code",
   "execution_count": null,
   "metadata": {},
   "outputs": [
    {
     "name": "stdout",
     "output_type": "stream",
     "text": [
      "Tuple of strings: ('1', '2', '3', '4', '5')\n"
     ]
    }
   ],
   "source": [
    "#Question= 28\n",
    "int_tuple = (1, 2, 3, 4, 5)\n",
    "str_tuple = tuple(map(str, int_tuple))\n",
    "print(\"Tuple of strings:\", str_tuple)"
   ]
  },
  {
   "cell_type": "markdown",
   "metadata": {},
   "source": [
    "### 29. Convert a tuple of strings to a tuple of integers.\n"
   ]
  },
  {
   "cell_type": "code",
   "execution_count": null,
   "metadata": {},
   "outputs": [
    {
     "name": "stdout",
     "output_type": "stream",
     "text": [
      "Tuple of integers: (1, 2, 3, 4, 5)\n"
     ]
    }
   ],
   "source": [
    "#Question= 29\n",
    "str_tuple = (\"1\", \"2\", \"3\", \"4\", \"5\")\n",
    "int_tuple = tuple(map(int, str_tuple))\n",
    "print(\"Tuple of integers:\", int_tuple)"
   ]
  },
  {
   "cell_type": "markdown",
   "metadata": {},
   "source": [
    "### 30. Merge two tuples.\n"
   ]
  },
  {
   "cell_type": "code",
   "execution_count": 127,
   "metadata": {},
   "outputs": [
    {
     "name": "stdout",
     "output_type": "stream",
     "text": [
      "Merged tuple: (1, 2, 3, 4, 5, 6)\n"
     ]
    }
   ],
   "source": [
    "#Question= 30\n",
    "tuple1 = (1, 2, 3)\n",
    "tuple2 = (4, 5, 6)\n",
    "merged_tuple = tuple1 + tuple2\n",
    "print(\"Merged tuple:\", merged_tuple)"
   ]
  },
  {
   "cell_type": "markdown",
   "metadata": {},
   "source": [
    "### 31. Flatten a nested tuple.\n"
   ]
  },
  {
   "cell_type": "code",
   "execution_count": null,
   "metadata": {},
   "outputs": [
    {
     "name": "stdout",
     "output_type": "stream",
     "text": [
      "Flattened tuple: (1, 2, 3, 4, 5, 6)\n"
     ]
    }
   ],
   "source": [
    "#Question= 31\n",
    "nested_tuple = ((1, 2), (3, 4), (5, 6))\n",
    "flattened_tuple = tuple(item for sublist in nested_tuple for item in sublist)\n",
    "print(\"Flattened tuple:\", flattened_tuple)"
   ]
  },
  {
   "cell_type": "markdown",
   "metadata": {},
   "source": [
    "### 32. Create a tuple of the first 5 prime numbers.\n"
   ]
  },
  {
   "cell_type": "code",
   "execution_count": null,
   "metadata": {},
   "outputs": [
    {
     "name": "stdout",
     "output_type": "stream",
     "text": [
      "Tuple of prime numbers: (2, 3, 5, 7, 11)\n"
     ]
    }
   ],
   "source": [
    "#Question= 32\n",
    "prime_numbers = (2, 3, 5, 7, 11)\n",
    "print(\"Tuple of prime numbers:\", prime_numbers)"
   ]
  },
  {
   "cell_type": "markdown",
   "metadata": {},
   "source": [
    "### 33. Check if a tuple is a palindrome.\n"
   ]
  },
  {
   "cell_type": "code",
   "execution_count": 128,
   "metadata": {},
   "outputs": [
    {
     "name": "stdout",
     "output_type": "stream",
     "text": [
      "Is the tuple a palindrome? True\n"
     ]
    }
   ],
   "source": [
    "#Question= 33\n",
    "my_tuple = (1, 2, 3, 2, 1)\n",
    "is_palindrome = my_tuple == my_tuple[::-1]\n",
    "print(\"Is the tuple a palindrome?\", is_palindrome)"
   ]
  },
  {
   "cell_type": "markdown",
   "metadata": {},
   "source": [
    "### 34. Create a tuple of squares of numbers from 1 to 5.\n"
   ]
  },
  {
   "cell_type": "code",
   "execution_count": 141,
   "metadata": {},
   "outputs": [
    {
     "name": "stdout",
     "output_type": "stream",
     "text": [
      "Tuple of squares: (1, 4, 9, 16, 25)\n"
     ]
    }
   ],
   "source": [
    "#Question= 34\n",
    "squares_tuple = tuple(x ** 2 for x in range(1, 6))\n",
    "print(\"Tuple of squares:\", squares_tuple)"
   ]
  },
  {
   "cell_type": "markdown",
   "metadata": {},
   "source": [
    "### 35. Filter out all even numbers from a tuple.\n"
   ]
  },
  {
   "cell_type": "code",
   "execution_count": 130,
   "metadata": {},
   "outputs": [
    {
     "name": "stdout",
     "output_type": "stream",
     "text": [
      "Tuple without even numbers: (1, 3, 5, 7, 9)\n"
     ]
    }
   ],
   "source": [
    "#Question= 35\n",
    "my_tuple = (1, 2, 3, 4, 5, 6, 7, 8, 9)\n",
    "filtered_tuple = tuple(x for x in my_tuple if x % 2 != 0)\n",
    "print(\"Tuple without even numbers:\", filtered_tuple)"
   ]
  },
  {
   "cell_type": "markdown",
   "metadata": {},
   "source": [
    "### 36. Multiply all elements in a tuple by 2.\n"
   ]
  },
  {
   "cell_type": "code",
   "execution_count": 131,
   "metadata": {},
   "outputs": [
    {
     "name": "stdout",
     "output_type": "stream",
     "text": [
      "Tuple with elements doubled: (2, 4, 6, 8, 10)\n"
     ]
    }
   ],
   "source": [
    "#Question= 36\n",
    "my_tuple = (1, 2, 3, 4, 5)\n",
    "doubled_tuple = tuple(x * 2 for x in my_tuple)\n",
    "print(\"Tuple with elements doubled:\", doubled_tuple)"
   ]
  },
  {
   "cell_type": "markdown",
   "metadata": {},
   "source": [
    "### 37. Create a tuple of random numbers.\n"
   ]
  },
  {
   "cell_type": "code",
   "execution_count": 132,
   "metadata": {},
   "outputs": [
    {
     "name": "stdout",
     "output_type": "stream",
     "text": [
      "Tuple of random numbers: (14, 92, 44, 29, 20)\n"
     ]
    }
   ],
   "source": [
    "#Question= 37\n",
    "import random\n",
    "# Create a tuple of 5 random numbers between 1 and 100\n",
    "random_numbers = tuple(random.randint(1, 100) for _ in range(5))\n",
    "print(\"Tuple of random numbers:\", random_numbers)"
   ]
  },
  {
   "cell_type": "markdown",
   "metadata": {},
   "source": [
    "### 38. Check if a tuple is sorted.\n"
   ]
  },
  {
   "cell_type": "code",
   "execution_count": 133,
   "metadata": {},
   "outputs": [
    {
     "name": "stdout",
     "output_type": "stream",
     "text": [
      "Is the tuple sorted? True\n"
     ]
    }
   ],
   "source": [
    "#Question= 38\n",
    "my_tuple = (1, 2, 3, 4, 5)\n",
    "is_sorted = my_tuple == tuple(sorted(my_tuple))\n",
    "print(\"Is the tuple sorted?\", is_sorted)"
   ]
  },
  {
   "cell_type": "markdown",
   "metadata": {},
   "source": [
    "### 39. Rotate a tuple to the left by `n` positions.\n"
   ]
  },
  {
   "cell_type": "code",
   "execution_count": 134,
   "metadata": {},
   "outputs": [
    {
     "name": "stdout",
     "output_type": "stream",
     "text": [
      "Tuple rotated to the left by 2 positions: (3, 4, 5, 1, 2)\n"
     ]
    }
   ],
   "source": [
    "#Question= 39\n",
    "# Rotate a tuple to the left by n positions\n",
    "my_tuple = (1, 2, 3, 4, 5)\n",
    "n = 2\n",
    "rotated_tuple = my_tuple[n:] + my_tuple[:n]\n",
    "print(f\"Tuple rotated to the left by {n} positions:\", rotated_tuple)"
   ]
  },
  {
   "cell_type": "markdown",
   "metadata": {},
   "source": [
    "### 40. Rotate a tuple to the right by `n` positions.\n"
   ]
  },
  {
   "cell_type": "code",
   "execution_count": 135,
   "metadata": {},
   "outputs": [
    {
     "name": "stdout",
     "output_type": "stream",
     "text": [
      "Tuple rotated to the right by 2 positions: (4, 5, 1, 2, 3)\n"
     ]
    }
   ],
   "source": [
    "#Question= 40\n",
    "# Rotate a tuple to the right by n positions\n",
    "my_tuple = (1, 2, 3, 4, 5)\n",
    "n = 2\n",
    "rotated_tuple = my_tuple[-n:] + my_tuple[:-n]\n",
    "print(f\"Tuple rotated to the right by {n} positions:\", rotated_tuple)"
   ]
  },
  {
   "cell_type": "markdown",
   "metadata": {},
   "source": [
    "### 41. Create a tuple of the first 5 Fibonacci numbers.\n"
   ]
  },
  {
   "cell_type": "code",
   "execution_count": 136,
   "metadata": {},
   "outputs": [
    {
     "name": "stdout",
     "output_type": "stream",
     "text": [
      "Tuple of the first 5 Fibonacci numbers: (0, 1, 1, 2, 3)\n"
     ]
    }
   ],
   "source": [
    "#Question= 41\n",
    "def fibonacci(n):\n",
    "    fib = [0, 1]\n",
    "    while len(fib) < n:\n",
    "        fib.append(fib[-1] + fib[-2])\n",
    "    return tuple(fib)\n",
    "fibonacci_numbers = fibonacci(5)\n",
    "print(\"Tuple of the first 5 Fibonacci numbers:\", fibonacci_numbers)"
   ]
  },
  {
   "cell_type": "markdown",
   "metadata": {},
   "source": [
    "### 42. Create a tuple from user input.\n"
   ]
  },
  {
   "cell_type": "code",
   "execution_count": 138,
   "metadata": {},
   "outputs": [
    {
     "name": "stdout",
     "output_type": "stream",
     "text": [
      "User input tuple: ('hello', 'my', 'name', 'is')\n"
     ]
    }
   ],
   "source": [
    "#Question= 42\n",
    "elements = input(\"Enter elements separated by spaces: \").split()\n",
    "user_tuple = tuple(elements)\n",
    "print(\"User input tuple:\", user_tuple)"
   ]
  },
  {
   "cell_type": "markdown",
   "metadata": {},
   "source": [
    "### 43. Swap two elements in a tuple.\n"
   ]
  },
  {
   "cell_type": "code",
   "execution_count": null,
   "metadata": {},
   "outputs": [
    {
     "name": "stdout",
     "output_type": "stream",
     "text": [
      "Tuple after swapping elements: (1, 4, 3, 2, 5)\n"
     ]
    }
   ],
   "source": [
    "#Question= 43\n",
    "my_tuple = (1, 2, 3, 4, 5)\n",
    "index1, index2 = 1, 3\n",
    "tuple_list = list(my_tuple)\n",
    "tuple_list[index1], tuple_list[index2] = tuple_list[index2], tuple_list[index1]\n",
    "swapped_tuple = tuple(tuple_list)\n",
    "print(\"Tuple after swapping elements:\", swapped_tuple)"
   ]
  },
  {
   "cell_type": "markdown",
   "metadata": {},
   "source": [
    "### 44. Reverse the elements of a tuple.\n"
   ]
  },
  {
   "cell_type": "code",
   "execution_count": null,
   "metadata": {},
   "outputs": [
    {
     "name": "stdout",
     "output_type": "stream",
     "text": [
      "Reversed tuple: (5, 4, 3, 2, 1)\n"
     ]
    }
   ],
   "source": [
    "#Question= 44\n",
    "my_tuple = (1, 2, 3, 4, 5)\n",
    "reversed_tuple = my_tuple[::-1]\n",
    "print(\"Reversed tuple:\", reversed_tuple)"
   ]
  },
  {
   "cell_type": "markdown",
   "metadata": {},
   "source": [
    "### 45. Create a tuple of the first `n` powers of 2.\n"
   ]
  },
  {
   "cell_type": "code",
   "execution_count": null,
   "metadata": {},
   "outputs": [
    {
     "name": "stdout",
     "output_type": "stream",
     "text": [
      "Tuple of the first 5 powers of 2: (1, 2, 4, 8, 16)\n"
     ]
    }
   ],
   "source": [
    "#Question= 45\n",
    "n = 5\n",
    "powers_of_2 = tuple(2 ** i for i in range(n))\n",
    "print(f\"Tuple of the first {n} powers of 2:\", powers_of_2)"
   ]
  },
  {
   "cell_type": "markdown",
   "metadata": {},
   "source": [
    "### 46. Find the longest string in a tuple of strings.\n"
   ]
  },
  {
   "cell_type": "code",
   "execution_count": null,
   "metadata": {},
   "outputs": [
    {
     "name": "stdout",
     "output_type": "stream",
     "text": [
      "Longest string: banana\n"
     ]
    }
   ],
   "source": [
    "#Question= 46\n",
    "string_tuple = (\"apple\", \"banana\", \"cherry\", \"date\")\n",
    "longest_string = max(string_tuple, key=len)\n",
    "print(\"Longest string:\", longest_string)"
   ]
  },
  {
   "cell_type": "markdown",
   "metadata": {},
   "source": [
    "### 47. Find the shortest string in a tuple of strings.\n"
   ]
  },
  {
   "cell_type": "code",
   "execution_count": null,
   "metadata": {},
   "outputs": [
    {
     "name": "stdout",
     "output_type": "stream",
     "text": [
      "Shortest string: date\n"
     ]
    }
   ],
   "source": [
    "#Question= 47\n",
    "string_tuple = (\"apple\", \"banana\", \"cherry\", \"date\")\n",
    "shortest_string = min(string_tuple, key=len)\n",
    "print(\"Shortest string:\", shortest_string)"
   ]
  },
  {
   "cell_type": "markdown",
   "metadata": {},
   "source": [
    "### 48. Create a tuple of the first `n` triangular numbers.\n"
   ]
  },
  {
   "cell_type": "code",
   "execution_count": null,
   "metadata": {},
   "outputs": [
    {
     "name": "stdout",
     "output_type": "stream",
     "text": [
      "Tuple of the first 5 triangular numbers: (1, 3, 6, 10, 15)\n"
     ]
    }
   ],
   "source": [
    "#Question= 48\n",
    "def triangular_number(n):\n",
    "    return n * (n + 1) // 2\n",
    "\n",
    "n = 5\n",
    "triangular_numbers = tuple(triangular_number(i) for i in range(1, n + 1))\n",
    "print(f\"Tuple of the first {n} triangular numbers:\", triangular_numbers)"
   ]
  },
  {
   "cell_type": "markdown",
   "metadata": {},
   "source": [
    "### 49. Check if a tuple contains another tuple as a subsequence.\n"
   ]
  },
  {
   "cell_type": "code",
   "execution_count": null,
   "metadata": {},
   "outputs": [
    {
     "name": "stdout",
     "output_type": "stream",
     "text": [
      "Does the tuple contain the subsequence? False\n"
     ]
    }
   ],
   "source": [
    "#Question= 49\n",
    "my_tuple = (1, 2, (3, 4), 5, 6)\n",
    "sub_tuple = (3, 4)\n",
    "\n",
    "contains_subsequence = any(sub_tuple == my_tuple[i:i+len(sub_tuple)] for i in range(len(my_tuple) - len(sub_tuple) + 1))\n",
    "print(\"Does the tuple contain the subsequence?\", contains_subsequence)"
   ]
  },
  {
   "cell_type": "markdown",
   "metadata": {},
   "source": [
    "### 50. Create a tuple of alternating 1s and 0s of length `n`.\n"
   ]
  },
  {
   "cell_type": "code",
   "execution_count": null,
   "metadata": {},
   "outputs": [
    {
     "name": "stdout",
     "output_type": "stream",
     "text": [
      "Tuple of alternating 1s and 0s of length 8: (1, 0, 1, 0, 1, 0, 1, 0)\n"
     ]
    }
   ],
   "source": [
    "#Question= 50\n",
    "n = 8\n",
    "alternating_tuple = tuple(1 if i % 2 == 0 else 0 for i in range(n))\n",
    "print(f\"Tuple of alternating 1s and 0s of length {n}:\", alternating_tuple)"
   ]
  },
  {
   "cell_type": "markdown",
   "metadata": {},
   "source": [
    "## **Set-Based Practice Problems:**"
   ]
  },
  {
   "cell_type": "markdown",
   "metadata": {},
   "source": [
    "### 1. Create a set with integers from 1 to 5.\n"
   ]
  },
  {
   "cell_type": "code",
   "execution_count": 142,
   "metadata": {},
   "outputs": [
    {
     "name": "stdout",
     "output_type": "stream",
     "text": [
      "Set: {1, 2, 3, 4, 5}\n"
     ]
    }
   ],
   "source": [
    "#Question= 1\n",
    "my_set = set(range(1, 6))\n",
    "print(\"Set:\", my_set)"
   ]
  },
  {
   "cell_type": "markdown",
   "metadata": {},
   "source": [
    "### 2. Add an element to a set.\n"
   ]
  },
  {
   "cell_type": "code",
   "execution_count": 145,
   "metadata": {},
   "outputs": [
    {
     "name": "stdout",
     "output_type": "stream",
     "text": [
      "Set after adding an element: {1, 2, 3, 4}\n"
     ]
    }
   ],
   "source": [
    "#Question= 2\n",
    "my_set = {1, 2, 3}\n",
    "my_set.add(4)\n",
    "print(\"Set after adding an element:\", my_set)"
   ]
  },
  {
   "cell_type": "markdown",
   "metadata": {},
   "source": [
    "### 3. Remove an element from a set.\n"
   ]
  },
  {
   "cell_type": "code",
   "execution_count": 144,
   "metadata": {},
   "outputs": [
    {
     "name": "stdout",
     "output_type": "stream",
     "text": [
      "Set after removing an element: {1, 3}\n"
     ]
    }
   ],
   "source": [
    "#Question= 3\n",
    "my_set = {1, 2, 3}\n",
    "my_set.remove(2)\n",
    "print(\"Set after removing an element:\", my_set)"
   ]
  },
  {
   "cell_type": "markdown",
   "metadata": {},
   "source": [
    "### 4. Check if an element exists in a set.\n"
   ]
  },
  {
   "cell_type": "code",
   "execution_count": 146,
   "metadata": {},
   "outputs": [
    {
     "name": "stdout",
     "output_type": "stream",
     "text": [
      "Does 2 exist in the set? True\n"
     ]
    }
   ],
   "source": [
    "#Question= 4\n",
    "my_set = {1, 2, 3}\n",
    "element_to_check = 2\n",
    "exists = element_to_check in my_set\n",
    "print(f\"Does {element_to_check} exist in the set? {exists}\")"
   ]
  },
  {
   "cell_type": "markdown",
   "metadata": {},
   "source": [
    "### 5. Find the length of a set without using the `len()` function.\n"
   ]
  },
  {
   "cell_type": "code",
   "execution_count": 147,
   "metadata": {},
   "outputs": [
    {
     "name": "stdout",
     "output_type": "stream",
     "text": [
      "Length of the set: 3\n"
     ]
    }
   ],
   "source": [
    "#Question= 5\n",
    "my_set = {1, 2, 3}\n",
    "count = sum(1 for _ in my_set)\n",
    "print(\"Length of the set:\", count)"
   ]
  },
  {
   "cell_type": "markdown",
   "metadata": {},
   "source": [
    "### 6. Clear all elements from a set.\n"
   ]
  },
  {
   "cell_type": "code",
   "execution_count": null,
   "metadata": {},
   "outputs": [
    {
     "name": "stdout",
     "output_type": "stream",
     "text": [
      "Set after clearing: set()\n"
     ]
    }
   ],
   "source": [
    "#Question= 6\n",
    "my_set = {1, 2, 3}\n",
    "my_set.clear()\n",
    "print(\"Set after clearing:\", my_set)"
   ]
  },
  {
   "cell_type": "markdown",
   "metadata": {},
   "source": [
    "### 7. Create a set of even numbers from 1 to 10.\n"
   ]
  },
  {
   "cell_type": "code",
   "execution_count": 148,
   "metadata": {},
   "outputs": [
    {
     "name": "stdout",
     "output_type": "stream",
     "text": [
      "Set of even numbers: {2, 4, 6, 8, 10}\n"
     ]
    }
   ],
   "source": [
    "#Question= 7\n",
    "even_set = set(range(2, 11, 2))\n",
    "print(\"Set of even numbers:\", even_set)"
   ]
  },
  {
   "cell_type": "markdown",
   "metadata": {},
   "source": [
    "### 8. Create a set of odd numbers from 1 to 10.\n"
   ]
  },
  {
   "cell_type": "code",
   "execution_count": null,
   "metadata": {},
   "outputs": [
    {
     "name": "stdout",
     "output_type": "stream",
     "text": [
      "Set of odd numbers: {1, 3, 5, 7, 9}\n"
     ]
    }
   ],
   "source": [
    "#Question= 8\n",
    "odd_set = set(range(1, 11, 2))\n",
    "print(\"Set of odd numbers:\", odd_set)"
   ]
  },
  {
   "cell_type": "markdown",
   "metadata": {},
   "source": [
    "### 9. Find the union of two sets.\n"
   ]
  },
  {
   "cell_type": "code",
   "execution_count": null,
   "metadata": {},
   "outputs": [
    {
     "name": "stdout",
     "output_type": "stream",
     "text": [
      "Union of two sets: {1, 2, 3, 4, 5}\n"
     ]
    }
   ],
   "source": [
    "#Question= 9\n",
    "set1 = {1, 2, 3}\n",
    "set2 = {3, 4, 5}\n",
    "union_set = set1.union(set2)\n",
    "print(\"Union of two sets:\", union_set)"
   ]
  },
  {
   "cell_type": "markdown",
   "metadata": {},
   "source": [
    "### 10. Find the intersection of two sets.\n"
   ]
  },
  {
   "cell_type": "code",
   "execution_count": 149,
   "metadata": {},
   "outputs": [
    {
     "name": "stdout",
     "output_type": "stream",
     "text": [
      "Intersection of two sets: {3}\n"
     ]
    }
   ],
   "source": [
    "#Question= 10\n",
    "set1 = {1, 2, 3}\n",
    "set2 = {3, 4, 5}\n",
    "intersection_set = set1.intersection(set2)\n",
    "print(\"Intersection of two sets:\", intersection_set)"
   ]
  },
  {
   "cell_type": "markdown",
   "metadata": {},
   "source": [
    "### 11. Find the difference between two sets.\n"
   ]
  },
  {
   "cell_type": "code",
   "execution_count": null,
   "metadata": {},
   "outputs": [
    {
     "name": "stdout",
     "output_type": "stream",
     "text": [
      "Difference between two sets: {1, 2}\n"
     ]
    }
   ],
   "source": [
    "#Question= 11\n",
    "set1 = {1, 2, 3, 4, 5}\n",
    "set2 = {3, 4, 5, 6, 7}\n",
    "difference_set = set1 - set2\n",
    "print(\"Difference between two sets:\", difference_set)"
   ]
  },
  {
   "cell_type": "markdown",
   "metadata": {},
   "source": [
    "### 12. Check if a set is a subset of another set.\n"
   ]
  },
  {
   "cell_type": "code",
   "execution_count": null,
   "metadata": {},
   "outputs": [
    {
     "name": "stdout",
     "output_type": "stream",
     "text": [
      "Is set1 a subset of set2? True\n"
     ]
    }
   ],
   "source": [
    "#Question= 12\n",
    "set1 = {1, 2, 3}\n",
    "set2 = {1, 2, 3, 4, 5}\n",
    "is_subset = set1.issubset(set2)\n",
    "print(\"Is set1 a subset of set2?\", is_subset)"
   ]
  },
  {
   "cell_type": "markdown",
   "metadata": {},
   "source": [
    "### 13. Check if a set is a superset of another set.\n"
   ]
  },
  {
   "cell_type": "code",
   "execution_count": null,
   "metadata": {},
   "outputs": [
    {
     "name": "stdout",
     "output_type": "stream",
     "text": [
      "Is set1 a superset of set2? True\n"
     ]
    }
   ],
   "source": [
    "#Question= 13\n",
    "set1 = {1, 2, 3, 4, 5}\n",
    "set2 = {1, 2, 3}\n",
    "is_superset = set1.issuperset(set2)\n",
    "print(\"Is set1 a superset of set2?\", is_superset)"
   ]
  },
  {
   "cell_type": "markdown",
   "metadata": {},
   "source": [
    "### 14. Create a set from a list.\n"
   ]
  },
  {
   "cell_type": "code",
   "execution_count": null,
   "metadata": {},
   "outputs": [
    {
     "name": "stdout",
     "output_type": "stream",
     "text": [
      "Set from a list: {1, 2, 3, 4, 5}\n"
     ]
    }
   ],
   "source": [
    "#Question= 14\n",
    "my_list = [1, 2, 3, 4, 5]\n",
    "my_set = set(my_list)\n",
    "print(\"Set from a list:\", my_set)"
   ]
  },
  {
   "cell_type": "markdown",
   "metadata": {},
   "source": [
    "### 15. Convert a set to a list.\n"
   ]
  },
  {
   "cell_type": "code",
   "execution_count": null,
   "metadata": {},
   "outputs": [
    {
     "name": "stdout",
     "output_type": "stream",
     "text": [
      "List from a set: [1, 2, 3, 4, 5]\n"
     ]
    }
   ],
   "source": [
    "#Question= 15\n",
    "my_set = {1, 2, 3, 4, 5}\n",
    "my_list = list(my_set)\n",
    "print(\"List from a set:\", my_list)"
   ]
  },
  {
   "cell_type": "markdown",
   "metadata": {},
   "source": [
    "### 16. Remove a random element from a set.\n"
   ]
  },
  {
   "cell_type": "code",
   "execution_count": null,
   "metadata": {},
   "outputs": [
    {
     "name": "stdout",
     "output_type": "stream",
     "text": [
      "Set after removing a random element: {2, 3, 4, 5}\n"
     ]
    }
   ],
   "source": [
    "#Question= 16\n",
    "import random\n",
    "my_set = {1, 2, 3, 4, 5}\n",
    "random_element = random.choice(tuple(my_set))\n",
    "my_set.remove(random_element)\n",
    "print(\"Set after removing a random element:\", my_set)"
   ]
  },
  {
   "cell_type": "markdown",
   "metadata": {},
   "source": [
    "### 17. Pop an element from a set.\n"
   ]
  },
  {
   "cell_type": "code",
   "execution_count": null,
   "metadata": {},
   "outputs": [
    {
     "name": "stdout",
     "output_type": "stream",
     "text": [
      "Popped element: 1\n",
      "Set after popping: {2, 3, 4, 5}\n"
     ]
    }
   ],
   "source": [
    "#Question= 17\n",
    "my_set = {1, 2, 3, 4, 5}\n",
    "popped_element = my_set.pop()\n",
    "print(\"Popped element:\", popped_element)\n",
    "print(\"Set after popping:\", my_set)"
   ]
  },
  {
   "cell_type": "markdown",
   "metadata": {},
   "source": [
    "### 18. Check if two sets have no elements in common.\n"
   ]
  },
  {
   "cell_type": "code",
   "execution_count": null,
   "metadata": {},
   "outputs": [
    {
     "name": "stdout",
     "output_type": "stream",
     "text": [
      "Do the sets have no common elements? False\n"
     ]
    }
   ],
   "source": [
    "#Question= 18\n",
    "set1 = {1, 2, 3}\n",
    "set2 = {4, 5, 6}\n",
    "no_common_elements = not set1.isdisjoint(set2)\n",
    "print(\"Do the sets have no common elements?\", no_common_elements)"
   ]
  },
  {
   "cell_type": "markdown",
   "metadata": {},
   "source": [
    "### 19. Find the symmetric difference between two sets.\n"
   ]
  },
  {
   "cell_type": "code",
   "execution_count": null,
   "metadata": {},
   "outputs": [
    {
     "name": "stdout",
     "output_type": "stream",
     "text": [
      "Symmetric difference between two sets: {1, 2, 6, 7}\n"
     ]
    }
   ],
   "source": [
    "#Question= 19\n",
    "set1 = {1, 2, 3, 4, 5}\n",
    "set2 = {3, 4, 5, 6, 7}\n",
    "symmetric_difference_set = set1.symmetric_difference(set2)\n",
    "print(\"Symmetric difference between two sets:\", symmetric_difference_set)"
   ]
  },
  {
   "cell_type": "markdown",
   "metadata": {},
   "source": [
    "### 20. Update a set with elements from another set.\n"
   ]
  },
  {
   "cell_type": "code",
   "execution_count": null,
   "metadata": {},
   "outputs": [
    {
     "name": "stdout",
     "output_type": "stream",
     "text": [
      "Set1 after updating with elements from set2: {1, 2, 3, 4, 5}\n"
     ]
    }
   ],
   "source": [
    "#Question= 20\n",
    "set1 = {1, 2, 3}\n",
    "set2 = {3, 4, 5}\n",
    "set1.update(set2)\n",
    "print(\"Set1 after updating with elements from set2:\", set1)"
   ]
  },
  {
   "cell_type": "markdown",
   "metadata": {},
   "source": [
    "### 21. Create a set of the first 5 prime numbers.\n"
   ]
  },
  {
   "cell_type": "code",
   "execution_count": null,
   "metadata": {},
   "outputs": [
    {
     "name": "stdout",
     "output_type": "stream",
     "text": [
      "Set of the first 5 prime numbers: {2, 3, 5, 7, 11}\n"
     ]
    }
   ],
   "source": [
    "#Question= 21\n",
    "prime_set = {2, 3, 5, 7, 11}\n",
    "print(\"Set of the first 5 prime numbers:\", prime_set)\n"
   ]
  },
  {
   "cell_type": "markdown",
   "metadata": {},
   "source": [
    "### 22. Check if two sets are identical.\n"
   ]
  },
  {
   "cell_type": "code",
   "execution_count": null,
   "metadata": {},
   "outputs": [
    {
     "name": "stdout",
     "output_type": "stream",
     "text": [
      "Are the sets identical? True\n"
     ]
    }
   ],
   "source": [
    "#Question= 22\n",
    "set1 = {1, 2, 3}\n",
    "set2 = {3, 2, 1}\n",
    "are_identical = set1 == set2\n",
    "print(\"Are the sets identical?\", are_identical)\n"
   ]
  },
  {
   "cell_type": "markdown",
   "metadata": {},
   "source": [
    "### 23. Create a frozen set.\n"
   ]
  },
  {
   "cell_type": "code",
   "execution_count": null,
   "metadata": {},
   "outputs": [
    {
     "name": "stdout",
     "output_type": "stream",
     "text": [
      "Frozen set: frozenset({1, 2, 3})\n"
     ]
    }
   ],
   "source": [
    "#Question= 23\n",
    "my_set = {1, 2, 3}\n",
    "frozen_set = frozenset(my_set)\n",
    "print(\"Frozen set:\", frozen_set)\n"
   ]
  },
  {
   "cell_type": "markdown",
   "metadata": {},
   "source": [
    "### 24. Check if a set is disjoint with another set.\n"
   ]
  },
  {
   "cell_type": "code",
   "execution_count": null,
   "metadata": {},
   "outputs": [
    {
     "name": "stdout",
     "output_type": "stream",
     "text": [
      "Are the sets disjoint? True\n"
     ]
    }
   ],
   "source": [
    "#Question= 24\n",
    "set1 = {1, 2, 3}\n",
    "set2 = {4, 5, 6}\n",
    "is_disjoint = set1.isdisjoint(set2)\n",
    "print(\"Are the sets disjoint?\", is_disjoint)"
   ]
  },
  {
   "cell_type": "markdown",
   "metadata": {},
   "source": [
    "### 25. Create a set of squares of numbers from 1 to 5.\n"
   ]
  },
  {
   "cell_type": "code",
   "execution_count": null,
   "metadata": {},
   "outputs": [
    {
     "name": "stdout",
     "output_type": "stream",
     "text": [
      "Set of squares: {1, 4, 9, 16, 25}\n"
     ]
    }
   ],
   "source": [
    "#Question= 25\n",
    "square_set = {x ** 2 for x in range(1, 6)}\n",
    "print(\"Set of squares:\", square_set)"
   ]
  },
  {
   "cell_type": "markdown",
   "metadata": {},
   "source": [
    "### 26. Filter out all even numbers from a set.\n"
   ]
  },
  {
   "cell_type": "code",
   "execution_count": null,
   "metadata": {},
   "outputs": [
    {
     "name": "stdout",
     "output_type": "stream",
     "text": [
      "Set after filtering out even numbers: {1, 3, 5}\n"
     ]
    }
   ],
   "source": [
    "#Question= 26\n",
    "my_set = {1, 2, 3, 4, 5}\n",
    "filtered_set = {x for x in my_set if x % 2 != 0}\n",
    "print(\"Set after filtering out even numbers:\", filtered_set)"
   ]
  },
  {
   "cell_type": "markdown",
   "metadata": {},
   "source": [
    "### 27. Multiply all elements in a set by 2.\n"
   ]
  },
  {
   "cell_type": "code",
   "execution_count": null,
   "metadata": {},
   "outputs": [
    {
     "name": "stdout",
     "output_type": "stream",
     "text": [
      "Set after multiplying by 2: {2, 4, 6, 8, 10}\n"
     ]
    }
   ],
   "source": [
    "#Question= 27\n",
    "my_set = {1, 2, 3, 4, 5}\n",
    "doubled_set = {x * 2 for x in my_set}\n",
    "print(\"Set after multiplying by 2:\", doubled_set)"
   ]
  },
  {
   "cell_type": "markdown",
   "metadata": {},
   "source": [
    "### 28. Create a set of random numbers.\n"
   ]
  },
  {
   "cell_type": "code",
   "execution_count": 150,
   "metadata": {},
   "outputs": [
    {
     "name": "stdout",
     "output_type": "stream",
     "text": [
      "Set of random numbers: {9, 3}\n"
     ]
    }
   ],
   "source": [
    "#Question= 28\n",
    "import random\n",
    "random_set = {random.randint(1, 10) for _ in range(5)}\n",
    "print(\"Set of random numbers:\", random_set)"
   ]
  },
  {
   "cell_type": "markdown",
   "metadata": {},
   "source": [
    "### 29. Check if a set is empty.\n"
   ]
  },
  {
   "cell_type": "code",
   "execution_count": null,
   "metadata": {},
   "outputs": [
    {
     "name": "stdout",
     "output_type": "stream",
     "text": [
      "Is the set empty? True\n"
     ]
    }
   ],
   "source": [
    "#Question= 29\n",
    "my_set = set()\n",
    "is_empty = not bool(my_set)\n",
    "print(\"Is the set empty?\", is_empty)"
   ]
  },
  {
   "cell_type": "markdown",
   "metadata": {},
   "source": [
    "### 30. Create a nested set (hint: use frozenset).\n"
   ]
  },
  {
   "cell_type": "code",
   "execution_count": null,
   "metadata": {},
   "outputs": [
    {
     "name": "stdout",
     "output_type": "stream",
     "text": [
      "frozenset({frozenset({1, 2, 3}), frozenset({4, 5, 6})})\n"
     ]
    }
   ],
   "source": [
    "#Question= 30\n",
    "set1 = frozenset({1, 2, 3})\n",
    "set2 = frozenset({4, 5, 6})\n",
    "# Create a nested frozenset\n",
    "nested_set = frozenset({set1, set2})\n",
    "print(nested_set)\n"
   ]
  },
  {
   "cell_type": "markdown",
   "metadata": {},
   "source": [
    "### 31. Remove an element from a set using the discard method.\n"
   ]
  },
  {
   "cell_type": "code",
   "execution_count": null,
   "metadata": {},
   "outputs": [
    {
     "name": "stdout",
     "output_type": "stream",
     "text": [
      "Set after removing 3: {1, 2, 4, 5}\n"
     ]
    }
   ],
   "source": [
    "#Question= 31\n",
    "my_set = {1, 2, 3, 4, 5}\n",
    "my_set.discard(3)  # Remove the element 3 if it exists\n",
    "print(\"Set after removing 3:\", my_set)"
   ]
  },
  {
   "cell_type": "markdown",
   "metadata": {},
   "source": [
    "### 32. Compare two sets.\n"
   ]
  },
  {
   "cell_type": "code",
   "execution_count": 151,
   "metadata": {},
   "outputs": [
    {
     "name": "stdout",
     "output_type": "stream",
     "text": [
      "Is set1 a subset of set2? False\n",
      "Is set1 a superset of set2? False\n",
      "Do the sets have common elements? True\n"
     ]
    }
   ],
   "source": [
    "#Question= 32\n",
    "set1 = {1, 2, 3}\n",
    "set2 = {2, 3, 4}\n",
    "# Check if set1 is a subset of set2\n",
    "is_subset = set1.issubset(set2)\n",
    "# Check if set1 is a superset of set2\n",
    "is_superset = set1.issuperset(set2)\n",
    "# Check if two sets have any common elements\n",
    "have_common_elements = not set1.isdisjoint(set2)\n",
    "print(\"Is set1 a subset of set2?\", is_subset)\n",
    "print(\"Is set1 a superset of set2?\", is_superset)\n",
    "print(\"Do the sets have common elements?\", have_common_elements)"
   ]
  },
  {
   "cell_type": "markdown",
   "metadata": {},
   "source": [
    "### 33. Create a set from a string.\n"
   ]
  },
  {
   "cell_type": "code",
   "execution_count": null,
   "metadata": {},
   "outputs": [
    {
     "name": "stdout",
     "output_type": "stream",
     "text": [
      "Set from string: {'l', 'o', 'h', 'e'}\n"
     ]
    }
   ],
   "source": [
    "#Question= 33\n",
    "my_string = \"hello\"\n",
    "char_set = set(my_string)\n",
    "print(\"Set from string:\", char_set)"
   ]
  },
  {
   "cell_type": "markdown",
   "metadata": {},
   "source": [
    "### 34. Convert a set of strings to a set of integers.\n"
   ]
  },
  {
   "cell_type": "code",
   "execution_count": null,
   "metadata": {},
   "outputs": [
    {
     "name": "stdout",
     "output_type": "stream",
     "text": [
      "Set of integers: {1, 2, 3}\n"
     ]
    }
   ],
   "source": [
    "#Question= 34\n",
    "string_set = {\"1\", \"2\", \"3\"}\n",
    "int_set = {int(x) for x in string_set}\n",
    "print(\"Set of integers:\", int_set)"
   ]
  },
  {
   "cell_type": "markdown",
   "metadata": {},
   "source": [
    "### 35. Convert a set of integers to a set of strings.\n"
   ]
  },
  {
   "cell_type": "code",
   "execution_count": null,
   "metadata": {},
   "outputs": [
    {
     "name": "stdout",
     "output_type": "stream",
     "text": [
      "Set of strings: {'2', '1', '3'}\n"
     ]
    }
   ],
   "source": [
    "#Question= 35\n",
    "int_set = {1, 2, 3}\n",
    "string_set = {str(x) for x in int_set}\n",
    "print(\"Set of strings:\", string_set)"
   ]
  },
  {
   "cell_type": "markdown",
   "metadata": {},
   "source": [
    "### 36. Create a set from a tuple.\n"
   ]
  },
  {
   "cell_type": "code",
   "execution_count": null,
   "metadata": {},
   "outputs": [
    {
     "name": "stdout",
     "output_type": "stream",
     "text": [
      "Set from tuple: {1, 2, 3, 4, 5}\n"
     ]
    }
   ],
   "source": [
    "#Question= 36\n",
    "my_tuple = (1, 2, 3, 4, 5)\n",
    "tuple_set = set(my_tuple)\n",
    "print(\"Set from tuple:\", tuple_set)"
   ]
  },
  {
   "cell_type": "markdown",
   "metadata": {},
   "source": [
    "### 37. Convert a set to a tuple.\n"
   ]
  },
  {
   "cell_type": "code",
   "execution_count": null,
   "metadata": {},
   "outputs": [
    {
     "name": "stdout",
     "output_type": "stream",
     "text": [
      "Tuple from set: (1, 2, 3, 4, 5)\n"
     ]
    }
   ],
   "source": [
    "#Question= 37\n",
    "my_set = {1, 2, 3, 4, 5}\n",
    "set_tuple = tuple(my_set)\n",
    "print(\"Tuple from set:\", set_tuple)"
   ]
  },
  {
   "cell_type": "markdown",
   "metadata": {},
   "source": [
    "### 38. Find the maximum value in a set.\n"
   ]
  },
  {
   "cell_type": "code",
   "execution_count": null,
   "metadata": {},
   "outputs": [
    {
     "name": "stdout",
     "output_type": "stream",
     "text": [
      "Maximum value in set: 9\n"
     ]
    }
   ],
   "source": [
    "#Question= 38\n",
    "my_set = {4, 2, 8, 1, 9}\n",
    "max_value = max(my_set)\n",
    "print(\"Maximum value in set:\", max_value)"
   ]
  },
  {
   "cell_type": "markdown",
   "metadata": {},
   "source": [
    "### 39. Find the minimum value in a set.\n"
   ]
  },
  {
   "cell_type": "code",
   "execution_count": null,
   "metadata": {},
   "outputs": [
    {
     "name": "stdout",
     "output_type": "stream",
     "text": [
      "Minimum value in set: 1\n"
     ]
    }
   ],
   "source": [
    "#Question= 39\n",
    "my_set = {4, 2, 8, 1, 9}\n",
    "min_value = min(my_set)\n",
    "print(\"Minimum value in set:\", min_value)"
   ]
  },
  {
   "cell_type": "markdown",
   "metadata": {},
   "source": [
    "### 40. Create a set from user input.\n"
   ]
  },
  {
   "cell_type": "code",
   "execution_count": null,
   "metadata": {},
   "outputs": [
    {
     "name": "stdout",
     "output_type": "stream",
     "text": [
      "Set from user input: {'4', '2', '6', '3'}\n"
     ]
    }
   ],
   "source": [
    "#Question= 40\n",
    "user_input = input(\"Enter elements separated by spaces: \")\n",
    "user_list = user_input.split()\n",
    "user_set = set(user_list)\n",
    "print(\"Set from user input:\", user_set)"
   ]
  },
  {
   "cell_type": "markdown",
   "metadata": {},
   "source": [
    "### 41. Check if the intersection of two sets is empty.\n"
   ]
  },
  {
   "cell_type": "code",
   "execution_count": 152,
   "metadata": {},
   "outputs": [
    {
     "name": "stdout",
     "output_type": "stream",
     "text": [
      "Is the intersection empty? True\n"
     ]
    }
   ],
   "source": [
    "#Question= 41\n",
    "set1 = {1, 2, 3}\n",
    "set2 = {4, 5, 6}\n",
    "is_intersection_empty = len(set1.intersection(set2)) == 0\n",
    "print(\"Is the intersection empty?\", is_intersection_empty)\n"
   ]
  },
  {
   "cell_type": "markdown",
   "metadata": {},
   "source": [
    "### 42. Create a set of the first 5 Fibonacci numbers.\n"
   ]
  },
  {
   "cell_type": "code",
   "execution_count": null,
   "metadata": {},
   "outputs": [
    {
     "name": "stdout",
     "output_type": "stream",
     "text": [
      "{0, 1, 2, 3}\n"
     ]
    }
   ],
   "source": [
    "#Question= 42\n",
    "def generate_fibonacci(n):\n",
    "    fibonacci_set = set()\n",
    "    a, b = 0, 1\n",
    "    for _ in range(n):\n",
    "        fibonacci_set.add(a)\n",
    "        a, b = b, a + b\n",
    "    return fibonacci_set\n",
    "# Generate the first 5 Fibonacci numbers\n",
    "first_5_fibonacci = generate_fibonacci(5)\n",
    "# Print the set\n",
    "print(first_5_fibonacci)\n"
   ]
  },
  {
   "cell_type": "markdown",
   "metadata": {},
   "source": [
    "### 43. Remove duplicates from a list using sets.\n"
   ]
  },
  {
   "cell_type": "code",
   "execution_count": null,
   "metadata": {},
   "outputs": [
    {
     "name": "stdout",
     "output_type": "stream",
     "text": [
      "List with duplicates removed: [1, 2, 3, 4, 5]\n"
     ]
    }
   ],
   "source": [
    "#Question= 43\n",
    "my_list = [1, 2, 2, 3, 4, 4, 5]\n",
    "unique_list = list(set(my_list))\n",
    "print(\"List with duplicates removed:\", unique_list)"
   ]
  },
  {
   "cell_type": "markdown",
   "metadata": {},
   "source": [
    "### 44. Check if two sets have the same elements, regardless of their count.\n"
   ]
  },
  {
   "cell_type": "code",
   "execution_count": null,
   "metadata": {},
   "outputs": [
    {
     "name": "stdout",
     "output_type": "stream",
     "text": [
      "Are the sets equal? True\n"
     ]
    }
   ],
   "source": [
    "#Question= 44\n",
    "set1 = {1, 2, 3}\n",
    "set2 = {3, 2, 1, 1}\n",
    "are_equal_sets = set1 == set2\n",
    "print(\"Are the sets equal?\", are_equal_sets)"
   ]
  },
  {
   "cell_type": "markdown",
   "metadata": {},
   "source": [
    "### 45. Create a set of the first `n` powers of 2.\n"
   ]
  },
  {
   "cell_type": "code",
   "execution_count": null,
   "metadata": {},
   "outputs": [
    {
     "name": "stdout",
     "output_type": "stream",
     "text": [
      "Set of the first 5 powers of 2: {1, 2, 4, 8, 16}\n"
     ]
    }
   ],
   "source": [
    "#Question= 45\n",
    "n = 5\n",
    "powers_of_2_set = {2**i for i in range(n)}\n",
    "print(\"Set of the first\", n, \"powers of 2:\", powers_of_2_set)"
   ]
  },
  {
   "cell_type": "markdown",
   "metadata": {},
   "source": [
    "### 46. Find the common elements between a set and a list.\n"
   ]
  },
  {
   "cell_type": "code",
   "execution_count": null,
   "metadata": {},
   "outputs": [
    {
     "name": "stdout",
     "output_type": "stream",
     "text": [
      "Common elements: {3, 4, 5}\n"
     ]
    }
   ],
   "source": [
    "#Question= 46\n",
    "set1 = {1, 2, 3, 4, 5}\n",
    "list1 = [3, 4, 5, 6, 7]\n",
    "common_elements = set1.intersection(list1)\n",
    "print(\"Common elements:\", common_elements)"
   ]
  },
  {
   "cell_type": "markdown",
   "metadata": {},
   "source": [
    "### 47. Create a set of the first `n` triangular numbers.\n"
   ]
  },
  {
   "cell_type": "code",
   "execution_count": null,
   "metadata": {},
   "outputs": [
    {
     "name": "stdout",
     "output_type": "stream",
     "text": [
      "Set of the first 5 triangular numbers: {1, 3, 6, 10, 15}\n"
     ]
    }
   ],
   "source": [
    "#Question= 47\n",
    "n = 5\n",
    "triangular_numbers_set = {i * (i + 1) // 2 for i in range(1, n + 1)}\n",
    "print(\"Set of the first\", n, \"triangular numbers:\", triangular_numbers_set)"
   ]
  },
  {
   "cell_type": "markdown",
   "metadata": {},
   "source": [
    "### 48. Check if a set contains another set as a subset.\n"
   ]
  },
  {
   "cell_type": "code",
   "execution_count": null,
   "metadata": {},
   "outputs": [
    {
     "name": "stdout",
     "output_type": "stream",
     "text": [
      "Is subset a subset of set1? True\n"
     ]
    }
   ],
   "source": [
    "#Question= 48\n",
    "set1 = {1, 2, 3, 4, 5}\n",
    "subset = {3, 4, 5}\n",
    "is_subset = subset.issubset(set1)\n",
    "print(\"Is subset a subset of set1?\", is_subset)"
   ]
  },
  {
   "cell_type": "markdown",
   "metadata": {},
   "source": [
    "### 49. Create a set of alternating 1s and 0s of length `n`.\n"
   ]
  },
  {
   "cell_type": "code",
   "execution_count": 153,
   "metadata": {},
   "outputs": [
    {
     "name": "stdout",
     "output_type": "stream",
     "text": [
      "Set of alternating 1s and 0s: {0, 1}\n"
     ]
    }
   ],
   "source": [
    "#Question= 49\n",
    "n = 6\n",
    "alternating_set = {1 if i % 2 == 0 else 0 for i in range(n)}\n",
    "print(\"Set of alternating 1s and 0s:\", alternating_set)"
   ]
  },
  {
   "cell_type": "markdown",
   "metadata": {},
   "source": [
    "### 50. Merge multiple sets into one.\n"
   ]
  },
  {
   "cell_type": "code",
   "execution_count": 154,
   "metadata": {},
   "outputs": [
    {
     "name": "stdout",
     "output_type": "stream",
     "text": [
      "Merged set: {1, 2, 3, 4, 5, 6, 7}\n"
     ]
    }
   ],
   "source": [
    "#Question= 50\n",
    "set1 = {1, 2, 3}\n",
    "set2 = {3, 4, 5}\n",
    "set3 = {5, 6, 7}\n",
    "merged_set = set1.union(set2, set3)\n",
    "print(\"Merged set:\", merged_set)"
   ]
  }
 ],
 "metadata": {
  "kernelspec": {
   "display_name": "Python 3",
   "language": "python",
   "name": "python3"
  },
  "language_info": {
   "codemirror_mode": {
    "name": "ipython",
    "version": 3
   },
   "file_extension": ".py",
   "mimetype": "text/x-python",
   "name": "python",
   "nbconvert_exporter": "python",
   "pygments_lexer": "ipython3",
   "version": "3.11.7"
  },
  "orig_nbformat": 4
 },
 "nbformat": 4,
 "nbformat_minor": 2
}
