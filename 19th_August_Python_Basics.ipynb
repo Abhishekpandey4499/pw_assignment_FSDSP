{
 "cells": [
  {
   "cell_type": "markdown",
   "id": "b5fc761a-96ca-4ea9-acb7-9df5f657e959",
   "metadata": {},
   "source": [
    "TOPIC: Python Basics Variable"
   ]
  },
  {
   "cell_type": "code",
   "execution_count": null,
   "id": "7d3dc37c-867c-49ac-b150-9df4e162356b",
   "metadata": {},
   "outputs": [],
   "source": []
  },
  {
   "cell_type": "markdown",
   "id": "b233849c-07b0-4064-9d86-df77f99a730a",
   "metadata": {},
   "source": [
    "QUESTION- 1"
   ]
  },
  {
   "cell_type": "code",
   "execution_count": 2,
   "id": "d9913b9b-7d76-482c-a4aa-8891345371b1",
   "metadata": {},
   "outputs": [
    {
     "name": "stdin",
     "output_type": "stream",
     "text": [
      "Enter the value of a? 2\n",
      "Enter the value of b? 5\n"
     ]
    },
    {
     "name": "stdout",
     "output_type": "stream",
     "text": [
      "Before swapping numbers:2   5\n",
      "After swapping numbers::5   2\n"
     ]
    }
   ],
   "source": [
    "#Question- 1\n",
    "a = int(input(\"Enter the value of a?\"))                            #taking input a\n",
    "b = int(input(\"Enter the value of b?\"))                            #taking input b\n",
    "print(\"Before swapping numbers:\" + str(a) + \"   \" + str(b))        #printing number a and b before swapping\n",
    "a = a + b     \n",
    "b = a - b    \n",
    "a = a - b     \n",
    "print(\"After swapping numbers::\" + str(a) + \"   \" + str(b))        #printing number a and b after swapping"
   ]
  },
  {
   "cell_type": "code",
   "execution_count": null,
   "id": "f5d9301e-2b54-48e7-bf8c-4909b622b98d",
   "metadata": {},
   "outputs": [],
   "source": []
  },
  {
   "cell_type": "markdown",
   "id": "afea8263-245b-45c4-9aa3-f2d90e61636c",
   "metadata": {},
   "source": [
    "QUESTION- 2"
   ]
  },
  {
   "cell_type": "code",
   "execution_count": 3,
   "id": "4a11ab56-29fd-4cca-8802-7e87ec28b2b3",
   "metadata": {},
   "outputs": [
    {
     "name": "stdin",
     "output_type": "stream",
     "text": [
      "Enter the length 6\n",
      "Enter the Width 4\n"
     ]
    },
    {
     "name": "stdout",
     "output_type": "stream",
     "text": [
      "Area of Rectangle: 24\n"
     ]
    }
   ],
   "source": [
    "#Question- 2\n",
    "len=int(input(\"Enter the length\"))                                 #taking input length\n",
    "wid=int(input(\"Enter the Width\"))                                  #taking input width  \n",
    "area= len * wid\n",
    "print(\"Area of Rectangle: \" + str(area))                           #print the area of rectangle"
   ]
  },
  {
   "cell_type": "code",
   "execution_count": null,
   "id": "23dc9014-8637-4c70-86b2-97f9dbe864ce",
   "metadata": {},
   "outputs": [],
   "source": []
  },
  {
   "cell_type": "markdown",
   "id": "a6a8f794-c3b2-494f-874c-86230050735b",
   "metadata": {},
   "source": [
    "\n",
    "QUESTION- 3"
   ]
  },
  {
   "cell_type": "code",
   "execution_count": 4,
   "id": "59333d70-f04e-4790-8077-2062a4fab5b7",
   "metadata": {},
   "outputs": [
    {
     "name": "stdin",
     "output_type": "stream",
     "text": [
      "Enter the Temperature in Celsius:  10\n"
     ]
    },
    {
     "name": "stdout",
     "output_type": "stream",
     "text": [
      "Temperature in Fahrenheit :50.0\n"
     ]
    }
   ],
   "source": [
    "#Question- 3\n",
    "cel = float(input(\"Enter the Temperature in Celsius: \"))           #taking input celsius\n",
    "fah = (1.8 * cel) + 32\n",
    "print(\"Temperature in Fahrenheit :\" + str(fah))                    #print the result in fahrenheit"
   ]
  },
  {
   "cell_type": "code",
   "execution_count": null,
   "id": "1722df9c-82e3-496e-98db-f73f1531761d",
   "metadata": {},
   "outputs": [],
   "source": []
  },
  {
   "cell_type": "markdown",
   "id": "48a8171e-1b19-443a-8047-c3533303cabb",
   "metadata": {},
   "source": [
    "TOPIC: String Based Questions"
   ]
  },
  {
   "cell_type": "code",
   "execution_count": null,
   "id": "09ca23dd-425a-4bd2-a4a9-8d50773c49f3",
   "metadata": {},
   "outputs": [],
   "source": []
  },
  {
   "cell_type": "markdown",
   "id": "cba45eef-2493-4ee0-9c01-e94cea5a9075",
   "metadata": {},
   "source": [
    "QUESTION- 1"
   ]
  },
  {
   "cell_type": "code",
   "execution_count": 1,
   "id": "2bd7fc8e-68f2-4ff5-9003-4eda164bbd05",
   "metadata": {},
   "outputs": [
    {
     "name": "stdin",
     "output_type": "stream",
     "text": [
      "Enter a string:  pwskills\n"
     ]
    },
    {
     "name": "stdout",
     "output_type": "stream",
     "text": [
      "8\n"
     ]
    }
   ],
   "source": [
    "#Question- 1\n",
    "str1 = input(\"Enter a string: \")                                 #taking input string\n",
    "print(len(str1))"
   ]
  },
  {
   "cell_type": "code",
   "execution_count": null,
   "id": "1f17643e-e375-4b88-bce7-de54698d03a6",
   "metadata": {},
   "outputs": [],
   "source": []
  },
  {
   "cell_type": "markdown",
   "id": "a7b88d66-09f0-4a14-865d-78184ebccd80",
   "metadata": {},
   "source": [
    "QUESTION- 2"
   ]
  },
  {
   "cell_type": "code",
   "execution_count": 1,
   "id": "cf395aa9-15b1-4b02-ac38-b56660c0297e",
   "metadata": {},
   "outputs": [
    {
     "name": "stdin",
     "output_type": "stream",
     "text": [
      "Enter the string : pwskills\n"
     ]
    },
    {
     "name": "stdout",
     "output_type": "stream",
     "text": [
      "Total vowels are :1\n"
     ]
    }
   ],
   "source": [
    "#Question- 2\n",
    "s1 = input('Enter the string :')                                        #taking string\n",
    "count = 0                                                               #create a variable that count total vowels\n",
    "s1 = s1.lower()                                                         #converting string in lowercase\n",
    "for i in s1:                                                            #counting vowels\n",
    "    if i == 'a' or i == 'e' or i == 'i' or i == 'o' or i == 'u':\n",
    "        count+=1\n",
    "if count == 0:                                                          #print vowel according its value\n",
    "    print('No vowels found')\n",
    "else:\n",
    "    print('Total vowels are :' + str(count))"
   ]
  },
  {
   "cell_type": "code",
   "execution_count": null,
   "id": "bd1a896c-5cdc-43fb-8c27-97603af8a2be",
   "metadata": {},
   "outputs": [],
   "source": []
  },
  {
   "cell_type": "markdown",
   "id": "1eba4e79-14bb-4029-876e-403709985477",
   "metadata": {},
   "source": [
    "QUESTION- 3"
   ]
  },
  {
   "cell_type": "code",
   "execution_count": 2,
   "id": "efc6ea74-1304-4608-a3ef-444c1d2ef9de",
   "metadata": {},
   "outputs": [],
   "source": [
    "#Question- 3\n",
    "s1= input(\"Enter the string: \")                                        #taking input\n",
    "s1= s1[::-1]                                                           #reversing\n",
    "print(\"After reversing the string: \" + s1)                             #print "
   ]
  },
  {
   "cell_type": "code",
   "execution_count": null,
   "id": "77dadf51-258d-47d3-9860-6f76ecd35727",
   "metadata": {},
   "outputs": [],
   "source": []
  },
  {
   "cell_type": "markdown",
   "id": "d2cb6880-7fdc-4563-9e53-08db7777c6c1",
   "metadata": {},
   "source": [
    "QUESTION- 4"
   ]
  },
  {
   "cell_type": "code",
   "execution_count": 3,
   "id": "360fb355-5d55-4042-af23-e6c762802aa7",
   "metadata": {},
   "outputs": [
    {
     "name": "stdin",
     "output_type": "stream",
     "text": [
      "Enter the string:  coloc\n"
     ]
    },
    {
     "name": "stdout",
     "output_type": "stream",
     "text": [
      "Palindrome\n"
     ]
    }
   ],
   "source": [
    "#Question- 4\n",
    "s1= input(\"Enter the string: \")                                   #taking input\n",
    "s2= s1[::-1]                                                      #reversing and copying it in another variable\n",
    "if s1==s2:                                                        #check and print palindrome status\n",
    "    print(\"Palindrome\")\n",
    "else:\n",
    "    print(\"Not Palindrome\")"
   ]
  },
  {
   "cell_type": "code",
   "execution_count": null,
   "id": "55485a8b-d143-4659-9228-f330cb6e8ef0",
   "metadata": {},
   "outputs": [],
   "source": []
  },
  {
   "cell_type": "markdown",
   "id": "54f5638f-872f-4029-85a6-3e8879613118",
   "metadata": {},
   "source": [
    "QUESTION- 5"
   ]
  },
  {
   "cell_type": "code",
   "execution_count": 1,
   "id": "091bef56-25eb-4cfe-85c7-34064d0d2ee2",
   "metadata": {},
   "outputs": [
    {
     "name": "stdin",
     "output_type": "stream",
     "text": [
      "Enter the string:  hello my name is\n"
     ]
    },
    {
     "name": "stdout",
     "output_type": "stream",
     "text": [
      "After removing spaces: hellomynameis\n"
     ]
    }
   ],
   "source": [
    "#Question- 5\n",
    "s1= input(\"Enter the string: \")                                    #taking input\n",
    "s1= s1.replace(\" \",\"\")                                             #removing spaces\n",
    "print(\"After removing spaces: \" + s1)                              #print without spaces"
   ]
  },
  {
   "cell_type": "code",
   "execution_count": null,
   "id": "2b99ca3e-356e-409e-98aa-5e1b56145ba7",
   "metadata": {},
   "outputs": [],
   "source": []
  }
 ],
 "metadata": {
  "kernelspec": {
   "display_name": "Python 3 (ipykernel)",
   "language": "python",
   "name": "python3"
  },
  "language_info": {
   "codemirror_mode": {
    "name": "ipython",
    "version": 3
   },
   "file_extension": ".py",
   "mimetype": "text/x-python",
   "name": "python",
   "nbconvert_exporter": "python",
   "pygments_lexer": "ipython3",
   "version": "3.10.8"
  }
 },
 "nbformat": 4,
 "nbformat_minor": 5
}
