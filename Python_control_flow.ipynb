{
 "cells": [
  {
   "cell_type": "markdown",
   "id": "93cfa687-f393-4d53-81e6-8dc6c25a115f",
   "metadata": {},
   "source": [
    "Basic If-Else Statements:"
   ]
  },
  {
   "cell_type": "markdown",
   "id": "d9180f01-1759-4d97-a5a8-e1b10fce7dd3",
   "metadata": {},
   "source": [
    "1. Write a Python program to check if a given number is positive or negative."
   ]
  },
  {
   "cell_type": "code",
   "execution_count": 8,
   "id": "cd378056-64fc-4722-875e-fafcce6339ba",
   "metadata": {},
   "outputs": [
    {
     "name": "stdin",
     "output_type": "stream",
     "text": [
      " 5\n"
     ]
    },
    {
     "name": "stdout",
     "output_type": "stream",
     "text": [
      "positive\n"
     ]
    }
   ],
   "source": [
    "#take input\n",
    "x=int(input())\n",
    "#if x==0 then non of both\n",
    "if x==0:\n",
    "    print(\"not postive not negative\")\n",
    "#if greater than 0 then postive\n",
    "elif x>0:\n",
    "    print(\"positive\")\n",
    "else:\n",
    "    print(\"negative\")"
   ]
  },
  {
   "cell_type": "code",
   "execution_count": null,
   "id": "0fffd3c4-8dcf-4bc1-b866-8cf2baedf7ce",
   "metadata": {},
   "outputs": [],
   "source": []
  },
  {
   "cell_type": "markdown",
   "id": "8a234d6b-5b24-4abb-a7f3-79fb854fdb6d",
   "metadata": {},
   "source": [
    "2. Create a program that determines if a person is eligible to vote based on their age."
   ]
  },
  {
   "cell_type": "code",
   "execution_count": 2,
   "id": "7bce5cb5-a543-4f91-acec-b720e6cad982",
   "metadata": {},
   "outputs": [
    {
     "name": "stdin",
     "output_type": "stream",
     "text": [
      " 65\n"
     ]
    },
    {
     "name": "stdout",
     "output_type": "stream",
     "text": [
      "eligible to vote\n"
     ]
    }
   ],
   "source": [
    "#take input\n",
    "x=int(input())\n",
    "#if greater than 18 then pass to vote\n",
    "if x>=18:\n",
    "    print(\"eligible to vote\")\n",
    "else:\n",
    "    print(\"not eligible to vote\")"
   ]
  },
  {
   "cell_type": "code",
   "execution_count": null,
   "id": "4fd402e8-509d-48a2-825d-28c4d80a2224",
   "metadata": {},
   "outputs": [],
   "source": []
  },
  {
   "cell_type": "markdown",
   "id": "50b4f5e7-6fbe-4443-b80c-97296daee67e",
   "metadata": {},
   "source": [
    "3. Develop a program to find the maximum of two numbers using if-else statements."
   ]
  },
  {
   "cell_type": "code",
   "execution_count": 4,
   "id": "bb09f360-1568-49d1-810b-6e5a813fb6df",
   "metadata": {},
   "outputs": [
    {
     "name": "stdin",
     "output_type": "stream",
     "text": [
      " 3\n",
      " 5\n"
     ]
    },
    {
     "name": "stdout",
     "output_type": "stream",
     "text": [
      "5 is greater than 3\n"
     ]
    }
   ],
   "source": [
    "#take input\n",
    "x=int(input())\n",
    "y=int(input())\n",
    "# \">\" sign helps to find number is greater or not\n",
    "if x>y:\n",
    "    print(f\"{x} is greater than {y}\")\n",
    "else:\n",
    "    print(f\"{y} is greater than {x}\")"
   ]
  },
  {
   "cell_type": "code",
   "execution_count": null,
   "id": "21f928c1-06ea-40cd-85c7-1ba2526d284a",
   "metadata": {},
   "outputs": [],
   "source": []
  },
  {
   "cell_type": "markdown",
   "id": "ff3770ba-0db5-453c-95dd-ba7462dd47d1",
   "metadata": {},
   "source": [
    "4. Write a Python script to classify a given year as a leap year or not."
   ]
  },
  {
   "cell_type": "code",
   "execution_count": 5,
   "id": "bea834a8-3a28-4fe9-adf3-ba80cb5bbf33",
   "metadata": {},
   "outputs": [
    {
     "name": "stdin",
     "output_type": "stream",
     "text": [
      " 2012\n"
     ]
    },
    {
     "name": "stdout",
     "output_type": "stream",
     "text": [
      "Given Year is a leap Year\n"
     ]
    }
   ],
   "source": [
    "#take input\n",
    "x=int(input())\n",
    "# Checking if the given year is leap year\n",
    "if((x % 400 == 0) or (x % 100 != 0) and (x % 4 == 0)):\n",
    "    print(\"Given Year is a leap Year\")  \n",
    "else:  \n",
    "    print (\"Given Year is not a leap Year\") "
   ]
  },
  {
   "cell_type": "code",
   "execution_count": null,
   "id": "24a3f91a-12df-4b9f-8f05-167755a7452a",
   "metadata": {},
   "outputs": [],
   "source": []
  },
  {
   "cell_type": "markdown",
   "id": "ff25784a-580e-41ec-9c66-6d1973ada917",
   "metadata": {},
   "source": [
    "5. Create a program that checks whether a character is a vowel or a consonant."
   ]
  },
  {
   "cell_type": "code",
   "execution_count": 7,
   "id": "1e570420-c673-4beb-869a-c21b600114b2",
   "metadata": {},
   "outputs": [
    {
     "name": "stdin",
     "output_type": "stream",
     "text": [
      " w\n"
     ]
    },
    {
     "name": "stdout",
     "output_type": "stream",
     "text": [
      "constant\n"
     ]
    }
   ],
   "source": [
    "#take input\n",
    "i=input()\n",
    "#checking\n",
    "if i == 'a' or i == 'e' or i == 'i' or i == 'o' or i == 'u':\n",
    "    print(\"vowel\")\n",
    "else:\n",
    "    print(\"constant\")"
   ]
  },
  {
   "cell_type": "code",
   "execution_count": null,
   "id": "04dae3f4-b74d-4204-a08d-8cced4585671",
   "metadata": {},
   "outputs": [],
   "source": []
  },
  {
   "cell_type": "markdown",
   "id": "3d1af872-4d95-4b54-afcf-97591ba677dc",
   "metadata": {},
   "source": [
    "6. Implement a program to determine whether a given number is even or odd."
   ]
  },
  {
   "cell_type": "code",
   "execution_count": 10,
   "id": "7ebd0bb1-2808-4220-97cd-d883a55653c8",
   "metadata": {},
   "outputs": [
    {
     "name": "stdin",
     "output_type": "stream",
     "text": [
      " 7\n"
     ]
    },
    {
     "name": "stdout",
     "output_type": "stream",
     "text": [
      "odd\n"
     ]
    }
   ],
   "source": [
    "#take input\n",
    "x=int(input())\n",
    "#mod by 2 if reminder is 0 then even else odd\n",
    "if x%2==0:\n",
    "    print(\"even\")\n",
    "else:\n",
    "    print(\"odd\")"
   ]
  },
  {
   "cell_type": "code",
   "execution_count": null,
   "id": "5dfdfc35-299c-4cc8-8b9e-ea25dc83a51f",
   "metadata": {},
   "outputs": [],
   "source": []
  },
  {
   "cell_type": "markdown",
   "id": "04bd32b2-f9dc-447d-b35c-4853445b5fe6",
   "metadata": {},
   "source": [
    "7. Write a Python function to calculate the absolute value of a number without using the `abs()` function."
   ]
  },
  {
   "cell_type": "code",
   "execution_count": 11,
   "id": "31d2df9c-5327-48cf-b16f-3b2edd922a12",
   "metadata": {},
   "outputs": [
    {
     "name": "stdin",
     "output_type": "stream",
     "text": [
      " -6\n"
     ]
    },
    {
     "name": "stdout",
     "output_type": "stream",
     "text": [
      "6\n"
     ]
    }
   ],
   "source": [
    "#take input\n",
    "x=int(input())\n",
    "if x<0:\n",
    "    print(-x)\n",
    "else:\n",
    "    print(x)"
   ]
  },
  {
   "cell_type": "code",
   "execution_count": null,
   "id": "78b4ea46-4a49-47e0-8b75-a41f2d030a0d",
   "metadata": {},
   "outputs": [],
   "source": []
  },
  {
   "cell_type": "markdown",
   "id": "f71b0b79-1609-4c19-9f3b-b4420355c1fb",
   "metadata": {},
   "source": [
    "8. Develop a program that determines the largest of three given numbers using if-else statements."
   ]
  },
  {
   "cell_type": "code",
   "execution_count": 12,
   "id": "220e85a0-89df-456d-a4b0-c9205d38ffff",
   "metadata": {},
   "outputs": [
    {
     "name": "stdin",
     "output_type": "stream",
     "text": [
      " 3\n",
      " 7\n",
      " 5\n"
     ]
    },
    {
     "name": "stdout",
     "output_type": "stream",
     "text": [
      "7 is greater\n"
     ]
    }
   ],
   "source": [
    "#take input\n",
    "x=int(input())\n",
    "y=int(input())\n",
    "z=int(input())\n",
    "#checking number is greater of not\n",
    "if x>y:\n",
    "    if x>z:\n",
    "        print(f\"{x} is greater\")\n",
    "    else:\n",
    "        print(f\"{z} is greater\")\n",
    "else:\n",
    "    if y>z:\n",
    "        print(f\"{y} is greater\")\n",
    "    else:\n",
    "        print(f\"{z} is greater\")"
   ]
  },
  {
   "cell_type": "code",
   "execution_count": null,
   "id": "63a3dbde-09c7-4012-acde-68799786d0f7",
   "metadata": {},
   "outputs": [],
   "source": []
  },
  {
   "cell_type": "markdown",
   "id": "b21ca66d-4814-4155-98a8-cbb5846e56b2",
   "metadata": {},
   "source": [
    "9. Create a program that checks if a given string is a palindrome."
   ]
  },
  {
   "cell_type": "code",
   "execution_count": 13,
   "id": "a0121c54-1558-4dc8-8ba7-1c1feeda4637",
   "metadata": {},
   "outputs": [
    {
     "name": "stdin",
     "output_type": "stream",
     "text": [
      "Enter the string:  madam\n"
     ]
    },
    {
     "name": "stdout",
     "output_type": "stream",
     "text": [
      "Palindrome\n"
     ]
    }
   ],
   "source": [
    "#taking input\n",
    "s1= input(\"Enter the string: \")\n",
    "#reversing and copying it in another variable\n",
    "s2= s1[::-1]\n",
    "#check and print palindrome status\n",
    "if s1==s2:                                  \n",
    "#check and print palindrome status\n",
    "    print(\"Palindrome\")\n",
    "else:\n",
    "    print(\"Not Palindrome\")"
   ]
  },
  {
   "cell_type": "code",
   "execution_count": null,
   "id": "da458c2c-f130-4f44-be42-9b60cd1ff5fb",
   "metadata": {},
   "outputs": [],
   "source": []
  },
  {
   "cell_type": "markdown",
   "id": "6cf76502-02a3-4694-9f6d-433533393abe",
   "metadata": {},
   "source": [
    "10. Write a Python program to calculate the grade based on a student's score."
   ]
  },
  {
   "cell_type": "code",
   "execution_count": 2,
   "id": "27eb3e51-131f-463e-ba70-944f8f28fdf7",
   "metadata": {},
   "outputs": [
    {
     "name": "stdin",
     "output_type": "stream",
     "text": [
      " 89\n"
     ]
    },
    {
     "name": "stdout",
     "output_type": "stream",
     "text": [
      "Grade B\n"
     ]
    }
   ],
   "source": [
    "#take input\n",
    "x=int(input())\n",
    "#if greater than 90 then A\n",
    "if x>90:\n",
    "    print(\"Grade A\")\n",
    "#if greater than 80 then B\n",
    "elif x>80:\n",
    "    print(\"Grade B\")\n",
    "#if greater than 70 then C\n",
    "elif x>70:\n",
    "    print(\"Grade C\")\n",
    "#below than 70 then D\n",
    "else:\n",
    "    print(\"Grade D\")"
   ]
  },
  {
   "cell_type": "code",
   "execution_count": null,
   "id": "1ff6b63d-f567-41bb-b6f0-9c7a3fadbed5",
   "metadata": {},
   "outputs": [],
   "source": []
  },
  {
   "cell_type": "code",
   "execution_count": null,
   "id": "fa12be57-be45-43c5-a7b6-97f8a9bec70b",
   "metadata": {},
   "outputs": [],
   "source": []
  },
  {
   "cell_type": "markdown",
   "id": "f6d779d1-be5d-4265-b0e3-326c18751337",
   "metadata": {},
   "source": [
    "Nested If-Else Statements:"
   ]
  },
  {
   "cell_type": "code",
   "execution_count": null,
   "id": "1c301848-8b16-4200-82a0-73d12c1b19ba",
   "metadata": {},
   "outputs": [],
   "source": []
  },
  {
   "cell_type": "markdown",
   "id": "a09c4ace-ab07-4369-acc1-6e933d1de835",
   "metadata": {},
   "source": [
    "11. Write a program to find the largest among three numbers using nested if-else statements."
   ]
  },
  {
   "cell_type": "code",
   "execution_count": 1,
   "id": "22a1f784-1604-4357-a24f-64faf8c4f8bf",
   "metadata": {},
   "outputs": [
    {
     "name": "stdin",
     "output_type": "stream",
     "text": [
      " 4\n",
      " 7\n",
      " 6\n"
     ]
    },
    {
     "name": "stdout",
     "output_type": "stream",
     "text": [
      "7 is greater\n"
     ]
    }
   ],
   "source": [
    "#take input\n",
    "x=int(input())\n",
    "y=int(input())\n",
    "z=int(input())\n",
    "#checking number is greater of not\n",
    "if x>y:\n",
    "    if x>z:\n",
    "        print(f\"{x} is greater\")\n",
    "    else:\n",
    "        print(f\"{z} is greater\")\n",
    "else:\n",
    "    if y>z:\n",
    "        print(f\"{y} is greater\")\n",
    "    else:\n",
    "        print(f\"{z} is greater\")"
   ]
  },
  {
   "cell_type": "code",
   "execution_count": null,
   "id": "05e08661-c903-49cd-8ecd-0e44016b792e",
   "metadata": {},
   "outputs": [],
   "source": []
  },
  {
   "cell_type": "markdown",
   "id": "3106999e-a410-4f76-8450-cc81fcdfff82",
   "metadata": {},
   "source": [
    "12. Implement a program to determine if a triangle is equilateral, isosceles, or scalene."
   ]
  },
  {
   "cell_type": "code",
   "execution_count": 2,
   "id": "7000f698-b930-4b02-9163-24ce5253cd56",
   "metadata": {},
   "outputs": [
    {
     "name": "stdin",
     "output_type": "stream",
     "text": [
      " 4\n",
      " 8\n",
      " 4\n"
     ]
    },
    {
     "name": "stdout",
     "output_type": "stream",
     "text": [
      "Isosceles Triangle\n"
     ]
    }
   ],
   "source": [
    "#take input\n",
    "x=int(input())\n",
    "y=int(input())\n",
    "z=int(input())\n",
    "#Check for equilateral triangle\n",
    "if x==y==z:\n",
    "    print(\"Equilateral Triangle\")\n",
    "#Check for isosceles triangle\n",
    "elif x==y or y==z or z==x:\n",
    "    print(\"Isosceles Triangle\")\n",
    "# Otherwise scalene triangle\n",
    "else:\n",
    "        print(\"Scalene Triangle\")"
   ]
  },
  {
   "cell_type": "code",
   "execution_count": null,
   "id": "6e2ac98a-f6eb-4a57-9a99-97455b53307b",
   "metadata": {},
   "outputs": [],
   "source": []
  },
  {
   "cell_type": "markdown",
   "id": "3e76e6a9-0f4c-40c0-8782-83d893db14e2",
   "metadata": {},
   "source": [
    "13. Develop a program that checks if a year is a leap year and also if it is a century year."
   ]
  },
  {
   "cell_type": "code",
   "execution_count": 6,
   "id": "9bbbe0cf-1c12-44c1-8127-605bc0419dfa",
   "metadata": {},
   "outputs": [
    {
     "name": "stdin",
     "output_type": "stream",
     "text": [
      " 2000\n"
     ]
    },
    {
     "name": "stdout",
     "output_type": "stream",
     "text": [
      "2000 is a leap year.\n",
      "2000 is a century year\n"
     ]
    }
   ],
   "source": [
    "# take input\n",
    "year=int(input())\n",
    "# Check if it's a leap year\n",
    "leap_year= (year % 4 == 0 and year % 100 != 0) or (year % 400 == 0)\n",
    "# Check if it's evenly divisible by 400\n",
    "yr_100= year % 100 == 0\n",
    "if leap_year:\n",
    "    print(f\"{year} is a leap year.\")\n",
    "else:\n",
    "    print(f\"{year} is not a leap year.\")\n",
    "if yr_100:\n",
    "    print(f\"{year} is a century year\")\n",
    "else:\n",
    "    print(f\"{year} is not a century year\")\n"
   ]
  },
  {
   "cell_type": "code",
   "execution_count": null,
   "id": "6da50939-325f-4ed7-8d98-113eeabe9c3f",
   "metadata": {},
   "outputs": [],
   "source": []
  },
  {
   "cell_type": "markdown",
   "id": "264b94bb-5412-43de-a522-5e269d172d32",
   "metadata": {},
   "source": [
    "14. Write a Python script to determine if a number is positive, negative, or zero."
   ]
  },
  {
   "cell_type": "code",
   "execution_count": 4,
   "id": "d8c04d54-1e42-4870-83f6-9ca775de6732",
   "metadata": {},
   "outputs": [
    {
     "name": "stdin",
     "output_type": "stream",
     "text": [
      " 45\n"
     ]
    },
    {
     "name": "stdout",
     "output_type": "stream",
     "text": [
      "The number is positive.\n"
     ]
    }
   ],
   "source": [
    "#take input\n",
    "x=int(input())\n",
    "# Check if the number is positive, negative, or zero\n",
    "if x>0:\n",
    "    print(\"The number is positive.\")\n",
    "elif x<0:\n",
    "    print(\"The number is negative.\")\n",
    "else:\n",
    "    print(\"The number is zero.\")"
   ]
  },
  {
   "cell_type": "code",
   "execution_count": null,
   "id": "059a9462-c123-4dd6-b12e-c71e12e085b9",
   "metadata": {},
   "outputs": [],
   "source": []
  },
  {
   "cell_type": "markdown",
   "id": "b879fd22-13e3-469b-a611-aa2b426d154c",
   "metadata": {},
   "source": [
    "15. Create a program to check if a person is a teenager (between 13 and 19 years old)."
   ]
  },
  {
   "cell_type": "code",
   "execution_count": 5,
   "id": "1da6a7fc-9525-44f6-84ce-479c0123ce10",
   "metadata": {},
   "outputs": [
    {
     "name": "stdin",
     "output_type": "stream",
     "text": [
      " 15\n"
     ]
    },
    {
     "name": "stdout",
     "output_type": "stream",
     "text": [
      "You are a teenager.\n"
     ]
    }
   ],
   "source": [
    "#take input\n",
    "x=int(input())\n",
    "if x>=13 and x<=19:\n",
    "    print(\"You are a teenager.\")\n",
    "else:\n",
    "    print(\"You are not a teenager.\")"
   ]
  },
  {
   "cell_type": "code",
   "execution_count": null,
   "id": "980a0c5a-df3c-472f-8ceb-05f90acfa003",
   "metadata": {},
   "outputs": [],
   "source": []
  },
  {
   "cell_type": "markdown",
   "id": "13aeee91-b2b5-45a9-a852-e43c8d6b67c1",
   "metadata": {},
   "source": [
    "16. Develop a program that determines the type of angle based on its measure (acute, obtuse, or right)."
   ]
  },
  {
   "cell_type": "code",
   "execution_count": 7,
   "id": "66ba9176-9a6a-42aa-b6c1-f3a6606f2e69",
   "metadata": {},
   "outputs": [
    {
     "name": "stdin",
     "output_type": "stream",
     "text": [
      "Enter the angle: 124\n"
     ]
    },
    {
     "name": "stdout",
     "output_type": "stream",
     "text": [
      "The angle is obtuse.\n"
     ]
    }
   ],
   "source": [
    "#take the angle measure from the user\n",
    "x=int(input(\"Enter the angle:\"))\n",
    "#Check the type of angle based on its measure\n",
    "if x<90:\n",
    "    print(\"The angle is acute.\")\n",
    "elif x==90:\n",
    "    print(\"The angle is right.\")\n",
    "elif x>90 and x<180:\n",
    "    print(\"The angle is obtuse.\")\n",
    "else:\n",
    "    print(\"The angle is invalid\")"
   ]
  },
  {
   "cell_type": "code",
   "execution_count": null,
   "id": "3439730d-6f97-49a5-8883-b6705e6d091c",
   "metadata": {},
   "outputs": [],
   "source": []
  },
  {
   "cell_type": "markdown",
   "id": "421d4c05-2975-4dde-9630-ebaca997d413",
   "metadata": {},
   "source": [
    "17. Write a Python program to calculate the roots of a quadratic equation."
   ]
  },
  {
   "cell_type": "code",
   "execution_count": 8,
   "id": "bc32c798-3e86-4101-b90b-56e4a0ca41e3",
   "metadata": {},
   "outputs": [
    {
     "name": "stdin",
     "output_type": "stream",
     "text": [
      "Enter coefficient a:  8\n",
      "Enter coefficient b:  5\n",
      "Enter coefficient c:  9\n"
     ]
    },
    {
     "name": "stdout",
     "output_type": "stream",
     "text": [
      "The roots are complex: -0.3125 + 1.0135796712641785i and -0.3125 - 1.0135796712641785i\n"
     ]
    }
   ],
   "source": [
    "import math\n",
    "#Input coefficients a,b,c\n",
    "a = float(input(\"Enter coefficient a: \"))\n",
    "b = float(input(\"Enter coefficient b: \"))\n",
    "c = float(input(\"Enter coefficient c: \"))\n",
    "# Calculate the discriminant\n",
    "dis= b**2 - 4*a*c\n",
    "# Check the discriminant to determine the type and number of roots\n",
    "if dis> 0:\n",
    "    # Two real and distinct roots\n",
    "    r1 = (-b + math.sqrt(dis)) / (2*a)\n",
    "    r2 = (-b - math.sqrt(dis)) / (2*a)\n",
    "    print(f\"The roots are real and distinct: {r1} and {r2}\")\n",
    "elif dis== 0:\n",
    "    # One real root (repeated)\n",
    "    r3= -b / (2*a)\n",
    "    print(f\"The root is real and repeated: {r3}\")\n",
    "else:\n",
    "    # Complex roots\n",
    "    realpart = -b / (2*a)\n",
    "    imag_part = math.sqrt(abs(dis)) / (2*a)\n",
    "    print(f\"The roots are complex: {realpart} + {imag_part}i and {realpart} - {imag_part}i\")"
   ]
  },
  {
   "cell_type": "code",
   "execution_count": null,
   "id": "fe167ac3-8a8d-4276-82a5-ae6790388613",
   "metadata": {},
   "outputs": [],
   "source": []
  },
  {
   "cell_type": "markdown",
   "id": "eedf0581-c99d-44d8-b5ef-37c3fcb2fa35",
   "metadata": {},
   "source": [
    "18. Implement a program to determine the day of the week based on a user-provided number (1 for Monday, 2\n",
    "for Tuesday, etc.)."
   ]
  },
  {
   "cell_type": "code",
   "execution_count": 3,
   "id": "659d9890-3535-4317-bd58-c9ce2b8d83ab",
   "metadata": {},
   "outputs": [
    {
     "name": "stdin",
     "output_type": "stream",
     "text": [
      " 6\n"
     ]
    },
    {
     "name": "stdout",
     "output_type": "stream",
     "text": [
      "Saturday\n"
     ]
    }
   ],
   "source": [
    "#take input\n",
    "x=int(input())\n",
    "l1=[\"Monday\", \"Tuesday\", \"Wednesday\", \"Thursday\", \"Friday\", \"Saturday\", \"Sunday\"]\n",
    "if 1<= x <=7:\n",
    "    print(l1[x-1])\n",
    "else:\n",
    "    print(\"invalid number\")\n",
    "    "
   ]
  },
  {
   "cell_type": "code",
   "execution_count": null,
   "id": "191dd829-1d95-4e6e-9ec0-02f87c5e378c",
   "metadata": {},
   "outputs": [],
   "source": []
  },
  {
   "cell_type": "markdown",
   "id": "7c50a885-cfbb-4259-bcf1-875ae4443132",
   "metadata": {},
   "source": [
    "19. Create a program that determines if a year is a leap year and also if it is evenly divisible by 400."
   ]
  },
  {
   "cell_type": "code",
   "execution_count": 4,
   "id": "5327043b-8577-4773-adbe-c34dd3a08f23",
   "metadata": {},
   "outputs": [
    {
     "name": "stdin",
     "output_type": "stream",
     "text": [
      " 2012\n"
     ]
    },
    {
     "name": "stdout",
     "output_type": "stream",
     "text": [
      "2012 is a leap year.\n",
      "2012 is not evenly divisible by 400.\n"
     ]
    }
   ],
   "source": [
    "# take input\n",
    "year=int(input())\n",
    "# Check if it's a leap year\n",
    "leap_year= (year % 4 == 0 and year % 100 != 0) or (year % 400 == 0)\n",
    "# Check if it's evenly divisible by 400\n",
    "yr_400= year % 400 == 0\n",
    "if leap_year:\n",
    "    print(f\"{year} is a leap year.\")\n",
    "else:\n",
    "    print(f\"{year} is not a leap year.\")\n",
    "if yr_400:\n",
    "    print(f\"{year} is evenly divisible by 400.\")\n",
    "else:\n",
    "    print(f\"{year} is not evenly divisible by 400.\")\n"
   ]
  },
  {
   "cell_type": "code",
   "execution_count": null,
   "id": "e70910e6-cf43-4b41-8fe2-15b34f30ab01",
   "metadata": {},
   "outputs": [],
   "source": []
  },
  {
   "cell_type": "markdown",
   "id": "3757bedc-25e9-458a-88e7-2ccf04fae640",
   "metadata": {},
   "source": [
    "20. Develop a program that checks if a given number is prime or not using nested if-else statements."
   ]
  },
  {
   "cell_type": "code",
   "execution_count": 12,
   "id": "83a59c89-436d-40de-af5d-843faaaf4dd3",
   "metadata": {},
   "outputs": [
    {
     "name": "stdin",
     "output_type": "stream",
     "text": [
      " 567\n"
     ]
    },
    {
     "name": "stdout",
     "output_type": "stream",
     "text": [
      "567 is a prime number.\n"
     ]
    }
   ],
   "source": [
    "# take input\n",
    "x=int(input())\n",
    "if x>1:\n",
    "    for i in range (2,x):\n",
    "        if x%i== 0:\n",
    "            break  \n",
    "        else:\n",
    "            print(f\"{x} is a prime number.\")\n",
    "else:\n",
    "    print(f\"{x} is not a prime number.\")"
   ]
  },
  {
   "cell_type": "code",
   "execution_count": null,
   "id": "3fd2a415-e2a3-491a-a310-09d3986f1d22",
   "metadata": {},
   "outputs": [],
   "source": []
  },
  {
   "cell_type": "code",
   "execution_count": null,
   "id": "7301b205-0f9f-4ef7-a007-2c7657cc5071",
   "metadata": {},
   "outputs": [],
   "source": []
  },
  {
   "cell_type": "markdown",
   "id": "e6b15fdb-c085-4aff-a2c9-21d413f9da2a",
   "metadata": {},
   "source": [
    "Elif Statements:"
   ]
  },
  {
   "cell_type": "code",
   "execution_count": null,
   "id": "83af9b20-a6b2-4753-be20-50b54666c091",
   "metadata": {},
   "outputs": [],
   "source": []
  },
  {
   "cell_type": "markdown",
   "id": "edb55e1b-7c7f-4d43-86ef-414dd807322e",
   "metadata": {},
   "source": [
    "21. Write a Python program to assign grades based on different ranges of scores using elif statements."
   ]
  },
  {
   "cell_type": "code",
   "execution_count": 13,
   "id": "83e59ea8-3b92-479b-951a-0b31f21fa41b",
   "metadata": {},
   "outputs": [
    {
     "name": "stdin",
     "output_type": "stream",
     "text": [
      " 67\n"
     ]
    },
    {
     "name": "stdout",
     "output_type": "stream",
     "text": [
      "Grade D\n"
     ]
    }
   ],
   "source": [
    "#take input\n",
    "x=int(input())\n",
    "#if greater than 90 then A\n",
    "if x>90:\n",
    "    print(\"Grade A\")\n",
    "#if greater than 80 then B\n",
    "elif x>80:\n",
    "    print(\"Grade B\")\n",
    "#if greater than 70 then C\n",
    "elif x>70:\n",
    "    print(\"Grade C\")\n",
    "#below than 70 then D\n",
    "else:\n",
    "    print(\"Grade D\")"
   ]
  },
  {
   "cell_type": "code",
   "execution_count": null,
   "id": "0c55d53c-2173-4075-b6e3-a674481cefde",
   "metadata": {},
   "outputs": [],
   "source": []
  },
  {
   "cell_type": "markdown",
   "id": "3a7dc5a2-84b9-4e94-8ac2-8e5f9dd561d1",
   "metadata": {},
   "source": [
    "22. Implement a program to determine the type of a triangle based on its angles."
   ]
  },
  {
   "cell_type": "code",
   "execution_count": 14,
   "id": "3b81d45a-c004-47b1-b6f2-8fbf9a281994",
   "metadata": {},
   "outputs": [
    {
     "name": "stdin",
     "output_type": "stream",
     "text": [
      "Enter the angle: 61\n"
     ]
    },
    {
     "name": "stdout",
     "output_type": "stream",
     "text": [
      "The angle is acute triangle.\n"
     ]
    }
   ],
   "source": [
    "#take the angle \n",
    "x=int(input(\"Enter the angle:\"))\n",
    "#Check the type of angle based on its measure\n",
    "if x<90:\n",
    "    print(\"The angle is acute triangle.\")\n",
    "elif x==90:\n",
    "    print(\"The angle is right triangle.\")\n",
    "elif x>90 and x<180:\n",
    "    print(\"The angle is obtuse triangle.\")\n",
    "else:\n",
    "    print(\"The angle is invalid\")"
   ]
  },
  {
   "cell_type": "code",
   "execution_count": null,
   "id": "ccc7925b-7db9-45bc-ba9d-ac4c45c9192f",
   "metadata": {},
   "outputs": [],
   "source": []
  },
  {
   "cell_type": "markdown",
   "id": "be536561-6378-4e29-b191-354c24b1e720",
   "metadata": {},
   "source": [
    "23. Develop a program to categorize a given person's BMI into underweight, normal, overweight, or obese using\n",
    "elif statements."
   ]
  },
  {
   "cell_type": "code",
   "execution_count": 15,
   "id": "d6308179-b020-496a-8045-e8fe788d4f3f",
   "metadata": {},
   "outputs": [
    {
     "name": "stdin",
     "output_type": "stream",
     "text": [
      "Enter your weight in kilograms:  78\n",
      "Enter your height in meters:  1.78\n"
     ]
    },
    {
     "name": "stdout",
     "output_type": "stream",
     "text": [
      "normal weight\n"
     ]
    }
   ],
   "source": [
    "# take input\n",
    "weight=float(input(\"Enter your weight in kilograms: \"))\n",
    "height=float(input(\"Enter your height in meters: \"))\n",
    "# Calculate BMI\n",
    "bmi=weight/(height**2)\n",
    "# Categorize BMI\n",
    "if bmi<18.5:\n",
    "    res=\"underweight\"\n",
    "elif 18.5 <= bmi < 24.9:\n",
    "    res=\"normal weight\"\n",
    "elif 25.0 <= bmi < 29.9:\n",
    "    res=\"overweight\"\n",
    "else:\n",
    "    res= \"obese\"\n",
    "#print\n",
    "print(res)"
   ]
  },
  {
   "cell_type": "code",
   "execution_count": null,
   "id": "07639ace-52a2-45be-86b0-b43a7c2f37a5",
   "metadata": {},
   "outputs": [],
   "source": []
  },
  {
   "cell_type": "markdown",
   "id": "ff8cfa7c-cf44-40dc-bed6-169daddff3f2",
   "metadata": {},
   "source": [
    "24. Create a program that determines whether a given number is positive, negative, or zero using elif\n",
    "statements."
   ]
  },
  {
   "cell_type": "code",
   "execution_count": 16,
   "id": "5e85a7ce-0917-4d08-adc2-10e6da07b110",
   "metadata": {},
   "outputs": [
    {
     "name": "stdin",
     "output_type": "stream",
     "text": [
      " 0\n"
     ]
    },
    {
     "name": "stdout",
     "output_type": "stream",
     "text": [
      "zero\n"
     ]
    }
   ],
   "source": [
    "#take input\n",
    "x=int(input())\n",
    "#if x==0 then non of both\n",
    "if x==0:\n",
    "    print(\"zero\")\n",
    "#if greater than 0 then postive\n",
    "elif x>0:\n",
    "    print(\"positive\")\n",
    "else:\n",
    "    print(\"negative\")"
   ]
  },
  {
   "cell_type": "code",
   "execution_count": null,
   "id": "ac261f6d-b06b-47bc-94d9-966fc58b389a",
   "metadata": {},
   "outputs": [],
   "source": []
  },
  {
   "cell_type": "markdown",
   "id": "633fc3b3-1354-4e67-b093-a2bc8b67a541",
   "metadata": {},
   "source": [
    "25. Write a Python script to determine the type of a character (uppercase, lowercase, or special) using elif\n",
    "statements."
   ]
  },
  {
   "cell_type": "code",
   "execution_count": 18,
   "id": "b44d7679-d224-44a9-9643-2b7f738ec84a",
   "metadata": {},
   "outputs": [
    {
     "name": "stdin",
     "output_type": "stream",
     "text": [
      " HELLO\n"
     ]
    },
    {
     "name": "stdout",
     "output_type": "stream",
     "text": [
      "HELLO is an uppercase letter.\n"
     ]
    }
   ],
   "source": [
    "#take input\n",
    "s1=input()\n",
    "#Check the type of character \n",
    "if s1.islower():\n",
    "    print(f\"{s1} is a lowercase letter.\")\n",
    "elif s1.isupper():\n",
    "    print(f\"{s1} is an uppercase letter.\")\n",
    "else:\n",
    "    print(f\"{s1} is a special.\")"
   ]
  },
  {
   "cell_type": "code",
   "execution_count": null,
   "id": "9dcc0c25-6fb6-4eb0-9012-bddcb400070b",
   "metadata": {},
   "outputs": [],
   "source": []
  },
  {
   "cell_type": "markdown",
   "id": "283cdf5c-7855-42a8-a51e-c0f97666476d",
   "metadata": {},
   "source": [
    "26. Implement a program to calculate the discounted price based on different purchase amounts using elif\n",
    "statements."
   ]
  },
  {
   "cell_type": "code",
   "execution_count": 19,
   "id": "4a5f8af9-d5c4-4592-b6e7-7b481366c182",
   "metadata": {},
   "outputs": [
    {
     "name": "stdin",
     "output_type": "stream",
     "text": [
      " 34500\n"
     ]
    },
    {
     "name": "stdout",
     "output_type": "stream",
     "text": [
      "The discounted price is: 29325.0\n"
     ]
    }
   ],
   "source": [
    "#take input\n",
    "amt=float(input())\n",
    "# Calculate the discounted price based on different purchase amounts using elif statements\n",
    "if amt>=50000:\n",
    "    discount= 0.30  #30% discount for purchases of 50000 or more\n",
    "elif amt>= 30000:\n",
    "    discount= 0.15  #15% discount for purchases between 30000 and 50000\n",
    "elif amt>=10000:\n",
    "    discount= 0.05   #15% discount for purchases between 10000 and 30000\n",
    "else:\n",
    "    discount=0.0   # No discount for purchases less than 10000\n",
    "# Calculate the discounted price\n",
    "d_price= amt*discount\n",
    "price=amt-d_price\n",
    "# Print result\n",
    "print(\"The discounted price is: \"+str(price))"
   ]
  },
  {
   "cell_type": "code",
   "execution_count": null,
   "id": "e43f611f-da8c-4ee8-9169-6a3448305a14",
   "metadata": {},
   "outputs": [],
   "source": []
  },
  {
   "cell_type": "markdown",
   "id": "1b01560f-1558-49b9-ba94-d444b62f03de",
   "metadata": {},
   "source": [
    "27. Develop a program to calculate the electricity bill based on different consumption slabs using elif\n",
    "statements."
   ]
  },
  {
   "cell_type": "code",
   "execution_count": 20,
   "id": "35fdb6ad-b8d7-47b2-b875-d9d5998f88ea",
   "metadata": {},
   "outputs": [
    {
     "name": "stdin",
     "output_type": "stream",
     "text": [
      "Enter your unit:  400\n"
     ]
    },
    {
     "name": "stdout",
     "output_type": "stream",
     "text": [
      "the bill is: 2800\n"
     ]
    }
   ],
   "source": [
    "#take input\n",
    "unit = int(input(\"Enter your unit: \"))\n",
    "if unit <= 100:\n",
    "    bill=unit * 3            #If unit consumed <= 100 then cost per unit is Rs 3\n",
    "elif unit >= 101 and unit <= 300:\n",
    "    bill =  unit * 5         #If unit consumed >= 101 and <= 300 then cost per unit is Rs 5\n",
    "elif unit >= 301 and unit <= 500:\n",
    "    bill = unit *7           #If unit consumed >= 301 and <= 500 then cost per unit is Rs 7\n",
    "else:\n",
    "    bill = unit *9           #If unit consumed >= 501 then the cost per unit is Rs 9\n",
    "print(\"the bill is: \"+ str(bill))"
   ]
  },
  {
   "cell_type": "code",
   "execution_count": null,
   "id": "49b7516f-f9ac-4024-87e5-43867ca6d222",
   "metadata": {},
   "outputs": [],
   "source": []
  },
  {
   "cell_type": "markdown",
   "id": "8fa98f75-c494-46db-bf8c-76baf0ac9510",
   "metadata": {},
   "source": [
    "28. Create a program to determine the type of quadrilateral based on its angles and sides using elif\n",
    "statements."
   ]
  },
  {
   "cell_type": "code",
   "execution_count": 21,
   "id": "bb2401d1-128a-499f-b21e-3d3e1eb8fb12",
   "metadata": {},
   "outputs": [
    {
     "name": "stdin",
     "output_type": "stream",
     "text": [
      "Enter the first angle in degrees:  60\n",
      "Enter the second angle in degrees:  120\n",
      "Enter the third angle in degrees:  60\n",
      "Enter the fourth angle in degrees:  120\n",
      "Enter the length of the first side:  24\n",
      "Enter the length of the second side:  2\n",
      "Enter the length of the third side:  24\n",
      "Enter the length of the fourth side:  2\n"
     ]
    },
    {
     "name": "stdout",
     "output_type": "stream",
     "text": [
      "It's a parallelogram.\n"
     ]
    }
   ],
   "source": [
    "# take input\n",
    "angle1 = int(input(\"Enter the first angle in degrees: \"))\n",
    "angle2 = int(input(\"Enter the second angle in degrees: \"))\n",
    "angle3 = int(input(\"Enter the third angle in degrees: \"))\n",
    "angle4 = int(input(\"Enter the fourth angle in degrees: \"))\n",
    "\n",
    "side1 = float(input(\"Enter the length of the first side: \"))\n",
    "side2 = float(input(\"Enter the length of the second side: \"))\n",
    "side3 = float(input(\"Enter the length of the third side: \"))\n",
    "side4 = float(input(\"Enter the length of the fourth side: \"))\n",
    "\n",
    "# Check the type of quadrilateral using elif statements\n",
    "if angle1 == angle2 == angle3 == angle4 == 90:\n",
    "    print(\"It's a square.\")\n",
    "elif angle1 == angle2 == angle3 == angle4 and side1 == side2 == side3 == side4:\n",
    "    print(\"It's a rhombus.\")\n",
    "elif angle1 == angle2 and angle3 == angle4 and side1 == side2 and side3 == side4:\n",
    "    print(\"It's a rectangle.\")\n",
    "elif (angle1 == angle3 and angle2 == angle4) or (angle1 == angle2 == angle3 == angle4):\n",
    "    print(\"It's a parallelogram.\")\n",
    "elif side1 == side2 == side3 == side4:\n",
    "    print(\"It's a kite.\")\n",
    "else:\n",
    "    print(\"It's a general quadrilateral.\")"
   ]
  },
  {
   "cell_type": "code",
   "execution_count": null,
   "id": "c1cccfcb-37bb-42ad-8303-f81b23a67c51",
   "metadata": {},
   "outputs": [],
   "source": []
  },
  {
   "cell_type": "markdown",
   "id": "67bde3e0-8155-4406-8294-52ca4f31ad9b",
   "metadata": {},
   "source": [
    "29. Write a Python script to determine the season based on a user-provided month using elif statements."
   ]
  },
  {
   "cell_type": "code",
   "execution_count": 25,
   "id": "e783edee-0e0c-498c-922c-4d2849b82b53",
   "metadata": {},
   "outputs": [
    {
     "name": "stdin",
     "output_type": "stream",
     "text": [
      " 12\n"
     ]
    },
    {
     "name": "stdout",
     "output_type": "stream",
     "text": [
      "invalid no is given\n"
     ]
    }
   ],
   "source": [
    "#take input\n",
    "x=int(input())\n",
    "if x>=3 and x<=5:\n",
    "    print(\"spring\")\n",
    "elif x>=6 and x<=8:\n",
    "    print(\"summer\")\n",
    "elif x>=9 and x<=11:\n",
    "    print(\"autumn\")\n",
    "elif x==12 and x>=1 and x<=2:\n",
    "    print(\"winter\")\n",
    "else:\n",
    "    print(\"invalid no is given\")"
   ]
  },
  {
   "cell_type": "code",
   "execution_count": null,
   "id": "d8aecb42-e7b4-488f-8bda-bafb820d7158",
   "metadata": {},
   "outputs": [],
   "source": []
  },
  {
   "cell_type": "markdown",
   "id": "fe90fad3-dab1-4a41-8b1d-0d88d1f34396",
   "metadata": {},
   "source": [
    "30. Implement a program to determine the type of a year (leap or common) and month (30 or 31 days) using\n",
    "elif statements."
   ]
  },
  {
   "cell_type": "code",
   "execution_count": 27,
   "id": "43807b95-683d-4997-af88-1f45af7c8ec8",
   "metadata": {},
   "outputs": [
    {
     "name": "stdin",
     "output_type": "stream",
     "text": [
      "Enter a year:  2012\n",
      "Enter a month (1-12):  7\n"
     ]
    },
    {
     "name": "stdout",
     "output_type": "stream",
     "text": [
      "The year 2012 is a leap year.\n",
      "The month 7 has 31 days.\n"
     ]
    }
   ],
   "source": [
    "#take input\n",
    "year = int(input(\"Enter a year: \"))\n",
    "month = int(input(\"Enter a month (1-12): \"))\n",
    "# Check if it's a leap year\n",
    "leap= (year % 4 == 0 and year % 100 != 0) or (year % 400 == 0)\n",
    "if leap:\n",
    "    year_type=\"leap\"\n",
    "else:\n",
    "    year_type=\"common\"\n",
    "# Check the number of days in the month using elif statements\n",
    "if month<1 or month>12:\n",
    "    print(\"Invalid month\")\n",
    "elif month in [1, 3, 5, 7, 8, 10, 12]:\n",
    "    days=31\n",
    "elif month==2:\n",
    "    if year_type==\"leap\":\n",
    "        days=29\n",
    "    else:\n",
    "        days=28\n",
    "else:\n",
    "    days=30\n",
    "print(f\"The year {year} is a {year_type} year.\")\n",
    "print(f\"The month {month} has {days} days.\")"
   ]
  },
  {
   "cell_type": "code",
   "execution_count": null,
   "id": "3a6e049b-635a-44df-8ed1-853191621c67",
   "metadata": {},
   "outputs": [],
   "source": []
  },
  {
   "cell_type": "code",
   "execution_count": null,
   "id": "503eb6af-c11e-4e3a-a59e-f4d7695a219b",
   "metadata": {},
   "outputs": [],
   "source": []
  },
  {
   "cell_type": "markdown",
   "id": "d50032cb-6c5c-43d8-abf0-68a81da0ee31",
   "metadata": {},
   "source": [
    "Basic Level:"
   ]
  },
  {
   "cell_type": "code",
   "execution_count": null,
   "id": "eab2e06c-bc4f-4320-8176-8c66f0750edc",
   "metadata": {},
   "outputs": [],
   "source": []
  },
  {
   "cell_type": "markdown",
   "id": "3c55567f-241d-4421-b3e1-bcd90ad07620",
   "metadata": {},
   "source": [
    "1. Write a Python program that checks if a given number is positive, negative, or zero."
   ]
  },
  {
   "cell_type": "code",
   "execution_count": 28,
   "id": "c4be8fee-85f8-4306-b26d-e34e0f9f30c2",
   "metadata": {},
   "outputs": [
    {
     "name": "stdin",
     "output_type": "stream",
     "text": [
      " -90\n"
     ]
    },
    {
     "name": "stdout",
     "output_type": "stream",
     "text": [
      "negative\n"
     ]
    }
   ],
   "source": [
    "#take input\n",
    "x=int(input())\n",
    "#if x==0 then non of both\n",
    "if x==0:\n",
    "    print(\"zero\")\n",
    "#if greater than 0 then postive\n",
    "elif x>0:\n",
    "    print(\"positive\")\n",
    "else:\n",
    "    print(\"negative\")"
   ]
  },
  {
   "cell_type": "code",
   "execution_count": null,
   "id": "0fbf834e-b1aa-4dcb-a470-eb5bc4b6d344",
   "metadata": {},
   "outputs": [],
   "source": []
  },
  {
   "cell_type": "markdown",
   "id": "80315dda-2db6-42dc-93cd-c459c5a7dbfd",
   "metadata": {},
   "source": [
    "2. Create a program to determine if a person is eligible to vote based on their age."
   ]
  },
  {
   "cell_type": "code",
   "execution_count": 29,
   "id": "ab846859-19a8-4eb8-af5c-9e008a622abc",
   "metadata": {},
   "outputs": [
    {
     "name": "stdin",
     "output_type": "stream",
     "text": [
      " 19\n"
     ]
    },
    {
     "name": "stdout",
     "output_type": "stream",
     "text": [
      "eligible to vote\n"
     ]
    }
   ],
   "source": [
    "#take input\n",
    "x=int(input())\n",
    "#if greater than 18 then pass to vote\n",
    "if x>=18:\n",
    "    print(\"eligible to vote\")\n",
    "else:\n",
    "    print(\"not eligible to vote\")"
   ]
  },
  {
   "cell_type": "code",
   "execution_count": null,
   "id": "f86d00a5-8f7c-464f-93fb-17fa3600c2f7",
   "metadata": {},
   "outputs": [],
   "source": []
  },
  {
   "cell_type": "markdown",
   "id": "b7ffc348-d627-49a8-8d38-ee3054bb14be",
   "metadata": {},
   "source": [
    "3. Write a program to find the maximum of two given numbers using conditional statements."
   ]
  },
  {
   "cell_type": "code",
   "execution_count": 30,
   "id": "62e44941-e8bb-4647-beec-4247a73f0580",
   "metadata": {},
   "outputs": [
    {
     "name": "stdin",
     "output_type": "stream",
     "text": [
      " 6\n",
      " 9\n"
     ]
    },
    {
     "name": "stdout",
     "output_type": "stream",
     "text": [
      "9 is greater than 6\n"
     ]
    }
   ],
   "source": [
    "#take input\n",
    "x=int(input())\n",
    "y=int(input())\n",
    "# \">\" sign helps to find number is greater or not\n",
    "if x>y:\n",
    "    print(f\"{x} is greater than {y}\")\n",
    "else:\n",
    "    print(f\"{y} is greater than {x}\")"
   ]
  },
  {
   "cell_type": "code",
   "execution_count": null,
   "id": "d8e7dba9-c7e2-4f72-9e3a-d9dbea2724bc",
   "metadata": {},
   "outputs": [],
   "source": []
  },
  {
   "cell_type": "markdown",
   "id": "45b3a82c-7190-4db2-aa6c-b2392311cc82",
   "metadata": {},
   "source": [
    "4. Develop a program that calculates the grade of a student based on their exam score."
   ]
  },
  {
   "cell_type": "code",
   "execution_count": 31,
   "id": "e3155b56-e1ea-42f2-9430-f03f3623421f",
   "metadata": {},
   "outputs": [
    {
     "name": "stdin",
     "output_type": "stream",
     "text": [
      " 87\n"
     ]
    },
    {
     "name": "stdout",
     "output_type": "stream",
     "text": [
      "Grade B\n"
     ]
    }
   ],
   "source": [
    "#take input\n",
    "x=int(input())\n",
    "#if greater than 90 then A\n",
    "if x>90:\n",
    "    print(\"Grade A\")\n",
    "#if greater than 80 then B\n",
    "elif x>80:\n",
    "    print(\"Grade B\")\n",
    "#if greater than 70 then C\n",
    "elif x>70:\n",
    "    print(\"Grade C\")\n",
    "#below than 70 then D\n",
    "else:\n",
    "    print(\"Grade D\")"
   ]
  },
  {
   "cell_type": "code",
   "execution_count": null,
   "id": "8b7f97d7-d757-46ec-ab4d-3956b6f13806",
   "metadata": {},
   "outputs": [],
   "source": []
  },
  {
   "cell_type": "markdown",
   "id": "b01f7f46-ad5f-4849-9ffe-cdc7d83c4f5e",
   "metadata": {},
   "source": [
    "5. Create a program that checks if a year is a leap year or not."
   ]
  },
  {
   "cell_type": "code",
   "execution_count": 32,
   "id": "7f0c4da9-41bc-43bd-8c10-b0ac05dc5617",
   "metadata": {},
   "outputs": [
    {
     "name": "stdin",
     "output_type": "stream",
     "text": [
      " 2000\n"
     ]
    },
    {
     "name": "stdout",
     "output_type": "stream",
     "text": [
      "Given Year is a leap Year\n"
     ]
    }
   ],
   "source": [
    "#take input\n",
    "x=int(input())\n",
    "# Checking if the given year is leap year\n",
    "if((x % 400 == 0) or (x % 100 != 0) and (x % 4 == 0)):\n",
    "    print(\"Given Year is a leap Year\")  \n",
    "else:  \n",
    "    print (\"Given Year is not a leap Year\") "
   ]
  },
  {
   "cell_type": "code",
   "execution_count": null,
   "id": "4f375602-3e4c-4d9f-ace4-2e8990d22737",
   "metadata": {},
   "outputs": [],
   "source": []
  },
  {
   "cell_type": "markdown",
   "id": "9d6554ac-34c6-424f-9c5f-2ba54bfef306",
   "metadata": {},
   "source": [
    "6. Write a program to classify a triangle based on its sides' lengths."
   ]
  },
  {
   "cell_type": "code",
   "execution_count": 34,
   "id": "822a7b92-56e0-4b8e-a971-bd9163b21c8c",
   "metadata": {},
   "outputs": [
    {
     "name": "stdin",
     "output_type": "stream",
     "text": [
      "Enter the length of side 1:  3\n",
      "Enter the length of side 2:  4\n",
      "Enter the length of side 3:  5\n"
     ]
    },
    {
     "name": "stdout",
     "output_type": "stream",
     "text": [
      "right triangle\n"
     ]
    }
   ],
   "source": [
    "#take input\n",
    "s1 = float(input(\"Enter the length of side 1: \"))\n",
    "s2 = float(input(\"Enter the length of side 2: \"))\n",
    "s3 = float(input(\"Enter the length of side 3: \"))\n",
    "# Check the type of triangle based on side lengths\n",
    "if s1==s2==s3:\n",
    "    t= \"equilateral triangle\"\n",
    "elif s1**2==s2**2+s3**2 or s2**2==s1**2+s3**2 or s3**2==s1**2+s2**2:\n",
    "    t=\"right triangle\"\n",
    "elif s1==s2 or s2==s3 or s1==s3:\n",
    "    t= \"isosceles triangle\"\n",
    "else:\n",
    "    t=\"scalene triangle\"\n",
    "print(t)"
   ]
  },
  {
   "cell_type": "code",
   "execution_count": null,
   "id": "1613f4b7-1eac-41da-990e-1699bf2b418a",
   "metadata": {},
   "outputs": [],
   "source": []
  },
  {
   "cell_type": "markdown",
   "id": "fac04e5b-4809-4f9d-a59a-1068fbadb750",
   "metadata": {},
   "source": [
    "7. Build a program that determines the largest of three given numbers."
   ]
  },
  {
   "cell_type": "code",
   "execution_count": 35,
   "id": "22af4a5e-8fd6-42fd-b254-d77ed453a536",
   "metadata": {},
   "outputs": [
    {
     "name": "stdin",
     "output_type": "stream",
     "text": [
      " 4\n",
      " 9\n",
      " 7\n"
     ]
    },
    {
     "name": "stdout",
     "output_type": "stream",
     "text": [
      "9 is greater\n"
     ]
    }
   ],
   "source": [
    "#take input\n",
    "x=int(input())\n",
    "y=int(input())\n",
    "z=int(input())\n",
    "#checking number is greater of not\n",
    "if x>y:\n",
    "    if x>z:\n",
    "        print(f\"{x} is greater\")\n",
    "    else:\n",
    "        print(f\"{z} is greater\")\n",
    "else:\n",
    "    if y>z:\n",
    "        print(f\"{y} is greater\")\n",
    "    else:\n",
    "        print(f\"{z} is greater\")"
   ]
  },
  {
   "cell_type": "code",
   "execution_count": null,
   "id": "45bc9c2c-aa1b-4705-b71b-12f0b182f20e",
   "metadata": {},
   "outputs": [],
   "source": []
  },
  {
   "cell_type": "markdown",
   "id": "94e75a25-9af2-417c-9811-32a90de99037",
   "metadata": {},
   "source": [
    "8. Develop a program that checks whether a character is a vowel or a consonant."
   ]
  },
  {
   "cell_type": "code",
   "execution_count": 36,
   "id": "16c8d7a5-b591-41d8-8d0c-ccc9b4140e2e",
   "metadata": {},
   "outputs": [
    {
     "name": "stdin",
     "output_type": "stream",
     "text": [
      " t\n"
     ]
    },
    {
     "name": "stdout",
     "output_type": "stream",
     "text": [
      "constant\n"
     ]
    }
   ],
   "source": [
    "#take input\n",
    "i=input()\n",
    "#checking\n",
    "if i == 'a' or i == 'e' or i == 'i' or i == 'o' or i == 'u':\n",
    "    print(\"vowel\")\n",
    "else:\n",
    "    print(\"constant\")"
   ]
  },
  {
   "cell_type": "code",
   "execution_count": null,
   "id": "b2622f84-e808-4c63-b220-7b2078cc9993",
   "metadata": {},
   "outputs": [],
   "source": []
  },
  {
   "cell_type": "markdown",
   "id": "a14ee955-4d98-4bed-ad56-46540b2e947f",
   "metadata": {},
   "source": [
    "9. Create a program to calculate the total cost of a shopping cart based on discounts."
   ]
  },
  {
   "cell_type": "code",
   "execution_count": 38,
   "id": "8e5a08c7-f5f1-4675-89f8-7f52fcad2749",
   "metadata": {},
   "outputs": [
    {
     "name": "stdin",
     "output_type": "stream",
     "text": [
      " 40000\n"
     ]
    },
    {
     "name": "stdout",
     "output_type": "stream",
     "text": [
      "The discounted price is: 34000.0\n"
     ]
    }
   ],
   "source": [
    "#take input\n",
    "amt=float(input())\n",
    "# Calculate the discounted price\n",
    "if amt>=50000:\n",
    "    discount= 0.30  #30% discount for purchases of 50000 or more\n",
    "elif amt>= 30000:\n",
    "    discount= 0.15  #15% discount for purchases between 30000 and 50000\n",
    "elif amt>=10000:\n",
    "    discount= 0.05   #15% discount for purchases between 10000 and 30000\n",
    "else:\n",
    "    discount=0.0   # No discount for purchases less than 10000\n",
    "# Calculate the discounted price\n",
    "d_price= amt*discount\n",
    "price=amt-d_price\n",
    "# Print result\n",
    "print(\"The discounted price is: \"+str(price))"
   ]
  },
  {
   "cell_type": "code",
   "execution_count": null,
   "id": "8eceaac7-7a0d-412e-bac0-424ac4248850",
   "metadata": {},
   "outputs": [],
   "source": []
  },
  {
   "cell_type": "markdown",
   "id": "7a640cc6-b4dd-48ff-96f0-7633d8fce13f",
   "metadata": {},
   "source": [
    "10. Write a program that checks if a given number is even or odd."
   ]
  },
  {
   "cell_type": "code",
   "execution_count": 37,
   "id": "86526012-0eeb-4e99-afd4-124c05f8f5e9",
   "metadata": {},
   "outputs": [
    {
     "name": "stdin",
     "output_type": "stream",
     "text": [
      " 68\n"
     ]
    },
    {
     "name": "stdout",
     "output_type": "stream",
     "text": [
      "even\n"
     ]
    }
   ],
   "source": [
    "#take input\n",
    "x=int(input())\n",
    "#mod by 2 if reminder is 0 then even else odd\n",
    "if x%2==0:\n",
    "    print(\"even\")\n",
    "else:\n",
    "    print(\"odd\")"
   ]
  },
  {
   "cell_type": "code",
   "execution_count": null,
   "id": "91da8ae3-d9ac-4c3b-bc53-b611fcfc6efd",
   "metadata": {},
   "outputs": [],
   "source": []
  },
  {
   "cell_type": "code",
   "execution_count": null,
   "id": "ec046f23-1cef-478a-8ecf-98b8cd143bf1",
   "metadata": {},
   "outputs": [],
   "source": []
  },
  {
   "cell_type": "markdown",
   "id": "19590803-808f-450e-b5d3-b90566a0e915",
   "metadata": {},
   "source": [
    "Intermediate Level:"
   ]
  },
  {
   "cell_type": "code",
   "execution_count": null,
   "id": "5342332d-4998-4d7c-acca-a6ec6c8eb1f7",
   "metadata": {},
   "outputs": [],
   "source": []
  },
  {
   "cell_type": "markdown",
   "id": "e8362a3d-becd-4340-b743-b11a58689568",
   "metadata": {},
   "source": [
    "11. Write a program that calculates the roots of a quadratic equation ."
   ]
  },
  {
   "cell_type": "code",
   "execution_count": 39,
   "id": "80caa0c1-9ad7-4f05-bf80-dcbfac6d0096",
   "metadata": {},
   "outputs": [
    {
     "name": "stdin",
     "output_type": "stream",
     "text": [
      "Enter coefficient a:  2\n",
      "Enter coefficient b:  4\n",
      "Enter coefficient c:  6\n"
     ]
    },
    {
     "name": "stdout",
     "output_type": "stream",
     "text": [
      "The roots are complex: -1.0 + 1.4142135623730951i and -1.0 - 1.4142135623730951i\n"
     ]
    }
   ],
   "source": [
    "import math\n",
    "#Input coefficients a,b,c\n",
    "a = float(input(\"Enter coefficient a: \"))\n",
    "b = float(input(\"Enter coefficient b: \"))\n",
    "c = float(input(\"Enter coefficient c: \"))\n",
    "# Calculate the discriminant\n",
    "dis= b**2 - 4*a*c\n",
    "# Check the discriminant to determine the type and number of roots\n",
    "if dis> 0:\n",
    "    # Two real and distinct roots\n",
    "    r1 = (-b + math.sqrt(dis)) / (2*a)\n",
    "    r2 = (-b - math.sqrt(dis)) / (2*a)\n",
    "    print(f\"The roots are real and distinct: {r1} and {r2}\")\n",
    "elif dis== 0:\n",
    "    # One real root (repeated)\n",
    "    r3= -b / (2*a)\n",
    "    print(f\"The root is real and repeated: {r3}\")\n",
    "else:\n",
    "    # Complex roots\n",
    "    realpart = -b / (2*a)\n",
    "    imag_part = math.sqrt(abs(dis)) / (2*a)\n",
    "    print(f\"The roots are complex: {realpart} + {imag_part}i and {realpart} - {imag_part}i\")"
   ]
  },
  {
   "cell_type": "code",
   "execution_count": null,
   "id": "c05cde44-0e5c-459d-9020-ec3316572ad2",
   "metadata": {},
   "outputs": [],
   "source": []
  },
  {
   "cell_type": "markdown",
   "id": "9207e0ea-5a7c-4313-9d77-814a82ac029e",
   "metadata": {},
   "source": [
    "12. Create a program that determines the day of the week based on the day number (1-7)."
   ]
  },
  {
   "cell_type": "code",
   "execution_count": 40,
   "id": "00efe5e5-01e1-4dd8-ba3b-a54b1334fe6b",
   "metadata": {},
   "outputs": [
    {
     "name": "stdin",
     "output_type": "stream",
     "text": [
      " 3\n"
     ]
    },
    {
     "name": "stdout",
     "output_type": "stream",
     "text": [
      "Wednesday\n"
     ]
    }
   ],
   "source": [
    "#take input\n",
    "x=int(input())\n",
    "l1=[\"Monday\", \"Tuesday\", \"Wednesday\", \"Thursday\", \"Friday\", \"Saturday\", \"Sunday\"]\n",
    "if 1<= x <=7:\n",
    "    print(l1[x-1])\n",
    "else:\n",
    "    print(\"invalid number\")"
   ]
  },
  {
   "cell_type": "code",
   "execution_count": null,
   "id": "3074f638-71b5-4b8e-96da-95098bc198df",
   "metadata": {},
   "outputs": [],
   "source": []
  },
  {
   "cell_type": "markdown",
   "id": "e0ffdd3c-874a-4587-94b3-a377a4459495",
   "metadata": {},
   "source": [
    "13. Develop a program that calculates the factorial of a given number using recursion."
   ]
  },
  {
   "cell_type": "code",
   "execution_count": 45,
   "id": "d8c02184-fcc1-42c5-9695-5cd6c6cc8901",
   "metadata": {},
   "outputs": [
    {
     "name": "stdin",
     "output_type": "stream",
     "text": [
      " 5\n"
     ]
    },
    {
     "name": "stdout",
     "output_type": "stream",
     "text": [
      "The factorial of 5 is 120\n"
     ]
    }
   ],
   "source": [
    "def factorial(n):\n",
    "    if n==0:\n",
    "        return 1\n",
    "    else:\n",
    "        return n*factorial(n-1)\n",
    "#take input\n",
    "x=int(input())\n",
    "if x<0:\n",
    "    print(\"Factorial is not defined for negative numbers.\")\n",
    "else:\n",
    "    result=factorial(x)\n",
    "    print(f\"The factorial of {x} is {result}\")"
   ]
  },
  {
   "cell_type": "code",
   "execution_count": null,
   "id": "03e0a83b-f261-4058-9dea-1e93def040b1",
   "metadata": {},
   "outputs": [],
   "source": []
  },
  {
   "cell_type": "markdown",
   "id": "11c6a4f7-f544-4ab4-a025-6a79c9e2af70",
   "metadata": {},
   "source": [
    "14. Write a program to find the largest among three numbers without using the `max()` function."
   ]
  },
  {
   "cell_type": "code",
   "execution_count": 41,
   "id": "6e640224-b11c-4267-804b-6c22d4538cb4",
   "metadata": {},
   "outputs": [
    {
     "name": "stdin",
     "output_type": "stream",
     "text": [
      " 11\n",
      " 34\n",
      " 74\n"
     ]
    },
    {
     "name": "stdout",
     "output_type": "stream",
     "text": [
      "74 is greater\n"
     ]
    }
   ],
   "source": [
    "#take input\n",
    "x=int(input())\n",
    "y=int(input())\n",
    "z=int(input())\n",
    "#checking number is greater of not\n",
    "if x>y:\n",
    "    if x>z:\n",
    "        print(f\"{x} is greater\")\n",
    "    else:\n",
    "        print(f\"{z} is greater\")\n",
    "else:\n",
    "    if y>z:\n",
    "        print(f\"{y} is greater\")\n",
    "    else:\n",
    "        print(f\"{z} is greater\")"
   ]
  },
  {
   "cell_type": "code",
   "execution_count": null,
   "id": "59ddaafd-5832-4ccd-bf82-0fb1edbe61b6",
   "metadata": {},
   "outputs": [],
   "source": []
  },
  {
   "cell_type": "markdown",
   "id": "6df5d973-1beb-469c-831d-9a102c13fa89",
   "metadata": {},
   "source": [
    "15. Create a program that simulates a basic ATM transaction menu."
   ]
  },
  {
   "cell_type": "code",
   "execution_count": 1,
   "id": "58ce0c09-288c-4055-a338-25343d3c57d3",
   "metadata": {},
   "outputs": [
    {
     "name": "stdout",
     "output_type": "stream",
     "text": [
      "1. Check Balance\n",
      "2. Deposit\n",
      "3. Withdraw\n",
      "4. Exit\n"
     ]
    },
    {
     "name": "stdin",
     "output_type": "stream",
     "text": [
      "Enter your choice:  2\n",
      "Enter deposit amount: $ 58\n"
     ]
    },
    {
     "name": "stdout",
     "output_type": "stream",
     "text": [
      "Deposit successful. New balance: $ 1058.0\n",
      "1. Check Balance\n",
      "2. Deposit\n",
      "3. Withdraw\n",
      "4. Exit\n"
     ]
    },
    {
     "name": "stdin",
     "output_type": "stream",
     "text": [
      "Enter your choice:  1\n"
     ]
    },
    {
     "name": "stdout",
     "output_type": "stream",
     "text": [
      "Balance: $ 1058.0\n",
      "1. Check Balance\n",
      "2. Deposit\n",
      "3. Withdraw\n",
      "4. Exit\n"
     ]
    },
    {
     "name": "stdin",
     "output_type": "stream",
     "text": [
      "Enter your choice:  4\n"
     ]
    },
    {
     "name": "stdout",
     "output_type": "stream",
     "text": [
      "Exiting ATM. Have a nice day!\n"
     ]
    }
   ],
   "source": [
    "# Initial account balance\n",
    "balance = 1000\n",
    "\n",
    "while True:\n",
    "    print(\"1. Check Balance\")\n",
    "    print(\"2. Deposit\")\n",
    "    print(\"3. Withdraw\")\n",
    "    print(\"4. Exit\")\n",
    "    \n",
    "    choice = int(input(\"Enter your choice: \"))\n",
    "    \n",
    "    if choice == 1:\n",
    "        print(\"Balance: $\", balance)\n",
    "    elif choice == 2:\n",
    "        amount = float(input(\"Enter deposit amount: $\"))\n",
    "        balance += amount\n",
    "        print(\"Deposit successful. New balance: $\", balance)\n",
    "    elif choice == 3:\n",
    "        amount = float(input(\"Enter withdrawal amount: $\"))\n",
    "        if amount <= balance:\n",
    "            balance -= amount\n",
    "            print(\"Withdrawal successful. New balance: $\", balance)\n",
    "        else:\n",
    "            print(\"Insufficient funds.\")\n",
    "    elif choice == 4:\n",
    "        print(\"Exiting ATM. Have a nice day!\")\n",
    "        break\n",
    "    else:\n",
    "        print(\"Invalid choice. Please select a valid option.\")"
   ]
  },
  {
   "cell_type": "code",
   "execution_count": null,
   "id": "e4c907ce-bd06-4959-a727-709dc9ad2067",
   "metadata": {},
   "outputs": [],
   "source": []
  },
  {
   "cell_type": "markdown",
   "id": "7e1bcfd4-60fe-49fc-8da7-0ba6a8dc5e9b",
   "metadata": {},
   "source": [
    "16. Build a program that checks if a given string is a palindrome or not."
   ]
  },
  {
   "cell_type": "code",
   "execution_count": 42,
   "id": "d6f1dfbd-fb98-4948-98a1-4065799d4181",
   "metadata": {},
   "outputs": [
    {
     "name": "stdin",
     "output_type": "stream",
     "text": [
      "Enter the string:  madam\n"
     ]
    },
    {
     "name": "stdout",
     "output_type": "stream",
     "text": [
      "Palindrome\n"
     ]
    }
   ],
   "source": [
    "#taking input\n",
    "s1= input(\"Enter the string: \")\n",
    "#reversing and copying it in another variable\n",
    "s2= s1[::-1]\n",
    "#check and print palindrome status\n",
    "if s1==s2:                                                        \n",
    "    print(\"Palindrome\")\n",
    "else:\n",
    "    print(\"Not Palindrome\")"
   ]
  },
  {
   "cell_type": "code",
   "execution_count": null,
   "id": "91b1ceb3-97ac-4ca0-bc24-1d3ab366b24f",
   "metadata": {},
   "outputs": [],
   "source": []
  },
  {
   "cell_type": "markdown",
   "id": "2777f150-8a1b-49dd-9cf0-0b758a10c933",
   "metadata": {},
   "source": [
    "17. Write a program that calculates the average of a list of numbers, excluding the smallest and largest values."
   ]
  },
  {
   "cell_type": "code",
   "execution_count": 27,
   "id": "a6c5487d-a57c-4995-a9a3-0caac8074403",
   "metadata": {},
   "outputs": [
    {
     "name": "stdout",
     "output_type": "stream",
     "text": [
      "The avg is:73.6\n"
     ]
    }
   ],
   "source": [
    "lst = [5,9,41,3,51,516,135,16,5,415,55,4]\n",
    "#sort the list\n",
    "lst.sort()\n",
    "#create variable the store sum of number\n",
    "sum=0\n",
    "#loop from 1 to 2nd last element of the list\n",
    "for i in range(1,len(lst)-1):\n",
    "    sum+=lst[i]\n",
    "    c=i\n",
    "#calculate average\n",
    "avg=sum/c\n",
    "print(\"The avg is:\"+ str(avg))"
   ]
  },
  {
   "cell_type": "code",
   "execution_count": null,
   "id": "c3455447-e613-4f2e-9665-0f89b00f0bbd",
   "metadata": {},
   "outputs": [],
   "source": []
  },
  {
   "cell_type": "markdown",
   "id": "78435978-5972-49f4-839d-945f1f79317d",
   "metadata": {},
   "source": [
    "18. Develop a program that converts a given temperature from Celsius to Fahrenheit."
   ]
  },
  {
   "cell_type": "code",
   "execution_count": 43,
   "id": "3cbf6561-4e8b-4ffd-ac0a-25509ac4f52c",
   "metadata": {},
   "outputs": [
    {
     "name": "stdin",
     "output_type": "stream",
     "text": [
      "Enter the Temperature in Celsius:  46\n"
     ]
    },
    {
     "name": "stdout",
     "output_type": "stream",
     "text": [
      "Temperature in Fahrenheit :114.8\n"
     ]
    }
   ],
   "source": [
    "#taking input celsius\n",
    "cel = float(input(\"Enter the Temperature in Celsius: \"))           \n",
    "#converting\n",
    "fah = (1.8 * cel) + 32\n",
    "print(\"Temperature in Fahrenheit :\" + str(fah))"
   ]
  },
  {
   "cell_type": "code",
   "execution_count": null,
   "id": "ce1947ab-8d37-44dd-be75-ad5cfc389ec0",
   "metadata": {},
   "outputs": [],
   "source": []
  },
  {
   "cell_type": "markdown",
   "id": "858f3954-4c15-4b70-bc6e-747ecb3bb035",
   "metadata": {},
   "source": [
    "19. Create a program that simulates a basic calculator for addition, subtraction, multiplication, and division."
   ]
  },
  {
   "cell_type": "code",
   "execution_count": 44,
   "id": "05a7dbf9-ccd1-47e0-871d-7e382f8a7fd8",
   "metadata": {},
   "outputs": [
    {
     "name": "stdin",
     "output_type": "stream",
     "text": [
      " 3\n",
      " *\n",
      " 5\n"
     ]
    },
    {
     "name": "stdout",
     "output_type": "stream",
     "text": [
      "15\n"
     ]
    }
   ],
   "source": [
    "#take input\n",
    "x=int(input())\n",
    "sym= input()\n",
    "y=int(input())\n",
    "if sym=='+':\n",
    "    print(x+y)\n",
    "elif sym=='-':\n",
    "    print(x-y)\n",
    "elif sym=='*':\n",
    "    print(x*y)\n",
    "else:\n",
    "    print(x/y)"
   ]
  },
  {
   "cell_type": "code",
   "execution_count": null,
   "id": "986dc382-1b28-4ae4-831c-d032ae490489",
   "metadata": {},
   "outputs": [],
   "source": []
  },
  {
   "cell_type": "markdown",
   "id": "41c74ef3-a371-4586-a2cb-ba0dca54eef2",
   "metadata": {},
   "source": [
    "20. Write a program that determines the roots of a cubic equation using the Cardano formula."
   ]
  },
  {
   "cell_type": "code",
   "execution_count": 2,
   "id": "bfe58156-aafb-483a-ac61-25e692dc03ae",
   "metadata": {},
   "outputs": [
    {
     "name": "stdin",
     "output_type": "stream",
     "text": [
      "Enter coefficient a:  56.\n",
      "Enter coefficient b:  86.4\n",
      "Enter coefficient c:  57.12\n",
      "Enter coefficient d:  63.21\n"
     ]
    },
    {
     "name": "stdout",
     "output_type": "stream",
     "text": [
      "One real root: (0.04315513000090332+0.8288647294140965j)\n"
     ]
    }
   ],
   "source": [
    "# Input: Coefficients of the cubic equation\n",
    "a = float(input(\"Enter coefficient a: \"))\n",
    "b = float(input(\"Enter coefficient b: \"))\n",
    "c = float(input(\"Enter coefficient c: \"))\n",
    "d = float(input(\"Enter coefficient d: \"))\n",
    "\n",
    "# Calculate intermediate values\n",
    "p = c/a - (b**2)/(3*a**2)\n",
    "q = (2*b**3)/(27*a**3) - (b*c)/(3*a**2) + d/a\n",
    "\n",
    "# Calculate discriminant\n",
    "discriminant = (q**2)/4 + (p**3)/27\n",
    "\n",
    "# Calculate roots based on discriminant\n",
    "if discriminant > 0:\n",
    "    root1 = (-q/2 + discriminant**0.5)**(1/3) + (-q/2 - discriminant**0.5)**(1/3) - b/(3*a)\n",
    "    print(\"One real root:\", root1)\n",
    "elif discriminant == 0:\n",
    "    root1 = -q/2**(1/3) - b/(3*a)\n",
    "    root2 = -(2**0.5)*root1 - b/(3*a)\n",
    "    root3 = (2**0.5)*root1 - b/(3*a)\n",
    "    print(\"Three real roots:\", root1, \",\", root2, \",\", root3)\n",
    "else:\n",
    "    real_part = -q/2**(1/3)\n",
    "    imaginary_part = (3**0.5/2)*(discriminant**0.5)\n",
    "    root1 = (real_part + imaginary_part)**(1/3) + (real_part - imaginary_part)**(1/3) - b/(3*a)\n",
    "    print(\"One real root and two complex roots:\", root1)"
   ]
  },
  {
   "cell_type": "code",
   "execution_count": null,
   "id": "73373c4d-608a-44fa-9d9d-fb74e939c5fb",
   "metadata": {},
   "outputs": [],
   "source": []
  },
  {
   "cell_type": "markdown",
   "id": "3df3fc44-d2e1-41de-99c6-02938dd8347c",
   "metadata": {},
   "source": []
  },
  {
   "cell_type": "markdown",
   "id": "13d01457-7e89-49b5-94c0-b195440ce784",
   "metadata": {},
   "source": [
    "Advanced Level:"
   ]
  },
  {
   "cell_type": "code",
   "execution_count": null,
   "id": "7f3b0bdc-0254-4899-8c47-0ab5341c6ced",
   "metadata": {},
   "outputs": [],
   "source": []
  },
  {
   "cell_type": "markdown",
   "id": "cd7427f8-bf7b-44e6-8f59-38cbbf6e5ab3",
   "metadata": {},
   "source": [
    "21. Create a program that calculates the income tax based on the user's income and tax brackets."
   ]
  },
  {
   "cell_type": "code",
   "execution_count": 1,
   "id": "fa8e41bc-a4cf-4c58-a811-3caecf17406f",
   "metadata": {},
   "outputs": [
    {
     "name": "stdin",
     "output_type": "stream",
     "text": [
      "Enter your income:  450000\n"
     ]
    },
    {
     "name": "stdout",
     "output_type": "stream",
     "text": [
      "Income tax: 164000.0\n"
     ]
    }
   ],
   "source": [
    "#take input\n",
    "income = float(input(\"Enter your income: \"))\n",
    "# Define tax brackets and rates\n",
    "brackets = [10000, 30000, 70000, 100000]\n",
    "rates = [0.1, 0.2, 0.3, 0.4, 0.5]\n",
    "# Calculate income tax based on tax brackets\n",
    "tax = 0\n",
    "remaining_income = income\n",
    "for i in range(len(brackets)):\n",
    "    if remaining_income <= 0:\n",
    "        break\n",
    "    if i == len(brackets) - 1 or remaining_income <= brackets[i+1]:\n",
    "        tax += remaining_income * rates[i]\n",
    "    else:\n",
    "        tax += brackets[i] * rates[i]\n",
    "        remaining_income -= brackets[i]\n",
    "\n",
    "print(\"Income tax:\", tax) "
   ]
  },
  {
   "cell_type": "code",
   "execution_count": null,
   "id": "d00ee50c-6755-4fb6-9d38-83707b7af10e",
   "metadata": {},
   "outputs": [],
   "source": []
  },
  {
   "cell_type": "markdown",
   "id": "71a1bed7-455b-4688-996f-f652d3eef686",
   "metadata": {},
   "source": [
    "22. Write a program that simulates a rock-paper-scissors game against the computer."
   ]
  },
  {
   "cell_type": "code",
   "execution_count": 2,
   "id": "d1e8f433-3a44-4d28-81cd-a3cad0e44ec2",
   "metadata": {},
   "outputs": [
    {
     "name": "stdin",
     "output_type": "stream",
     "text": [
      "Choose rock, paper, or scissors:  rock\n"
     ]
    },
    {
     "name": "stdout",
     "output_type": "stream",
     "text": [
      "Your choice: rock, Computer's choice: rock\n",
      "It's a tie!\n"
     ]
    }
   ],
   "source": [
    "import random\n",
    "# taking input\n",
    "user_choice = input(\"Choose rock, paper, or scissors: \").lower()\n",
    "\n",
    "# Generate computer's choice\n",
    "choices = ['rock', 'paper', 'scissors']\n",
    "computer_choice = random.choice(choices)\n",
    "\n",
    "# Determine the winner\n",
    "if user_choice in choices:\n",
    "    if user_choice == computer_choice:\n",
    "        result = \"It's a tie!\"\n",
    "    elif (user_choice == 'rock' and computer_choice == 'scissors') or \\\n",
    "         (user_choice == 'paper' and computer_choice == 'rock') or \\\n",
    "         (user_choice == 'scissors' and computer_choice == 'paper'):\n",
    "        result = \"You win!\"\n",
    "    else:\n",
    "        result = \"Computer wins!\"\n",
    "else:\n",
    "    result = \"Invalid input. Please choose rock, paper, or scissors.\"\n",
    "\n",
    "print(f\"Your choice: {user_choice}, Computer's choice: {computer_choice}\")\n",
    "print(result)"
   ]
  },
  {
   "cell_type": "code",
   "execution_count": null,
   "id": "ca4aaa06-763a-4034-bc3f-a7c1f9355a77",
   "metadata": {},
   "outputs": [],
   "source": []
  },
  {
   "cell_type": "markdown",
   "id": "30d87925-1473-4b69-a9c5-139709bad91c",
   "metadata": {},
   "source": [
    "23. Develop a program that generates a random password based on user preferences (length, complexity)."
   ]
  },
  {
   "cell_type": "code",
   "execution_count": 3,
   "id": "a596afee-dd53-472b-9d93-2c55940b7240",
   "metadata": {},
   "outputs": [
    {
     "name": "stdin",
     "output_type": "stream",
     "text": [
      "Enter the length of the password:  9\n",
      "Enter complexity (easy, medium, strong):  medium\n"
     ]
    },
    {
     "name": "stdout",
     "output_type": "stream",
     "text": [
      "Generated password: n=s@\\FXDn\n"
     ]
    }
   ],
   "source": [
    "import random\n",
    "import string\n",
    "# Input: Password length and complexity\n",
    "length = int(input(\"Enter the length of the password: \"))\n",
    "complexity = input(\"Enter complexity (easy, medium, strong): \").lower()\n",
    "# Define character sets based on complexity\n",
    "if complexity == 'easy':\n",
    "    characters = string.ascii_letters + string.digits\n",
    "elif complexity == 'medium':\n",
    "    characters = string.ascii_letters + string.digits + string.punctuation\n",
    "elif complexity == 'strong':\n",
    "    characters = string.ascii_letters + string.digits + string.punctuation + string.ascii_letters.upper()\n",
    "else:\n",
    "    print(\"Invalid complexity choice.\")\n",
    "    exit()\n",
    "\n",
    "# Generate the password\n",
    "password = ''.join(random.choice(characters) for _ in range(length))\n",
    "print(\"Generated password:\", password)"
   ]
  },
  {
   "cell_type": "code",
   "execution_count": null,
   "id": "712fcd74-8d28-4b79-b20b-63e376f52bdf",
   "metadata": {},
   "outputs": [],
   "source": []
  },
  {
   "cell_type": "markdown",
   "id": "992769b3-d116-4eb2-aed2-fe1a35b39a7b",
   "metadata": {},
   "source": [
    "24. Create a program that implements a simple text-based adventure game with branching scenarios."
   ]
  },
  {
   "cell_type": "code",
   "execution_count": 4,
   "id": "e313af33-e1d4-4654-8cec-deac006c339f",
   "metadata": {},
   "outputs": [
    {
     "name": "stdout",
     "output_type": "stream",
     "text": [
      "You wake up in a mysterious forest. You see a path leading deeper into the forest and another path going back.\n"
     ]
    },
    {
     "name": "stdin",
     "output_type": "stream",
     "text": [
      "Which path do you choose? (forward/back):  forward\n"
     ]
    },
    {
     "name": "stdout",
     "output_type": "stream",
     "text": [
      "You follow the path deeper into the forest and discover a hidden treasure!\n",
      "The adventure ends.\n"
     ]
    }
   ],
   "source": [
    "# Start of the game\n",
    "print(\"You wake up in a mysterious forest. You see a path leading deeper into the forest and another path going back.\")\n",
    "\n",
    "# Input: User's choice\n",
    "choice = input(\"Which path do you choose? (forward/back): \").lower()\n",
    "\n",
    "# Branching scenario\n",
    "if choice == 'forward':\n",
    "    print(\"You follow the path deeper into the forest and discover a hidden treasure!\")\n",
    "else:\n",
    "    print(\"You turn back and exit the forest.\")\n",
    "\n",
    "# End of the game\n",
    "print(\"The adventure ends.\")"
   ]
  },
  {
   "cell_type": "code",
   "execution_count": null,
   "id": "4d757956-90e2-4782-a699-a40cf234cf80",
   "metadata": {},
   "outputs": [],
   "source": []
  },
  {
   "cell_type": "markdown",
   "id": "7868e143-c94a-4fd8-88a9-1f52c754ac18",
   "metadata": {},
   "source": [
    "25. Build a program that solves a linear equation for x, considering different cases."
   ]
  },
  {
   "cell_type": "code",
   "execution_count": 5,
   "id": "5c005cc1-9bea-434f-a4fb-6c1a062a55b0",
   "metadata": {},
   "outputs": [
    {
     "name": "stdin",
     "output_type": "stream",
     "text": [
      "Enter coefficient a:  7\n",
      "Enter coefficient b:  5\n"
     ]
    },
    {
     "name": "stdout",
     "output_type": "stream",
     "text": [
      "Solution: x = -0.7142857142857143\n"
     ]
    }
   ],
   "source": [
    "#taking input\n",
    "a = float(input(\"Enter coefficient a: \"))\n",
    "b = float(input(\"Enter coefficient b: \"))\n",
    "\n",
    "if a == 0:\n",
    "    if b == 0:\n",
    "        solution = \"Infinite solutions (identity equation).\"\n",
    "    else:\n",
    "        solution = \"No solution (contradictory equation).\"\n",
    "else:\n",
    "    x = -b / a\n",
    "    solution = f\"x = {x}\"\n",
    "\n",
    "print(\"Solution:\", solution)"
   ]
  },
  {
   "cell_type": "code",
   "execution_count": null,
   "id": "a07d12bf-ea2f-4c03-8bd8-180d893b110e",
   "metadata": {},
   "outputs": [],
   "source": []
  },
  {
   "cell_type": "markdown",
   "id": "8a7bdc31-aa8f-4e18-bd90-e88f95a817e2",
   "metadata": {},
   "source": [
    "26. Write a program that simulates a basic quiz game with multiple-choice questions and scoring."
   ]
  },
  {
   "cell_type": "code",
   "execution_count": 6,
   "id": "4f328eb4-6e8d-4420-853d-2904aff70764",
   "metadata": {},
   "outputs": [
    {
     "name": "stdout",
     "output_type": "stream",
     "text": [
      "Question 1: course name? \n"
     ]
    },
    {
     "name": "stdin",
     "output_type": "stream",
     "text": [
      "Your answer:  full stack data science pro\n"
     ]
    },
    {
     "name": "stdout",
     "output_type": "stream",
     "text": [
      "Correct!\n",
      "Question 2: amount of this course? \n"
     ]
    },
    {
     "name": "stdin",
     "output_type": "stream",
     "text": [
      "Your answer:  200000\n"
     ]
    },
    {
     "name": "stdout",
     "output_type": "stream",
     "text": [
      "Wrong! The correct answer is 20000.\n",
      "Question 3: which platform? \n"
     ]
    },
    {
     "name": "stdin",
     "output_type": "stream",
     "text": [
      "Your answer:  pwskills\n"
     ]
    },
    {
     "name": "stdout",
     "output_type": "stream",
     "text": [
      "Correct!\n",
      "Your score: 2/3\n"
     ]
    }
   ],
   "source": [
    "# Quiz questions and answers\n",
    "questions = [\"course name? \" ,\n",
    "             \"amount of this course? \",\n",
    "             \"which platform? \"]\n",
    "answers = [\"full stack data science pro\", \"20000\", \"pwskills\"]\n",
    "# Initialize score\n",
    "score = 0\n",
    "# Ask questions and check answers\n",
    "for i, question in enumerate(questions):\n",
    "    print(f\"Question {i + 1}: {question}\")\n",
    "    user_answer = input(\"Your answer: \")\n",
    "    if user_answer.lower() == answers[i].lower():\n",
    "        print(\"Correct!\")\n",
    "        score += 1\n",
    "    else:\n",
    "        print(f\"Wrong! The correct answer is {answers[i]}.\")\n",
    "\n",
    "# Display final score\n",
    "print(f\"Your score: {score}/{len(questions)}\")"
   ]
  },
  {
   "cell_type": "code",
   "execution_count": null,
   "id": "321ffd6c-ed07-45e5-bd6e-f321bfacc6ad",
   "metadata": {},
   "outputs": [],
   "source": []
  },
  {
   "cell_type": "markdown",
   "id": "26fca76c-faaf-4129-a391-d673e005e7fe",
   "metadata": {},
   "source": [
    "27. Develop a program that determines whether a given year is a prime number or not."
   ]
  },
  {
   "cell_type": "code",
   "execution_count": 7,
   "id": "74d92a49-ffd5-42aa-8035-b396ca90a3bb",
   "metadata": {},
   "outputs": [
    {
     "name": "stdin",
     "output_type": "stream",
     "text": [
      "Enter a year:  2024\n"
     ]
    },
    {
     "name": "stdout",
     "output_type": "stream",
     "text": [
      "2024 is not a prime number.\n"
     ]
    }
   ],
   "source": [
    "#taking input\n",
    "year = int(input(\"Enter a year: \"))\n",
    "\n",
    "if year > 1:\n",
    "    for i in range(2, year):\n",
    "        if (year % i) == 0:\n",
    "            print(year, \"is not a prime number.\")\n",
    "            break\n",
    "    else:\n",
    "        print(year, \"is a prime number.\")\n",
    "else:\n",
    "    print(year, \"is not a prime number.\")"
   ]
  },
  {
   "cell_type": "code",
   "execution_count": null,
   "id": "d55b384d-d54e-44b4-9938-6c00bdc11ace",
   "metadata": {},
   "outputs": [],
   "source": []
  },
  {
   "cell_type": "markdown",
   "id": "6b9e9011-8a0f-4bfb-859c-1c8ab2e1fee8",
   "metadata": {},
   "source": [
    "28. Create a program that sorts three numbers in ascending order using conditional statements."
   ]
  },
  {
   "cell_type": "code",
   "execution_count": 8,
   "id": "9e5afcb7-a638-4846-a1a0-be477ea1c428",
   "metadata": {},
   "outputs": [
    {
     "name": "stdin",
     "output_type": "stream",
     "text": [
      "Enter the first number:  5\n",
      "Enter the second number:  2\n",
      "Enter the third number:  9\n"
     ]
    },
    {
     "name": "stdout",
     "output_type": "stream",
     "text": [
      "The numbers in ascending order are: 2.0 5.0 9.0\n"
     ]
    }
   ],
   "source": [
    "#taking input\n",
    "num1 = float(input(\"Enter the first number: \"))\n",
    "num2 = float(input(\"Enter the second number: \"))\n",
    "num3 = float(input(\"Enter the third number: \"))\n",
    "# Check and swap the first two numbers if they are out of order\n",
    "if num1 > num2:\n",
    "    num1, num2 = num2, num1\n",
    "# Check and swap the first and third numbers if they are out of order\n",
    "if num1 > num3:\n",
    "    num1, num3 = num3, num1\n",
    "# Check and swap the second and third numbers if they are out of order\n",
    "if num2 > num3:\n",
    "    num2, num3 = num3, num2\n",
    "\n",
    "print(\"The numbers in ascending order are:\", num1, num2, num3)"
   ]
  },
  {
   "cell_type": "code",
   "execution_count": null,
   "id": "899bc649-13b5-4ba8-ae6b-999f157857aa",
   "metadata": {},
   "outputs": [],
   "source": []
  },
  {
   "cell_type": "markdown",
   "id": "da77d737-0f71-43f9-a578-d9fd2ee6afdf",
   "metadata": {},
   "source": [
    "29. Build a program that determines the roots of a quartic equation using numerical methods."
   ]
  },
  {
   "cell_type": "code",
   "execution_count": 1,
   "id": "8099bbde-ef87-4122-80b5-229ba6f0a835",
   "metadata": {},
   "outputs": [
    {
     "name": "stdin",
     "output_type": "stream",
     "text": [
      "Enter coefficient a:  55\n",
      "Enter coefficient b:  26\n",
      "Enter coefficient c:  70\n"
     ]
    },
    {
     "name": "stdout",
     "output_type": "stream",
     "text": [
      "Two complex roots: -0.23636363636363636 + 1.1031135499721827 i and -0.23636363636363636 - 1.1031135499721827 i\n"
     ]
    }
   ],
   "source": [
    "import math\n",
    "#taking input\n",
    "a = float(input(\"Enter coefficient a: \"))\n",
    "b = float(input(\"Enter coefficient b: \"))\n",
    "c = float(input(\"Enter coefficient c: \"))\n",
    "# Calculate the discriminant\n",
    "discriminant = b**2 - 4*a*c\n",
    "# Calculate roots based on the discriminant\n",
    "if discriminant > 0:\n",
    "    root1 = (-b + math.sqrt(discriminant)) / (2*a)\n",
    "    root2 = (-b - math.sqrt(discriminant)) / (2*a)\n",
    "    print(\"Two real and distinct roots:\", root1, \"and\", root2)\n",
    "elif discriminant == 0:\n",
    "    root1 = root2 = -b / (2*a)\n",
    "    print(\"Two real and equal roots:\", root1)\n",
    "else:\n",
    "    real_part = -b / (2*a)\n",
    "    imaginary_part = math.sqrt(abs(discriminant)) / (2*a)\n",
    "    print(\"Two complex roots:\", real_part, \"+\", imaginary_part, \"i and\", real_part, \"-\", imaginary_part, \"i\")"
   ]
  },
  {
   "cell_type": "code",
   "execution_count": null,
   "id": "9087eec3-a873-4886-8517-62a1b12311ef",
   "metadata": {},
   "outputs": [],
   "source": []
  },
  {
   "cell_type": "markdown",
   "id": "fb91284a-2dc6-4627-9f8f-37e29ca1206f",
   "metadata": {},
   "source": [
    "30. Write a program that calculates the BMI (Body Mass Index) and provides health recommendations based\n",
    "on the user's input."
   ]
  },
  {
   "cell_type": "code",
   "execution_count": 2,
   "id": "d34f13c0-ac24-42e1-a500-76ae8a860d51",
   "metadata": {},
   "outputs": [
    {
     "name": "stdin",
     "output_type": "stream",
     "text": [
      "Enter your weight in kg:  80\n",
      "Enter your height in meters:  1.78\n"
     ]
    },
    {
     "name": "stdout",
     "output_type": "stream",
     "text": [
      "Your BMI is 25.25 (Overweight). You may need to lose weight.\n"
     ]
    }
   ],
   "source": [
    "#taking input\n",
    "weight = float(input(\"Enter your weight in kg: \"))\n",
    "height = float(input(\"Enter your height in meters: \"))\n",
    "# Calculate BMI\n",
    "bmi = weight / (height ** 2)\n",
    "\n",
    "if bmi < 18.5:\n",
    "    category = \"Underweight\"\n",
    "    recommendation = \"You may need to gain weight.\"\n",
    "elif 18.5 <= bmi < 24.9:\n",
    "    category = \"Normal\"\n",
    "    recommendation = \"You are in a healthy weight range.\"\n",
    "elif 24.9 <= bmi < 29.9:\n",
    "    category = \"Overweight\"\n",
    "    recommendation = \"You may need to lose weight.\"\n",
    "else:\n",
    "    category = \"Obese\"\n",
    "    recommendation = \"You should consult a healthcare professional.\"\n",
    "\n",
    "print(f\"Your BMI is {bmi:.2f} ({category}). {recommendation}\")"
   ]
  },
  {
   "cell_type": "code",
   "execution_count": null,
   "id": "b0602de5-4552-4800-8273-58d9be0e943b",
   "metadata": {},
   "outputs": [],
   "source": []
  },
  {
   "cell_type": "code",
   "execution_count": null,
   "id": "703b1108-240c-4054-9ad1-3657c9403942",
   "metadata": {},
   "outputs": [],
   "source": []
  },
  {
   "cell_type": "markdown",
   "id": "e0105c50-cea8-436e-92ea-89b75bb73940",
   "metadata": {},
   "source": [
    "Challenge Level:"
   ]
  },
  {
   "cell_type": "code",
   "execution_count": null,
   "id": "f032b5e5-e6b9-4188-9105-10a164c027b2",
   "metadata": {},
   "outputs": [],
   "source": []
  },
  {
   "cell_type": "markdown",
   "id": "36e25890-459e-4520-abf1-90806bd12179",
   "metadata": {},
   "source": [
    "31. Create a program that validates a password based on complexity rules (length, characters, etc.)."
   ]
  },
  {
   "cell_type": "code",
   "execution_count": 3,
   "id": "dee295de-49da-4ec7-8ca1-905ba704e9a7",
   "metadata": {},
   "outputs": [
    {
     "name": "stdin",
     "output_type": "stream",
     "text": [
      "Enter a password:  jkghkugyh\n"
     ]
    },
    {
     "name": "stdout",
     "output_type": "stream",
     "text": [
      "Password is not valid. Please follow the complexity rules.\n"
     ]
    }
   ],
   "source": [
    "import re\n",
    "#taking input\n",
    "password = input(\"Enter a password: \")\n",
    "# Define password complexity rules\n",
    "length_rule = len(password) >= 8\n",
    "uppercase_rule = any(char.isupper() for char in password)\n",
    "lowercase_rule = any(char.islower() for char in password)\n",
    "digit_rule = any(char.isdigit() for char in password)\n",
    "special_char_rule = re.search(r'[!@#$%^&*(),.?\":{}|<>]', password)\n",
    "\n",
    "# Check password complexity\n",
    "if all([length_rule, uppercase_rule, lowercase_rule, digit_rule, special_char_rule]):\n",
    "    print(\"Password is valid.\")\n",
    "else:\n",
    "    print(\"Password is not valid. Please follow the complexity rules.\")"
   ]
  },
  {
   "cell_type": "code",
   "execution_count": null,
   "id": "d475b2d7-7e58-43a4-a208-f24703aaadec",
   "metadata": {},
   "outputs": [],
   "source": []
  },
  {
   "cell_type": "markdown",
   "id": "f9f68637-4065-4a12-a905-0c6f4cd823cd",
   "metadata": {},
   "source": [
    "32. Develop a program that performs matrix addition and subtraction based on user input."
   ]
  },
  {
   "cell_type": "code",
   "execution_count": 2,
   "id": "cdd09111-6659-4f94-91d3-396aae8cf8d8",
   "metadata": {},
   "outputs": [
    {
     "name": "stdin",
     "output_type": "stream",
     "text": [
      "Enter the number of rows:  2\n",
      "Enter the number of columns:  2\n",
      "Matrix 1 [1,1]:  3\n",
      "Matrix 1 [1,2]:  2\n",
      "Matrix 1 [2,1]:  1\n",
      "Matrix 1 [2,2]:  3\n",
      "Matrix 2 [1,1]:  5\n",
      "Matrix 2 [1,2]:  4\n",
      "Matrix 2 [2,1]:  6\n",
      "Matrix 2 [2,2]:  2\n"
     ]
    },
    {
     "name": "stdout",
     "output_type": "stream",
     "text": [
      "Matrix Addition Result:\n",
      "[[8. 6.]\n",
      " [7. 5.]]\n",
      "Matrix Subtraction Result:\n",
      "[[-2. -2.]\n",
      " [-5.  1.]]\n"
     ]
    }
   ],
   "source": [
    "import numpy as np\n",
    "#taking input\n",
    "rows = int(input(\"Enter the number of rows: \"))\n",
    "cols = int(input(\"Enter the number of columns: \"))\n",
    "\n",
    "matrix1 = np.array([[float(input(f\"Matrix 1 [{i+1},{j+1}]: \")) for j in range(cols)] for i in range(rows)])\n",
    "matrix2 = np.array([[float(input(f\"Matrix 2 [{i+1},{j+1}]: \")) for j in range(cols)] for i in range(rows)])\n",
    "# Perform addition and subtraction\n",
    "addition_result = matrix1 + matrix2\n",
    "subtraction_result = matrix1 - matrix2\n",
    "print(\"Matrix Addition Result:\")\n",
    "print(addition_result)\n",
    "print(\"Matrix Subtraction Result:\")\n",
    "print(subtraction_result)"
   ]
  },
  {
   "cell_type": "code",
   "execution_count": null,
   "id": "38a4f5e8-d31e-4e98-8e64-6f31c98990b2",
   "metadata": {},
   "outputs": [],
   "source": []
  },
  {
   "cell_type": "markdown",
   "id": "76f58179-38c9-4161-83b6-2f2103ba158c",
   "metadata": {},
   "source": [
    "33. Write a program that calculates the greatest common divisor (GCD) of two numbers using the Euclidean\n",
    "algorithm."
   ]
  },
  {
   "cell_type": "code",
   "execution_count": 3,
   "id": "fd1356c5-978b-49a2-9516-4ae12f936527",
   "metadata": {},
   "outputs": [
    {
     "name": "stdin",
     "output_type": "stream",
     "text": [
      "Enter the first number:  6\n",
      "Enter the second number:  8\n"
     ]
    },
    {
     "name": "stdout",
     "output_type": "stream",
     "text": [
      "GCD: 2\n"
     ]
    }
   ],
   "source": [
    "#taking input\n",
    "a = int(input(\"Enter the first number: \"))\n",
    "b = int(input(\"Enter the second number: \"))\n",
    "# Euclidean algorithm to calculate GCD\n",
    "while b:\n",
    "    a, b = b, a % b\n",
    "print(\"GCD:\", a)"
   ]
  },
  {
   "cell_type": "code",
   "execution_count": null,
   "id": "d67984a0-5ec4-45d2-88f7-8fb67d50970c",
   "metadata": {},
   "outputs": [],
   "source": []
  },
  {
   "cell_type": "markdown",
   "id": "9ee45ef8-9160-4522-8487-45d064f4e4b9",
   "metadata": {},
   "source": [
    "34. Build a program that performs matrix multiplication using nested loops and conditional statements."
   ]
  },
  {
   "cell_type": "code",
   "execution_count": 1,
   "id": "513b8fe4-92b2-496e-9665-fb53d46958e2",
   "metadata": {},
   "outputs": [
    {
     "name": "stdin",
     "output_type": "stream",
     "text": [
      "Enter the number of rows for Matrix 1:  2\n",
      "Enter the number of columns for Matrix 1:  3\n",
      "Enter the number of rows for Matrix 2:  3\n",
      "Enter the number of columns for Matrix 2:  1\n",
      "Matrix 1 [1,1]:  7\n",
      "Matrix 1 [1,2]:  8\n",
      "Matrix 1 [1,3]:  9\n",
      "Matrix 1 [2,1]:  4\n",
      "Matrix 1 [2,2]:  5\n",
      "Matrix 1 [2,3]:  6\n",
      "Matrix 2 [1,1]:  1\n",
      "Matrix 2 [2,1]:  5\n",
      "Matrix 2 [3,1]:  9\n"
     ]
    },
    {
     "name": "stdout",
     "output_type": "stream",
     "text": [
      "Matrix Multiplication Result:\n",
      "[128.0]\n",
      "[83.0]\n"
     ]
    }
   ],
   "source": [
    "# taking input\n",
    "rows1 = int(input(\"Enter the number of rows for Matrix 1: \"))\n",
    "cols1 = int(input(\"Enter the number of columns for Matrix 1: \"))\n",
    "rows2 = int(input(\"Enter the number of rows for Matrix 2: \"))\n",
    "cols2 = int(input(\"Enter the number of columns for Matrix 2: \"))\n",
    "\n",
    "if cols1 != rows2:\n",
    "    print(\"Matrix multiplication is not possible.\")\n",
    "    exit()\n",
    "matrix1 = [[float(input(f\"Matrix 1 [{i+1},{j+1}]: \")) for j in range(cols1)] for i in range(rows1)]\n",
    "matrix2 = [[float(input(f\"Matrix 2 [{i+1},{j+1}]: \")) for j in range(cols2)] for i in range(rows2)]\n",
    "# Initialize result matrix with zeros\n",
    "result = [[0 for _ in range(cols2)] for _ in range(rows1)]\n",
    "# Perform matrix multiplication\n",
    "for i in range(rows1):\n",
    "    for j in range(cols2):\n",
    "        for k in range(cols1):\n",
    "            result[i][j] += matrix1[i][k] * matrix2[k][j]\n",
    "\n",
    "print(\"Matrix Multiplication Result:\")\n",
    "for row in result:\n",
    "    print(row)"
   ]
  },
  {
   "cell_type": "code",
   "execution_count": null,
   "id": "4fc3e6f5-02b2-4920-9f54-8f540e0c9068",
   "metadata": {},
   "outputs": [],
   "source": []
  },
  {
   "cell_type": "markdown",
   "id": "27addf20-8eae-4bad-8b59-dfaf1340799d",
   "metadata": {},
   "source": [
    "35. Create a program that simulates a basic text-based tic-tac-toe game against the computer."
   ]
  },
  {
   "cell_type": "code",
   "execution_count": 5,
   "id": "4520260f-fa2f-428c-82cb-874463f134a2",
   "metadata": {},
   "outputs": [
    {
     "name": "stdout",
     "output_type": "stream",
     "text": [
      "  |   |  \n",
      "---------\n",
      "  |   |  \n",
      "---------\n",
      "  |   |  \n",
      "---------\n"
     ]
    },
    {
     "name": "stdin",
     "output_type": "stream",
     "text": [
      "Enter your move (row and column):  2 2\n"
     ]
    },
    {
     "name": "stdout",
     "output_type": "stream",
     "text": [
      "  |   |  \n",
      "---------\n",
      "  |   |  \n",
      "---------\n",
      "  |   | X\n",
      "---------\n",
      "Computer's turn...\n",
      "O |   |  \n",
      "---------\n",
      "  |   |  \n",
      "---------\n",
      "  |   | X\n",
      "---------\n"
     ]
    },
    {
     "name": "stdin",
     "output_type": "stream",
     "text": [
      "Enter your move (row and column):  0 2\n"
     ]
    },
    {
     "name": "stdout",
     "output_type": "stream",
     "text": [
      "O |   | X\n",
      "---------\n",
      "  |   |  \n",
      "---------\n",
      "  |   | X\n",
      "---------\n",
      "Computer's turn...\n",
      "O |   | X\n",
      "---------\n",
      "  | O |  \n",
      "---------\n",
      "  |   | X\n",
      "---------\n"
     ]
    },
    {
     "name": "stdin",
     "output_type": "stream",
     "text": [
      "Enter your move (row and column):  1 2\n"
     ]
    },
    {
     "name": "stdout",
     "output_type": "stream",
     "text": [
      "O |   | X\n",
      "---------\n",
      "  | O | X\n",
      "---------\n",
      "  |   | X\n",
      "---------\n",
      "Player X wins!\n",
      "Game over.\n"
     ]
    }
   ],
   "source": [
    "import random\n",
    "# Function to print the Tic-Tac-Toe board\n",
    "def print_board(board):\n",
    "    for row in board:\n",
    "        print(\" | \".join(row))\n",
    "        print(\"-\" * 9)\n",
    "# Function to check if a player has won\n",
    "def check_win(board, player):\n",
    "    for row in board:\n",
    "        if all(cell == player for cell in row):\n",
    "            return True\n",
    "\n",
    "    for col in range(3):\n",
    "        if all(board[row][col] == player for row in range(3)):\n",
    "            return True\n",
    "\n",
    "    if all(board[i][i] == player for i in range(3)) or all(board[i][2 - i] == player for i in range(3)):\n",
    "        return True\n",
    "\n",
    "    return False\n",
    "\n",
    "# Function to check if the board is full\n",
    "def is_board_full(board):\n",
    "    return all(cell != ' ' for row in board for cell in row)\n",
    "\n",
    "# Function to make the computer's move\n",
    "def computer_move(board):\n",
    "    empty_cells = [(i, j) for i in range(3) for j in range(3) if board[i][j] == ' ']\n",
    "    return random.choice(empty_cells)\n",
    "\n",
    "# Initialize the Tic-Tac-Toe board\n",
    "board = [[' ' for _ in range(3)] for _ in range(3)]\n",
    "player = 'X'\n",
    "computer = 'O'\n",
    "\n",
    "while True:\n",
    "    print_board(board)\n",
    "\n",
    "    if player == 'X':\n",
    "        row, col = map(int, input(\"Enter your move (row and column): \").split())\n",
    "    else:\n",
    "        print(\"Computer's turn...\")\n",
    "        row, col = computer_move(board)\n",
    "\n",
    "    if 0 <= row < 3 and 0 <= col < 3 and board[row][col] == ' ':\n",
    "        board[row][col] = player\n",
    "        if check_win(board, player):\n",
    "            print_board(board)\n",
    "            print(f\"Player {player} wins!\")\n",
    "            break\n",
    "        elif is_board_full(board):\n",
    "            print_board(board)\n",
    "            print(\"It's a tie!\")\n",
    "            break\n",
    "        player, computer = computer, player\n",
    "    else:\n",
    "        print(\"Invalid move. Try again.\")\n",
    "\n",
    "print(\"Game over.\")"
   ]
  },
  {
   "cell_type": "code",
   "execution_count": null,
   "id": "e0e7f00d-7fbd-475b-a1b7-805e05a9537c",
   "metadata": {},
   "outputs": [],
   "source": []
  },
  {
   "cell_type": "markdown",
   "id": "6b8edb42-98c7-4847-82a7-423011a2f854",
   "metadata": {},
   "source": [
    "36. Write a program that generates Fibonacci numbers up to a specified term using iterative methods."
   ]
  },
  {
   "cell_type": "code",
   "execution_count": 6,
   "id": "1cc56b2e-2f85-4bf0-ac44-6b90dcac055d",
   "metadata": {},
   "outputs": [
    {
     "name": "stdin",
     "output_type": "stream",
     "text": [
      "Enter the number of Fibonacci terms:  6\n"
     ]
    },
    {
     "name": "stdout",
     "output_type": "stream",
     "text": [
      "Fibonacci Sequence:\n",
      "[0, 1, 1, 2, 3, 5]\n"
     ]
    }
   ],
   "source": [
    "# taking input\n",
    "n = int(input(\"Enter the number of Fibonacci terms: \"))\n",
    "fibonacci_sequence = [0, 1]\n",
    "while len(fibonacci_sequence) < n:\n",
    "    next_term = fibonacci_sequence[-1] + fibonacci_sequence[-2]\n",
    "    fibonacci_sequence.append(next_term)\n",
    "print(\"Fibonacci Sequence:\")\n",
    "print(fibonacci_sequence)"
   ]
  },
  {
   "cell_type": "code",
   "execution_count": null,
   "id": "440a70c0-ee77-46fe-b484-5495624d09d0",
   "metadata": {},
   "outputs": [],
   "source": []
  },
  {
   "cell_type": "markdown",
   "id": "aa20061d-de16-42af-a5e6-e56bdebe817e",
   "metadata": {},
   "source": [
    "37. Develop a program that calculates the nth term of the Fibonacci sequence using memoization."
   ]
  },
  {
   "cell_type": "code",
   "execution_count": 7,
   "id": "42e922e2-ce73-4a03-9639-b97abb68e1e9",
   "metadata": {},
   "outputs": [
    {
     "name": "stdin",
     "output_type": "stream",
     "text": [
      "Enter the term number:  6\n"
     ]
    },
    {
     "name": "stdout",
     "output_type": "stream",
     "text": [
      "The 6th term of the Fibonacci sequence is 8.\n"
     ]
    }
   ],
   "source": [
    "# Using memoization (dynamic programming)\n",
    "memo = {}\n",
    "def fibonacci(n):\n",
    "    if n in memo:\n",
    "        return memo[n]\n",
    "    if n <= 1:\n",
    "        result = n\n",
    "    else:\n",
    "        result = fibonacci(n - 1) + fibonacci(n - 2)\n",
    "    memo[n] = result\n",
    "    return result\n",
    "#taking input\n",
    "n = int(input(\"Enter the term number: \"))\n",
    "if n < 0:\n",
    "    print(\"Invalid input.\")\n",
    "else:\n",
    "    nth_term = fibonacci(n)\n",
    "    print(f\"The {n}th term of the Fibonacci sequence is {nth_term}.\")"
   ]
  },
  {
   "cell_type": "code",
   "execution_count": null,
   "id": "9b130f1e-f134-4669-8c29-802abcf6ae12",
   "metadata": {},
   "outputs": [],
   "source": []
  },
  {
   "cell_type": "markdown",
   "id": "0652c330-dd9f-4e1e-8b03-0f88c98c178f",
   "metadata": {},
   "source": [
    "38. Create a program that generates a calendar for a given month and year using conditional statements."
   ]
  },
  {
   "cell_type": "code",
   "execution_count": 8,
   "id": "77c03a91-b538-44dc-b595-ba4ec02952cd",
   "metadata": {},
   "outputs": [
    {
     "name": "stdin",
     "output_type": "stream",
     "text": [
      "Enter the year:  2024\n",
      "Enter the month (1-12):  1\n"
     ]
    },
    {
     "name": "stdout",
     "output_type": "stream",
     "text": [
      "Calendar:\n",
      "    January 2024\n",
      "Mo Tu We Th Fr Sa Su\n",
      " 1  2  3  4  5  6  7\n",
      " 8  9 10 11 12 13 14\n",
      "15 16 17 18 19 20 21\n",
      "22 23 24 25 26 27 28\n",
      "29 30 31\n",
      "\n"
     ]
    }
   ],
   "source": [
    "import calendar\n",
    "#taking input\n",
    "year = int(input(\"Enter the year: \"))\n",
    "month = int(input(\"Enter the month (1-12): \"))\n",
    "# Display calendar\n",
    "cal = calendar.month(year, month)\n",
    "print(\"Calendar:\")\n",
    "print(cal)"
   ]
  },
  {
   "cell_type": "code",
   "execution_count": null,
   "id": "cdeb31d2-f4f0-4ea9-ae47-7a1497978eba",
   "metadata": {},
   "outputs": [],
   "source": []
  },
  {
   "cell_type": "markdown",
   "id": "f7262bd2-c8b4-4863-a298-2a075b8c707f",
   "metadata": {},
   "source": [
    "39. Build a program that simulates a basic text-based blackjack game against the computer."
   ]
  },
  {
   "cell_type": "code",
   "execution_count": 10,
   "id": "f25dc675-a1ec-4fb1-946b-0c1447671984",
   "metadata": {},
   "outputs": [
    {
     "name": "stdout",
     "output_type": "stream",
     "text": [
      "Your hand: ['2', '9']\n",
      "Computer's hand: ['6', 'X']\n"
     ]
    },
    {
     "name": "stdin",
     "output_type": "stream",
     "text": [
      "Do you want to 'hit' or 'stand'?  stand\n"
     ]
    },
    {
     "name": "stdout",
     "output_type": "stream",
     "text": [
      "Computer's hand: ['6', '4']\n",
      "Computer wins!\n",
      "Game over. Thank you for playing!\n"
     ]
    }
   ],
   "source": [
    "import random\n",
    "\n",
    "# Function to calculate the total value of a hand\n",
    "def calculate_hand_value(hand):\n",
    "    value = 0\n",
    "    num_aces = 0\n",
    "    \n",
    "    for card in hand:\n",
    "        if card in \"JQK\":\n",
    "            value += 10\n",
    "        elif card == \"A\":\n",
    "            value += 11\n",
    "            num_aces += 1\n",
    "        else:\n",
    "            value += int(card)\n",
    "    \n",
    "    while value > 21 and num_aces > 0:\n",
    "        value -= 10\n",
    "        num_aces -= 1\n",
    "    \n",
    "    return value\n",
    "\n",
    "# Function to deal a new card\n",
    "def deal_card():\n",
    "    card = random.choice([\"2\", \"3\", \"4\", \"5\", \"6\", \"7\", \"8\", \"9\", \"10\", \"J\", \"Q\", \"K\", \"A\"])\n",
    "    return card\n",
    "# Initialize the game\n",
    "player_hand = []\n",
    "computer_hand = []\n",
    "# Deal THe initial cards\n",
    "player_hand.append(deal_card())\n",
    "player_hand.append(deal_card())\n",
    "computer_hand.append(deal_card())\n",
    "computer_hand.append(deal_card())\n",
    "# Game loop\n",
    "while True:\n",
    "    # Display player's hand and one of the computer's cards\n",
    "    print(\"Your hand:\", player_hand)\n",
    "    print(\"Computer's hand:\", [computer_hand[0], \"X\"])  # Hide the second card of the computer\n",
    "    \n",
    "    # Check for player blackjack or bust\n",
    "    if calculate_hand_value(player_hand) == 21:\n",
    "        print(\"Blackjack! You win!\")\n",
    "        break\n",
    "    elif calculate_hand_value(player_hand) > 21:\n",
    "        print(\"Bust! You lose!\")\n",
    "        break\n",
    "    \n",
    "    # Ask the player to hit or stand\n",
    "    action = input(\"Do you want to 'hit' or 'stand'? \").lower()\n",
    "    \n",
    "    if action == \"hit\":\n",
    "        player_hand.append(deal_card())\n",
    "    elif action == \"stand\":\n",
    "        # Reveal the computer's hand\n",
    "        print(\"Computer's hand:\", computer_hand)\n",
    "        \n",
    "        # Computer's turn\n",
    "        while calculate_hand_value(computer_hand) < 17:\n",
    "            computer_hand.append(deal_card())\n",
    "        \n",
    "        # Determine the winner\n",
    "        if calculate_hand_value(computer_hand) > 21:\n",
    "            print(\"Computer busts! You win!\")\n",
    "        elif calculate_hand_value(computer_hand) >= calculate_hand_value(player_hand):\n",
    "            print(\"Computer wins!\")\n",
    "        else:\n",
    "            print(\"You win!\")\n",
    "        \n",
    "        break\n",
    "    else:\n",
    "        print(\"Invalid input. Please enter 'hit' or 'stand'.\")\n",
    "\n",
    "# End of the game\n",
    "print(\"Game over. Thank you for playing!\")"
   ]
  },
  {
   "cell_type": "code",
   "execution_count": null,
   "id": "5cdf1751-f06b-4a98-abd9-f98711487dd3",
   "metadata": {},
   "outputs": [],
   "source": []
  },
  {
   "cell_type": "markdown",
   "id": "584a537b-b061-4f51-8154-87d3f23a40e2",
   "metadata": {},
   "source": [
    "40. Write a program that generates the prime factors of a given number using trial division."
   ]
  },
  {
   "cell_type": "code",
   "execution_count": 11,
   "id": "7b0273a0-014f-45de-a4fc-2a981d999a32",
   "metadata": {},
   "outputs": [
    {
     "name": "stdin",
     "output_type": "stream",
     "text": [
      "Enter a number:  5486\n"
     ]
    },
    {
     "name": "stdout",
     "output_type": "stream",
     "text": [
      "Prime factors: [2, 13, 211]\n"
     ]
    }
   ],
   "source": [
    "#taking input\n",
    "number = int(input(\"Enter a number: \"))\n",
    "def prime_factors(n):\n",
    "    factors = []\n",
    "    divisor = 2\n",
    "    while n > 1:\n",
    "        while n % divisor == 0:\n",
    "            factors.append(divisor)\n",
    "            n //= divisor\n",
    "        divisor += 1\n",
    "    return factors\n",
    "if number <= 1:\n",
    "    print(\"Prime factors are not defined for numbers less than or equal to 1.\")\n",
    "else:\n",
    "    factors = prime_factors(number)\n",
    "    print(\"Prime factors:\", factors)"
   ]
  },
  {
   "cell_type": "code",
   "execution_count": null,
   "id": "15174ee9-b558-4242-b7fb-a701daa0d104",
   "metadata": {},
   "outputs": [],
   "source": []
  }
 ],
 "metadata": {
  "kernelspec": {
   "display_name": "Python 3 (ipykernel)",
   "language": "python",
   "name": "python3"
  },
  "language_info": {
   "codemirror_mode": {
    "name": "ipython",
    "version": 3
   },
   "file_extension": ".py",
   "mimetype": "text/x-python",
   "name": "python",
   "nbconvert_exporter": "python",
   "pygments_lexer": "ipython3",
   "version": "3.10.8"
  }
 },
 "nbformat": 4,
 "nbformat_minor": 5
}
