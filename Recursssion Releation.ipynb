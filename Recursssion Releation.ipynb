{
 "cells": [
  {
   "cell_type": "markdown",
   "id": "e20051cb-6faa-412a-8535-3ca03eb5850d",
   "metadata": {},
   "source": [
    "Question 1: Find the value of T(2) for the recurrence relation T(n) = 3T(n-1) + 12n, given that T(0)=5."
   ]
  },
  {
   "cell_type": "code",
   "execution_count": 1,
   "id": "243d80f3-ebcf-43b7-bf54-a34a788f6089",
   "metadata": {},
   "outputs": [
    {
     "name": "stdout",
     "output_type": "stream",
     "text": [
      "Value of T(2): 105\n"
     ]
    }
   ],
   "source": [
    "def recurrence_relation(n):\n",
    "    if n == 0:\n",
    "        return 5  # Base case\n",
    "    else:\n",
    "        return 3 * recurrence_relation(n - 1) + 12 * n\n",
    "\n",
    "# Calculate T(2)\n",
    "result = recurrence_relation(2)\n",
    "print(\"Value of T(2):\", result)"
   ]
  },
  {
   "cell_type": "markdown",
   "id": "dc217e0f-cd5c-4524-9a42-42dcc07eab18",
   "metadata": {},
   "source": [
    "Question 2: Given a recurrence relation, solve it using the substitution method:"
   ]
  },
  {
   "cell_type": "code",
   "execution_count": null,
   "id": "fa36bd87",
   "metadata": {},
   "outputs": [],
   "source": [
    "a. T(n) = T(n-1) + c"
   ]
  },
  {
   "cell_type": "code",
   "execution_count": null,
   "id": "8c25be4e",
   "metadata": {},
   "outputs": [
    {
     "name": "stdout",
     "output_type": "stream",
     "text": [
      "Case 1 (T(0)=0): T(10) = 30\n",
      "Case 2 (T(0)=5): T(10) = 35\n"
     ]
    }
   ],
   "source": [
    "'''\n",
    "the general form of  \n",
    "T(n) = T(n-1) + c  \n",
    "equal to  \n",
    "T(n) = T(0) + n * c?\n",
    "---\n",
    "\n",
    "**Step-by-step:**\n",
    "1. Start with the recurrence:  \n",
    "   T(n) = T(n-1) + c\n",
    "2. Expand repeatedly:  \n",
    "   T(n) = T(n-1) + c = [T(n-2) + c] + c = T(n-2) + 2c  \n",
    "   = [T(n-3) + c] + 2c = T(n-3) + 3c\n",
    "3. After k expansions:  \n",
    "   T(n) = T(n-k) + k * c\n",
    "4. When k = n:  \n",
    "   T(n) = T(0) + n * c\n",
    "---\n",
    "**Therefore:**  \n",
    "T(n) = T(0) + n * c\n",
    "'''\n",
    "def solve_recurrence_a(n, c, t0=0):\n",
    "    return t0 + n * c  # General form: T(n) = T(0) + n * c\n",
    "\n",
    "# Example 1: T(0) = 0\n",
    "n = 10\n",
    "c_val = 3\n",
    "t0_val = 0\n",
    "result1 = solve_recurrence_a(n, c_val, t0_val)\n",
    "print(f\"Case 1 (T(0)=0): T({n}) = {result1}\")\n",
    "\n",
    "# Example 2: T(0) = 5\n",
    "t0_val = 5\n",
    "result2 = solve_recurrence_a(n, c_val, t0_val)\n",
    "print(f\"Case 2 (T(0)=5): T({n}) = {result2}\")"
   ]
  },
  {
   "cell_type": "code",
   "execution_count": null,
   "id": "21fe8a92",
   "metadata": {},
   "outputs": [],
   "source": [
    "b. T(n) = 2T(n/2) + n"
   ]
  },
  {
   "cell_type": "code",
   "execution_count": 4,
   "id": "0048b174-d65a-4390-825f-76f158feef32",
   "metadata": {},
   "outputs": [
    {
     "name": "stdout",
     "output_type": "stream",
     "text": [
      "T(16) = 80.0\n"
     ]
    }
   ],
   "source": [
    "import math\n",
    "\n",
    "def solve_recurrence_b(n):\n",
    "    if n == 1:\n",
    "        return 1\n",
    "    return 2 * solve_recurrence_b(n / 2) + n\n",
    "\n",
    "n = 16  # Change this value to test different 'n'\n",
    "result_b = solve_recurrence_b(n)\n",
    "print(f\"T({n}) = {result_b}\")"
   ]
  },
  {
   "cell_type": "code",
   "execution_count": null,
   "id": "492ac328",
   "metadata": {},
   "outputs": [],
   "source": [
    "c. T(n) = 2T(n/2) + c"
   ]
  },
  {
   "cell_type": "code",
   "execution_count": 5,
   "id": "3ff21674-de09-439e-8b10-09e6aac802b2",
   "metadata": {},
   "outputs": [
    {
     "name": "stdout",
     "output_type": "stream",
     "text": [
      "T(16) = 155\n"
     ]
    }
   ],
   "source": [
    "def solve_recurrence_c(n, c):\n",
    "    if n == 1:\n",
    "        return c\n",
    "    return 2 * solve_recurrence_c(n / 2, c) + c\n",
    "\n",
    "n = 16  # Change this value to test different 'n'\n",
    "c_val = 5  # Change this value to test different 'c'\n",
    "result_c = solve_recurrence_c(n, c_val)\n",
    "print(f\"T({n}) = {result_c}\")"
   ]
  },
  {
   "cell_type": "code",
   "execution_count": null,
   "id": "328fb838",
   "metadata": {},
   "outputs": [],
   "source": [
    "d. T(n) = T(n/2) + c"
   ]
  },
  {
   "cell_type": "code",
   "execution_count": 12,
   "id": "be4b8a4c-388a-407b-8935-47d7814e2a19",
   "metadata": {},
   "outputs": [
    {
     "name": "stdout",
     "output_type": "stream",
     "text": [
      "T(16) = 25\n"
     ]
    }
   ],
   "source": [
    "def solve_recurrence_d(n, c):\n",
    "    if n == 1:\n",
    "        return c\n",
    "    return solve_recurrence_d(n // 2, c) + c  # Use integer division\n",
    "\n",
    "n = 16  # Change this value to test different 'n'\n",
    "c_val = 5  # Change this value to test different 'c'\n",
    "result_d = solve_recurrence_d(n, c_val)\n",
    "print(f\"T({n}) = {result_d}\")\n"
   ]
  },
  {
   "cell_type": "markdown",
   "id": "ae04432a-44e9-4cdd-9779-a6e50343a1ae",
   "metadata": {},
   "source": [
    "Question 3: Given a recurrence relation, solve it using the recursive tree approach:"
   ]
  },
  {
   "cell_type": "code",
   "execution_count": null,
   "id": "e61f0383",
   "metadata": {},
   "outputs": [],
   "source": [
    "a. T(n) = 2T(n-1) +1"
   ]
  },
  {
   "cell_type": "code",
   "execution_count": 7,
   "id": "75ea0dca-64f2-47dc-afdc-0e2b54c4863d",
   "metadata": {},
   "outputs": [
    {
     "name": "stdout",
     "output_type": "stream",
     "text": [
      "T(5) = 31\n"
     ]
    }
   ],
   "source": [
    "def solve_recurrence_a(n):\n",
    "    if n == 0:\n",
    "        return 0\n",
    "    return 2 * solve_recurrence_a(n - 1) + 1\n",
    "\n",
    "n_value = 5  # Change this value to test different 'n'\n",
    "result_a = solve_recurrence_a(n_value)\n",
    "print(f\"T({n_value}) = {result_a}\")"
   ]
  },
  {
   "cell_type": "code",
   "execution_count": null,
   "id": "8ee10ee8",
   "metadata": {},
   "outputs": [],
   "source": [
    "b. T(n) = 2T(n/2) + n"
   ]
  },
  {
   "cell_type": "code",
   "execution_count": 14,
   "id": "4ecbe8cf-f80e-4f2c-b937-5b4d7a71111b",
   "metadata": {},
   "outputs": [
    {
     "name": "stdout",
     "output_type": "stream",
     "text": [
      "T(16) = 80\n"
     ]
    }
   ],
   "source": [
    "def solve_recurrence_q3b(n):\n",
    "    if n == 1:\n",
    "        return 1\n",
    "    return 2 * solve_recurrence_q3b(n // 2) + n\n",
    "\n",
    "n_value = 16\n",
    "result_q3b = solve_recurrence_q3b(n_value)\n",
    "print(f\"T({n_value}) = {result_q3b}\")\n"
   ]
  }
 ],
 "metadata": {
  "kernelspec": {
   "display_name": "Python 3",
   "language": "python",
   "name": "python3"
  },
  "language_info": {
   "codemirror_mode": {
    "name": "ipython",
    "version": 3
   },
   "file_extension": ".py",
   "mimetype": "text/x-python",
   "name": "python",
   "nbconvert_exporter": "python",
   "pygments_lexer": "ipython3",
   "version": "3.13.6"
  }
 },
 "nbformat": 4,
 "nbformat_minor": 5
}
