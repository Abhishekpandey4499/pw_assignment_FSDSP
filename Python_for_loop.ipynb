{
 "cells": [
  {
   "cell_type": "markdown",
   "id": "213d5fea-d9f4-4030-a917-bda1e84bcb30",
   "metadata": {},
   "source": [
    "BASIC LEVEL"
   ]
  },
  {
   "cell_type": "markdown",
   "id": "5220c327-d4b9-435e-bd23-5440ed9b2ca8",
   "metadata": {},
   "source": [
    "1. Write a Python program to print the numbers from 1 to 10 using a `for` loop."
   ]
  },
  {
   "cell_type": "code",
   "execution_count": 7,
   "id": "71c5713a-c1d4-4e76-945d-449299c51ef6",
   "metadata": {},
   "outputs": [
    {
     "name": "stdout",
     "output_type": "stream",
     "text": [
      "1\n",
      "2\n",
      "3\n",
      "4\n",
      "5\n",
      "6\n",
      "7\n",
      "8\n",
      "9\n",
      "10\n"
     ]
    }
   ],
   "source": [
    "#Question- 1\n",
    "for a in range(10):\n",
    "    print(a+1)"
   ]
  },
  {
   "cell_type": "markdown",
   "id": "462a9d11-bdc5-4448-a728-1e475441e713",
   "metadata": {},
   "source": [
    "2. Create a program that calculates the sum of all numbers in a list using a `for` loop."
   ]
  },
  {
   "cell_type": "code",
   "execution_count": 4,
   "id": "446c4182-95f7-45db-937a-6f0c56f2d7d5",
   "metadata": {},
   "outputs": [
    {
     "name": "stdout",
     "output_type": "stream",
     "text": [
      "the sum of all number: 21\n"
     ]
    }
   ],
   "source": [
    "#Question- 2\n",
    "# Sample list\n",
    "x=[1,2,3,4,5,6]\n",
    "i=0\n",
    "for a in x:\n",
    "    i=i+a\n",
    "print(\"the sum of all number: \"+ str(i))"
   ]
  },
  {
   "cell_type": "code",
   "execution_count": null,
   "id": "0ec6b96b-78d0-4968-9246-897cc4b4ee91",
   "metadata": {},
   "outputs": [],
   "source": []
  },
  {
   "cell_type": "markdown",
   "id": "4bcebc50-d1f4-47f4-b031-e43419d8c7f5",
   "metadata": {},
   "source": [
    "3. Write a program to print the characters of a string in reverse order using a `for` loop."
   ]
  },
  {
   "cell_type": "code",
   "execution_count": 13,
   "id": "0f1ac686-fe2f-410f-81dc-8a931b57deb8",
   "metadata": {},
   "outputs": [
    {
     "name": "stdout",
     "output_type": "stream",
     "text": [
      "sllikswp\n"
     ]
    }
   ],
   "source": [
    "#Question- 3\n",
    "# Sample input\n",
    "s=\"pwskills\"\n",
    "s1=\"\"\n",
    "for a in s:\n",
    "    s1=a+s1\n",
    "print(s1)\n"
   ]
  },
  {
   "cell_type": "code",
   "execution_count": null,
   "id": "2941b4fc-41f6-4468-9ffa-440d9e8c80ec",
   "metadata": {},
   "outputs": [],
   "source": []
  },
  {
   "cell_type": "markdown",
   "id": "f51c574e-e1a7-4785-bef5-cf7c8334b94a",
   "metadata": {},
   "source": [
    "4. Develop a program that finds the factorial of a given number using a `for` loop."
   ]
  },
  {
   "cell_type": "code",
   "execution_count": 15,
   "id": "050b7bf2-3156-4b30-9a13-7b40185f550d",
   "metadata": {},
   "outputs": [
    {
     "name": "stdout",
     "output_type": "stream",
     "text": [
      "factorial is: 40320\n"
     ]
    }
   ],
   "source": [
    "#Question- 4\n",
    "# Sample input\n",
    "x=8\n",
    "fac=1\n",
    "for a in range(1,x+1):\n",
    "    fac*=a\n",
    "print(\"factorial is: \"+ str(fac))"
   ]
  },
  {
   "cell_type": "code",
   "execution_count": null,
   "id": "ffa79e3d-c0b7-460d-8e4e-ec6eab32c7a1",
   "metadata": {},
   "outputs": [],
   "source": []
  },
  {
   "cell_type": "markdown",
   "id": "8186abb6-77ed-4003-a7a8-69badcc6c917",
   "metadata": {},
   "source": [
    "5. Create a program to print the multiplication table of a given number using a `for` loop."
   ]
  },
  {
   "cell_type": "code",
   "execution_count": 17,
   "id": "aaf2ca4e-3e2f-48a9-971b-3312c245126f",
   "metadata": {},
   "outputs": [
    {
     "name": "stdout",
     "output_type": "stream",
     "text": [
      "8*1=8\n",
      "8*2=16\n",
      "8*3=24\n",
      "8*4=32\n",
      "8*5=40\n",
      "8*6=48\n",
      "8*7=56\n",
      "8*8=64\n",
      "8*9=72\n",
      "8*10=80\n"
     ]
    }
   ],
   "source": [
    "#Question- 5\n",
    "# Sample input\n",
    "x=8\n",
    "for a in range(1,11):\n",
    "    print(str(x)+\"*\"+str(a)+\"=\"+str(x*a))"
   ]
  },
  {
   "cell_type": "code",
   "execution_count": null,
   "id": "8b39fb62-6ac1-4549-869d-366a6ebde400",
   "metadata": {},
   "outputs": [],
   "source": []
  },
  {
   "cell_type": "markdown",
   "id": "c346cd4d-3e3a-4e45-a83c-5fe016dd363b",
   "metadata": {},
   "source": [
    "6. Write a program that counts the number of even and odd numbers in a list using a `for` loop."
   ]
  },
  {
   "cell_type": "code",
   "execution_count": 18,
   "id": "0008f967-74c5-4e92-a33b-e8c17014be18",
   "metadata": {},
   "outputs": [
    {
     "name": "stdout",
     "output_type": "stream",
     "text": [
      "3 is odd\n",
      "4 is even\n",
      "5 is odd\n",
      "6 is even\n",
      "7 is odd\n",
      "8 is even\n",
      "9 is odd\n",
      "10 is even\n"
     ]
    }
   ],
   "source": [
    "#Question- 6\n",
    "# Sample list\n",
    "x=[3,4,5,6,7,8,9,10]\n",
    "for a in x:\n",
    "    if(a%2==0):\n",
    "        print(str(a)+\" is even\")\n",
    "    else:\n",
    "        print(str(a)+\" is odd\")"
   ]
  },
  {
   "cell_type": "code",
   "execution_count": null,
   "id": "2342d3d5-7c55-4895-a750-e04528cdc322",
   "metadata": {},
   "outputs": [],
   "source": []
  },
  {
   "cell_type": "markdown",
   "id": "00eef88c-34f2-4987-b2b4-45e4e4e0df0a",
   "metadata": {},
   "source": [
    "7. Develop a program that prints the squares of numbers from 1 to 5 using a `for` loop."
   ]
  },
  {
   "cell_type": "code",
   "execution_count": 1,
   "id": "4871b087-a77f-40f7-8eee-e77af79830f4",
   "metadata": {},
   "outputs": [
    {
     "name": "stdout",
     "output_type": "stream",
     "text": [
      "square of 1 is:1\n",
      "square of 2 is:4\n",
      "square of 3 is:9\n",
      "square of 4 is:16\n",
      "square of 5 is:25\n"
     ]
    }
   ],
   "source": [
    "#Question- 7\n",
    "for a in range(1,6):\n",
    "    print(\"square of \"+ str(a)+ \" is:\"+ str(a*a))"
   ]
  },
  {
   "cell_type": "code",
   "execution_count": null,
   "id": "466d2117-b588-4d09-be30-e2c129484e7b",
   "metadata": {},
   "outputs": [],
   "source": []
  },
  {
   "cell_type": "markdown",
   "id": "a782e332-68ba-4314-b885-14a39215267e",
   "metadata": {},
   "source": [
    "8. Create a program to find the length of a string without using the `len()` function."
   ]
  },
  {
   "cell_type": "code",
   "execution_count": 4,
   "id": "c59ad456-65b8-407f-ba71-bffe76031913",
   "metadata": {},
   "outputs": [
    {
     "name": "stdout",
     "output_type": "stream",
     "text": [
      "lenght is:8\n"
     ]
    }
   ],
   "source": [
    "#Question- 8\n",
    "# Sample input\n",
    "s1=\"pwskills\"\n",
    "c=0\n",
    "for a in s1:\n",
    "    c+=1\n",
    "print(\"lenght is:\" + str(c))"
   ]
  },
  {
   "cell_type": "code",
   "execution_count": null,
   "id": "b2ed9097-cb83-42ea-8aba-1fc1f9bdb2ba",
   "metadata": {},
   "outputs": [],
   "source": []
  },
  {
   "cell_type": "markdown",
   "id": "62f33fe4-4276-4559-9e8e-dacfe4ccf731",
   "metadata": {},
   "source": [
    "9. Write a program that calculates the average of a list of numbers using a `for` loop."
   ]
  },
  {
   "cell_type": "code",
   "execution_count": 6,
   "id": "e76a5c69-b29c-446d-a84c-81ec9a92a45a",
   "metadata": {},
   "outputs": [
    {
     "name": "stdout",
     "output_type": "stream",
     "text": [
      "avg is: 5.5\n"
     ]
    }
   ],
   "source": [
    "#Question- 9\n",
    "# Sample list\n",
    "l=[1,2,3,4,5,6,7,8,9,10]\n",
    "sum=len=0\n",
    "for a in l:\n",
    "    sum+=a\n",
    "    len+=1\n",
    "avg=sum/len\n",
    "print(\"avg is: \"+ str(avg))"
   ]
  },
  {
   "cell_type": "code",
   "execution_count": null,
   "id": "43ae66bb-0bc2-462a-8812-1b2bce06cef0",
   "metadata": {},
   "outputs": [],
   "source": []
  },
  {
   "cell_type": "markdown",
   "id": "47655e97-15b4-4e37-8109-76938f9819cc",
   "metadata": {},
   "source": [
    "10. Develop a program that prints the first `n` Fibonacci numbers using a `for` loop."
   ]
  },
  {
   "cell_type": "code",
   "execution_count": 8,
   "id": "9e48dcb1-0dbc-4dd2-809d-e1af72bc4dd9",
   "metadata": {},
   "outputs": [
    {
     "name": "stdin",
     "output_type": "stream",
     "text": [
      "How many terms?  6\n"
     ]
    },
    {
     "name": "stdout",
     "output_type": "stream",
     "text": [
      "0\n",
      "1\n",
      "1\n",
      "2\n",
      "3\n",
      "5\n"
     ]
    }
   ],
   "source": [
    "#Question- 10\n",
    "# taking input\n",
    "n = int(input(\"How many terms? \"))\n",
    "n1, n2 = 0, 1\n",
    "count = 0\n",
    "if n<= 0:\n",
    "   print(\"Please enter a positive integer\")\n",
    "elif n== 1:\n",
    "   print(n1)\n",
    "else:\n",
    "   while count < n:\n",
    "       print(n1)\n",
    "       n3= n1 + n2\n",
    "       n1 = n2\n",
    "       n2 = n3\n",
    "       count+= 1\n"
   ]
  },
  {
   "cell_type": "code",
   "execution_count": null,
   "id": "009db260-b860-4c2f-b938-937f0f5bfc38",
   "metadata": {},
   "outputs": [],
   "source": []
  },
  {
   "cell_type": "code",
   "execution_count": null,
   "id": "1ca8639a-f6c4-4847-baf7-9d035dca9b2b",
   "metadata": {},
   "outputs": [],
   "source": []
  },
  {
   "cell_type": "markdown",
   "id": "105e9282-f802-47ac-ade2-cde048b886c3",
   "metadata": {},
   "source": [
    "Intermediate Level:"
   ]
  },
  {
   "cell_type": "code",
   "execution_count": null,
   "id": "4aeaad19-6104-4c61-8ad7-02cf16b43480",
   "metadata": {},
   "outputs": [],
   "source": []
  },
  {
   "cell_type": "markdown",
   "id": "36b24c8d-be8d-46bb-86b5-3e9cdd7cc6f7",
   "metadata": {},
   "source": [
    "11. Write a program to check if a given list contains any duplicates using a `for` loop."
   ]
  },
  {
   "cell_type": "code",
   "execution_count": 14,
   "id": "ac829e98-2758-4399-b5e6-2638ebe78928",
   "metadata": {},
   "outputs": [
    {
     "name": "stdout",
     "output_type": "stream",
     "text": [
      "given list contains any duplicates\n"
     ]
    }
   ],
   "source": [
    "#Question- 11\n",
    "# Sample list\n",
    "l=[1,2,2,3,4,5,6,7,7]\n",
    "l1=[]\n",
    "c=0\n",
    "for a in l:\n",
    "    for b in l:\n",
    "        if b==a:\n",
    "            c+=1\n",
    "    l1.append(c)\n",
    "    c=0\n",
    "for i in l1:\n",
    "    if i>1:\n",
    "        p=True\n",
    "    else:\n",
    "        p=False\n",
    "if p:\n",
    "    print(\"given list contains any duplicates\")\n",
    "else:\n",
    "    print(\"given list does not contains any duplicates\")"
   ]
  },
  {
   "cell_type": "code",
   "execution_count": null,
   "id": "1d58fd2c-4925-4069-a771-9936daea98cf",
   "metadata": {},
   "outputs": [],
   "source": []
  },
  {
   "cell_type": "markdown",
   "id": "a4fa798f-2108-45b4-aa93-506e383f9420",
   "metadata": {},
   "source": [
    "12. Create a program that prints the prime numbers in a given range using a `for` loop."
   ]
  },
  {
   "cell_type": "code",
   "execution_count": 21,
   "id": "1656ec8f-b8d7-4e12-aba2-bedce98516f6",
   "metadata": {},
   "outputs": [
    {
     "name": "stdin",
     "output_type": "stream",
     "text": [
      " 2\n",
      " 34\n"
     ]
    },
    {
     "name": "stdout",
     "output_type": "stream",
     "text": [
      "2\n",
      "3\n",
      "5\n",
      "7\n",
      "11\n",
      "13\n",
      "17\n",
      "19\n",
      "23\n",
      "29\n",
      "31\n"
     ]
    }
   ],
   "source": [
    "#Question- 12\n",
    "#taking input\n",
    "x=int(input())\n",
    "y=int(input())\n",
    "for a in range(x,y+1):  \n",
    "    if a > 1:  \n",
    "        for i in range (2,a):\n",
    "            if a%i== 0:\n",
    "                break  \n",
    "        else:\n",
    "                print(a)  "
   ]
  },
  {
   "cell_type": "code",
   "execution_count": null,
   "id": "e45cca97-65d2-4bfe-a54b-7690b75ab367",
   "metadata": {},
   "outputs": [],
   "source": []
  },
  {
   "cell_type": "markdown",
   "id": "1c56644c-166f-4759-bbdd-aa46350c5a5c",
   "metadata": {},
   "source": [
    "13. Develop a program that counts the number of vowels in a string using a `for` loop."
   ]
  },
  {
   "cell_type": "code",
   "execution_count": 24,
   "id": "ef58edbd-5144-4705-9370-264c194b7389",
   "metadata": {},
   "outputs": [
    {
     "name": "stdout",
     "output_type": "stream",
     "text": [
      "number of vowels are: 3\n"
     ]
    }
   ],
   "source": [
    "#Question- 13\n",
    "# Sample input\n",
    "s1=\"physicswalla\"\n",
    "s1=s1.lower()\n",
    "c=0\n",
    "for a in s1:\n",
    "    if a=='a' or a=='e' or a=='i' or a=='o' or a=='u':\n",
    "        c+=1\n",
    "print(\"number of vowels are: \" + str(c))"
   ]
  },
  {
   "cell_type": "code",
   "execution_count": null,
   "id": "27bb0668-f93c-47e0-a079-fc0dd06e7122",
   "metadata": {},
   "outputs": [],
   "source": []
  },
  {
   "cell_type": "markdown",
   "id": "48559ced-fc79-4372-bd5f-6c54ff0e43de",
   "metadata": {},
   "source": [
    "14. Write a program to find the maximum element in a 2D list using a nested `for` loop."
   ]
  },
  {
   "cell_type": "code",
   "execution_count": 29,
   "id": "dbd745b7-1872-4d24-a266-72fd7233178a",
   "metadata": {},
   "outputs": [
    {
     "name": "stdout",
     "output_type": "stream",
     "text": [
      "112 is the max element in 2D list\n"
     ]
    }
   ],
   "source": [
    "#Question- 14\n",
    "# Sample list\n",
    "l1=[[22,34,56],[23,45,6],[7,87,55],[34,56,98,90],[112,44,65]]\n",
    "c=0\n",
    "for a in l1:\n",
    "    for i in a:\n",
    "        if c<i:\n",
    "            c=i\n",
    "print(str(c)+ \" is the max element in 2D list\")\n",
    "    "
   ]
  },
  {
   "cell_type": "code",
   "execution_count": null,
   "id": "0a6a5768-10dd-495d-a10f-fa15aab689d8",
   "metadata": {},
   "outputs": [],
   "source": []
  },
  {
   "cell_type": "markdown",
   "id": "d93bda14-95dd-4e45-9a27-3a8a45ab8799",
   "metadata": {},
   "source": [
    "15. Create a program that removes all occurrences of a specific element from a list using a `for` loop."
   ]
  },
  {
   "cell_type": "code",
   "execution_count": 30,
   "id": "5ce89f63-96e2-48d0-84c5-8736424c205a",
   "metadata": {},
   "outputs": [
    {
     "name": "stdout",
     "output_type": "stream",
     "text": [
      "[20, 30, 40, 50]\n"
     ]
    }
   ],
   "source": [
    "#Question- 15\n",
    "# Sample list\n",
    "l1 = [10, 20, 10, 30, 10, 40, 10, 50]\n",
    "n = 10\n",
    "for a in l1:\n",
    "    if a==n:\n",
    "        l1.remove(a)\n",
    "print(l1)"
   ]
  },
  {
   "cell_type": "code",
   "execution_count": null,
   "id": "3a6f3bd1-7b15-432f-8dd6-c6fe414f5666",
   "metadata": {},
   "outputs": [],
   "source": []
  },
  {
   "cell_type": "markdown",
   "id": "a709de7c-2a07-4040-8d5a-2ae49141e9f9",
   "metadata": {},
   "source": [
    "16. Develop a program that generates a multiplication table for numbers from 1 to 5 using a nested `for` loop."
   ]
  },
  {
   "cell_type": "code",
   "execution_count": 1,
   "id": "4967d971-4f1e-4b71-8953-81223a07f37d",
   "metadata": {},
   "outputs": [
    {
     "name": "stdout",
     "output_type": "stream",
     "text": [
      "1 2 3 4 5 6 7 8 9 10 \n",
      "2 4 6 8 10 12 14 16 18 20 \n",
      "3 6 9 12 15 18 21 24 27 30 \n",
      "4 8 12 16 20 24 28 32 36 40 \n",
      "5 10 15 20 25 30 35 40 45 50 \n"
     ]
    }
   ],
   "source": [
    "#Question-16\n",
    "for a in range(1,6):\n",
    "    for i in range(1,11):\n",
    "        print(a*i, end=\" \")\n",
    "    print()"
   ]
  },
  {
   "cell_type": "code",
   "execution_count": null,
   "id": "2f569202-20b3-4e31-9a50-2b6f9a672dcb",
   "metadata": {},
   "outputs": [],
   "source": []
  },
  {
   "cell_type": "markdown",
   "id": "09bc09ac-0e21-4867-af55-8834ef9946d7",
   "metadata": {},
   "source": [
    "17. Write a program that converts a list of Fahrenheit temperatures to Celsius using a `for` loop."
   ]
  },
  {
   "cell_type": "code",
   "execution_count": 4,
   "id": "957ba78f-8171-4252-ac60-79cd398c2b54",
   "metadata": {},
   "outputs": [
    {
     "name": "stdout",
     "output_type": "stream",
     "text": [
      "12.222222222222221\n",
      "13.333333333333334\n",
      "25.555555555555557\n",
      "36.666666666666664\n",
      "20.555555555555557\n"
     ]
    }
   ],
   "source": [
    "#Question- 17\n",
    "# Sample list\n",
    "l1=[54,56,78,98,69]\n",
    "for a in l1:\n",
    "    Cel=((a-32)*5)/9  \n",
    "    print(Cel)"
   ]
  },
  {
   "cell_type": "code",
   "execution_count": null,
   "id": "957ab47a-56e1-4d63-bd27-70d3c69805f1",
   "metadata": {},
   "outputs": [],
   "source": []
  },
  {
   "cell_type": "markdown",
   "id": "0f67fd7b-d2a1-43dc-bbea-1b3edc2d016f",
   "metadata": {},
   "source": [
    "18. Create a program to print the common elements from two lists using a `for` loop."
   ]
  },
  {
   "cell_type": "code",
   "execution_count": 5,
   "id": "867847f6-0391-4989-9568-26ca39d9187b",
   "metadata": {},
   "outputs": [
    {
     "name": "stdout",
     "output_type": "stream",
     "text": [
      "2 4 6 8 "
     ]
    }
   ],
   "source": [
    "#Question- 18\n",
    "# Sample list\n",
    "l1=[1,2,3,4,5,6,7,8,9]\n",
    "l2=[2,4,6,8,10]\n",
    "for a in l1:\n",
    "    for i in l2:\n",
    "        if a==i:\n",
    "            print(a, end=\" \")"
   ]
  },
  {
   "cell_type": "code",
   "execution_count": null,
   "id": "27e0ccdb-bc65-4e6e-bfda-6f7693cb88f2",
   "metadata": {},
   "outputs": [],
   "source": []
  },
  {
   "cell_type": "markdown",
   "id": "a9a4269d-b613-49df-b26a-a995c2dd66ac",
   "metadata": {},
   "source": [
    "19. Develop a program that prints the pattern of right-angled triangles using a `for` loop. Use ‘*’ to draw the\n",
    "pattern"
   ]
  },
  {
   "cell_type": "code",
   "execution_count": 10,
   "id": "6e5d034c-84e4-4d9b-a034-dae7e09c7ba7",
   "metadata": {},
   "outputs": [
    {
     "name": "stdin",
     "output_type": "stream",
     "text": [
      " 5\n"
     ]
    },
    {
     "name": "stdout",
     "output_type": "stream",
     "text": [
      "*\n",
      "**\n",
      "***\n",
      "****\n",
      "*****\n"
     ]
    }
   ],
   "source": [
    "#Question- 19\n",
    "# taking input\n",
    "x= int(input())\n",
    "for a in range(x):\n",
    "    for i in range(a+1):\n",
    "        print(\"*\",end=\"\")\n",
    "    print()"
   ]
  },
  {
   "cell_type": "code",
   "execution_count": null,
   "id": "dd5dbc03-1eae-47b7-8cc9-48cf9d5cb7de",
   "metadata": {},
   "outputs": [],
   "source": []
  },
  {
   "cell_type": "markdown",
   "id": "be9c047a-b97b-40d4-84e7-d86adacaec8c",
   "metadata": {},
   "source": [
    "20. Write a program to find the greatest common divisor (GCD) of two numbers using a `for` loop."
   ]
  },
  {
   "cell_type": "code",
   "execution_count": 12,
   "id": "4ded844f-84fd-4409-a6b5-bf868cc6eec7",
   "metadata": {},
   "outputs": [
    {
     "name": "stdout",
     "output_type": "stream",
     "text": [
      "GCD is:50\n"
     ]
    }
   ],
   "source": [
    "#Question- 20\n",
    "# Sample input\n",
    "x = 50\n",
    "y = 100\n",
    "if x > y:\n",
    "  x, y = y, x\n",
    "for i in range(1,x+1):\n",
    "  if x%i == 0 and y%i == 0:\n",
    "    gcd = i\n",
    "\n",
    "print(\"GCD is:\"+str(gcd))"
   ]
  },
  {
   "cell_type": "code",
   "execution_count": null,
   "id": "8778d886-3490-408b-8deb-69ccf8631fbb",
   "metadata": {},
   "outputs": [],
   "source": []
  },
  {
   "cell_type": "code",
   "execution_count": null,
   "id": "8190d3d5-5c16-4be2-bb09-498048cd97c9",
   "metadata": {},
   "outputs": [],
   "source": []
  },
  {
   "cell_type": "markdown",
   "id": "5a9d26fc-adac-4e6a-80d1-74280349b34f",
   "metadata": {},
   "source": [
    "Advanced Level:"
   ]
  },
  {
   "cell_type": "code",
   "execution_count": null,
   "id": "571b8d5c-1761-40d1-bd7e-afa4d78be67f",
   "metadata": {},
   "outputs": [],
   "source": []
  },
  {
   "cell_type": "markdown",
   "id": "cc8ea4d1-e8b2-4e4c-a2a5-fcd68ba4ab1c",
   "metadata": {},
   "source": [
    "21. Create a program that calculates the sum of the digits of numbers in a list using a list comprehension."
   ]
  },
  {
   "cell_type": "code",
   "execution_count": 3,
   "id": "f295caf7-08f4-442a-bf82-a721e1ff19e7",
   "metadata": {},
   "outputs": [
    {
     "name": "stdout",
     "output_type": "stream",
     "text": [
      "91\n"
     ]
    }
   ],
   "source": [
    "#Question- 21\n",
    "# Sample lists\n",
    "l1=[32,345,564,677,945,876]\n",
    "# Using list comprehension \n",
    "s=sum([int(a) for i in l1 for a in str(i)])\n",
    "print(s)"
   ]
  },
  {
   "cell_type": "code",
   "execution_count": null,
   "id": "bed245a8-80c8-488e-b30d-ddedb0f04c31",
   "metadata": {},
   "outputs": [],
   "source": []
  },
  {
   "cell_type": "markdown",
   "id": "f5a93e1a-3372-41b6-b95e-5b0ecafa7ca2",
   "metadata": {},
   "source": [
    "22. Write a program to find the prime factors of a given number using a `for` loop and list comprehension."
   ]
  },
  {
   "cell_type": "code",
   "execution_count": 2,
   "id": "34d4379d-1bac-413a-a54c-25860f57b9a7",
   "metadata": {},
   "outputs": [
    {
     "name": "stdin",
     "output_type": "stream",
     "text": [
      " 36\n"
     ]
    },
    {
     "name": "stdout",
     "output_type": "stream",
     "text": [
      "Prime factors of 36 are: [2, 3]\n"
     ]
    }
   ],
   "source": [
    "#Question- 22\n",
    "num = int(input())              \n",
    "\n",
    "def is_prime(x):\n",
    "    if x <= 1:\n",
    "        return False\n",
    "    for i in range(2, int(x**0.5) + 1):\n",
    "        if x % i == 0:\n",
    "            return False\n",
    "    return True\n",
    "\n",
    "# Using list comprehension \n",
    "prime_factors = [factor for factor in range(2, num + 1) if num % factor == 0 and is_prime(factor)]\n",
    "\n",
    "print(\"Prime factors of\", num, \"are:\", prime_factors)"
   ]
  },
  {
   "cell_type": "code",
   "execution_count": null,
   "id": "fe6e8d9e-c750-49b8-a146-b61224592230",
   "metadata": {},
   "outputs": [],
   "source": []
  },
  {
   "cell_type": "markdown",
   "id": "3f0a3a32-0bc6-4ed1-ae7e-d5467f65dc18",
   "metadata": {},
   "source": [
    "23. Develop a program that extracts unique elements from a list and stores them in a new list using a list\n",
    "comprehension."
   ]
  },
  {
   "cell_type": "code",
   "execution_count": 5,
   "id": "ed746b80-23a7-4954-b629-b5f6f668b120",
   "metadata": {},
   "outputs": [
    {
     "name": "stdout",
     "output_type": "stream",
     "text": [
      "Unique elements: [1, 2, 3, 4, 5]\n"
     ]
    }
   ],
   "source": [
    "#Question- 23\n",
    "# Sample lists\n",
    "l1= [1, 2, 2, 3, 4, 4, 5]\n",
    "# Using list comprehension \n",
    "unique_elements = list(set(l1))\n",
    "\n",
    "print(\"Unique elements:\", unique_elements)"
   ]
  },
  {
   "cell_type": "code",
   "execution_count": null,
   "id": "1022488d-ee62-4e4b-a48e-de9ea0e0c968",
   "metadata": {},
   "outputs": [],
   "source": []
  },
  {
   "cell_type": "markdown",
   "id": "2fc50057-f508-4511-a0a8-3a162c6e89fb",
   "metadata": {},
   "source": [
    "24. Create a program that generates a list of all palindromic numbers up to a specified limit using a list\n",
    "comprehension."
   ]
  },
  {
   "cell_type": "code",
   "execution_count": 7,
   "id": "696c051e-9853-40d5-b022-ec829f706ab8",
   "metadata": {},
   "outputs": [
    {
     "name": "stdin",
     "output_type": "stream",
     "text": [
      " 56\n"
     ]
    },
    {
     "name": "stdout",
     "output_type": "stream",
     "text": [
      "Palindromic numbers up to 56 are: [1, 2, 3, 4, 5, 6, 7, 8, 9, 11, 22, 33, 44, 55]\n"
     ]
    }
   ],
   "source": [
    "#Question- 24\n",
    "limit =int(input())\n",
    "# Using list comprehension \n",
    "palindromic_numbers = [num for num in range(1, limit + 1) if str(num) == str(num)[::-1]]\n",
    "\n",
    "print(\"Palindromic numbers up to\", limit, \"are:\", palindromic_numbers)"
   ]
  },
  {
   "cell_type": "code",
   "execution_count": null,
   "id": "eb60464a-6183-4544-b076-5976d964119b",
   "metadata": {},
   "outputs": [],
   "source": []
  },
  {
   "cell_type": "markdown",
   "id": "35807138-13f9-46a9-b386-b57fcd815b1d",
   "metadata": {},
   "source": [
    "25. Write a program to flatten a nested list using list comprehension."
   ]
  },
  {
   "cell_type": "code",
   "execution_count": 8,
   "id": "00f96bbf-d09e-4a2e-aa0b-521d93969898",
   "metadata": {},
   "outputs": [
    {
     "name": "stdout",
     "output_type": "stream",
     "text": [
      "Flattened list: [1, 2, 3, 4, 5, 6, 7, 8]\n"
     ]
    }
   ],
   "source": [
    "#Question- 25\n",
    "# Sample lists\n",
    "nested_list = [[1, 2, 3], [4, 5], [6, 7, 8]]      \n",
    "# Using list comprehension\n",
    "flattened_list = [element for sublist in nested_list for element in sublist]\n",
    "\n",
    "print(\"Flattened list:\", flattened_list)"
   ]
  },
  {
   "cell_type": "code",
   "execution_count": null,
   "id": "8795da49-f4b6-4a3c-821b-cac5ca8eebc1",
   "metadata": {},
   "outputs": [],
   "source": []
  },
  {
   "cell_type": "markdown",
   "id": "66993b03-9baf-4bc7-8a08-baaa4e4bfd67",
   "metadata": {},
   "source": [
    "26. Develop a program that computes the sum of even and odd numbers in a list separately using list\n",
    "comprehension."
   ]
  },
  {
   "cell_type": "code",
   "execution_count": 9,
   "id": "2fa6e767-f15f-4e7f-8e3c-ba0c7421e322",
   "metadata": {},
   "outputs": [
    {
     "name": "stdout",
     "output_type": "stream",
     "text": [
      "Sum of even numbers: 20\n",
      "Sum of odd numbers: 25\n"
     ]
    }
   ],
   "source": [
    "#Question- 26\n",
    "# Sample lists\n",
    "numbers = [1, 2, 3, 4, 5, 6, 7, 8, 9]\n",
    "# Using list comprehension to compute the sum of even and odd numbers\n",
    "even_sum = sum(num for num in numbers if num % 2 == 0)\n",
    "odd_sum = sum(num for num in numbers if num % 2 != 0)\n",
    "\n",
    "print(\"Sum of even numbers:\", even_sum)\n",
    "print(\"Sum of odd numbers:\", odd_sum)"
   ]
  },
  {
   "cell_type": "code",
   "execution_count": null,
   "id": "605f268e-3448-466c-8b71-8f60709acd8a",
   "metadata": {},
   "outputs": [],
   "source": []
  },
  {
   "cell_type": "markdown",
   "id": "752b655b-61c3-44a8-a7bf-d0bf7b57277e",
   "metadata": {},
   "source": [
    "27. Create a program that generates a list of squares of odd numbers between 1 and 10 using list\n",
    "comprehension."
   ]
  },
  {
   "cell_type": "code",
   "execution_count": 15,
   "id": "edaaf101-8996-48ab-bdcb-280af0924ffb",
   "metadata": {},
   "outputs": [
    {
     "name": "stdout",
     "output_type": "stream",
     "text": [
      "Squares of odd numbers: [1, 9, 25, 49, 81]\n"
     ]
    }
   ],
   "source": [
    "#Question- 27\n",
    "# Using list comprehension \n",
    "sq_odd = [num ** 2 for num in range(1, 11) if num % 2 != 0]\n",
    "\n",
    "print(\"Squares of odd numbers:\", sq_odd)"
   ]
  },
  {
   "cell_type": "code",
   "execution_count": null,
   "id": "19405567-2c5e-48a0-91c4-f1e2b0fc4824",
   "metadata": {},
   "outputs": [],
   "source": []
  },
  {
   "cell_type": "markdown",
   "id": "d4613488-bd7e-447b-aef0-5c1df7101bc2",
   "metadata": {},
   "source": [
    "28. Write a program that combines two lists into a dictionary using list comprehension."
   ]
  },
  {
   "cell_type": "code",
   "execution_count": 16,
   "id": "7d2934fb-ae82-4e57-9bfb-6d84335b0a0e",
   "metadata": {},
   "outputs": [
    {
     "name": "stdout",
     "output_type": "stream",
     "text": [
      "Dictionary: {'a': 1, 'b': 2, 'c': 3}\n"
     ]
    }
   ],
   "source": [
    "#Question- 28\n",
    "# Sample lists\n",
    "keys = ['a', 'b', 'c']\n",
    "values = [1, 2, 3]\n",
    "# Using list comprehension \n",
    "my_dict = {k: v for k, v in zip(keys, values)}\n",
    "\n",
    "print(\"Dictionary:\", my_dict)"
   ]
  },
  {
   "cell_type": "code",
   "execution_count": null,
   "id": "0f8ac773-4be8-4182-b5b3-ee367d8ddc33",
   "metadata": {},
   "outputs": [],
   "source": []
  },
  {
   "cell_type": "markdown",
   "id": "461299e6-f414-4f5d-9f9b-38664c8f9729",
   "metadata": {},
   "source": [
    "29. Develop a program that extracts the vowels from a string and stores them in a list using list comprehension."
   ]
  },
  {
   "cell_type": "code",
   "execution_count": 18,
   "id": "88e186bd-7d28-41ef-b9ae-4cfdfa31595d",
   "metadata": {},
   "outputs": [
    {
     "name": "stdin",
     "output_type": "stream",
     "text": [
      " hello my name is\n"
     ]
    },
    {
     "name": "stdout",
     "output_type": "stream",
     "text": [
      "Vowels: ['e', 'o', 'a', 'e', 'i']\n"
     ]
    }
   ],
   "source": [
    "#Question- 29\n",
    "s1=input()\n",
    "# Using list comprehension to extract vowels\n",
    "vowels = [char for char in s1 if char.lower() in 'aeiou']\n",
    "\n",
    "print(\"Vowels:\", vowels)"
   ]
  },
  {
   "cell_type": "code",
   "execution_count": null,
   "id": "a34de599-90eb-43b5-837a-4796afec9748",
   "metadata": {},
   "outputs": [],
   "source": []
  },
  {
   "cell_type": "markdown",
   "id": "cbfc8c09-4ee4-433b-ad2f-8e74d8402745",
   "metadata": {},
   "source": [
    "30. Create a program that removes all non-numeric characters from a list of strings using list comprehension."
   ]
  },
  {
   "cell_type": "code",
   "execution_count": 19,
   "id": "f9820329-125b-4d84-a582-410d73bffe0c",
   "metadata": {},
   "outputs": [
    {
     "name": "stdout",
     "output_type": "stream",
     "text": [
      "Numeric strings: [12, 342, 82]\n"
     ]
    }
   ],
   "source": [
    "#Question- 30\n",
    "# Sample lists\n",
    "s= [\"op1o2psmk\", \"dbwb3il42\", \"ll082bhq\"]\n",
    "# Using list comprehension to remove non-numeric characters from strings\n",
    "res= [int(''.join(char for char in s1 if char.isnumeric())) for s1 in s]\n",
    "\n",
    "print(\"Numeric strings:\", res)"
   ]
  },
  {
   "cell_type": "code",
   "execution_count": null,
   "id": "c5ff5353-24fd-499d-86dc-6a26550e95d9",
   "metadata": {},
   "outputs": [],
   "source": []
  },
  {
   "cell_type": "code",
   "execution_count": null,
   "id": "1fca965f-64fc-4d84-86e9-c5791e3d6ea6",
   "metadata": {},
   "outputs": [],
   "source": []
  },
  {
   "cell_type": "markdown",
   "id": "5c3f8c16-7c7d-498c-8354-2cf48f58da51",
   "metadata": {},
   "source": [
    "Challenge Level:"
   ]
  },
  {
   "cell_type": "code",
   "execution_count": null,
   "id": "5fee7387-5df8-4267-8a90-4585353fc51a",
   "metadata": {},
   "outputs": [],
   "source": []
  },
  {
   "cell_type": "markdown",
   "id": "d98582ab-5aba-49a9-b728-92d423da5e2d",
   "metadata": {},
   "source": [
    "31. Write a program to generate a list of prime numbers using the Sieve of Eratosthenes algorithm and list\n",
    "comprehension."
   ]
  },
  {
   "cell_type": "code",
   "execution_count": 1,
   "id": "1907ef7f-9fb5-4795-8965-b4fbbeca6720",
   "metadata": {},
   "outputs": [
    {
     "name": "stdout",
     "output_type": "stream",
     "text": [
      "Prime numbers up to 50 are: [2, 3, 5, 7, 11, 13, 17, 19, 23, 29, 31, 37, 41, 43, 47]\n"
     ]
    }
   ],
   "source": [
    "#Question- 31\n",
    "# Sample lists\n",
    "limit = 50\n",
    "# Create a boolean list to mark prime numbers\n",
    "is_prime = [True] * (limit + 1)\n",
    "is_prime[0] = is_prime[1] = False\n",
    "# Implement the Sieve of Eratosthenes algorithm\n",
    "for num in range(2, int(limit**0.5) + 1):\n",
    "    if is_prime[num]:\n",
    "        for multiple in range(num * num, limit + 1, num):\n",
    "            is_prime[multiple] = False\n",
    "# Use list comprehension to extract prime numbers\n",
    "prime_numbers = [num for num in range(2, limit + 1) if is_prime[num]]\n",
    "\n",
    "print(\"Prime numbers up to\", limit, \"are:\", prime_numbers)"
   ]
  },
  {
   "cell_type": "code",
   "execution_count": null,
   "id": "4a4503cf-5d7c-4a2b-aa95-7e3642e7a24c",
   "metadata": {},
   "outputs": [],
   "source": []
  },
  {
   "cell_type": "markdown",
   "id": "829f2057-6a97-4814-9c02-3071ca718d61",
   "metadata": {},
   "source": [
    "32. Create a program that generates a list of all Pythagorean triplets up to a specified limit using list\n",
    "comprehension."
   ]
  },
  {
   "cell_type": "code",
   "execution_count": 2,
   "id": "4238f74f-7c52-46f1-9e24-36f1a2a91144",
   "metadata": {},
   "outputs": [
    {
     "name": "stdin",
     "output_type": "stream",
     "text": [
      " 20\n"
     ]
    },
    {
     "name": "stdout",
     "output_type": "stream",
     "text": [
      "Pythagorean triplets up to 20 are: [(3, 4, 5), (5, 12, 13), (6, 8, 10), (8, 15, 17), (9, 12, 15), (12, 16, 20)]\n"
     ]
    }
   ],
   "source": [
    "#Question- 32\n",
    "#taking input\n",
    "limit = int(input())    \n",
    "# Use list comprehension to generate Pythagorean triplets\n",
    "pythagorean_triplets = [(a, b, c) for a in range(1, limit + 1) for b in range(a, limit + 1) for c in range(b, limit + 1) if a**2 + b**2 == c**2]\n",
    "\n",
    "print(\"Pythagorean triplets up to\", limit, \"are:\", pythagorean_triplets)"
   ]
  },
  {
   "cell_type": "code",
   "execution_count": null,
   "id": "cffe9aa6-d49f-4f27-8f57-b79f12c8658a",
   "metadata": {},
   "outputs": [],
   "source": []
  },
  {
   "cell_type": "markdown",
   "id": "a4e8b31f-dbb3-4171-8484-86d60f72724b",
   "metadata": {},
   "source": [
    "33. Develop a program that generates a list of all possible combinations of two lists using list comprehension."
   ]
  },
  {
   "cell_type": "code",
   "execution_count": 3,
   "id": "7c42b0ef-16ec-4499-9f33-65dc781c12a4",
   "metadata": {},
   "outputs": [
    {
     "name": "stdout",
     "output_type": "stream",
     "text": [
      "Combinations: [(123, 'abc'), (123, 'xyz'), (456, 'abc'), (456, 'xyz')]\n"
     ]
    }
   ],
   "source": [
    "#Question- 33\n",
    "# Sample lists\n",
    "list1 = [123, 456]\n",
    "list2 = ['abc', 'xyz']\n",
    "# Use list comprehension to generate all possible combinations\n",
    "combinations = [(x, y) for x in list1 for y in list2]\n",
    "\n",
    "print(\"Combinations:\", combinations)"
   ]
  },
  {
   "cell_type": "code",
   "execution_count": null,
   "id": "28dd98ef-0225-4dec-87c5-6923cab887bc",
   "metadata": {},
   "outputs": [],
   "source": []
  },
  {
   "cell_type": "markdown",
   "id": "7c451e37-f2fc-4e8c-b954-1390cf90ec11",
   "metadata": {},
   "source": [
    "34. Write a program that calculates the mean, median, and mode of a list of numbers using list\n",
    "comprehension."
   ]
  },
  {
   "cell_type": "code",
   "execution_count": 4,
   "id": "8e140a58-cb16-43ae-8550-2cf912aa49b4",
   "metadata": {},
   "outputs": [
    {
     "name": "stdout",
     "output_type": "stream",
     "text": [
      "Mean: 4.5\n",
      "Median: 5.0\n",
      "Mode: [6]\n"
     ]
    }
   ],
   "source": [
    "#Question- 34 \n",
    "from collections import Counter\n",
    "# Calculate Mean\n",
    "def calculate_mean(numbers):\n",
    "    return sum(numbers) / len(numbers) if numbers else 0\n",
    "# Calculate Median\n",
    "def calculate_median(numbers):\n",
    "    numbers.sort()\n",
    "    size = len(numbers)\n",
    "    if size % 2 == 0:\n",
    "        return (numbers[size // 2 - 1] + numbers[size // 2]) / 2\n",
    "    else:\n",
    "        return numbers[size // 2]\n",
    "# Calculate Mode\n",
    "def calculate_mode(numbers):\n",
    "    counter = Counter(numbers)\n",
    "    max_freq = max(counter.values())\n",
    "    return [k for k, v in counter.items() if v == max_freq]\n",
    "# Example list of numbers\n",
    "number_list = [1, 2, 3, 4, 5, 5, 6, 6, 6, 7]\n",
    "mean = calculate_mean(number_list)\n",
    "median = calculate_median(number_list)\n",
    "mode = calculate_mode(number_list)\n",
    "\n",
    "print(f\"Mean: {mean}\")\n",
    "print(f\"Median: {median}\")\n",
    "print(f\"Mode: {mode}\")"
   ]
  },
  {
   "cell_type": "code",
   "execution_count": null,
   "id": "4066fbde-d49d-4875-ba44-a6daf0ddff5f",
   "metadata": {},
   "outputs": [],
   "source": []
  },
  {
   "cell_type": "markdown",
   "id": "815e7210-53c6-4a48-9991-ac6727f03b97",
   "metadata": {},
   "source": [
    "35. Create a program that generates Pascal's triangle up to a specified number of rows using list\n",
    "comprehension."
   ]
  },
  {
   "cell_type": "code",
   "execution_count": 6,
   "id": "9e5caf86-cb88-4364-ba4d-6776aa2fb974",
   "metadata": {},
   "outputs": [
    {
     "name": "stdin",
     "output_type": "stream",
     "text": [
      " 8\n"
     ]
    },
    {
     "name": "stdout",
     "output_type": "stream",
     "text": [
      "Pascal's Triangle:\n",
      "[1]\n",
      "[1, 1]\n",
      "[1, 2, 1]\n",
      "[1, 3, 3, 1]\n",
      "[1, 4, 6, 4, 1]\n",
      "[1, 5, 10, 10, 5, 1]\n",
      "[1, 6, 15, 20, 15, 6, 1]\n",
      "[1, 7, 21, 35, 35, 21, 7, 1]\n"
     ]
    }
   ],
   "source": [
    "#Question- 35\n",
    "n = int(input())\n",
    "# Initialize Pascal's triangle with the first row\n",
    "pascals_triangle = [[1]]\n",
    "\n",
    "# Use list comprehension to generate the remaining rows\n",
    "[pascals_triangle.append([1] + [pascals_triangle[i - 1][j - 1] + pascals_triangle[i - 1][j] for j in range(1, i)] + [1]) for i in range(1, n)]\n",
    "\n",
    "print(\"Pascal's Triangle:\")\n",
    "for row in pascals_triangle:\n",
    "    print(row)"
   ]
  },
  {
   "cell_type": "code",
   "execution_count": null,
   "id": "b2c54bb8-9d4a-4be1-ade4-2f3871f7153d",
   "metadata": {},
   "outputs": [],
   "source": []
  },
  {
   "cell_type": "markdown",
   "id": "203d862e-0fd7-444d-96ed-25b93604764c",
   "metadata": {},
   "source": [
    "36. Develop a program that calculates the sum of the digits of a factorial of numbers from 1 to 5 using list\n",
    "comprehension."
   ]
  },
  {
   "cell_type": "code",
   "execution_count": 7,
   "id": "bfb4d4ae-e15b-4b36-8623-733742c3d620",
   "metadata": {},
   "outputs": [
    {
     "name": "stdout",
     "output_type": "stream",
     "text": [
      "Sum of digits of factorials: [1, 2, 6, 6, 3]\n"
     ]
    }
   ],
   "source": [
    "#Question- 36\n",
    "numbers = [1, 2, 3, 4, 5]\n",
    "# Function to calculate the factorial of a number\n",
    "def factorial(n):\n",
    "    if n == 0:\n",
    "        return 1\n",
    "    return n * factorial(n - 1)\n",
    "# Use list comprehension to calculate the sum of digits of factorials\n",
    "sums_of_digits = [sum(int(digit) for digit in str(factorial(num))) for num in numbers]\n",
    "\n",
    "print(\"Sum of digits of factorials:\", sums_of_digits)"
   ]
  },
  {
   "cell_type": "code",
   "execution_count": null,
   "id": "f7a78bf5-7332-45f0-928c-645451177451",
   "metadata": {},
   "outputs": [],
   "source": []
  },
  {
   "cell_type": "markdown",
   "id": "88d70e57-c126-4244-a567-b79e9276c565",
   "metadata": {},
   "source": [
    "37. Write a program that finds the longest word in a sentence using list comprehension."
   ]
  },
  {
   "cell_type": "code",
   "execution_count": 9,
   "id": "1e1d8417-29c6-4562-9f37-686fac1a5bfa",
   "metadata": {},
   "outputs": [
    {
     "name": "stdout",
     "output_type": "stream",
     "text": [
      "Longest word: akpandey.51466@gmail.com.\n"
     ]
    }
   ],
   "source": [
    "#Question- 37\n",
    "sentence = \"THis is a sample sentence created by akpandey.51466@gmail.com.\"\n",
    "# Use list comprehension to split the sentence into words and find the longest word\n",
    "longest_word = max([word for word in sentence.split()], key=len)\n",
    "print(\"Longest word:\", longest_word)"
   ]
  },
  {
   "cell_type": "code",
   "execution_count": null,
   "id": "a274cdc3-16cd-4ebb-85af-822232247a3b",
   "metadata": {},
   "outputs": [],
   "source": []
  },
  {
   "cell_type": "markdown",
   "id": "fda8fd13-64bf-467a-b97c-d4cbb58e1853",
   "metadata": {},
   "source": [
    "38. Create a program that filters a list of strings to include only those with more than three vowels using list\n",
    "comprehension."
   ]
  },
  {
   "cell_type": "code",
   "execution_count": 11,
   "id": "3e519ba2-1f37-44df-b2fa-599a2c630614",
   "metadata": {},
   "outputs": [
    {
     "name": "stdout",
     "output_type": "stream",
     "text": [
      "Strings with more than three vowels: ['akpandey.51466@gmail.com']\n"
     ]
    }
   ],
   "source": [
    "#Question- 38\n",
    "strings = [\"hello\", \"my\", \"name\", \"is\", \"akpandey.51466@gmail.com\"]\n",
    "# Function to count vowels in a string\n",
    "def count_vowels(string):\n",
    "    return sum(1 for char in string if char.lower() in 'aeiou')\n",
    "# Use list comprehension to filter strings with more than three vowels\n",
    "filtered_strings = [string for string in strings if count_vowels(string) > 3]\n",
    "\n",
    "print(\"Strings with more than three vowels:\", filtered_strings)"
   ]
  },
  {
   "cell_type": "code",
   "execution_count": null,
   "id": "4133b767-9db9-45cb-9ce7-c2ab0ac78929",
   "metadata": {},
   "outputs": [],
   "source": []
  },
  {
   "cell_type": "markdown",
   "id": "698d9191-a8ea-419a-abca-fc8fd9f12ca5",
   "metadata": {},
   "source": [
    "39. Develop a program that calculates the sum of the digits of numbers from 1 to 1000 using list\n",
    "comprehension."
   ]
  },
  {
   "cell_type": "code",
   "execution_count": 12,
   "id": "412aa711-9303-4e3c-8f65-143aaf1d7b78",
   "metadata": {},
   "outputs": [
    {
     "name": "stdout",
     "output_type": "stream",
     "text": [
      "Sum of digits of numbers from 1 to 1000: [1, 2, 3, 4, 5, 6, 7, 8, 9, 1, 2, 3, 4, 5, 6, 7, 8, 9, 10, 2, 3, 4, 5, 6, 7, 8, 9, 10, 11, 3, 4, 5, 6, 7, 8, 9, 10, 11, 12, 4, 5, 6, 7, 8, 9, 10, 11, 12, 13, 5, 6, 7, 8, 9, 10, 11, 12, 13, 14, 6, 7, 8, 9, 10, 11, 12, 13, 14, 15, 7, 8, 9, 10, 11, 12, 13, 14, 15, 16, 8, 9, 10, 11, 12, 13, 14, 15, 16, 17, 9, 10, 11, 12, 13, 14, 15, 16, 17, 18, 1, 2, 3, 4, 5, 6, 7, 8, 9, 10, 2, 3, 4, 5, 6, 7, 8, 9, 10, 11, 3, 4, 5, 6, 7, 8, 9, 10, 11, 12, 4, 5, 6, 7, 8, 9, 10, 11, 12, 13, 5, 6, 7, 8, 9, 10, 11, 12, 13, 14, 6, 7, 8, 9, 10, 11, 12, 13, 14, 15, 7, 8, 9, 10, 11, 12, 13, 14, 15, 16, 8, 9, 10, 11, 12, 13, 14, 15, 16, 17, 9, 10, 11, 12, 13, 14, 15, 16, 17, 18, 10, 11, 12, 13, 14, 15, 16, 17, 18, 19, 2, 3, 4, 5, 6, 7, 8, 9, 10, 11, 3, 4, 5, 6, 7, 8, 9, 10, 11, 12, 4, 5, 6, 7, 8, 9, 10, 11, 12, 13, 5, 6, 7, 8, 9, 10, 11, 12, 13, 14, 6, 7, 8, 9, 10, 11, 12, 13, 14, 15, 7, 8, 9, 10, 11, 12, 13, 14, 15, 16, 8, 9, 10, 11, 12, 13, 14, 15, 16, 17, 9, 10, 11, 12, 13, 14, 15, 16, 17, 18, 10, 11, 12, 13, 14, 15, 16, 17, 18, 19, 11, 12, 13, 14, 15, 16, 17, 18, 19, 20, 3, 4, 5, 6, 7, 8, 9, 10, 11, 12, 4, 5, 6, 7, 8, 9, 10, 11, 12, 13, 5, 6, 7, 8, 9, 10, 11, 12, 13, 14, 6, 7, 8, 9, 10, 11, 12, 13, 14, 15, 7, 8, 9, 10, 11, 12, 13, 14, 15, 16, 8, 9, 10, 11, 12, 13, 14, 15, 16, 17, 9, 10, 11, 12, 13, 14, 15, 16, 17, 18, 10, 11, 12, 13, 14, 15, 16, 17, 18, 19, 11, 12, 13, 14, 15, 16, 17, 18, 19, 20, 12, 13, 14, 15, 16, 17, 18, 19, 20, 21, 4, 5, 6, 7, 8, 9, 10, 11, 12, 13, 5, 6, 7, 8, 9, 10, 11, 12, 13, 14, 6, 7, 8, 9, 10, 11, 12, 13, 14, 15, 7, 8, 9, 10, 11, 12, 13, 14, 15, 16, 8, 9, 10, 11, 12, 13, 14, 15, 16, 17, 9, 10, 11, 12, 13, 14, 15, 16, 17, 18, 10, 11, 12, 13, 14, 15, 16, 17, 18, 19, 11, 12, 13, 14, 15, 16, 17, 18, 19, 20, 12, 13, 14, 15, 16, 17, 18, 19, 20, 21, 13, 14, 15, 16, 17, 18, 19, 20, 21, 22, 5, 6, 7, 8, 9, 10, 11, 12, 13, 14, 6, 7, 8, 9, 10, 11, 12, 13, 14, 15, 7, 8, 9, 10, 11, 12, 13, 14, 15, 16, 8, 9, 10, 11, 12, 13, 14, 15, 16, 17, 9, 10, 11, 12, 13, 14, 15, 16, 17, 18, 10, 11, 12, 13, 14, 15, 16, 17, 18, 19, 11, 12, 13, 14, 15, 16, 17, 18, 19, 20, 12, 13, 14, 15, 16, 17, 18, 19, 20, 21, 13, 14, 15, 16, 17, 18, 19, 20, 21, 22, 14, 15, 16, 17, 18, 19, 20, 21, 22, 23, 6, 7, 8, 9, 10, 11, 12, 13, 14, 15, 7, 8, 9, 10, 11, 12, 13, 14, 15, 16, 8, 9, 10, 11, 12, 13, 14, 15, 16, 17, 9, 10, 11, 12, 13, 14, 15, 16, 17, 18, 10, 11, 12, 13, 14, 15, 16, 17, 18, 19, 11, 12, 13, 14, 15, 16, 17, 18, 19, 20, 12, 13, 14, 15, 16, 17, 18, 19, 20, 21, 13, 14, 15, 16, 17, 18, 19, 20, 21, 22, 14, 15, 16, 17, 18, 19, 20, 21, 22, 23, 15, 16, 17, 18, 19, 20, 21, 22, 23, 24, 7, 8, 9, 10, 11, 12, 13, 14, 15, 16, 8, 9, 10, 11, 12, 13, 14, 15, 16, 17, 9, 10, 11, 12, 13, 14, 15, 16, 17, 18, 10, 11, 12, 13, 14, 15, 16, 17, 18, 19, 11, 12, 13, 14, 15, 16, 17, 18, 19, 20, 12, 13, 14, 15, 16, 17, 18, 19, 20, 21, 13, 14, 15, 16, 17, 18, 19, 20, 21, 22, 14, 15, 16, 17, 18, 19, 20, 21, 22, 23, 15, 16, 17, 18, 19, 20, 21, 22, 23, 24, 16, 17, 18, 19, 20, 21, 22, 23, 24, 25, 8, 9, 10, 11, 12, 13, 14, 15, 16, 17, 9, 10, 11, 12, 13, 14, 15, 16, 17, 18, 10, 11, 12, 13, 14, 15, 16, 17, 18, 19, 11, 12, 13, 14, 15, 16, 17, 18, 19, 20, 12, 13, 14, 15, 16, 17, 18, 19, 20, 21, 13, 14, 15, 16, 17, 18, 19, 20, 21, 22, 14, 15, 16, 17, 18, 19, 20, 21, 22, 23, 15, 16, 17, 18, 19, 20, 21, 22, 23, 24, 16, 17, 18, 19, 20, 21, 22, 23, 24, 25, 17, 18, 19, 20, 21, 22, 23, 24, 25, 26, 9, 10, 11, 12, 13, 14, 15, 16, 17, 18, 10, 11, 12, 13, 14, 15, 16, 17, 18, 19, 11, 12, 13, 14, 15, 16, 17, 18, 19, 20, 12, 13, 14, 15, 16, 17, 18, 19, 20, 21, 13, 14, 15, 16, 17, 18, 19, 20, 21, 22, 14, 15, 16, 17, 18, 19, 20, 21, 22, 23, 15, 16, 17, 18, 19, 20, 21, 22, 23, 24, 16, 17, 18, 19, 20, 21, 22, 23, 24, 25, 17, 18, 19, 20, 21, 22, 23, 24, 25, 26, 18, 19, 20, 21, 22, 23, 24, 25, 26, 27, 1]\n"
     ]
    }
   ],
   "source": [
    "#Question- 39\n",
    "# Use list comprehension\n",
    "sums_of_digits = [sum(int(digit) for digit in str(num)) for num in range(1, 1001)]\n",
    "\n",
    "print(\"Sum of digits of numbers from 1 to 1000:\", sums_of_digits)"
   ]
  },
  {
   "cell_type": "code",
   "execution_count": null,
   "id": "ad8d4e31-a77c-4f73-9d4d-1cb18e453ec7",
   "metadata": {},
   "outputs": [],
   "source": []
  },
  {
   "cell_type": "markdown",
   "id": "e25a9e2a-a537-494c-8e22-20849a5ccb12",
   "metadata": {},
   "source": [
    "40. Write a program that generates a list of prime palindromic numbers using list comprehension."
   ]
  },
  {
   "cell_type": "code",
   "execution_count": 13,
   "id": "79f96ce3-8461-4a25-94f6-4b197caca159",
   "metadata": {},
   "outputs": [
    {
     "name": "stdout",
     "output_type": "stream",
     "text": [
      "Prime palindromic numbers: [2, 3, 5, 7, 11, 101, 131, 151, 181, 191, 313, 353, 373, 383, 727, 757, 787, 797, 919, 929]\n"
     ]
    }
   ],
   "source": [
    "#Question- 40\n",
    "# Function to check if a number is prime\n",
    "def is_prime(num):\n",
    "    if num <= 1:\n",
    "        return False\n",
    "    for i in range(2, int(num**0.5) + 1):\n",
    "        if num % i == 0:\n",
    "            return False\n",
    "    return True\n",
    "# Use list comprehension \n",
    "res= [num for num in range(1, 1000) if is_prime(num) and str(num) == str(num)[::-1]]\n",
    "\n",
    "print(\"Prime palindromic numbers:\", res)"
   ]
  },
  {
   "cell_type": "code",
   "execution_count": null,
   "id": "853c4541-0928-408d-b5fa-d06ce2fddc28",
   "metadata": {},
   "outputs": [],
   "source": []
  }
 ],
 "metadata": {
  "kernelspec": {
   "display_name": "Python 3 (ipykernel)",
   "language": "python",
   "name": "python3"
  },
  "language_info": {
   "codemirror_mode": {
    "name": "ipython",
    "version": 3
   },
   "file_extension": ".py",
   "mimetype": "text/x-python",
   "name": "python",
   "nbconvert_exporter": "python",
   "pygments_lexer": "ipython3",
   "version": "3.10.8"
  }
 },
 "nbformat": 4,
 "nbformat_minor": 5
}
